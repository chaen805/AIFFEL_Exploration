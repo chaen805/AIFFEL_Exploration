{
 "cells": [
  {
   "cell_type": "markdown",
   "id": "c9345ed6",
   "metadata": {},
   "source": [
    "# Exploration02 - Iris의 세 가지 품종, 분류해볼 수 있겠어요?\n",
    "\n",
    "scikit-learn을 이용하여 여러 가지 분류기를 만들어보자\n",
    "\n",
    "---\n",
    "\n",
    "### 루브릭 평가 기준\n",
    "\n",
    "1. 3가지 데이터셋의 구성 - feature와 label 선정을 위한 데이터 분석과정이 체계적으로 전개되었나\n",
    "2. 각각 5가지 모델 성공 - 모델 학습 및 테스트가 정상적으로 수행되었나\n",
    "3. 모델의 평가지표 선정 - 평가지표 선택 및 이유가 타당한가\n",
    "\n",
    "---\n",
    "\n",
    "### 목차\n",
    "\n",
    "0. 필요 모듈 import\n",
    "\n",
    "\n",
    "1. 손글씨 분류\n",
    "    - 데이터 로드 및 확인\n",
    "    - 데이터 분리   \n",
    "    - Decision Tree\n",
    "    - Random Forest\n",
    "    - SVM\n",
    "    - SGD Classifier\n",
    "    - Logistic Regression\n",
    "    - 결과 분석\n",
    "    \n",
    "\n",
    "2. 와인 분류\n",
    "    - 데이터 로드 및 확인\n",
    "    - 데이터 분리   \n",
    "    - Decision Tree\n",
    "    - Random Forest\n",
    "    - SVM\n",
    "    - SGD Classifier\n",
    "    - Logistic Regression\n",
    "    - 결과 분석\n",
    "\n",
    "\n",
    "3. 유방암 진단\n",
    "    - 데이터 로드 및 확인\n",
    "    - 데이터 분리   \n",
    "    - Decision Tree\n",
    "    - Random Forest\n",
    "    - SVM\n",
    "    - SGD Classifier\n",
    "    - Logistic Regression\n",
    "    - 결과 분석\n",
    "\n",
    "\n",
    "4. 회고\n",
    "\n",
    "\n",
    "5. 참고 자료"
   ]
  },
  {
   "cell_type": "markdown",
   "id": "3c823e2a",
   "metadata": {},
   "source": [
    "## 0. 필요 모듈 import"
   ]
  },
  {
   "cell_type": "code",
   "execution_count": 1,
   "id": "b91d0e24",
   "metadata": {},
   "outputs": [],
   "source": [
    "import numpy as np\n",
    "import pandas as pd\n",
    "import os\n",
    "import matplotlib.pyplot as plt\n",
    "%matplotlib inline\n",
    "\n",
    "from sklearn.model_selection import train_test_split\n",
    "from sklearn.metrics import accuracy_score\n",
    "from sklearn.metrics import classification_report\n",
    "from sklearn.metrics import confusion_matrix, ConfusionMatrixDisplay\n",
    "\n",
    "# 분류를 위한 모델을 담고 있는 사이킷런 모듈\n",
    "from sklearn.tree import DecisionTreeClassifier\n",
    "from sklearn.ensemble import RandomForestClassifier\n",
    "from sklearn.svm import SVC\n",
    "from sklearn.linear_model import SGDClassifier\n",
    "from sklearn.linear_model import LogisticRegression"
   ]
  },
  {
   "cell_type": "markdown",
   "id": "7368994a",
   "metadata": {},
   "source": [
    "## 1.손글씨 분류"
   ]
  },
  {
   "cell_type": "markdown",
   "id": "0c4e6835",
   "metadata": {},
   "source": [
    "### 데이터 로드 및 확인\n",
    "\n",
    "load_digits( )를 이용해 데이터를 로드하고 데이터를 확인해보자."
   ]
  },
  {
   "cell_type": "code",
   "execution_count": 2,
   "id": "0780a3e4",
   "metadata": {},
   "outputs": [],
   "source": [
    "# 데이터 로드를 위한 모듈 import\n",
    "from sklearn.datasets import load_digits"
   ]
  },
  {
   "cell_type": "code",
   "execution_count": 3,
   "id": "c8af580e",
   "metadata": {},
   "outputs": [
    {
     "name": "stdout",
     "output_type": "stream",
     "text": [
      "데이터 로드 완료! ( ᐛ )و\n"
     ]
    }
   ],
   "source": [
    "# 데이터 로드\n",
    "digits = load_digits()\n",
    "digits_data = digits.data\n",
    "digits_label = digits.target\n",
    "\n",
    "print('데이터 로드 완료! ( ᐛ )و')"
   ]
  },
  {
   "cell_type": "code",
   "execution_count": 4,
   "id": "8aed177a",
   "metadata": {},
   "outputs": [
    {
     "name": "stdout",
     "output_type": "stream",
     "text": [
      "dict_keys(['data', 'target', 'frame', 'feature_names', 'target_names', 'images', 'DESCR'])\n",
      "[0 1 2 3 4 5 6 7 8 9]\n"
     ]
    }
   ],
   "source": [
    "# 데이터 확인\n",
    "print(digits.keys())\n",
    "print(digits.target_names)"
   ]
  },
  {
   "cell_type": "markdown",
   "id": "3d01aca4",
   "metadata": {},
   "source": [
    "- digits에 담겨있는 정보를 확인해보자.\n",
    "- 그 중 target_names는 0부터 9까지의 숫자이다."
   ]
  },
  {
   "cell_type": "code",
   "execution_count": 5,
   "id": "74422758",
   "metadata": {},
   "outputs": [
    {
     "name": "stdout",
     "output_type": "stream",
     "text": [
      ".. _digits_dataset:\n",
      "\n",
      "Optical recognition of handwritten digits dataset\n",
      "--------------------------------------------------\n",
      "\n",
      "**Data Set Characteristics:**\n",
      "\n",
      "    :Number of Instances: 1797\n",
      "    :Number of Attributes: 64\n",
      "    :Attribute Information: 8x8 image of integer pixels in the range 0..16.\n",
      "    :Missing Attribute Values: None\n",
      "    :Creator: E. Alpaydin (alpaydin '@' boun.edu.tr)\n",
      "    :Date: July; 1998\n",
      "\n",
      "This is a copy of the test set of the UCI ML hand-written digits datasets\n",
      "https://archive.ics.uci.edu/ml/datasets/Optical+Recognition+of+Handwritten+Digits\n",
      "\n",
      "The data set contains images of hand-written digits: 10 classes where\n",
      "each class refers to a digit.\n",
      "\n",
      "Preprocessing programs made available by NIST were used to extract\n",
      "normalized bitmaps of handwritten digits from a preprinted form. From a\n",
      "total of 43 people, 30 contributed to the training set and different 13\n",
      "to the test set. 32x32 bitmaps are divided into nonoverlapping blocks of\n",
      "4x4 and the number of on pixels are counted in each block. This generates\n",
      "an input matrix of 8x8 where each element is an integer in the range\n",
      "0..16. This reduces dimensionality and gives invariance to small\n",
      "distortions.\n",
      "\n",
      "For info on NIST preprocessing routines, see M. D. Garris, J. L. Blue, G.\n",
      "T. Candela, D. L. Dimmick, J. Geist, P. J. Grother, S. A. Janet, and C.\n",
      "L. Wilson, NIST Form-Based Handprint Recognition System, NISTIR 5469,\n",
      "1994.\n",
      "\n",
      ".. topic:: References\n",
      "\n",
      "  - C. Kaynak (1995) Methods of Combining Multiple Classifiers and Their\n",
      "    Applications to Handwritten Digit Recognition, MSc Thesis, Institute of\n",
      "    Graduate Studies in Science and Engineering, Bogazici University.\n",
      "  - E. Alpaydin, C. Kaynak (1998) Cascading Classifiers, Kybernetika.\n",
      "  - Ken Tang and Ponnuthurai N. Suganthan and Xi Yao and A. Kai Qin.\n",
      "    Linear dimensionalityreduction using relevance weighted LDA. School of\n",
      "    Electrical and Electronic Engineering Nanyang Technological University.\n",
      "    2005.\n",
      "  - Claudio Gentile. A New Approximate Maximal Margin Classification\n",
      "    Algorithm. NIPS. 2000.\n",
      "\n"
     ]
    }
   ],
   "source": [
    "print(digits.DESCR)"
   ]
  },
  {
   "cell_type": "markdown",
   "id": "74850ec9",
   "metadata": {},
   "source": [
    "- DESCR을 통해 데이터셋의 정보를 얻을 수 있다."
   ]
  },
  {
   "cell_type": "code",
   "execution_count": 6,
   "id": "e7a6c9a4",
   "metadata": {},
   "outputs": [
    {
     "name": "stdout",
     "output_type": "stream",
     "text": [
      "(1797, 64)\n",
      "(1797,)\n",
      "[0 1 2 3 4 5 6 7 8 9 0 1 2 3 4 5 6 7 8 9]\n"
     ]
    }
   ],
   "source": [
    "print(digits_data.shape)\n",
    "print(digits_label.shape)\n",
    "\n",
    "print(digits_label[:20])"
   ]
  },
  {
   "cell_type": "markdown",
   "id": "d1b4de1f",
   "metadata": {},
   "source": [
    "- 데이터와 라벨의 수가 같음을 확인할 수 있다.\n",
    "- 0번부터 19번까지의 라벨을 출력한 결과 target_names와 동일하게 0부터 9까지의 숫자로 이루어져 있다."
   ]
  },
  {
   "cell_type": "markdown",
   "id": "d1286c7b",
   "metadata": {},
   "source": [
    "앞서 keys( ) 메서드로 확인해 본 결과 images라는 정보가 있었다.  \n",
    "이를 이용하여 첫번째 데이터를 직접 눈으로 확인해보자."
   ]
  },
  {
   "cell_type": "code",
   "execution_count": 7,
   "id": "831838be",
   "metadata": {},
   "outputs": [
    {
     "data": {
      "text/plain": [
       "<matplotlib.image.AxesImage at 0x7fd374787d00>"
      ]
     },
     "execution_count": 7,
     "metadata": {},
     "output_type": "execute_result"
    },
    {
     "data": {
      "image/png": "[encoded data removed]",
      "text/plain": [
       "<Figure size 432x288 with 1 Axes>"
      ]
     },
     "metadata": {
      "needs_background": "light"
     },
     "output_type": "display_data"
    }
   ],
   "source": [
    "plt.gray()\n",
    "plt.imshow(digits.images[0])"
   ]
  },
  {
   "cell_type": "markdown",
   "id": "3f579e9d",
   "metadata": {},
   "source": [
    "### 데이터 분리\n",
    "train_test_split 함수를 이용해 학습 데이터와 테스트 데이터를 무작위로 8:2의 비율로 나누어 준다."
   ]
  },
  {
   "cell_type": "code",
   "execution_count": 8,
   "id": "77abca79",
   "metadata": {},
   "outputs": [
    {
     "name": "stdout",
     "output_type": "stream",
     "text": [
      "Number of Train Data :  1437\n",
      "Number of Test Data :  360\n"
     ]
    }
   ],
   "source": [
    "X1_train, X1_test, y1_train, y1_test = train_test_split(digits_data, digits_label, \n",
    "                                                        test_size=0.2, random_state=3)\n",
    "\n",
    "print('Number of Train Data : ', len(X1_train))\n",
    "print('Number of Test Data : ', len(X1_test))"
   ]
  },
  {
   "cell_type": "markdown",
   "id": "bf7f8d33",
   "metadata": {},
   "source": [
    "### A. Decision Tree"
   ]
  },
  {
   "cell_type": "code",
   "execution_count": 9,
   "id": "8d2a335f",
   "metadata": {},
   "outputs": [
    {
     "name": "stdout",
     "output_type": "stream",
     "text": [
      "              precision    recall  f1-score   support\n",
      "\n",
      "           0       0.96      0.96      0.96        47\n",
      "           1       0.78      0.83      0.81        35\n",
      "           2       0.76      0.84      0.80        31\n",
      "           3       0.75      0.90      0.82        40\n",
      "           4       0.97      0.77      0.86        44\n",
      "           5       0.91      0.79      0.85        38\n",
      "           6       0.85      0.92      0.88        25\n",
      "           7       0.91      0.93      0.92        42\n",
      "           8       0.81      0.76      0.79        29\n",
      "           9       0.76      0.76      0.76        29\n",
      "\n",
      "    accuracy                           0.85       360\n",
      "   macro avg       0.85      0.85      0.84       360\n",
      "weighted avg       0.86      0.85      0.85       360\n",
      "\n",
      "[[45  0  0  0  0  1  1  0  0  0]\n",
      " [ 0 29  4  0  1  0  0  0  0  1]\n",
      " [ 0  3 26  1  0  0  1  0  0  0]\n",
      " [ 0  0  2 36  0  0  0  0  2  0]\n",
      " [ 2  3  0  0 34  2  1  2  0  0]\n",
      " [ 0  0  0  2  0 30  1  0  2  3]\n",
      " [ 0  0  1  0  0  0 23  0  1  0]\n",
      " [ 0  0  0  1  0  0  0 39  0  2]\n",
      " [ 0  1  1  4  0  0  0  0 22  1]\n",
      " [ 0  1  0  4  0  0  0  2  0 22]]\n"
     ]
    }
   ],
   "source": [
    "decision_tree = DecisionTreeClassifier(random_state=5)\n",
    "\n",
    "decision_tree.fit(X1_train, y1_train)\n",
    "y1_pred_dt = decision_tree.predict(X1_test)\n",
    "\n",
    "print(classification_report(y1_test, y1_pred_dt))\n",
    "\n",
    "print(confusion_matrix(y1_test, y1_pred_dt))"
   ]
  },
  {
   "cell_type": "markdown",
   "id": "35ee5309",
   "metadata": {},
   "source": [
    "#### * Decission Tree를 이용한 분류의 정확도 : 85%\n",
    "\n",
    "정답과 오답을 확인하기 위해 오차 행렬을 확인하였으나 눈에 잘 들어오지 않는다.  \n",
    "또한 각 클래스별 데이터의 수가 다르기 때문에 단순 수치로는 비교가 불가능하다.  \n",
    "이를 정규화하고 이미지로 표현해보자"
   ]
  },
  {
   "cell_type": "code",
   "execution_count": 10,
   "id": "e783512b",
   "metadata": {},
   "outputs": [
    {
     "data": {
      "image/png": "[encoded data removed]",
      "text/plain": [
       "<Figure size 648x648 with 2 Axes>"
      ]
     },
     "metadata": {
      "needs_background": "light"
     },
     "output_type": "display_data"
    }
   ],
   "source": [
    "fig, ax = plt.subplots(figsize=(9,9))\n",
    "ConfusionMatrixDisplay.from_predictions(y1_test, y1_pred_dt,\n",
    "                                       cmap=plt.cm.PuRd,\n",
    "                                       normalize='true',\n",
    "                                       ax=ax)\n",
    "plt.show()"
   ]
  },
  {
   "cell_type": "markdown",
   "id": "7ca41d59",
   "metadata": {},
   "source": [
    "- 대각선의 색이 진할수록 더 정확한 모델이라 할 수 있다. \n",
    "- 가로로 읽었을 때 색이 다양한(진한) 클래스는 Recall 낮고, 세로로 읽었을 때 색이 다양한(진한) 클래스는 Precision이 낮다.\n",
    "\n",
    "\n",
    "- 대표적으로 3의 경우 recall은 높으나 precision이 낮다.  \n",
    "  3은 3으로 잘 판단을 하였으나 3이 아닌 숫자를 3으로 분류하는 경우가 많았다는 의미이다.\n",
    "- 4의 경우 precision은 높으나 recall은 낮다.  \n",
    "  다른 숫자를 4로 판단하는 경우는 적으나 4를 4로 분류하지 못하는 경우가 많았다는 의미이다.\n",
    "  \n",
    "  \n",
    "- 전체적으로 색이 다양하고 클래스마다 precision과 recall의 편차가 크기 때문에 좋은 모델이라고 판단되진 않는다.\n"
   ]
  },
  {
   "cell_type": "markdown",
   "id": "45d5ee59",
   "metadata": {},
   "source": [
    "### B. Random Forest"
   ]
  },
  {
   "cell_type": "code",
   "execution_count": 11,
   "id": "ff059ef2",
   "metadata": {},
   "outputs": [
    {
     "name": "stdout",
     "output_type": "stream",
     "text": [
      "              precision    recall  f1-score   support\n",
      "\n",
      "           0       1.00      1.00      1.00        47\n",
      "           1       0.97      1.00      0.99        35\n",
      "           2       1.00      1.00      1.00        31\n",
      "           3       1.00      0.97      0.99        40\n",
      "           4       0.98      0.95      0.97        44\n",
      "           5       0.97      0.92      0.95        38\n",
      "           6       1.00      0.92      0.96        25\n",
      "           7       0.95      1.00      0.98        42\n",
      "           8       0.97      1.00      0.98        29\n",
      "           9       0.90      0.97      0.93        29\n",
      "\n",
      "    accuracy                           0.97       360\n",
      "   macro avg       0.97      0.97      0.97       360\n",
      "weighted avg       0.98      0.97      0.97       360\n",
      "\n",
      "[[47  0  0  0  0  0  0  0  0  0]\n",
      " [ 0 35  0  0  0  0  0  0  0  0]\n",
      " [ 0  0 31  0  0  0  0  0  0  0]\n",
      " [ 0  0  0 39  0  0  0  0  0  1]\n",
      " [ 0  0  0  0 42  0  0  2  0  0]\n",
      " [ 0  0  0  0  1 35  0  0  0  2]\n",
      " [ 0  1  0  0  0  0 23  0  1  0]\n",
      " [ 0  0  0  0  0  0  0 42  0  0]\n",
      " [ 0  0  0  0  0  0  0  0 29  0]\n",
      " [ 0  0  0  0  0  1  0  0  0 28]]\n"
     ]
    }
   ],
   "source": [
    "random_forest = RandomForestClassifier(random_state=5)\n",
    "\n",
    "random_forest.fit(X1_train, y1_train)\n",
    "y1_pred_rf = random_forest.predict(X1_test)\n",
    "\n",
    "print(classification_report(y1_test, y1_pred_rf))\n",
    "\n",
    "print(confusion_matrix(y1_test, y1_pred_rf))"
   ]
  },
  {
   "cell_type": "markdown",
   "id": "27d1f533",
   "metadata": {},
   "source": [
    "#### * Random Forest를 이용한 분류의 정확도 : 97%\n",
    "\n",
    "오차 행렬을 정규화하고 이미지로 표현해보자"
   ]
  },
  {
   "cell_type": "code",
   "execution_count": 12,
   "id": "869e7c7b",
   "metadata": {},
   "outputs": [
    {
     "data": {
      "image/png": "[encoded data removed]",
      "text/plain": [
       "<Figure size 648x648 with 2 Axes>"
      ]
     },
     "metadata": {
      "needs_background": "light"
     },
     "output_type": "display_data"
    }
   ],
   "source": [
    "fig, ax = plt.subplots(figsize=(9,9))\n",
    "ConfusionMatrixDisplay.from_predictions(y1_test, y1_pred_rf,\n",
    "                                       cmap=plt.cm.GnBu,\n",
    "                                       normalize='true',\n",
    "                                       ax=ax)\n",
    "plt.show()"
   ]
  },
  {
   "cell_type": "markdown",
   "id": "ef563b8b",
   "metadata": {},
   "source": [
    "- 0, 1, 2, 7, 8 클래스에 대해서는 완벽하게 분류를 해냈다.\n",
    "- 전체적으로 Decision Tree 모델보다 더 나은 성능을 보여준다."
   ]
  },
  {
   "cell_type": "markdown",
   "id": "67d5dec8",
   "metadata": {},
   "source": [
    "### C. SVM"
   ]
  },
  {
   "cell_type": "code",
   "execution_count": 13,
   "id": "f3e2aafb",
   "metadata": {},
   "outputs": [
    {
     "name": "stdout",
     "output_type": "stream",
     "text": [
      "              precision    recall  f1-score   support\n",
      "\n",
      "           0       1.00      1.00      1.00        47\n",
      "           1       1.00      1.00      1.00        35\n",
      "           2       1.00      1.00      1.00        31\n",
      "           3       1.00      1.00      1.00        40\n",
      "           4       1.00      0.98      0.99        44\n",
      "           5       1.00      0.97      0.99        38\n",
      "           6       1.00      1.00      1.00        25\n",
      "           7       0.98      1.00      0.99        42\n",
      "           8       0.97      1.00      0.98        29\n",
      "           9       0.97      0.97      0.97        29\n",
      "\n",
      "    accuracy                           0.99       360\n",
      "   macro avg       0.99      0.99      0.99       360\n",
      "weighted avg       0.99      0.99      0.99       360\n",
      "\n",
      "[[47  0  0  0  0  0  0  0  0  0]\n",
      " [ 0 35  0  0  0  0  0  0  0  0]\n",
      " [ 0  0 31  0  0  0  0  0  0  0]\n",
      " [ 0  0  0 40  0  0  0  0  0  0]\n",
      " [ 0  0  0  0 43  0  0  0  1  0]\n",
      " [ 0  0  0  0  0 37  0  0  0  1]\n",
      " [ 0  0  0  0  0  0 25  0  0  0]\n",
      " [ 0  0  0  0  0  0  0 42  0  0]\n",
      " [ 0  0  0  0  0  0  0  0 29  0]\n",
      " [ 0  0  0  0  0  0  0  1  0 28]]\n"
     ]
    }
   ],
   "source": [
    "svm_model = SVC(random_state=5)\n",
    "\n",
    "svm_model.fit(X1_train, y1_train)\n",
    "y1_pred_svm = svm_model.predict(X1_test)\n",
    "\n",
    "print(classification_report(y1_test, y1_pred_svm))\n",
    "\n",
    "print(confusion_matrix(y1_test, y1_pred_svm))"
   ]
  },
  {
   "cell_type": "markdown",
   "id": "e77a4ca8",
   "metadata": {},
   "source": [
    "#### * SVM을 이용한 분류의 정확도 : 99%\n",
    "\n",
    "오차 행렬을 정규화하고 이미지로 표현해보자"
   ]
  },
  {
   "cell_type": "code",
   "execution_count": 14,
   "id": "f7c03733",
   "metadata": {},
   "outputs": [
    {
     "data": {
      "image/png": "[encoded data removed]",
      "text/plain": [
       "<Figure size 648x648 with 2 Axes>"
      ]
     },
     "metadata": {
      "needs_background": "light"
     },
     "output_type": "display_data"
    }
   ],
   "source": [
    "fig, ax = plt.subplots(figsize=(9,9))\n",
    "ConfusionMatrixDisplay.from_predictions(y1_test, y1_pred_svm,\n",
    "                                       cmap=plt.cm.OrRd,\n",
    "                                       normalize='true',\n",
    "                                       ax=ax)\n",
    "plt.show()"
   ]
  },
  {
   "cell_type": "markdown",
   "id": "045641de",
   "metadata": {},
   "source": [
    "- 4, 5, 9 클래스를 제외한 나머지를 완벽하게 분류해냈다.\n",
    "- 대각선의 색이 진하고 이를 제외한 나머지의 색이 비슷하므로 정확도도 높다."
   ]
  },
  {
   "cell_type": "markdown",
   "id": "fb9442ad",
   "metadata": {},
   "source": [
    "### D. SGD Classifier"
   ]
  },
  {
   "cell_type": "code",
   "execution_count": 15,
   "id": "3bb9b93f",
   "metadata": {
    "scrolled": true
   },
   "outputs": [
    {
     "name": "stdout",
     "output_type": "stream",
     "text": [
      "              precision    recall  f1-score   support\n",
      "\n",
      "           0       1.00      1.00      1.00        47\n",
      "           1       0.97      0.89      0.93        35\n",
      "           2       1.00      1.00      1.00        31\n",
      "           3       1.00      0.95      0.97        40\n",
      "           4       0.95      0.93      0.94        44\n",
      "           5       0.97      0.89      0.93        38\n",
      "           6       0.96      0.96      0.96        25\n",
      "           7       0.98      0.98      0.98        42\n",
      "           8       0.72      0.97      0.82        29\n",
      "           9       0.89      0.86      0.88        29\n",
      "\n",
      "    accuracy                           0.94       360\n",
      "   macro avg       0.94      0.94      0.94       360\n",
      "weighted avg       0.95      0.94      0.95       360\n",
      "\n",
      "[[47  0  0  0  0  0  0  0  0  0]\n",
      " [ 0 31  0  0  0  0  0  0  4  0]\n",
      " [ 0  0 31  0  0  0  0  0  0  0]\n",
      " [ 0  0  0 38  0  0  0  0  2  0]\n",
      " [ 0  0  0  0 41  0  1  1  1  0]\n",
      " [ 0  0  0  0  0 34  0  0  1  3]\n",
      " [ 0  0  0  0  0  0 24  0  1  0]\n",
      " [ 0  0  0  0  1  0  0 41  0  0]\n",
      " [ 0  1  0  0  0  0  0  0 28  0]\n",
      " [ 0  0  0  0  1  1  0  0  2 25]]\n"
     ]
    }
   ],
   "source": [
    "sgd_model = SGDClassifier(random_state=5)\n",
    "\n",
    "sgd_model.fit(X1_train, y1_train)\n",
    "y1_pred_sgd = sgd_model.predict(X1_test)\n",
    "\n",
    "print(classification_report(y1_test, y1_pred_sgd))\n",
    "\n",
    "print(confusion_matrix(y1_test, y1_pred_sgd))"
   ]
  },
  {
   "cell_type": "markdown",
   "id": "d5701003",
   "metadata": {},
   "source": [
    "#### * SGD Classifier을 이용한 분류의 정확도 : 94%\n",
    "\n",
    "오차 행렬을 정규화하고 이미지로 표현해보자"
   ]
  },
  {
   "cell_type": "code",
   "execution_count": 16,
   "id": "edb04c0b",
   "metadata": {},
   "outputs": [
    {
     "data": {
      "image/png": "[encoded data removed]",
      "text/plain": [
       "<Figure size 648x648 with 2 Axes>"
      ]
     },
     "metadata": {
      "needs_background": "light"
     },
     "output_type": "display_data"
    }
   ],
   "source": [
    "fig, ax = plt.subplots(figsize=(9,9))\n",
    "ConfusionMatrixDisplay.from_predictions(y1_test, y1_pred_sgd,\n",
    "                                       cmap=plt.cm.YlGn,\n",
    "                                       normalize='true',\n",
    "                                       ax=ax)\n",
    "plt.show()"
   ]
  },
  {
   "cell_type": "markdown",
   "id": "252d6740",
   "metadata": {},
   "source": [
    "- 세로 방향으로 읽었을 때 8에 대한 precision이 다른 클래스에 비해 현저히 낮음을 알 수 있다.\n",
    "- Random Forest와 SVM 모델에 비해 전체적으로 색이 다양하므로 두 모델보다 정확도가 약간 낮음을 알 수 있다."
   ]
  },
  {
   "cell_type": "markdown",
   "id": "d609ce93",
   "metadata": {},
   "source": [
    "### E. Logistic Regression"
   ]
  },
  {
   "cell_type": "code",
   "execution_count": 17,
   "id": "a726a543",
   "metadata": {},
   "outputs": [
    {
     "name": "stdout",
     "output_type": "stream",
     "text": [
      "              precision    recall  f1-score   support\n",
      "\n",
      "           0       1.00      1.00      1.00        47\n",
      "           1       0.88      1.00      0.93        35\n",
      "           2       0.97      1.00      0.98        31\n",
      "           3       1.00      0.97      0.99        40\n",
      "           4       0.97      0.89      0.93        44\n",
      "           5       0.94      0.84      0.89        38\n",
      "           6       1.00      0.92      0.96        25\n",
      "           7       0.95      1.00      0.98        42\n",
      "           8       0.88      0.97      0.92        29\n",
      "           9       0.86      0.86      0.86        29\n",
      "\n",
      "    accuracy                           0.95       360\n",
      "   macro avg       0.95      0.95      0.94       360\n",
      "weighted avg       0.95      0.95      0.95       360\n",
      "\n",
      "[[47  0  0  0  0  0  0  0  0  0]\n",
      " [ 0 35  0  0  0  0  0  0  0  0]\n",
      " [ 0  0 31  0  0  0  0  0  0  0]\n",
      " [ 0  0  1 39  0  0  0  0  0  0]\n",
      " [ 0  3  0  0 39  0  0  1  1  0]\n",
      " [ 0  1  0  0  1 32  0  0  0  4]\n",
      " [ 0  1  0  0  0  0 23  0  1  0]\n",
      " [ 0  0  0  0  0  0  0 42  0  0]\n",
      " [ 0  0  0  0  0  1  0  0 28  0]\n",
      " [ 0  0  0  0  0  1  0  1  2 25]]\n"
     ]
    }
   ],
   "source": [
    "logistic_model = LogisticRegression(max_iter=5000, random_state=5)\n",
    "\n",
    "logistic_model.fit(X1_train, y1_train)\n",
    "y1_pred_lr = logistic_model.predict(X1_test)\n",
    "\n",
    "print(classification_report(y1_test, y1_pred_lr))\n",
    "\n",
    "print(confusion_matrix(y1_test, y1_pred_lr))"
   ]
  },
  {
   "cell_type": "markdown",
   "id": "dfebc0fb",
   "metadata": {},
   "source": [
    "#### * Logistic Regression을 이용한 분류의 정확도 : 95%\n",
    "\n",
    "오차 행렬을 정규화하고 이미지로 표현해보자"
   ]
  },
  {
   "cell_type": "code",
   "execution_count": 18,
   "id": "afee6603",
   "metadata": {},
   "outputs": [
    {
     "data": {
      "image/png": "[encoded data removed]",
      "text/plain": [
       "<Figure size 648x648 with 2 Axes>"
      ]
     },
     "metadata": {
      "needs_background": "light"
     },
     "output_type": "display_data"
    }
   ],
   "source": [
    "fig, ax = plt.subplots(figsize=(9,9))\n",
    "ConfusionMatrixDisplay.from_predictions(y1_test, y1_pred_lr,\n",
    "                                       cmap=plt.cm.RdPu,\n",
    "                                       normalize='true',\n",
    "                                       ax=ax)\n",
    "plt.show()"
   ]
  },
  {
   "cell_type": "markdown",
   "id": "fbff3361",
   "metadata": {},
   "source": [
    "- 가로 방향으로 읽었을 때 4, 5, 9 클래스에 대한 recall 이 다른 클래스에 비해 낮음을 알 수 있다.\n",
    "- SGD 모델과 마찬가지로 전체적으로 색 분포가 다양하므로 Random Forest와 SVM 모델에 비해 정확도가 낮다."
   ]
  },
  {
   "cell_type": "markdown",
   "id": "82962f78",
   "metadata": {},
   "source": [
    "### 결과 분석\n",
    "\n",
    "여러 가지 분류 모델들을 비교해보자.   \n",
    "손글씨 분류의 경우, Precision과 Recall 중 중요성이 더 높은 것은 없다고 판단하여 정확도로 모델의 성능을 평가하고자 한다."
   ]
  },
  {
   "cell_type": "code",
   "execution_count": 19,
   "id": "6fd65faa",
   "metadata": {},
   "outputs": [
    {
     "name": "stdout",
     "output_type": "stream",
     "text": [
      "Decision Tree의 정답률 : 0.85\n",
      "Random Forest의 정답률 : 0.975\n",
      "SVM의 정답률 : 0.9916666666666667\n",
      "SGD Classifier의 정답률 : 0.9444444444444444\n",
      "Logistic Regression의 정답률 : 0.9472222222222222\n"
     ]
    }
   ],
   "source": [
    "predictions = {'Decision Tree':y1_pred_dt, 'Random Forest':y1_pred_rf, 'SVM':y1_pred_svm,\n",
    "               'SGD Classifier':y1_pred_sgd, 'Logistic Regression':y1_pred_lr}\n",
    "\n",
    "for name, pred in predictions.items():\n",
    "    print('{}의 정답률 : {}'.format(name, accuracy_score(y1_test, pred)))"
   ]
  },
  {
   "cell_type": "markdown",
   "id": "0b4d5da2",
   "metadata": {},
   "source": [
    "- DecisionTree를 제외한 4개의 모델은 모두 90% 이상의 정확도를 보인다.  \n",
    "\n",
    "\n",
    "- 특히 Random Forest는 98%, SVM은 99%로 매우 높은 정확도를 보인다.  \n",
    "\n",
    "\n",
    "- 손글씨 분류와 유사한 프로젝트에서는 SVM 모델을 사용하는 것을 추천한다. "
   ]
  },
  {
   "cell_type": "markdown",
   "id": "7b5cd803",
   "metadata": {},
   "source": [
    "## 2. 와인 분류"
   ]
  },
  {
   "cell_type": "markdown",
   "id": "296951ff",
   "metadata": {},
   "source": [
    "### 데이터 로드 및 확인\n",
    "\n",
    "load_wine( )를 이용해 데이터를 로드하고 데이터를 확인해보자."
   ]
  },
  {
   "cell_type": "code",
   "execution_count": 20,
   "id": "164b9592",
   "metadata": {},
   "outputs": [],
   "source": [
    "from sklearn.datasets import load_wine"
   ]
  },
  {
   "cell_type": "code",
   "execution_count": 21,
   "id": "9fdad10f",
   "metadata": {},
   "outputs": [
    {
     "name": "stdout",
     "output_type": "stream",
     "text": [
      "데이터 로드 완료! ( ᐛ )و\n"
     ]
    }
   ],
   "source": [
    "wine = load_wine()\n",
    "wine_data = wine.data\n",
    "wine_label = wine.target\n",
    "\n",
    "print('데이터 로드 완료! ( ᐛ )و')"
   ]
  },
  {
   "cell_type": "code",
   "execution_count": 22,
   "id": "e9fe4f94",
   "metadata": {},
   "outputs": [
    {
     "name": "stdout",
     "output_type": "stream",
     "text": [
      "dict_keys(['data', 'target', 'frame', 'target_names', 'DESCR', 'feature_names'])\n",
      "['class_0' 'class_1' 'class_2']\n"
     ]
    }
   ],
   "source": [
    "print(wine.keys())\n",
    "print(wine.target_names)"
   ]
  },
  {
   "cell_type": "markdown",
   "id": "1b267704",
   "metadata": {},
   "source": [
    "- wine에 담겨있는 정보를 확인해보자.\n",
    "- target_names는 와인 이름이 아닌 단순히 class_0, class_1, class_2이다."
   ]
  },
  {
   "cell_type": "code",
   "execution_count": 23,
   "id": "d319bfa3",
   "metadata": {},
   "outputs": [
    {
     "name": "stdout",
     "output_type": "stream",
     "text": [
      ".. _wine_dataset:\n",
      "\n",
      "Wine recognition dataset\n",
      "------------------------\n",
      "\n",
      "**Data Set Characteristics:**\n",
      "\n",
      "    :Number of Instances: 178 (50 in each of three classes)\n",
      "    :Number of Attributes: 13 numeric, predictive attributes and the class\n",
      "    :Attribute Information:\n",
      " \t\t- Alcohol\n",
      " \t\t- Malic acid\n",
      " \t\t- Ash\n",
      "\t\t- Alcalinity of ash  \n",
      " \t\t- Magnesium\n",
      "\t\t- Total phenols\n",
      " \t\t- Flavanoids\n",
      " \t\t- Nonflavanoid phenols\n",
      " \t\t- Proanthocyanins\n",
      "\t\t- Color intensity\n",
      " \t\t- Hue\n",
      " \t\t- OD280/OD315 of diluted wines\n",
      " \t\t- Proline\n",
      "\n",
      "    - class:\n",
      "            - class_0\n",
      "            - class_1\n",
      "            - class_2\n",
      "\t\t\n",
      "    :Summary Statistics:\n",
      "    \n",
      "    ============================= ==== ===== ======= =====\n",
      "                                   Min   Max   Mean     SD\n",
      "    ============================= ==== ===== ======= =====\n",
      "    Alcohol:                      11.0  14.8    13.0   0.8\n",
      "    Malic Acid:                   0.74  5.80    2.34  1.12\n",
      "    Ash:                          1.36  3.23    2.36  0.27\n",
      "    Alcalinity of Ash:            10.6  30.0    19.5   3.3\n",
      "    Magnesium:                    70.0 162.0    99.7  14.3\n",
      "    Total Phenols:                0.98  3.88    2.29  0.63\n",
      "    Flavanoids:                   0.34  5.08    2.03  1.00\n",
      "    Nonflavanoid Phenols:         0.13  0.66    0.36  0.12\n",
      "    Proanthocyanins:              0.41  3.58    1.59  0.57\n",
      "    Colour Intensity:              1.3  13.0     5.1   2.3\n",
      "    Hue:                          0.48  1.71    0.96  0.23\n",
      "    OD280/OD315 of diluted wines: 1.27  4.00    2.61  0.71\n",
      "    Proline:                       278  1680     746   315\n",
      "    ============================= ==== ===== ======= =====\n",
      "\n",
      "    :Missing Attribute Values: None\n",
      "    :Class Distribution: class_0 (59), class_1 (71), class_2 (48)\n",
      "    :Creator: R.A. Fisher\n",
      "    :Donor: Michael Marshall (MARSHALL%PLU@io.arc.nasa.gov)\n",
      "    :Date: July, 1988\n",
      "\n",
      "This is a copy of UCI ML Wine recognition datasets.\n",
      "https://archive.ics.uci.edu/ml/machine-learning-databases/wine/wine.data\n",
      "\n",
      "The data is the results of a chemical analysis of wines grown in the same\n",
      "region in Italy by three different cultivators. There are thirteen different\n",
      "measurements taken for different constituents found in the three types of\n",
      "wine.\n",
      "\n",
      "Original Owners: \n",
      "\n",
      "Forina, M. et al, PARVUS - \n",
      "An Extendible Package for Data Exploration, Classification and Correlation. \n",
      "Institute of Pharmaceutical and Food Analysis and Technologies,\n",
      "Via Brigata Salerno, 16147 Genoa, Italy.\n",
      "\n",
      "Citation:\n",
      "\n",
      "Lichman, M. (2013). UCI Machine Learning Repository\n",
      "[https://archive.ics.uci.edu/ml]. Irvine, CA: University of California,\n",
      "School of Information and Computer Science. \n",
      "\n",
      ".. topic:: References\n",
      "\n",
      "  (1) S. Aeberhard, D. Coomans and O. de Vel, \n",
      "  Comparison of Classifiers in High Dimensional Settings, \n",
      "  Tech. Rep. no. 92-02, (1992), Dept. of Computer Science and Dept. of  \n",
      "  Mathematics and Statistics, James Cook University of North Queensland. \n",
      "  (Also submitted to Technometrics). \n",
      "\n",
      "  The data was used with many others for comparing various \n",
      "  classifiers. The classes are separable, though only RDA \n",
      "  has achieved 100% correct classification. \n",
      "  (RDA : 100%, QDA 99.4%, LDA 98.9%, 1NN 96.1% (z-transformed data)) \n",
      "  (All results using the leave-one-out technique) \n",
      "\n",
      "  (2) S. Aeberhard, D. Coomans and O. de Vel, \n",
      "  \"THE CLASSIFICATION PERFORMANCE OF RDA\" \n",
      "  Tech. Rep. no. 92-01, (1992), Dept. of Computer Science and Dept. of \n",
      "  Mathematics and Statistics, James Cook University of North Queensland. \n",
      "  (Also submitted to Journal of Chemometrics).\n",
      "\n"
     ]
    }
   ],
   "source": [
    "print(wine.DESCR)"
   ]
  },
  {
   "cell_type": "code",
   "execution_count": 24,
   "id": "5aca5229",
   "metadata": {},
   "outputs": [
    {
     "name": "stdout",
     "output_type": "stream",
     "text": [
      "(178, 13)\n",
      "(178,)\n",
      "[0 0 0 0 0 0 0 0 0 0 0 0 0 0 0 0 0 0 0 0 0 0 0 0 0 0 0 0 0 0 0 0 0 0 0 0 0\n",
      " 0 0 0 0 0 0 0 0 0 0 0 0 0 0 0 0 0 0 0 0 0 0 1 1 1 1 1 1 1 1 1 1 1 1 1 1 1\n",
      " 1 1 1 1 1 1 1 1 1 1 1 1 1 1 1 1 1 1 1 1 1 1 1 1 1 1 1 1 1 1 1 1 1 1 1 1 1\n",
      " 1 1 1 1 1 1 1 1 1 1 1 1 1 1 1 1 1 1 1 2 2 2 2 2 2 2 2 2 2 2 2 2 2 2 2 2 2\n",
      " 2 2 2 2 2 2 2 2 2 2 2 2 2 2 2 2 2 2 2 2 2 2 2 2 2 2 2 2 2 2]\n"
     ]
    },
    {
     "data": {
      "text/html": [
       "<div>\n",
       "<style scoped>\n",
       "    .dataframe tbody tr th:only-of-type {\n",
       "        vertical-align: middle;\n",
       "    }\n",
       "\n",
       "    .dataframe tbody tr th {\n",
       "        vertical-align: top;\n",
       "    }\n",
       "\n",
       "    .dataframe thead th {\n",
       "        text-align: right;\n",
       "    }\n",
       "</style>\n",
       "<table border=\"1\" class=\"dataframe\">\n",
       "  <thead>\n",
       "    <tr style=\"text-align: right;\">\n",
       "      <th></th>\n",
       "      <th>alcohol</th>\n",
       "      <th>malic_acid</th>\n",
       "      <th>ash</th>\n",
       "      <th>alcalinity_of_ash</th>\n",
       "      <th>magnesium</th>\n",
       "      <th>total_phenols</th>\n",
       "      <th>flavanoids</th>\n",
       "      <th>nonflavanoid_phenols</th>\n",
       "      <th>proanthocyanins</th>\n",
       "      <th>color_intensity</th>\n",
       "      <th>hue</th>\n",
       "      <th>od280/od315_of_diluted_wines</th>\n",
       "      <th>proline</th>\n",
       "      <th>label</th>\n",
       "    </tr>\n",
       "  </thead>\n",
       "  <tbody>\n",
       "    <tr>\n",
       "      <th>0</th>\n",
       "      <td>14.23</td>\n",
       "      <td>1.71</td>\n",
       "      <td>2.43</td>\n",
       "      <td>15.6</td>\n",
       "      <td>127.0</td>\n",
       "      <td>2.80</td>\n",
       "      <td>3.06</td>\n",
       "      <td>0.28</td>\n",
       "      <td>2.29</td>\n",
       "      <td>5.64</td>\n",
       "      <td>1.04</td>\n",
       "      <td>3.92</td>\n",
       "      <td>1065.0</td>\n",
       "      <td>0</td>\n",
       "    </tr>\n",
       "    <tr>\n",
       "      <th>1</th>\n",
       "      <td>13.20</td>\n",
       "      <td>1.78</td>\n",
       "      <td>2.14</td>\n",
       "      <td>11.2</td>\n",
       "      <td>100.0</td>\n",
       "      <td>2.65</td>\n",
       "      <td>2.76</td>\n",
       "      <td>0.26</td>\n",
       "      <td>1.28</td>\n",
       "      <td>4.38</td>\n",
       "      <td>1.05</td>\n",
       "      <td>3.40</td>\n",
       "      <td>1050.0</td>\n",
       "      <td>0</td>\n",
       "    </tr>\n",
       "    <tr>\n",
       "      <th>2</th>\n",
       "      <td>13.16</td>\n",
       "      <td>2.36</td>\n",
       "      <td>2.67</td>\n",
       "      <td>18.6</td>\n",
       "      <td>101.0</td>\n",
       "      <td>2.80</td>\n",
       "      <td>3.24</td>\n",
       "      <td>0.30</td>\n",
       "      <td>2.81</td>\n",
       "      <td>5.68</td>\n",
       "      <td>1.03</td>\n",
       "      <td>3.17</td>\n",
       "      <td>1185.0</td>\n",
       "      <td>0</td>\n",
       "    </tr>\n",
       "    <tr>\n",
       "      <th>3</th>\n",
       "      <td>14.37</td>\n",
       "      <td>1.95</td>\n",
       "      <td>2.50</td>\n",
       "      <td>16.8</td>\n",
       "      <td>113.0</td>\n",
       "      <td>3.85</td>\n",
       "      <td>3.49</td>\n",
       "      <td>0.24</td>\n",
       "      <td>2.18</td>\n",
       "      <td>7.80</td>\n",
       "      <td>0.86</td>\n",
       "      <td>3.45</td>\n",
       "      <td>1480.0</td>\n",
       "      <td>0</td>\n",
       "    </tr>\n",
       "    <tr>\n",
       "      <th>4</th>\n",
       "      <td>13.24</td>\n",
       "      <td>2.59</td>\n",
       "      <td>2.87</td>\n",
       "      <td>21.0</td>\n",
       "      <td>118.0</td>\n",
       "      <td>2.80</td>\n",
       "      <td>2.69</td>\n",
       "      <td>0.39</td>\n",
       "      <td>1.82</td>\n",
       "      <td>4.32</td>\n",
       "      <td>1.04</td>\n",
       "      <td>2.93</td>\n",
       "      <td>735.0</td>\n",
       "      <td>0</td>\n",
       "    </tr>\n",
       "    <tr>\n",
       "      <th>...</th>\n",
       "      <td>...</td>\n",
       "      <td>...</td>\n",
       "      <td>...</td>\n",
       "      <td>...</td>\n",
       "      <td>...</td>\n",
       "      <td>...</td>\n",
       "      <td>...</td>\n",
       "      <td>...</td>\n",
       "      <td>...</td>\n",
       "      <td>...</td>\n",
       "      <td>...</td>\n",
       "      <td>...</td>\n",
       "      <td>...</td>\n",
       "      <td>...</td>\n",
       "    </tr>\n",
       "    <tr>\n",
       "      <th>173</th>\n",
       "      <td>13.71</td>\n",
       "      <td>5.65</td>\n",
       "      <td>2.45</td>\n",
       "      <td>20.5</td>\n",
       "      <td>95.0</td>\n",
       "      <td>1.68</td>\n",
       "      <td>0.61</td>\n",
       "      <td>0.52</td>\n",
       "      <td>1.06</td>\n",
       "      <td>7.70</td>\n",
       "      <td>0.64</td>\n",
       "      <td>1.74</td>\n",
       "      <td>740.0</td>\n",
       "      <td>2</td>\n",
       "    </tr>\n",
       "    <tr>\n",
       "      <th>174</th>\n",
       "      <td>13.40</td>\n",
       "      <td>3.91</td>\n",
       "      <td>2.48</td>\n",
       "      <td>23.0</td>\n",
       "      <td>102.0</td>\n",
       "      <td>1.80</td>\n",
       "      <td>0.75</td>\n",
       "      <td>0.43</td>\n",
       "      <td>1.41</td>\n",
       "      <td>7.30</td>\n",
       "      <td>0.70</td>\n",
       "      <td>1.56</td>\n",
       "      <td>750.0</td>\n",
       "      <td>2</td>\n",
       "    </tr>\n",
       "    <tr>\n",
       "      <th>175</th>\n",
       "      <td>13.27</td>\n",
       "      <td>4.28</td>\n",
       "      <td>2.26</td>\n",
       "      <td>20.0</td>\n",
       "      <td>120.0</td>\n",
       "      <td>1.59</td>\n",
       "      <td>0.69</td>\n",
       "      <td>0.43</td>\n",
       "      <td>1.35</td>\n",
       "      <td>10.20</td>\n",
       "      <td>0.59</td>\n",
       "      <td>1.56</td>\n",
       "      <td>835.0</td>\n",
       "      <td>2</td>\n",
       "    </tr>\n",
       "    <tr>\n",
       "      <th>176</th>\n",
       "      <td>13.17</td>\n",
       "      <td>2.59</td>\n",
       "      <td>2.37</td>\n",
       "      <td>20.0</td>\n",
       "      <td>120.0</td>\n",
       "      <td>1.65</td>\n",
       "      <td>0.68</td>\n",
       "      <td>0.53</td>\n",
       "      <td>1.46</td>\n",
       "      <td>9.30</td>\n",
       "      <td>0.60</td>\n",
       "      <td>1.62</td>\n",
       "      <td>840.0</td>\n",
       "      <td>2</td>\n",
       "    </tr>\n",
       "    <tr>\n",
       "      <th>177</th>\n",
       "      <td>14.13</td>\n",
       "      <td>4.10</td>\n",
       "      <td>2.74</td>\n",
       "      <td>24.5</td>\n",
       "      <td>96.0</td>\n",
       "      <td>2.05</td>\n",
       "      <td>0.76</td>\n",
       "      <td>0.56</td>\n",
       "      <td>1.35</td>\n",
       "      <td>9.20</td>\n",
       "      <td>0.61</td>\n",
       "      <td>1.60</td>\n",
       "      <td>560.0</td>\n",
       "      <td>2</td>\n",
       "    </tr>\n",
       "  </tbody>\n",
       "</table>\n",
       "<p>178 rows × 14 columns</p>\n",
       "</div>"
      ],
      "text/plain": [
       "     alcohol  malic_acid   ash  alcalinity_of_ash  magnesium  total_phenols  \\\n",
       "0      14.23        1.71  2.43               15.6      127.0           2.80   \n",
       "1      13.20        1.78  2.14               11.2      100.0           2.65   \n",
       "2      13.16        2.36  2.67               18.6      101.0           2.80   \n",
       "3      14.37        1.95  2.50               16.8      113.0           3.85   \n",
       "4      13.24        2.59  2.87               21.0      118.0           2.80   \n",
       "..       ...         ...   ...                ...        ...            ...   \n",
       "173    13.71        5.65  2.45               20.5       95.0           1.68   \n",
       "174    13.40        3.91  2.48               23.0      102.0           1.80   \n",
       "175    13.27        4.28  2.26               20.0      120.0           1.59   \n",
       "176    13.17        2.59  2.37               20.0      120.0           1.65   \n",
       "177    14.13        4.10  2.74               24.5       96.0           2.05   \n",
       "\n",
       "     flavanoids  nonflavanoid_phenols  proanthocyanins  color_intensity   hue  \\\n",
       "0          3.06                  0.28             2.29             5.64  1.04   \n",
       "1          2.76                  0.26             1.28             4.38  1.05   \n",
       "2          3.24                  0.30             2.81             5.68  1.03   \n",
       "3          3.49                  0.24             2.18             7.80  0.86   \n",
       "4          2.69                  0.39             1.82             4.32  1.04   \n",
       "..          ...                   ...              ...              ...   ...   \n",
       "173        0.61                  0.52             1.06             7.70  0.64   \n",
       "174        0.75                  0.43             1.41             7.30  0.70   \n",
       "175        0.69                  0.43             1.35            10.20  0.59   \n",
       "176        0.68                  0.53             1.46             9.30  0.60   \n",
       "177        0.76                  0.56             1.35             9.20  0.61   \n",
       "\n",
       "     od280/od315_of_diluted_wines  proline  label  \n",
       "0                            3.92   1065.0      0  \n",
       "1                            3.40   1050.0      0  \n",
       "2                            3.17   1185.0      0  \n",
       "3                            3.45   1480.0      0  \n",
       "4                            2.93    735.0      0  \n",
       "..                            ...      ...    ...  \n",
       "173                          1.74    740.0      2  \n",
       "174                          1.56    750.0      2  \n",
       "175                          1.56    835.0      2  \n",
       "176                          1.62    840.0      2  \n",
       "177                          1.60    560.0      2  \n",
       "\n",
       "[178 rows x 14 columns]"
      ]
     },
     "execution_count": 24,
     "metadata": {},
     "output_type": "execute_result"
    }
   ],
   "source": [
    "print(wine_data.shape)\n",
    "\n",
    "print(wine_label.shape)\n",
    "print(wine_label[:])\n",
    "\n",
    "wine_df = pd.DataFrame(data=wine_data, columns=wine.feature_names)\n",
    "wine_df['label'] = wine_label\n",
    "\n",
    "wine_df"
   ]
  },
  {
   "cell_type": "markdown",
   "id": "9ad0b2ee",
   "metadata": {},
   "source": [
    "- 데이터와 라벨의 수가 같음을 확인할 수 있다.\n",
    "- 라벨을 전체 출력해보았다.\n",
    "- wine에 대한 정보를 한 눈에 보기 위해 라벨을 추가하여 데이터 프레임을 만들어준다."
   ]
  },
  {
   "cell_type": "markdown",
   "id": "8ce54784",
   "metadata": {},
   "source": [
    "### 데이터 분리\n",
    "train_test_split 함수를 이용해 학습 데이터와 테스트 데이터를 무작위로 8:2의 비율로 나누어 준다."
   ]
  },
  {
   "cell_type": "code",
   "execution_count": 25,
   "id": "0a9d4dda",
   "metadata": {},
   "outputs": [
    {
     "name": "stdout",
     "output_type": "stream",
     "text": [
      "Number of Train Data :  142\n",
      "Number of Test Data :  36\n"
     ]
    }
   ],
   "source": [
    "# train, test 데이터 분리\n",
    "X2_train, X2_test, y2_train, y2_test = train_test_split(wine_data, wine_label, \n",
    "                                                        test_size=0.2, random_state=1)\n",
    "\n",
    "print('Number of Train Data : ', len(X2_train))\n",
    "print('Number of Test Data : ', len(X2_test))"
   ]
  },
  {
   "cell_type": "markdown",
   "id": "04b7a9e2",
   "metadata": {},
   "source": [
    "### A. Decision Tree"
   ]
  },
  {
   "cell_type": "code",
   "execution_count": 26,
   "id": "938c178e",
   "metadata": {},
   "outputs": [
    {
     "name": "stdout",
     "output_type": "stream",
     "text": [
      "              precision    recall  f1-score   support\n",
      "\n",
      "           0       0.93      0.93      0.93        14\n",
      "           1       0.80      0.92      0.86        13\n",
      "           2       1.00      0.78      0.88         9\n",
      "\n",
      "    accuracy                           0.89        36\n",
      "   macro avg       0.91      0.88      0.89        36\n",
      "weighted avg       0.90      0.89      0.89        36\n",
      "\n",
      "[[13  1  0]\n",
      " [ 1 12  0]\n",
      " [ 0  2  7]]\n"
     ]
    }
   ],
   "source": [
    "decision_tree = DecisionTreeClassifier(random_state=10)\n",
    "\n",
    "decision_tree.fit(X2_train, y2_train)\n",
    "y2_pred_dt = decision_tree.predict(X2_test)\n",
    "\n",
    "print(classification_report(y2_test, y2_pred_dt))\n",
    "\n",
    "print(confusion_matrix(y2_test, y2_pred_dt))"
   ]
  },
  {
   "cell_type": "markdown",
   "id": "2d1acf5d",
   "metadata": {},
   "source": [
    "#### * Decission Tree를 이용한 분류의 정확도 : 89%\n",
    "\n",
    "오차 행렬을 정규화하고 이미지로 표현해보자"
   ]
  },
  {
   "cell_type": "code",
   "execution_count": 27,
   "id": "779f89a3",
   "metadata": {},
   "outputs": [
    {
     "data": {
      "image/png": "[encoded data removed]",
      "text/plain": [
       "<Figure size 360x360 with 2 Axes>"
      ]
     },
     "metadata": {
      "needs_background": "light"
     },
     "output_type": "display_data"
    }
   ],
   "source": [
    "fig, ax = plt.subplots(figsize=(5,5))\n",
    "ConfusionMatrixDisplay.from_predictions(y2_test, y2_pred_dt,\n",
    "                                       cmap=plt.cm.PuRd,\n",
    "                                       normalize='true',\n",
    "                                       ax=ax)\n",
    "plt.show()"
   ]
  },
  {
   "cell_type": "markdown",
   "id": "9c8e7a5d",
   "metadata": {},
   "source": [
    "- 가로로 읽었을 때 class_2에 대한 recall이 낮음을 알 수 있다.\n",
    "- 세로로 읽었을 때 class_1에 대한 precision이 낮음을 알 수 있다.\n",
    "- 전체적으로 색 분포가 다양하므로 정확도가 높지는 않다. "
   ]
  },
  {
   "cell_type": "markdown",
   "id": "6b097274",
   "metadata": {},
   "source": [
    "### B. Random Forest"
   ]
  },
  {
   "cell_type": "code",
   "execution_count": 28,
   "id": "df431b14",
   "metadata": {},
   "outputs": [
    {
     "name": "stdout",
     "output_type": "stream",
     "text": [
      "              precision    recall  f1-score   support\n",
      "\n",
      "           0       0.93      1.00      0.97        14\n",
      "           1       1.00      0.92      0.96        13\n",
      "           2       1.00      1.00      1.00         9\n",
      "\n",
      "    accuracy                           0.97        36\n",
      "   macro avg       0.98      0.97      0.98        36\n",
      "weighted avg       0.97      0.97      0.97        36\n",
      "\n",
      "[[14  0  0]\n",
      " [ 1 12  0]\n",
      " [ 0  0  9]]\n"
     ]
    }
   ],
   "source": [
    "random_forest = RandomForestClassifier(random_state=10)\n",
    "\n",
    "random_forest.fit(X2_train, y2_train)\n",
    "y2_pred_rf = random_forest.predict(X2_test)\n",
    "\n",
    "print(classification_report(y2_test, y2_pred_rf))\n",
    "\n",
    "print(confusion_matrix(y2_test, y2_pred_rf))"
   ]
  },
  {
   "cell_type": "markdown",
   "id": "eab708f7",
   "metadata": {},
   "source": [
    "#### * Random Forest를 이용한 분류의 정확도 : 97%\n",
    "\n",
    "오차 행렬을 정규화하고 이미지로 표현해보자"
   ]
  },
  {
   "cell_type": "code",
   "execution_count": 29,
   "id": "f3e7ddea",
   "metadata": {},
   "outputs": [
    {
     "data": {
      "image/png": "[encoded data removed]",
      "text/plain": [
       "<Figure size 360x360 with 2 Axes>"
      ]
     },
     "metadata": {
      "needs_background": "light"
     },
     "output_type": "display_data"
    }
   ],
   "source": [
    "fig, ax = plt.subplots(figsize=(5,5))\n",
    "ConfusionMatrixDisplay.from_predictions(y2_test, y2_pred_rf,\n",
    "                                       cmap=plt.cm.GnBu,\n",
    "                                       normalize='true',\n",
    "                                       ax=ax)\n",
    "plt.show()"
   ]
  },
  {
   "cell_type": "markdown",
   "id": "26c66efc",
   "metadata": {},
   "source": [
    "- class_1의 racall만 약간 낮고 나머지 클래스는 정확하게 분류했다.\n",
    "- class_1을 잘못 판단한 경우는 모두 class_0으로 분류했다."
   ]
  },
  {
   "cell_type": "markdown",
   "id": "e540a46a",
   "metadata": {},
   "source": [
    "### C. SVM"
   ]
  },
  {
   "cell_type": "code",
   "execution_count": 30,
   "id": "2032b375",
   "metadata": {},
   "outputs": [
    {
     "name": "stdout",
     "output_type": "stream",
     "text": [
      "              precision    recall  f1-score   support\n",
      "\n",
      "           0       0.92      0.79      0.85        14\n",
      "           1       0.58      0.85      0.69        13\n",
      "           2       0.20      0.11      0.14         9\n",
      "\n",
      "    accuracy                           0.64        36\n",
      "   macro avg       0.57      0.58      0.56        36\n",
      "weighted avg       0.62      0.64      0.61        36\n",
      "\n",
      "[[11  0  3]\n",
      " [ 1 11  1]\n",
      " [ 0  8  1]]\n"
     ]
    }
   ],
   "source": [
    "svm_model = SVC(random_state=10)\n",
    "\n",
    "svm_model.fit(X2_train, y2_train)\n",
    "y2_pred_svm = svm_model.predict(X2_test)\n",
    "\n",
    "print(classification_report(y2_test, y2_pred_svm))\n",
    "\n",
    "print(confusion_matrix(y2_test, y2_pred_svm))"
   ]
  },
  {
   "cell_type": "markdown",
   "id": "5b374892",
   "metadata": {},
   "source": [
    "#### * SVM을 이용한 분류의 정확도 : 64%\n",
    "\n",
    "오차 행렬을 정규화하고 이미지로 표현해보자"
   ]
  },
  {
   "cell_type": "code",
   "execution_count": 31,
   "id": "0402b61c",
   "metadata": {},
   "outputs": [
    {
     "data": {
      "image/png": "[encoded data removed]",
      "text/plain": [
       "<Figure size 360x360 with 2 Axes>"
      ]
     },
     "metadata": {
      "needs_background": "light"
     },
     "output_type": "display_data"
    }
   ],
   "source": [
    "fig, ax = plt.subplots(figsize=(5,5))\n",
    "ConfusionMatrixDisplay.from_predictions(y2_test, y2_pred_svm,\n",
    "                                       cmap=plt.cm.OrRd,\n",
    "                                       normalize='true',\n",
    "                                       ax=ax)\n",
    "plt.show()"
   ]
  },
  {
   "cell_type": "markdown",
   "id": "4b9e77b2",
   "metadata": {},
   "source": [
    "- 대각선의 색이 진하지 않고 전체적으로 색 분포가 다양하므로 정확도가 매우 낮음을 알 수 있다.\n",
    "- class_2에 대하여 대부분 class_1으로 분류하였다.\n",
    "- 와인 분류와 같은 문제를 해결하기에 적절한 모델로 보이지 않는다."
   ]
  },
  {
   "cell_type": "markdown",
   "id": "f4648822",
   "metadata": {},
   "source": [
    "### D. SGD Classifier"
   ]
  },
  {
   "cell_type": "code",
   "execution_count": 32,
   "id": "1e67576e",
   "metadata": {},
   "outputs": [
    {
     "name": "stdout",
     "output_type": "stream",
     "text": [
      "              precision    recall  f1-score   support\n",
      "\n",
      "           0       1.00      0.86      0.92        14\n",
      "           1       0.83      0.38      0.53        13\n",
      "           2       0.44      0.89      0.59         9\n",
      "\n",
      "    accuracy                           0.69        36\n",
      "   macro avg       0.76      0.71      0.68        36\n",
      "weighted avg       0.80      0.69      0.70        36\n",
      "\n",
      "[[12  0  2]\n",
      " [ 0  5  8]\n",
      " [ 0  1  8]]\n"
     ]
    }
   ],
   "source": [
    "sgd_model = SGDClassifier(random_state=10)\n",
    "\n",
    "sgd_model.fit(X2_train, y2_train)\n",
    "y2_pred_sgd = sgd_model.predict(X2_test)\n",
    "\n",
    "print(classification_report(y2_test, y2_pred_sgd))\n",
    "\n",
    "print(confusion_matrix(y2_test, y2_pred_sgd))"
   ]
  },
  {
   "cell_type": "markdown",
   "id": "cb2a27d6",
   "metadata": {},
   "source": [
    "#### * SGD Classifier을 이용한 분류의 정확도 : 69%\n",
    "\n",
    "오차 행렬을 정규화하고 이미지로 표현해보자"
   ]
  },
  {
   "cell_type": "code",
   "execution_count": 33,
   "id": "48a9b142",
   "metadata": {},
   "outputs": [
    {
     "data": {
      "image/png": "[encoded data removed]",
      "text/plain": [
       "<Figure size 360x360 with 2 Axes>"
      ]
     },
     "metadata": {
      "needs_background": "light"
     },
     "output_type": "display_data"
    }
   ],
   "source": [
    "fig, ax = plt.subplots(figsize=(5,5))\n",
    "ConfusionMatrixDisplay.from_predictions(y2_test, y2_pred_sgd,\n",
    "                                       cmap=plt.cm.YlGn,\n",
    "                                       normalize='true',\n",
    "                                       ax=ax)\n",
    "plt.show()"
   ]
  },
  {
   "cell_type": "markdown",
   "id": "3fe8b7e6",
   "metadata": {},
   "source": [
    "- 대각선이 선명하지 않고 전체적으로 색 분포가 다양하므로 정확도가 매우 낮음을 알 수 있다.\n",
    "- class_1의 경우 반 이상을 class_2로 판단했다.\n",
    "- 세로로 읽었을 때 class_2의 precision이 매우 낮음을 알 수 있다.\n",
    "- 와인 분류와 같은 문제를 해결하기에 부적절한 모델로 판단된다."
   ]
  },
  {
   "cell_type": "markdown",
   "id": "1e6ca463",
   "metadata": {},
   "source": [
    "### E. Logistic Regression"
   ]
  },
  {
   "cell_type": "code",
   "execution_count": 34,
   "id": "0ba2ddf6",
   "metadata": {},
   "outputs": [
    {
     "name": "stdout",
     "output_type": "stream",
     "text": [
      "              precision    recall  f1-score   support\n",
      "\n",
      "           0       0.93      1.00      0.97        14\n",
      "           1       0.92      0.92      0.92        13\n",
      "           2       1.00      0.89      0.94         9\n",
      "\n",
      "    accuracy                           0.94        36\n",
      "   macro avg       0.95      0.94      0.94        36\n",
      "weighted avg       0.95      0.94      0.94        36\n",
      "\n",
      "[[14  0  0]\n",
      " [ 1 12  0]\n",
      " [ 0  1  8]]\n"
     ]
    }
   ],
   "source": [
    "logistic_model = LogisticRegression(max_iter=5000, random_state=10)\n",
    "\n",
    "logistic_model.fit(X2_train, y2_train)\n",
    "y2_pred_lr = logistic_model.predict(X2_test)\n",
    "\n",
    "print(classification_report(y2_test, y2_pred_lr))\n",
    "\n",
    "print(confusion_matrix(y2_test, y2_pred_lr))"
   ]
  },
  {
   "cell_type": "markdown",
   "id": "2a9fae4d",
   "metadata": {},
   "source": [
    "#### * Logistic Regression을 이용한 분류의 정확도 : 94%\n",
    "\n",
    "오차 행렬을 정규화하고 이미지로 표현해보자"
   ]
  },
  {
   "cell_type": "code",
   "execution_count": 35,
   "id": "4ab4b077",
   "metadata": {},
   "outputs": [
    {
     "data": {
      "image/png": "[encoded data removed]",
      "text/plain": [
       "<Figure size 360x360 with 2 Axes>"
      ]
     },
     "metadata": {
      "needs_background": "light"
     },
     "output_type": "display_data"
    }
   ],
   "source": [
    "fig, ax = plt.subplots(figsize=(5,5))\n",
    "ConfusionMatrixDisplay.from_predictions(y2_test, y2_pred_lr,\n",
    "                                       cmap=plt.cm.RdPu,\n",
    "                                       normalize='true',\n",
    "                                       ax=ax)\n",
    "plt.show()"
   ]
  },
  {
   "cell_type": "markdown",
   "id": "f57eb02f",
   "metadata": {},
   "source": [
    "- 대각선이 선명하므로 정확도가 높음을 알 수 있다.\n",
    "- class_0은 잘못 판단한 경우가 없다. (recall = 1)\n",
    "- 다른 클래스를 class_2로 잘못 판단한 경우가 없다. (precision = 1)"
   ]
  },
  {
   "cell_type": "markdown",
   "id": "8c664761",
   "metadata": {},
   "source": [
    "### 결과 분석\n",
    "\n",
    "여러 가지 분류 모델들을 비교해보자.   \n",
    "와인 분류의 경우, 손글씨 분류와 마찬가지로 Precision과 Recall 중 중요성이 더 높은 것은 없다고 판단하여 정확도로 모델의 성능을 평가하고자 한다."
   ]
  },
  {
   "cell_type": "code",
   "execution_count": 36,
   "id": "a599096f",
   "metadata": {},
   "outputs": [
    {
     "name": "stdout",
     "output_type": "stream",
     "text": [
      "Decision Tree의 정답률 : 0.8888888888888888\n",
      "Random Forest의 정답률 : 0.9722222222222222\n",
      "SVM의 정답률 : 0.6388888888888888\n",
      "SGD Classifier의 정답률 : 0.6944444444444444\n",
      "Logistic Regression의 정답률 : 0.9444444444444444\n"
     ]
    }
   ],
   "source": [
    "predictions = {'Decision Tree':y2_pred_dt, 'Random Forest':y2_pred_rf, 'SVM':y2_pred_svm,\n",
    "               'SGD Classifier':y2_pred_sgd, 'Logistic Regression':y2_pred_lr}\n",
    "\n",
    "for name, pred in predictions.items():\n",
    "    print('{}의 정답률 : {}'.format(name, accuracy_score(y2_test, pred)))"
   ]
  },
  {
   "cell_type": "markdown",
   "id": "e8d9633f",
   "metadata": {},
   "source": [
    "- Random Forest와 Logistic Regression만 90% 이상의 정확도를 보인다.\n",
    "\n",
    "\n",
    "- 특히 SVM과 SGD Classifier는 매우 낮은 정확도를 보인다.  \n",
    "\n",
    "\n",
    "- 와인 분류와 유사한 프로젝트에서는 Random Forest 모델을 사용하는 것을 추천하며 SVM과 SGD Classifier는 사용을 권하지 않는다."
   ]
  },
  {
   "cell_type": "markdown",
   "id": "12789b0f",
   "metadata": {},
   "source": [
    "## 3. 유방암 진단"
   ]
  },
  {
   "cell_type": "markdown",
   "id": "a143fa1f",
   "metadata": {},
   "source": [
    "### 데이터 로드 및 확인\n",
    "\n",
    "load_breast_cancer( )를 이용해 데이터를 로드하고 데이터를 확인해보자."
   ]
  },
  {
   "cell_type": "code",
   "execution_count": 37,
   "id": "17aa0d09",
   "metadata": {},
   "outputs": [],
   "source": [
    "from sklearn.datasets import load_breast_cancer"
   ]
  },
  {
   "cell_type": "code",
   "execution_count": 38,
   "id": "1202b816",
   "metadata": {},
   "outputs": [
    {
     "name": "stdout",
     "output_type": "stream",
     "text": [
      "데이터 로드 완료! ( ᐛ )و\n"
     ]
    }
   ],
   "source": [
    "cancer = load_breast_cancer()\n",
    "cancer_data = cancer.data\n",
    "cancer_label = cancer.target\n",
    "\n",
    "print('데이터 로드 완료! ( ᐛ )و')"
   ]
  },
  {
   "cell_type": "code",
   "execution_count": 39,
   "id": "58c31d8d",
   "metadata": {},
   "outputs": [
    {
     "name": "stdout",
     "output_type": "stream",
     "text": [
      "dict_keys(['data', 'target', 'frame', 'target_names', 'DESCR', 'feature_names', 'filename', 'data_module'])\n",
      "['malignant' 'benign']\n"
     ]
    }
   ],
   "source": [
    "print(cancer.keys())\n",
    "print(cancer.target_names)"
   ]
  },
  {
   "cell_type": "markdown",
   "id": "5f58069a",
   "metadata": {},
   "source": [
    "- cancer에 담겨있는 정보를 확인해보자.\n",
    "- target_names는 'malignat'(악성), 'benign'(양성)이다. "
   ]
  },
  {
   "cell_type": "code",
   "execution_count": 40,
   "id": "3cd07a00",
   "metadata": {},
   "outputs": [
    {
     "name": "stdout",
     "output_type": "stream",
     "text": [
      ".. _breast_cancer_dataset:\n",
      "\n",
      "Breast cancer wisconsin (diagnostic) dataset\n",
      "--------------------------------------------\n",
      "\n",
      "**Data Set Characteristics:**\n",
      "\n",
      "    :Number of Instances: 569\n",
      "\n",
      "    :Number of Attributes: 30 numeric, predictive attributes and the class\n",
      "\n",
      "    :Attribute Information:\n",
      "        - radius (mean of distances from center to points on the perimeter)\n",
      "        - texture (standard deviation of gray-scale values)\n",
      "        - perimeter\n",
      "        - area\n",
      "        - smoothness (local variation in radius lengths)\n",
      "        - compactness (perimeter^2 / area - 1.0)\n",
      "        - concavity (severity of concave portions of the contour)\n",
      "        - concave points (number of concave portions of the contour)\n",
      "        - symmetry\n",
      "        - fractal dimension (\"coastline approximation\" - 1)\n",
      "\n",
      "        The mean, standard error, and \"worst\" or largest (mean of the three\n",
      "        worst/largest values) of these features were computed for each image,\n",
      "        resulting in 30 features.  For instance, field 0 is Mean Radius, field\n",
      "        10 is Radius SE, field 20 is Worst Radius.\n",
      "\n",
      "        - class:\n",
      "                - WDBC-Malignant\n",
      "                - WDBC-Benign\n",
      "\n",
      "    :Summary Statistics:\n",
      "\n",
      "    ===================================== ====== ======\n",
      "                                           Min    Max\n",
      "    ===================================== ====== ======\n",
      "    radius (mean):                        6.981  28.11\n",
      "    texture (mean):                       9.71   39.28\n",
      "    perimeter (mean):                     43.79  188.5\n",
      "    area (mean):                          143.5  2501.0\n",
      "    smoothness (mean):                    0.053  0.163\n",
      "    compactness (mean):                   0.019  0.345\n",
      "    concavity (mean):                     0.0    0.427\n",
      "    concave points (mean):                0.0    0.201\n",
      "    symmetry (mean):                      0.106  0.304\n",
      "    fractal dimension (mean):             0.05   0.097\n",
      "    radius (standard error):              0.112  2.873\n",
      "    texture (standard error):             0.36   4.885\n",
      "    perimeter (standard error):           0.757  21.98\n",
      "    area (standard error):                6.802  542.2\n",
      "    smoothness (standard error):          0.002  0.031\n",
      "    compactness (standard error):         0.002  0.135\n",
      "    concavity (standard error):           0.0    0.396\n",
      "    concave points (standard error):      0.0    0.053\n",
      "    symmetry (standard error):            0.008  0.079\n",
      "    fractal dimension (standard error):   0.001  0.03\n",
      "    radius (worst):                       7.93   36.04\n",
      "    texture (worst):                      12.02  49.54\n",
      "    perimeter (worst):                    50.41  251.2\n",
      "    area (worst):                         185.2  4254.0\n",
      "    smoothness (worst):                   0.071  0.223\n",
      "    compactness (worst):                  0.027  1.058\n",
      "    concavity (worst):                    0.0    1.252\n",
      "    concave points (worst):               0.0    0.291\n",
      "    symmetry (worst):                     0.156  0.664\n",
      "    fractal dimension (worst):            0.055  0.208\n",
      "    ===================================== ====== ======\n",
      "\n",
      "    :Missing Attribute Values: None\n",
      "\n",
      "    :Class Distribution: 212 - Malignant, 357 - Benign\n",
      "\n",
      "    :Creator:  Dr. William H. Wolberg, W. Nick Street, Olvi L. Mangasarian\n",
      "\n",
      "    :Donor: Nick Street\n",
      "\n",
      "    :Date: November, 1995\n",
      "\n",
      "This is a copy of UCI ML Breast Cancer Wisconsin (Diagnostic) datasets.\n",
      "https://goo.gl/U2Uwz2\n",
      "\n",
      "Features are computed from a digitized image of a fine needle\n",
      "aspirate (FNA) of a breast mass.  They describe\n",
      "characteristics of the cell nuclei present in the image.\n",
      "\n",
      "Separating plane described above was obtained using\n",
      "Multisurface Method-Tree (MSM-T) [K. P. Bennett, \"Decision Tree\n",
      "Construction Via Linear Programming.\" Proceedings of the 4th\n",
      "Midwest Artificial Intelligence and Cognitive Science Society,\n",
      "pp. 97-101, 1992], a classification method which uses linear\n",
      "programming to construct a decision tree.  Relevant features\n",
      "were selected using an exhaustive search in the space of 1-4\n",
      "features and 1-3 separating planes.\n",
      "\n",
      "The actual linear program used to obtain the separating plane\n",
      "in the 3-dimensional space is that described in:\n",
      "[K. P. Bennett and O. L. Mangasarian: \"Robust Linear\n",
      "Programming Discrimination of Two Linearly Inseparable Sets\",\n",
      "Optimization Methods and Software 1, 1992, 23-34].\n",
      "\n",
      "This database is also available through the UW CS ftp server:\n",
      "\n",
      "ftp ftp.cs.wisc.edu\n",
      "cd math-prog/cpo-dataset/machine-learn/WDBC/\n",
      "\n",
      ".. topic:: References\n",
      "\n",
      "   - W.N. Street, W.H. Wolberg and O.L. Mangasarian. Nuclear feature extraction \n",
      "     for breast tumor diagnosis. IS&T/SPIE 1993 International Symposium on \n",
      "     Electronic Imaging: Science and Technology, volume 1905, pages 861-870,\n",
      "     San Jose, CA, 1993.\n",
      "   - O.L. Mangasarian, W.N. Street and W.H. Wolberg. Breast cancer diagnosis and \n",
      "     prognosis via linear programming. Operations Research, 43(4), pages 570-577, \n",
      "     July-August 1995.\n",
      "   - W.H. Wolberg, W.N. Street, and O.L. Mangasarian. Machine learning techniques\n",
      "     to diagnose breast cancer from fine-needle aspirates. Cancer Letters 77 (1994) \n",
      "     163-171.\n"
     ]
    }
   ],
   "source": [
    "print(cancer.DESCR)"
   ]
  },
  {
   "cell_type": "code",
   "execution_count": 41,
   "id": "e80c653f",
   "metadata": {},
   "outputs": [
    {
     "name": "stdout",
     "output_type": "stream",
     "text": [
      "(569, 30)\n",
      "(569,)\n",
      "[0 0 0 0 0 0 0 0 0 0 0 0 0 0 0 0 0 0 0 1 1 1 0 0 0 0 0 0 0 0 0 0 0 0 0 0 0\n",
      " 1 0 0 0 0 0 0 0 0 1 0 1 1 1 1 1 0 0 1 0 0 1 1 1 1 0 1 0 0 1 1 1 1 0 1 0 0\n",
      " 1 0 1 0 0 1 1 1 0 0 1 0 0 0 1 1 1 0 1 1 0 0 1 1 1 0 0 1 1 1 1 0 1 1 0 1 1\n",
      " 1 1 1 1 1 1 0 0 0 1 0 0 1 1 1 0 0 1 0 1 0 0 1 0 0 1 1 0 1 1 0 1 1 1 1 0 1\n",
      " 1 1 1 1 1 1 1 1 0 1 1 1 1 0 0 1 0 1 1 0 0 1 1 0 0 1 1 1 1 0 1 1 0 0 0 1 0\n",
      " 1 0 1 1 1 0 1 1 0 0 1 0 0 0 0 1 0 0 0 1 0 1 0 1 1 0 1 0 0 0 0 1 1 0 0 1 1\n",
      " 1 0 1 1 1 1 1 0 0 1 1 0 1 1 0 0 1 0 1 1 1 1 0 1 1 1 1 1 0 1 0 0 0 0 0 0 0\n",
      " 0 0 0 0 0 0 0 1 1 1 1 1 1 0 1 0 1 1 0 1 1 0 1 0 0 1 1 1 1 1 1 1 1 1 1 1 1\n",
      " 1 0 1 1 0 1 0 1 1 1 1 1 1 1 1 1 1 1 1 1 1 0 1 1 1 0 1 0 1 1 1 1 0 0 0 1 1\n",
      " 1 1 0 1 0 1 0 1 1 1 0 1 1 1 1 1 1 1 0 0 0 1 1 1 1 1 1 1 1 1 1 1 0 0 1 0 0\n",
      " 0 1 0 0 1 1 1 1 1 0 1 1 1 1 1 0 1 1 1 0 1 1 0 0 1 1 1 1 1 1 0 1 1 1 1 1 1\n",
      " 1 0 1 1 1 1 1 0 1 1 0 1 1 1 1 1 1 1 1 1 1 1 1 0 1 0 0 1 0 1 1 1 1 1 0 1 1\n",
      " 0 1 0 1 1 0 1 0 1 1 1 1 1 1 1 1 0 0 1 1 1 1 1 1 0 1 1 1 1 1 1 1 1 1 1 0 1\n",
      " 1 1 1 1 1 1 0 1 0 1 1 0 1 1 1 1 1 0 0 1 0 1 0 1 1 1 1 1 0 1 1 0 1 0 1 0 0\n",
      " 1 1 1 0 1 1 1 1 1 1 1 1 1 1 1 0 1 0 0 1 1 1 1 1 1 1 1 1 1 1 1 1 1 1 1 1 1\n",
      " 1 1 1 1 1 1 1 0 0 0 0 0 0 1]\n"
     ]
    },
    {
     "data": {
      "text/html": [
       "<div>\n",
       "<style scoped>\n",
       "    .dataframe tbody tr th:only-of-type {\n",
       "        vertical-align: middle;\n",
       "    }\n",
       "\n",
       "    .dataframe tbody tr th {\n",
       "        vertical-align: top;\n",
       "    }\n",
       "\n",
       "    .dataframe thead th {\n",
       "        text-align: right;\n",
       "    }\n",
       "</style>\n",
       "<table border=\"1\" class=\"dataframe\">\n",
       "  <thead>\n",
       "    <tr style=\"text-align: right;\">\n",
       "      <th></th>\n",
       "      <th>mean radius</th>\n",
       "      <th>mean texture</th>\n",
       "      <th>mean perimeter</th>\n",
       "      <th>mean area</th>\n",
       "      <th>mean smoothness</th>\n",
       "      <th>mean compactness</th>\n",
       "      <th>mean concavity</th>\n",
       "      <th>mean concave points</th>\n",
       "      <th>mean symmetry</th>\n",
       "      <th>mean fractal dimension</th>\n",
       "      <th>...</th>\n",
       "      <th>worst texture</th>\n",
       "      <th>worst perimeter</th>\n",
       "      <th>worst area</th>\n",
       "      <th>worst smoothness</th>\n",
       "      <th>worst compactness</th>\n",
       "      <th>worst concavity</th>\n",
       "      <th>worst concave points</th>\n",
       "      <th>worst symmetry</th>\n",
       "      <th>worst fractal dimension</th>\n",
       "      <th>label</th>\n",
       "    </tr>\n",
       "  </thead>\n",
       "  <tbody>\n",
       "    <tr>\n",
       "      <th>0</th>\n",
       "      <td>17.99</td>\n",
       "      <td>10.38</td>\n",
       "      <td>122.80</td>\n",
       "      <td>1001.0</td>\n",
       "      <td>0.11840</td>\n",
       "      <td>0.27760</td>\n",
       "      <td>0.30010</td>\n",
       "      <td>0.14710</td>\n",
       "      <td>0.2419</td>\n",
       "      <td>0.07871</td>\n",
       "      <td>...</td>\n",
       "      <td>17.33</td>\n",
       "      <td>184.60</td>\n",
       "      <td>2019.0</td>\n",
       "      <td>0.16220</td>\n",
       "      <td>0.66560</td>\n",
       "      <td>0.7119</td>\n",
       "      <td>0.2654</td>\n",
       "      <td>0.4601</td>\n",
       "      <td>0.11890</td>\n",
       "      <td>malignant</td>\n",
       "    </tr>\n",
       "    <tr>\n",
       "      <th>1</th>\n",
       "      <td>20.57</td>\n",
       "      <td>17.77</td>\n",
       "      <td>132.90</td>\n",
       "      <td>1326.0</td>\n",
       "      <td>0.08474</td>\n",
       "      <td>0.07864</td>\n",
       "      <td>0.08690</td>\n",
       "      <td>0.07017</td>\n",
       "      <td>0.1812</td>\n",
       "      <td>0.05667</td>\n",
       "      <td>...</td>\n",
       "      <td>23.41</td>\n",
       "      <td>158.80</td>\n",
       "      <td>1956.0</td>\n",
       "      <td>0.12380</td>\n",
       "      <td>0.18660</td>\n",
       "      <td>0.2416</td>\n",
       "      <td>0.1860</td>\n",
       "      <td>0.2750</td>\n",
       "      <td>0.08902</td>\n",
       "      <td>malignant</td>\n",
       "    </tr>\n",
       "    <tr>\n",
       "      <th>2</th>\n",
       "      <td>19.69</td>\n",
       "      <td>21.25</td>\n",
       "      <td>130.00</td>\n",
       "      <td>1203.0</td>\n",
       "      <td>0.10960</td>\n",
       "      <td>0.15990</td>\n",
       "      <td>0.19740</td>\n",
       "      <td>0.12790</td>\n",
       "      <td>0.2069</td>\n",
       "      <td>0.05999</td>\n",
       "      <td>...</td>\n",
       "      <td>25.53</td>\n",
       "      <td>152.50</td>\n",
       "      <td>1709.0</td>\n",
       "      <td>0.14440</td>\n",
       "      <td>0.42450</td>\n",
       "      <td>0.4504</td>\n",
       "      <td>0.2430</td>\n",
       "      <td>0.3613</td>\n",
       "      <td>0.08758</td>\n",
       "      <td>malignant</td>\n",
       "    </tr>\n",
       "    <tr>\n",
       "      <th>3</th>\n",
       "      <td>11.42</td>\n",
       "      <td>20.38</td>\n",
       "      <td>77.58</td>\n",
       "      <td>386.1</td>\n",
       "      <td>0.14250</td>\n",
       "      <td>0.28390</td>\n",
       "      <td>0.24140</td>\n",
       "      <td>0.10520</td>\n",
       "      <td>0.2597</td>\n",
       "      <td>0.09744</td>\n",
       "      <td>...</td>\n",
       "      <td>26.50</td>\n",
       "      <td>98.87</td>\n",
       "      <td>567.7</td>\n",
       "      <td>0.20980</td>\n",
       "      <td>0.86630</td>\n",
       "      <td>0.6869</td>\n",
       "      <td>0.2575</td>\n",
       "      <td>0.6638</td>\n",
       "      <td>0.17300</td>\n",
       "      <td>malignant</td>\n",
       "    </tr>\n",
       "    <tr>\n",
       "      <th>4</th>\n",
       "      <td>20.29</td>\n",
       "      <td>14.34</td>\n",
       "      <td>135.10</td>\n",
       "      <td>1297.0</td>\n",
       "      <td>0.10030</td>\n",
       "      <td>0.13280</td>\n",
       "      <td>0.19800</td>\n",
       "      <td>0.10430</td>\n",
       "      <td>0.1809</td>\n",
       "      <td>0.05883</td>\n",
       "      <td>...</td>\n",
       "      <td>16.67</td>\n",
       "      <td>152.20</td>\n",
       "      <td>1575.0</td>\n",
       "      <td>0.13740</td>\n",
       "      <td>0.20500</td>\n",
       "      <td>0.4000</td>\n",
       "      <td>0.1625</td>\n",
       "      <td>0.2364</td>\n",
       "      <td>0.07678</td>\n",
       "      <td>malignant</td>\n",
       "    </tr>\n",
       "    <tr>\n",
       "      <th>...</th>\n",
       "      <td>...</td>\n",
       "      <td>...</td>\n",
       "      <td>...</td>\n",
       "      <td>...</td>\n",
       "      <td>...</td>\n",
       "      <td>...</td>\n",
       "      <td>...</td>\n",
       "      <td>...</td>\n",
       "      <td>...</td>\n",
       "      <td>...</td>\n",
       "      <td>...</td>\n",
       "      <td>...</td>\n",
       "      <td>...</td>\n",
       "      <td>...</td>\n",
       "      <td>...</td>\n",
       "      <td>...</td>\n",
       "      <td>...</td>\n",
       "      <td>...</td>\n",
       "      <td>...</td>\n",
       "      <td>...</td>\n",
       "      <td>...</td>\n",
       "    </tr>\n",
       "    <tr>\n",
       "      <th>564</th>\n",
       "      <td>21.56</td>\n",
       "      <td>22.39</td>\n",
       "      <td>142.00</td>\n",
       "      <td>1479.0</td>\n",
       "      <td>0.11100</td>\n",
       "      <td>0.11590</td>\n",
       "      <td>0.24390</td>\n",
       "      <td>0.13890</td>\n",
       "      <td>0.1726</td>\n",
       "      <td>0.05623</td>\n",
       "      <td>...</td>\n",
       "      <td>26.40</td>\n",
       "      <td>166.10</td>\n",
       "      <td>2027.0</td>\n",
       "      <td>0.14100</td>\n",
       "      <td>0.21130</td>\n",
       "      <td>0.4107</td>\n",
       "      <td>0.2216</td>\n",
       "      <td>0.2060</td>\n",
       "      <td>0.07115</td>\n",
       "      <td>malignant</td>\n",
       "    </tr>\n",
       "    <tr>\n",
       "      <th>565</th>\n",
       "      <td>20.13</td>\n",
       "      <td>28.25</td>\n",
       "      <td>131.20</td>\n",
       "      <td>1261.0</td>\n",
       "      <td>0.09780</td>\n",
       "      <td>0.10340</td>\n",
       "      <td>0.14400</td>\n",
       "      <td>0.09791</td>\n",
       "      <td>0.1752</td>\n",
       "      <td>0.05533</td>\n",
       "      <td>...</td>\n",
       "      <td>38.25</td>\n",
       "      <td>155.00</td>\n",
       "      <td>1731.0</td>\n",
       "      <td>0.11660</td>\n",
       "      <td>0.19220</td>\n",
       "      <td>0.3215</td>\n",
       "      <td>0.1628</td>\n",
       "      <td>0.2572</td>\n",
       "      <td>0.06637</td>\n",
       "      <td>malignant</td>\n",
       "    </tr>\n",
       "    <tr>\n",
       "      <th>566</th>\n",
       "      <td>16.60</td>\n",
       "      <td>28.08</td>\n",
       "      <td>108.30</td>\n",
       "      <td>858.1</td>\n",
       "      <td>0.08455</td>\n",
       "      <td>0.10230</td>\n",
       "      <td>0.09251</td>\n",
       "      <td>0.05302</td>\n",
       "      <td>0.1590</td>\n",
       "      <td>0.05648</td>\n",
       "      <td>...</td>\n",
       "      <td>34.12</td>\n",
       "      <td>126.70</td>\n",
       "      <td>1124.0</td>\n",
       "      <td>0.11390</td>\n",
       "      <td>0.30940</td>\n",
       "      <td>0.3403</td>\n",
       "      <td>0.1418</td>\n",
       "      <td>0.2218</td>\n",
       "      <td>0.07820</td>\n",
       "      <td>malignant</td>\n",
       "    </tr>\n",
       "    <tr>\n",
       "      <th>567</th>\n",
       "      <td>20.60</td>\n",
       "      <td>29.33</td>\n",
       "      <td>140.10</td>\n",
       "      <td>1265.0</td>\n",
       "      <td>0.11780</td>\n",
       "      <td>0.27700</td>\n",
       "      <td>0.35140</td>\n",
       "      <td>0.15200</td>\n",
       "      <td>0.2397</td>\n",
       "      <td>0.07016</td>\n",
       "      <td>...</td>\n",
       "      <td>39.42</td>\n",
       "      <td>184.60</td>\n",
       "      <td>1821.0</td>\n",
       "      <td>0.16500</td>\n",
       "      <td>0.86810</td>\n",
       "      <td>0.9387</td>\n",
       "      <td>0.2650</td>\n",
       "      <td>0.4087</td>\n",
       "      <td>0.12400</td>\n",
       "      <td>malignant</td>\n",
       "    </tr>\n",
       "    <tr>\n",
       "      <th>568</th>\n",
       "      <td>7.76</td>\n",
       "      <td>24.54</td>\n",
       "      <td>47.92</td>\n",
       "      <td>181.0</td>\n",
       "      <td>0.05263</td>\n",
       "      <td>0.04362</td>\n",
       "      <td>0.00000</td>\n",
       "      <td>0.00000</td>\n",
       "      <td>0.1587</td>\n",
       "      <td>0.05884</td>\n",
       "      <td>...</td>\n",
       "      <td>30.37</td>\n",
       "      <td>59.16</td>\n",
       "      <td>268.6</td>\n",
       "      <td>0.08996</td>\n",
       "      <td>0.06444</td>\n",
       "      <td>0.0000</td>\n",
       "      <td>0.0000</td>\n",
       "      <td>0.2871</td>\n",
       "      <td>0.07039</td>\n",
       "      <td>benign</td>\n",
       "    </tr>\n",
       "  </tbody>\n",
       "</table>\n",
       "<p>569 rows × 31 columns</p>\n",
       "</div>"
      ],
      "text/plain": [
       "     mean radius  mean texture  mean perimeter  mean area  mean smoothness  \\\n",
       "0          17.99         10.38          122.80     1001.0          0.11840   \n",
       "1          20.57         17.77          132.90     1326.0          0.08474   \n",
       "2          19.69         21.25          130.00     1203.0          0.10960   \n",
       "3          11.42         20.38           77.58      386.1          0.14250   \n",
       "4          20.29         14.34          135.10     1297.0          0.10030   \n",
       "..           ...           ...             ...        ...              ...   \n",
       "564        21.56         22.39          142.00     1479.0          0.11100   \n",
       "565        20.13         28.25          131.20     1261.0          0.09780   \n",
       "566        16.60         28.08          108.30      858.1          0.08455   \n",
       "567        20.60         29.33          140.10     1265.0          0.11780   \n",
       "568         7.76         24.54           47.92      181.0          0.05263   \n",
       "\n",
       "     mean compactness  mean concavity  mean concave points  mean symmetry  \\\n",
       "0             0.27760         0.30010              0.14710         0.2419   \n",
       "1             0.07864         0.08690              0.07017         0.1812   \n",
       "2             0.15990         0.19740              0.12790         0.2069   \n",
       "3             0.28390         0.24140              0.10520         0.2597   \n",
       "4             0.13280         0.19800              0.10430         0.1809   \n",
       "..                ...             ...                  ...            ...   \n",
       "564           0.11590         0.24390              0.13890         0.1726   \n",
       "565           0.10340         0.14400              0.09791         0.1752   \n",
       "566           0.10230         0.09251              0.05302         0.1590   \n",
       "567           0.27700         0.35140              0.15200         0.2397   \n",
       "568           0.04362         0.00000              0.00000         0.1587   \n",
       "\n",
       "     mean fractal dimension  ...  worst texture  worst perimeter  worst area  \\\n",
       "0                   0.07871  ...          17.33           184.60      2019.0   \n",
       "1                   0.05667  ...          23.41           158.80      1956.0   \n",
       "2                   0.05999  ...          25.53           152.50      1709.0   \n",
       "3                   0.09744  ...          26.50            98.87       567.7   \n",
       "4                   0.05883  ...          16.67           152.20      1575.0   \n",
       "..                      ...  ...            ...              ...         ...   \n",
       "564                 0.05623  ...          26.40           166.10      2027.0   \n",
       "565                 0.05533  ...          38.25           155.00      1731.0   \n",
       "566                 0.05648  ...          34.12           126.70      1124.0   \n",
       "567                 0.07016  ...          39.42           184.60      1821.0   \n",
       "568                 0.05884  ...          30.37            59.16       268.6   \n",
       "\n",
       "     worst smoothness  worst compactness  worst concavity  \\\n",
       "0             0.16220            0.66560           0.7119   \n",
       "1             0.12380            0.18660           0.2416   \n",
       "2             0.14440            0.42450           0.4504   \n",
       "3             0.20980            0.86630           0.6869   \n",
       "4             0.13740            0.20500           0.4000   \n",
       "..                ...                ...              ...   \n",
       "564           0.14100            0.21130           0.4107   \n",
       "565           0.11660            0.19220           0.3215   \n",
       "566           0.11390            0.30940           0.3403   \n",
       "567           0.16500            0.86810           0.9387   \n",
       "568           0.08996            0.06444           0.0000   \n",
       "\n",
       "     worst concave points  worst symmetry  worst fractal dimension      label  \n",
       "0                  0.2654          0.4601                  0.11890  malignant  \n",
       "1                  0.1860          0.2750                  0.08902  malignant  \n",
       "2                  0.2430          0.3613                  0.08758  malignant  \n",
       "3                  0.2575          0.6638                  0.17300  malignant  \n",
       "4                  0.1625          0.2364                  0.07678  malignant  \n",
       "..                    ...             ...                      ...        ...  \n",
       "564                0.2216          0.2060                  0.07115  malignant  \n",
       "565                0.1628          0.2572                  0.06637  malignant  \n",
       "566                0.1418          0.2218                  0.07820  malignant  \n",
       "567                0.2650          0.4087                  0.12400  malignant  \n",
       "568                0.0000          0.2871                  0.07039     benign  \n",
       "\n",
       "[569 rows x 31 columns]"
      ]
     },
     "execution_count": 41,
     "metadata": {},
     "output_type": "execute_result"
    }
   ],
   "source": [
    "print(cancer_data.shape)\n",
    "\n",
    "print(cancer_label.shape)\n",
    "print(cancer_label[:])\n",
    "\n",
    "cancer_df = pd.DataFrame(data=cancer_data, columns=cancer.feature_names)\n",
    "cancer_df['label'] = cancer.target_names[cancer_label]\n",
    "\n",
    "cancer_df"
   ]
  },
  {
   "cell_type": "markdown",
   "id": "4e817d51",
   "metadata": {},
   "source": [
    "- 데이터와 라벨의 수가 같음을 확인할 수 있다.\n",
    "- 라벨을 전체 출력해보았다.\n",
    "- cancer에 대한 정보를 한 눈에 보기 위해 라벨을 추가하여 데이터 프레임을 만들어준다."
   ]
  },
  {
   "cell_type": "markdown",
   "id": "0e145792",
   "metadata": {},
   "source": [
    "### 데이터 분리\n",
    "train_test_split 함수를 이용해 학습 데이터와 테스트 데이터를 무작위로 8:2의 비율로 나누어 준다."
   ]
  },
  {
   "cell_type": "code",
   "execution_count": 42,
   "id": "64c43bc1",
   "metadata": {},
   "outputs": [
    {
     "name": "stdout",
     "output_type": "stream",
     "text": [
      "Number of Train Data :  455\n",
      "Number of Test Data :  114\n"
     ]
    }
   ],
   "source": [
    "# train, test 데이터 분리\n",
    "X3_train, X3_test, y3_train, y3_test = train_test_split(cancer_data, cancer_label, \n",
    "                                                    test_size=0.2, random_state=50)\n",
    "\n",
    "print('Number of Train Data : ', len(X3_train))\n",
    "print('Number of Test Data : ', len(X3_test))"
   ]
  },
  {
   "cell_type": "markdown",
   "id": "2f3ce6b0",
   "metadata": {},
   "source": [
    "### A. Decision Tree"
   ]
  },
  {
   "cell_type": "code",
   "execution_count": 43,
   "id": "c7f4a532",
   "metadata": {},
   "outputs": [
    {
     "name": "stdout",
     "output_type": "stream",
     "text": [
      "              precision    recall  f1-score   support\n",
      "\n",
      "           0       0.90      0.95      0.92        39\n",
      "           1       0.97      0.95      0.96        75\n",
      "\n",
      "    accuracy                           0.95       114\n",
      "   macro avg       0.94      0.95      0.94       114\n",
      "weighted avg       0.95      0.95      0.95       114\n",
      "\n",
      "[[37  2]\n",
      " [ 4 71]]\n"
     ]
    }
   ],
   "source": [
    "decision_tree = DecisionTreeClassifier(random_state=1)\n",
    "\n",
    "decision_tree.fit(X3_train, y3_train)\n",
    "y3_pred_dt = decision_tree.predict(X3_test)\n",
    "\n",
    "print(classification_report(y3_test, y3_pred_dt))\n",
    "\n",
    "print(confusion_matrix(y3_test, y3_pred_dt))"
   ]
  },
  {
   "cell_type": "markdown",
   "id": "b2ef0200",
   "metadata": {},
   "source": [
    "#### * Decission Tree를 이용한 분류의 정확도 : 95%\n",
    "\n",
    "cancer 데이터는 암의 진단과 관련된 데이터이므로 비율 보다는 그 수 자체가 의미가 있다.  \n",
    "\n",
    "\n",
    "- 악성 종양 환자를 양성 종양으로 판단하는 경우가 없어야한다.\n",
    "\n",
    "\n",
    "- 하지만 이 모델은 데스트 데이터의 악성 종양 환자 39명 중 3명에게 양성 종양이라는 잘못된 진단을 했다.\n",
    "- 정확도는 95%로 높지만 라벨 0에 대한 recall이 0.95이므로 완벽한 모델이라고 할 수는 없다."
   ]
  },
  {
   "cell_type": "markdown",
   "id": "885ca983",
   "metadata": {},
   "source": [
    "### B. Random Forest"
   ]
  },
  {
   "cell_type": "code",
   "execution_count": 44,
   "id": "657657e3",
   "metadata": {},
   "outputs": [
    {
     "name": "stdout",
     "output_type": "stream",
     "text": [
      "              precision    recall  f1-score   support\n",
      "\n",
      "           0       0.93      0.97      0.95        39\n",
      "           1       0.99      0.96      0.97        75\n",
      "\n",
      "    accuracy                           0.96       114\n",
      "   macro avg       0.96      0.97      0.96       114\n",
      "weighted avg       0.97      0.96      0.97       114\n",
      "\n",
      "[[38  1]\n",
      " [ 3 72]]\n"
     ]
    }
   ],
   "source": [
    "random_forest = RandomForestClassifier(random_state=1)\n",
    "\n",
    "random_forest.fit(X3_train, y3_train)\n",
    "y3_pred_rf = random_forest.predict(X3_test)\n",
    "\n",
    "print(classification_report(y3_test, y3_pred_rf))\n",
    "\n",
    "print(confusion_matrix(y3_test, y3_pred_rf))"
   ]
  },
  {
   "cell_type": "markdown",
   "id": "c7ef9c1d",
   "metadata": {},
   "source": [
    "#### * Random Forest를 이용한 분류의 정확도 : 96%\n",
    "\n",
    "- 이 모델은 39명의 악성 종양 환자 중 1명에게 양성 종양이라는 잘못된 진단을 했다.\n",
    "- Decission Tree와 정확도는 큰 차이가 없지만 라벨 0에 대한 recall이 0.97로 더 나은 성능을 보인다."
   ]
  },
  {
   "cell_type": "markdown",
   "id": "fc804a14",
   "metadata": {},
   "source": [
    "### C. SVM"
   ]
  },
  {
   "cell_type": "code",
   "execution_count": 45,
   "id": "98b6ee54",
   "metadata": {},
   "outputs": [
    {
     "name": "stdout",
     "output_type": "stream",
     "text": [
      "              precision    recall  f1-score   support\n",
      "\n",
      "           0       0.97      0.87      0.92        39\n",
      "           1       0.94      0.99      0.96        75\n",
      "\n",
      "    accuracy                           0.95       114\n",
      "   macro avg       0.95      0.93      0.94       114\n",
      "weighted avg       0.95      0.95      0.95       114\n",
      "\n",
      "[[34  5]\n",
      " [ 1 74]]\n"
     ]
    }
   ],
   "source": [
    "svm_model = SVC(random_state=1)\n",
    "\n",
    "svm_model.fit(X3_train, y3_train)\n",
    "y3_pred_svm = svm_model.predict(X3_test)\n",
    "\n",
    "print(classification_report(y3_test, y3_pred_svm))\n",
    "\n",
    "print(confusion_matrix(y3_test, y3_pred_svm))"
   ]
  },
  {
   "cell_type": "markdown",
   "id": "475a19c7",
   "metadata": {},
   "source": [
    "#### * SVM을 이용한 분류의 정확도 : 95%\n",
    "\n",
    "- 이 모델은 39명의 악성 종양 환자 중 5명에게 잘못된 진단을 했다.\n",
    "- 앞서 살펴 본 Decission Tree와 Random Forest 모델과 정확도는 비슷하지만 라벨 0에 대한 recall이 0.87로 셋 중 가장 낮은 성능을 보인다."
   ]
  },
  {
   "cell_type": "markdown",
   "id": "2774a176",
   "metadata": {},
   "source": [
    "### D. SGD Classifier"
   ]
  },
  {
   "cell_type": "code",
   "execution_count": 46,
   "id": "9fa3758d",
   "metadata": {},
   "outputs": [
    {
     "name": "stdout",
     "output_type": "stream",
     "text": [
      "              precision    recall  f1-score   support\n",
      "\n",
      "           0       0.89      0.85      0.87        39\n",
      "           1       0.92      0.95      0.93        75\n",
      "\n",
      "    accuracy                           0.91       114\n",
      "   macro avg       0.91      0.90      0.90       114\n",
      "weighted avg       0.91      0.91      0.91       114\n",
      "\n",
      "[[33  6]\n",
      " [ 4 71]]\n"
     ]
    }
   ],
   "source": [
    "sgd_model = SGDClassifier(random_state=1)\n",
    "\n",
    "sgd_model.fit(X3_train, y3_train)\n",
    "y3_pred_sgd = sgd_model.predict(X3_test)\n",
    "\n",
    "print(classification_report(y3_test, y3_pred_sgd))\n",
    "\n",
    "print(confusion_matrix(y3_test, y3_pred_sgd))"
   ]
  },
  {
   "cell_type": "markdown",
   "id": "d0e50eea",
   "metadata": {},
   "source": [
    "#### * SGD Classifier을 이용한 분류의 정확도 : 91%\n",
    "\n",
    "- 이 모델은 39명의 악성 종양 환자 중 6명에게 잘못된 진단을 했다.\n",
    "- 정확도도 91%로 앞서 살펴본 모델보다 낮고 라벨 0에 대한 recall이 0.85로 가장 낮은 성능을 보인다."
   ]
  },
  {
   "cell_type": "markdown",
   "id": "33ef9c4b",
   "metadata": {},
   "source": [
    "### E. Logistic Regression"
   ]
  },
  {
   "cell_type": "code",
   "execution_count": 47,
   "id": "3418773d",
   "metadata": {},
   "outputs": [
    {
     "name": "stdout",
     "output_type": "stream",
     "text": [
      "              precision    recall  f1-score   support\n",
      "\n",
      "           0       0.97      0.95      0.96        39\n",
      "           1       0.97      0.99      0.98        75\n",
      "\n",
      "    accuracy                           0.97       114\n",
      "   macro avg       0.97      0.97      0.97       114\n",
      "weighted avg       0.97      0.97      0.97       114\n",
      "\n",
      "[[37  2]\n",
      " [ 1 74]]\n"
     ]
    }
   ],
   "source": [
    "logistic_model = LogisticRegression(max_iter=5000, random_state=1)\n",
    "\n",
    "logistic_model.fit(X3_train, y3_train)\n",
    "y3_pred_lr = logistic_model.predict(X3_test)\n",
    "\n",
    "print(classification_report(y3_test, y3_pred_lr))\n",
    "\n",
    "print(confusion_matrix(y3_test, y3_pred_lr))"
   ]
  },
  {
   "cell_type": "markdown",
   "id": "bd6eeffd",
   "metadata": {},
   "source": [
    "#### * Logistic Regression을 이용한 분류의 정확도 : 97%\n",
    "\n",
    "- 이 모델은 39명의 악성 종양 환자 중 2명에게 잘못된 진단을 했다.\n",
    "- 정확도는 Random Forest보다 약간 높지만 라벨 0에 대한 recall이 0.95로 Random Forest 모델보다 낮은 성능을 보인다고 판단했다."
   ]
  },
  {
   "cell_type": "markdown",
   "id": "e4009141",
   "metadata": {},
   "source": [
    "### 결과 분석\n",
    "\n",
    "여러 가지 분류 모델들을 비교해보자.   \n",
    "암환자 진단의 경우 악성 종양 환자를 양성 종양으로 진단하는 경우가 없어야하므로 라벨 0에 대한 recall 값이 중요하다고 판단하여 모델의 성능을 평가하는 지표로 삼고자 한다.\n",
    "\n",
    "- Decision Tree : 0.95\n",
    "- Random Forest : 0.97\n",
    "- SVM : 0.87\n",
    "- SGD Classifier : 0.85\n",
    "- Logistic Regression : 0.95\n",
    "\n",
    "\n",
    "- 유방암 진단과 유사한 문제에서는 Random Forest 모델을 사용하는 것을 추천하며 SVM과 SGD Classifier는 사용을 권하지 않는다."
   ]
  },
  {
   "attachments": {
    "image.png": {
     "image/png": "[encoded data removed]"
    }
   },
   "cell_type": "markdown",
   "id": "42a51352",
   "metadata": {},
   "source": [
    "## 4. 회고\n",
    "\n",
    "#### (1) LogisticRegression 사용 시\n",
    "\n",
    "![image.png](attachment:image.png)\n",
    "max_iter의 기본값은 100으로 별다른 값 지정 없이 학습 진행 시 경고가 발생한다. 학습에는 문제가 없지만 빨간창이 뜨는 것이 거슬려 max_iter를 키워주었다.\n",
    "\n",
    "\n",
    "#### (2) color map 지정  \n",
    "학습과는 무관하지만 confusion matrix를 이미지로 표현할 때 color map을 정하는 데에 시간을 많이 쏟았다.  \n",
    "매력적인 색깔 조합들이 많아서 여러 컬러를 적용해보고 그 중 5개를 겨우 골라 사용하였다.\n",
    "\n",
    "\n",
    "#### (3) SGD Classifier 성능 저하  \n",
    "와인 분류 프로젝트에서 SGD Classifier의 random_state=42로 하였을때 class_2에 대해서는 전혀 정답을 맞추지 못하는 상황이 발생하였다. 이로 인해 정확도도 낮게 나왔으며 오차 행렬을 정규화 할 때 division by zero 오류가 발생하였다.  \n",
    "또한 randaom_state=5로 하였을 때 정확도가 39%로 굉장히 낮게 나왔다.  \n",
    "다른 모델들은 random_state를 바꾸어도 결과에 큰 차이가 없었는데 이 모델만 유독 차이가 심하게 나타났다.  \n",
    "아직까지 명확한 이유를 찾지 못했으나, 데이터 세트에서 무작위로 선택된 하나의 샘플에 의존하여 각 단계의 예측 경사를 계산하는 방식이기 때문에 random_state에 영향을 많이 받는 것이라고 추측해본다.\n"
   ]
  },
  {
   "cell_type": "markdown",
   "id": "cfbe60aa",
   "metadata": {},
   "source": [
    "## 5. 참고 자료"
   ]
  },
  {
   "cell_type": "markdown",
   "id": "f2e0b234",
   "metadata": {},
   "source": [
    "(1) max_iter 경고 해결  \n",
    "https://nsbg.tistory.com/entry/Sklearn-ConvergenceWarning-lbfgs-failed-to-converge-status1\n",
    "\n",
    "(2) color map  \n",
    "https://matplotlib.org/stable/tutorials/colors/colormaps.html\n",
    "\n",
    "(3) SGD Classifier  \n",
    "https://scikit-learn.org/stable/modules/generated/sklearn.linear_model.SGDClassifier.html?highlight=sgd#sklearn.linear_model.SGDClassifier"
   ]
  }
 ],
 "metadata": {
  "kernelspec": {
   "display_name": "Python 3 (ipykernel)",
   "language": "python",
   "name": "python3"
  },
  "language_info": {
   "codemirror_mode": {
    "name": "ipython",
    "version": 3
   },
   "file_extension": ".py",
   "mimetype": "text/x-python",
   "name": "python",
   "nbconvert_exporter": "python",
   "pygments_lexer": "ipython3",
   "version": "3.9.7"
  }
 },
 "nbformat": 4,
 "nbformat_minor": 5
}
