{
 "cells": [
  {
   "cell_type": "markdown",
   "id": "04802146",
   "metadata": {},
   "source": [
    "# Exploration14 - 아이유팬이 좋아할 만한 다른 아티스트 찾기\n",
    "MF 모델을 활용하여 취향에 맞는 영화를 추천해 보자.\n",
    "\n",
    "---\n",
    "\n",
    "### 루브릭 평가 기준\n",
    "\n",
    "1. CSR matrix의 생성 - 사용자와 아이템 개수를 바탕으로 정확한 사이즈로 만들어졌나\n",
    "2. MF 모델의 훈련으로 인한 적절한 추천 - 사용자와 아이템 벡터 내적 수치가 의미있게 형성되었나\n",
    "3. 비슷한 영화 찾기와 유저에게 추천하기 과정 진행 - MF모델이 예측한 유저 선호도 및 아이템 간 유사도, 기여도가 의미있게 측정되었나\n",
    "\n",
    "---\n",
    "\n",
    "### 목차\n",
    "\n",
    "0) 필요 모듈 import\n",
    "\n",
    "\n",
    "1) 데이터 준비 및 전처리\n",
    "  - 데이터 준비\n",
    "  - 데이터 탐색\n",
    "  - 데이터 전처리\n",
    "  - CSR Matrix 생성\n",
    "    \n",
    "\n",
    "2) 모델 학습\n",
    "\n",
    "\n",
    "3) 결과 확인\n",
    "  - 비슷한 영화 찾기\n",
    "  - 내가 좋아할 만한 영화 찾기\n",
    "\n",
    "\n",
    "4) 회고"
   ]
  },
  {
   "cell_type": "markdown",
   "id": "d0ebcb21",
   "metadata": {},
   "source": [
    "## 0. 필요 모듈 import"
   ]
  },
  {
   "cell_type": "code",
   "execution_count": 1,
   "id": "bf117544",
   "metadata": {},
   "outputs": [],
   "source": [
    "import pandas as pd\n",
    "import os\n",
    "import numpy as np\n",
    "\n",
    "from scipy.sparse import csr_matrix\n",
    "\n",
    "from implicit.als import AlternatingLeastSquares"
   ]
  },
  {
   "cell_type": "markdown",
   "id": "2bffea3c",
   "metadata": {},
   "source": [
    "## 1. 데이터 준비 및 전처리\n",
    "\n",
    "### - 데이터 준비\n",
    "\n",
    "MovieLens 1M Dataset을 사용하여 프로젝트를 진행하겠다.  \n",
    "이는 영화 선호도에 대해 별점으로 표현한 데이터인데,  \n",
    "별점 데이터는 대표적인 explicit 데이터이지만 이번 프로젝트에서는 별점을 시청횟수로 해석하여 implicit 데이터로 간주한다."
   ]
  },
  {
   "cell_type": "code",
   "execution_count": 2,
   "id": "7b4b7790",
   "metadata": {},
   "outputs": [
    {
     "data": {
      "text/html": [
       "<div>\n",
       "<style scoped>\n",
       "    .dataframe tbody tr th:only-of-type {\n",
       "        vertical-align: middle;\n",
       "    }\n",
       "\n",
       "    .dataframe tbody tr th {\n",
       "        vertical-align: top;\n",
       "    }\n",
       "\n",
       "    .dataframe thead th {\n",
       "        text-align: right;\n",
       "    }\n",
       "</style>\n",
       "<table border=\"1\" class=\"dataframe\">\n",
       "  <thead>\n",
       "    <tr style=\"text-align: right;\">\n",
       "      <th></th>\n",
       "      <th>user_id</th>\n",
       "      <th>movie_id</th>\n",
       "      <th>ratings</th>\n",
       "      <th>timestamp</th>\n",
       "    </tr>\n",
       "  </thead>\n",
       "  <tbody>\n",
       "    <tr>\n",
       "      <th>0</th>\n",
       "      <td>1</td>\n",
       "      <td>1193</td>\n",
       "      <td>5</td>\n",
       "      <td>978300760</td>\n",
       "    </tr>\n",
       "    <tr>\n",
       "      <th>1</th>\n",
       "      <td>1</td>\n",
       "      <td>661</td>\n",
       "      <td>3</td>\n",
       "      <td>978302109</td>\n",
       "    </tr>\n",
       "    <tr>\n",
       "      <th>2</th>\n",
       "      <td>1</td>\n",
       "      <td>914</td>\n",
       "      <td>3</td>\n",
       "      <td>978301968</td>\n",
       "    </tr>\n",
       "    <tr>\n",
       "      <th>3</th>\n",
       "      <td>1</td>\n",
       "      <td>3408</td>\n",
       "      <td>4</td>\n",
       "      <td>978300275</td>\n",
       "    </tr>\n",
       "    <tr>\n",
       "      <th>4</th>\n",
       "      <td>1</td>\n",
       "      <td>2355</td>\n",
       "      <td>5</td>\n",
       "      <td>978824291</td>\n",
       "    </tr>\n",
       "  </tbody>\n",
       "</table>\n",
       "</div>"
      ],
      "text/plain": [
       "   user_id  movie_id  ratings  timestamp\n",
       "0        1      1193        5  978300760\n",
       "1        1       661        3  978302109\n",
       "2        1       914        3  978301968\n",
       "3        1      3408        4  978300275\n",
       "4        1      2355        5  978824291"
      ]
     },
     "execution_count": 2,
     "metadata": {},
     "output_type": "execute_result"
    }
   ],
   "source": [
    "rating_file_path = './data/ml-1m/ratings.dat'\n",
    "ratings_cols = ['user_id', 'movie_id', 'ratings', 'timestamp']\n",
    "\n",
    "ratings = pd.read_csv(rating_file_path, sep='::', names=ratings_cols, engine='python', encoding = \"ISO-8859-1\")\n",
    "original_data_size = len(ratings)\n",
    "\n",
    "ratings.head()"
   ]
  },
  {
   "cell_type": "markdown",
   "id": "53eca78e",
   "metadata": {},
   "source": [
    "유저가 별점을 3점 미만으로 준 영화는 선호하지 않다고 가정하고 이는 모두 제외해준다."
   ]
  },
  {
   "cell_type": "code",
   "execution_count": 3,
   "id": "baa4dcee",
   "metadata": {},
   "outputs": [
    {
     "name": "stdout",
     "output_type": "stream",
     "text": [
      "original_data_size: 1000209, filtered_data_size: 836478\n",
      "Ratio of Remaining Data is 83.63%\n"
     ]
    }
   ],
   "source": [
    "# 3점 이상만 남긴다.\n",
    "ratings = ratings[ratings['ratings']>=3]\n",
    "filtered_data_size = len(ratings)\n",
    "\n",
    "print(f'original_data_size: {original_data_size}, filtered_data_size: {filtered_data_size}')\n",
    "print(f'Ratio of Remaining Data is {filtered_data_size / original_data_size:.2%}')"
   ]
  },
  {
   "cell_type": "markdown",
   "id": "611809c1",
   "metadata": {},
   "source": [
    "별점을 시청횟수로 해석하기로 하였으므로 컬럼의 이름을 바꾼다."
   ]
  },
  {
   "cell_type": "code",
   "execution_count": 4,
   "id": "aa7e2b00",
   "metadata": {},
   "outputs": [
    {
     "data": {
      "text/plain": [
       "0          5\n",
       "1          3\n",
       "2          3\n",
       "3          4\n",
       "4          5\n",
       "          ..\n",
       "1000203    3\n",
       "1000205    5\n",
       "1000206    5\n",
       "1000207    4\n",
       "1000208    4\n",
       "Name: counts, Length: 836478, dtype: int64"
      ]
     },
     "execution_count": 4,
     "metadata": {},
     "output_type": "execute_result"
    }
   ],
   "source": [
    "# ratings 컬럼의 이름을 counts로 바꾼다.\n",
    "ratings.rename(columns={'ratings':'counts'}, inplace=True)\n",
    "ratings['counts']"
   ]
  },
  {
   "cell_type": "markdown",
   "id": "a4a01bc9",
   "metadata": {},
   "source": [
    "ratings는 이미 인덱싱까지 완료된 사용자-영화-평점 데이터였으므로 영화 제목을 보기 위해 메타 데이터를 불러온다."
   ]
  },
  {
   "cell_type": "code",
   "execution_count": 5,
   "id": "7e379316",
   "metadata": {},
   "outputs": [
    {
     "data": {
      "text/html": [
       "<div>\n",
       "<style scoped>\n",
       "    .dataframe tbody tr th:only-of-type {\n",
       "        vertical-align: middle;\n",
       "    }\n",
       "\n",
       "    .dataframe tbody tr th {\n",
       "        vertical-align: top;\n",
       "    }\n",
       "\n",
       "    .dataframe thead th {\n",
       "        text-align: right;\n",
       "    }\n",
       "</style>\n",
       "<table border=\"1\" class=\"dataframe\">\n",
       "  <thead>\n",
       "    <tr style=\"text-align: right;\">\n",
       "      <th></th>\n",
       "      <th>movie_id</th>\n",
       "      <th>title</th>\n",
       "      <th>genre</th>\n",
       "    </tr>\n",
       "  </thead>\n",
       "  <tbody>\n",
       "    <tr>\n",
       "      <th>0</th>\n",
       "      <td>1</td>\n",
       "      <td>Toy Story (1995)</td>\n",
       "      <td>Animation|Children's|Comedy</td>\n",
       "    </tr>\n",
       "    <tr>\n",
       "      <th>1</th>\n",
       "      <td>2</td>\n",
       "      <td>Jumanji (1995)</td>\n",
       "      <td>Adventure|Children's|Fantasy</td>\n",
       "    </tr>\n",
       "    <tr>\n",
       "      <th>2</th>\n",
       "      <td>3</td>\n",
       "      <td>Grumpier Old Men (1995)</td>\n",
       "      <td>Comedy|Romance</td>\n",
       "    </tr>\n",
       "    <tr>\n",
       "      <th>3</th>\n",
       "      <td>4</td>\n",
       "      <td>Waiting to Exhale (1995)</td>\n",
       "      <td>Comedy|Drama</td>\n",
       "    </tr>\n",
       "    <tr>\n",
       "      <th>4</th>\n",
       "      <td>5</td>\n",
       "      <td>Father of the Bride Part II (1995)</td>\n",
       "      <td>Comedy</td>\n",
       "    </tr>\n",
       "  </tbody>\n",
       "</table>\n",
       "</div>"
      ],
      "text/plain": [
       "   movie_id                               title                         genre\n",
       "0         1                    Toy Story (1995)   Animation|Children's|Comedy\n",
       "1         2                      Jumanji (1995)  Adventure|Children's|Fantasy\n",
       "2         3             Grumpier Old Men (1995)                Comedy|Romance\n",
       "3         4            Waiting to Exhale (1995)                  Comedy|Drama\n",
       "4         5  Father of the Bride Part II (1995)                        Comedy"
      ]
     },
     "execution_count": 5,
     "metadata": {},
     "output_type": "execute_result"
    }
   ],
   "source": [
    "# 영화 제목을 보기 위해 메타 데이터를 불러온다.\n",
    "movie_file_path =  './data/ml-1m/movies.dat'\n",
    "cols = ['movie_id', 'title', 'genre'] \n",
    "movies = pd.read_csv(movie_file_path, sep='::', names=cols, engine='python', encoding='ISO-8859-1')\n",
    "movies.head()"
   ]
  },
  {
   "cell_type": "markdown",
   "id": "96f80e39",
   "metadata": {},
   "source": [
    "### - 데이터 탐색\n",
    "\n",
    "ratings와 movies 데이터에 movie_id가 공통적으로 존재, 이를 기준으로 두 데이터를 합쳐 분석해보겠다."
   ]
  },
  {
   "cell_type": "code",
   "execution_count": 6,
   "id": "170f4888",
   "metadata": {
    "scrolled": true
   },
   "outputs": [
    {
     "data": {
      "text/html": [
       "<div>\n",
       "<style scoped>\n",
       "    .dataframe tbody tr th:only-of-type {\n",
       "        vertical-align: middle;\n",
       "    }\n",
       "\n",
       "    .dataframe tbody tr th {\n",
       "        vertical-align: top;\n",
       "    }\n",
       "\n",
       "    .dataframe thead th {\n",
       "        text-align: right;\n",
       "    }\n",
       "</style>\n",
       "<table border=\"1\" class=\"dataframe\">\n",
       "  <thead>\n",
       "    <tr style=\"text-align: right;\">\n",
       "      <th></th>\n",
       "      <th>user_id</th>\n",
       "      <th>movie_id</th>\n",
       "      <th>counts</th>\n",
       "      <th>timestamp</th>\n",
       "      <th>title</th>\n",
       "      <th>genre</th>\n",
       "    </tr>\n",
       "  </thead>\n",
       "  <tbody>\n",
       "    <tr>\n",
       "      <th>0</th>\n",
       "      <td>1</td>\n",
       "      <td>1193</td>\n",
       "      <td>5</td>\n",
       "      <td>978300760</td>\n",
       "      <td>One Flew Over the Cuckoo's Nest (1975)</td>\n",
       "      <td>Drama</td>\n",
       "    </tr>\n",
       "    <tr>\n",
       "      <th>1</th>\n",
       "      <td>2</td>\n",
       "      <td>1193</td>\n",
       "      <td>5</td>\n",
       "      <td>978298413</td>\n",
       "      <td>One Flew Over the Cuckoo's Nest (1975)</td>\n",
       "      <td>Drama</td>\n",
       "    </tr>\n",
       "    <tr>\n",
       "      <th>2</th>\n",
       "      <td>12</td>\n",
       "      <td>1193</td>\n",
       "      <td>4</td>\n",
       "      <td>978220179</td>\n",
       "      <td>One Flew Over the Cuckoo's Nest (1975)</td>\n",
       "      <td>Drama</td>\n",
       "    </tr>\n",
       "    <tr>\n",
       "      <th>3</th>\n",
       "      <td>15</td>\n",
       "      <td>1193</td>\n",
       "      <td>4</td>\n",
       "      <td>978199279</td>\n",
       "      <td>One Flew Over the Cuckoo's Nest (1975)</td>\n",
       "      <td>Drama</td>\n",
       "    </tr>\n",
       "    <tr>\n",
       "      <th>4</th>\n",
       "      <td>17</td>\n",
       "      <td>1193</td>\n",
       "      <td>5</td>\n",
       "      <td>978158471</td>\n",
       "      <td>One Flew Over the Cuckoo's Nest (1975)</td>\n",
       "      <td>Drama</td>\n",
       "    </tr>\n",
       "  </tbody>\n",
       "</table>\n",
       "</div>"
      ],
      "text/plain": [
       "   user_id  movie_id  counts  timestamp  \\\n",
       "0        1      1193       5  978300760   \n",
       "1        2      1193       5  978298413   \n",
       "2       12      1193       4  978220179   \n",
       "3       15      1193       4  978199279   \n",
       "4       17      1193       5  978158471   \n",
       "\n",
       "                                    title  genre  \n",
       "0  One Flew Over the Cuckoo's Nest (1975)  Drama  \n",
       "1  One Flew Over the Cuckoo's Nest (1975)  Drama  \n",
       "2  One Flew Over the Cuckoo's Nest (1975)  Drama  \n",
       "3  One Flew Over the Cuckoo's Nest (1975)  Drama  \n",
       "4  One Flew Over the Cuckoo's Nest (1975)  Drama  "
      ]
     },
     "execution_count": 6,
     "metadata": {},
     "output_type": "execute_result"
    }
   ],
   "source": [
    "data = pd.merge(ratings, movies)\n",
    "data.head()"
   ]
  },
  {
   "cell_type": "markdown",
   "id": "1ee1dd7f",
   "metadata": {},
   "source": [
    "분석에 필요한 데이터만 남기고 나머지는 삭제한다."
   ]
  },
  {
   "cell_type": "code",
   "execution_count": 7,
   "id": "cc22692c",
   "metadata": {},
   "outputs": [
    {
     "data": {
      "text/html": [
       "<div>\n",
       "<style scoped>\n",
       "    .dataframe tbody tr th:only-of-type {\n",
       "        vertical-align: middle;\n",
       "    }\n",
       "\n",
       "    .dataframe tbody tr th {\n",
       "        vertical-align: top;\n",
       "    }\n",
       "\n",
       "    .dataframe thead th {\n",
       "        text-align: right;\n",
       "    }\n",
       "</style>\n",
       "<table border=\"1\" class=\"dataframe\">\n",
       "  <thead>\n",
       "    <tr style=\"text-align: right;\">\n",
       "      <th></th>\n",
       "      <th>user_id</th>\n",
       "      <th>counts</th>\n",
       "      <th>title</th>\n",
       "    </tr>\n",
       "  </thead>\n",
       "  <tbody>\n",
       "    <tr>\n",
       "      <th>0</th>\n",
       "      <td>1</td>\n",
       "      <td>5</td>\n",
       "      <td>One Flew Over the Cuckoo's Nest (1975)</td>\n",
       "    </tr>\n",
       "    <tr>\n",
       "      <th>1</th>\n",
       "      <td>2</td>\n",
       "      <td>5</td>\n",
       "      <td>One Flew Over the Cuckoo's Nest (1975)</td>\n",
       "    </tr>\n",
       "    <tr>\n",
       "      <th>2</th>\n",
       "      <td>12</td>\n",
       "      <td>4</td>\n",
       "      <td>One Flew Over the Cuckoo's Nest (1975)</td>\n",
       "    </tr>\n",
       "    <tr>\n",
       "      <th>3</th>\n",
       "      <td>15</td>\n",
       "      <td>4</td>\n",
       "      <td>One Flew Over the Cuckoo's Nest (1975)</td>\n",
       "    </tr>\n",
       "    <tr>\n",
       "      <th>4</th>\n",
       "      <td>17</td>\n",
       "      <td>5</td>\n",
       "      <td>One Flew Over the Cuckoo's Nest (1975)</td>\n",
       "    </tr>\n",
       "    <tr>\n",
       "      <th>5</th>\n",
       "      <td>18</td>\n",
       "      <td>4</td>\n",
       "      <td>One Flew Over the Cuckoo's Nest (1975)</td>\n",
       "    </tr>\n",
       "    <tr>\n",
       "      <th>6</th>\n",
       "      <td>19</td>\n",
       "      <td>5</td>\n",
       "      <td>One Flew Over the Cuckoo's Nest (1975)</td>\n",
       "    </tr>\n",
       "    <tr>\n",
       "      <th>7</th>\n",
       "      <td>24</td>\n",
       "      <td>5</td>\n",
       "      <td>One Flew Over the Cuckoo's Nest (1975)</td>\n",
       "    </tr>\n",
       "    <tr>\n",
       "      <th>8</th>\n",
       "      <td>28</td>\n",
       "      <td>3</td>\n",
       "      <td>One Flew Over the Cuckoo's Nest (1975)</td>\n",
       "    </tr>\n",
       "    <tr>\n",
       "      <th>9</th>\n",
       "      <td>33</td>\n",
       "      <td>5</td>\n",
       "      <td>One Flew Over the Cuckoo's Nest (1975)</td>\n",
       "    </tr>\n",
       "  </tbody>\n",
       "</table>\n",
       "</div>"
      ],
      "text/plain": [
       "   user_id  counts                                   title\n",
       "0        1       5  One Flew Over the Cuckoo's Nest (1975)\n",
       "1        2       5  One Flew Over the Cuckoo's Nest (1975)\n",
       "2       12       4  One Flew Over the Cuckoo's Nest (1975)\n",
       "3       15       4  One Flew Over the Cuckoo's Nest (1975)\n",
       "4       17       5  One Flew Over the Cuckoo's Nest (1975)\n",
       "5       18       4  One Flew Over the Cuckoo's Nest (1975)\n",
       "6       19       5  One Flew Over the Cuckoo's Nest (1975)\n",
       "7       24       5  One Flew Over the Cuckoo's Nest (1975)\n",
       "8       28       3  One Flew Over the Cuckoo's Nest (1975)\n",
       "9       33       5  One Flew Over the Cuckoo's Nest (1975)"
      ]
     },
     "execution_count": 7,
     "metadata": {},
     "output_type": "execute_result"
    }
   ],
   "source": [
    "# 사용하는 컬럼만 남겨준다.\n",
    "using_cols = ['user_id', 'counts', 'title']\n",
    "data = data[using_cols]\n",
    "data.head(10)"
   ]
  },
  {
   "cell_type": "markdown",
   "id": "7a854332",
   "metadata": {},
   "source": [
    "pandas.DataFrame.nunique( )는 특정 컬럼에 포함된 유니크한 데이터의 개수를 알아보는데 유용하다.  \n",
    "이를 이용하여 유저 수와 영화 수를 확인해보자."
   ]
  },
  {
   "cell_type": "code",
   "execution_count": 8,
   "id": "3e58814d",
   "metadata": {},
   "outputs": [
    {
     "data": {
      "text/plain": [
       "6039"
      ]
     },
     "execution_count": 8,
     "metadata": {},
     "output_type": "execute_result"
    }
   ],
   "source": [
    "# 유저 수\n",
    "data['user_id'].nunique()"
   ]
  },
  {
   "cell_type": "code",
   "execution_count": 9,
   "id": "975384cc",
   "metadata": {},
   "outputs": [
    {
     "data": {
      "text/plain": [
       "3628"
      ]
     },
     "execution_count": 9,
     "metadata": {},
     "output_type": "execute_result"
    }
   ],
   "source": [
    "# 영화 수\n",
    "data['title'].nunique()"
   ]
  },
  {
   "cell_type": "markdown",
   "id": "6533d7ea",
   "metadata": {},
   "source": [
    "유저들에게 인기가 많은 영화 30개를 뽑아보자."
   ]
  },
  {
   "cell_type": "code",
   "execution_count": 10,
   "id": "af44c0d9",
   "metadata": {},
   "outputs": [
    {
     "data": {
      "text/plain": [
       "title\n",
       "American Beauty (1999)                                   3211\n",
       "Star Wars: Episode IV - A New Hope (1977)                2910\n",
       "Star Wars: Episode V - The Empire Strikes Back (1980)    2885\n",
       "Star Wars: Episode VI - Return of the Jedi (1983)        2716\n",
       "Saving Private Ryan (1998)                               2561\n",
       "Terminator 2: Judgment Day (1991)                        2509\n",
       "Silence of the Lambs, The (1991)                         2498\n",
       "Raiders of the Lost Ark (1981)                           2473\n",
       "Back to the Future (1985)                                2460\n",
       "Matrix, The (1999)                                       2434\n",
       "Jurassic Park (1993)                                     2413\n",
       "Sixth Sense, The (1999)                                  2385\n",
       "Fargo (1996)                                             2371\n",
       "Braveheart (1995)                                        2314\n",
       "Men in Black (1997)                                      2297\n",
       "Schindler's List (1993)                                  2257\n",
       "Princess Bride, The (1987)                               2252\n",
       "Shakespeare in Love (1998)                               2213\n",
       "L.A. Confidential (1997)                                 2210\n",
       "Shawshank Redemption, The (1994)                         2194\n",
       "Godfather, The (1972)                                    2167\n",
       "Groundhog Day (1993)                                     2121\n",
       "E.T. the Extra-Terrestrial (1982)                        2102\n",
       "Being John Malkovich (1999)                              2066\n",
       "Ghostbusters (1984)                                      2051\n",
       "Pulp Fiction (1994)                                      2030\n",
       "Forrest Gump (1994)                                      2022\n",
       "Terminator, The (1984)                                   2019\n",
       "Toy Story (1995)                                         2000\n",
       "Fugitive, The (1993)                                     1941\n",
       "Name: user_id, dtype: int64"
      ]
     },
     "execution_count": 10,
     "metadata": {},
     "output_type": "execute_result"
    }
   ],
   "source": [
    "# 인기 많은 영화\n",
    "movie_count = data.groupby('title')['user_id'].count()\n",
    "movie_count.sort_values(ascending=False).head(30)"
   ]
  },
  {
   "cell_type": "markdown",
   "id": "6f888cc8",
   "metadata": {},
   "source": [
    "유저 별 몇 편의 영화를 봤는지에 대한 통계를 확인한다."
   ]
  },
  {
   "cell_type": "code",
   "execution_count": 11,
   "id": "b2794cc5",
   "metadata": {},
   "outputs": [
    {
     "data": {
      "text/plain": [
       "count    6039.000000\n",
       "mean      138.512668\n",
       "std       156.241599\n",
       "min         1.000000\n",
       "25%        38.000000\n",
       "50%        81.000000\n",
       "75%       177.000000\n",
       "max      1968.000000\n",
       "Name: title, dtype: float64"
      ]
     },
     "execution_count": 11,
     "metadata": {},
     "output_type": "execute_result"
    }
   ],
   "source": [
    "user_count = data.groupby('user_id')['title'].count()\n",
    "user_count.describe()"
   ]
  },
  {
   "cell_type": "markdown",
   "id": "3c288e97",
   "metadata": {},
   "source": [
    "#### 내가 좋아하는 영화 정보 추가  \n",
    "\n",
    "모델 검증을 위해 사용자 초기 정보를 추가해 준다.  \n",
    "user_id : chaen"
   ]
  },
  {
   "cell_type": "code",
   "execution_count": 12,
   "id": "21840356",
   "metadata": {},
   "outputs": [
    {
     "data": {
      "text/html": [
       "<div>\n",
       "<style scoped>\n",
       "    .dataframe tbody tr th:only-of-type {\n",
       "        vertical-align: middle;\n",
       "    }\n",
       "\n",
       "    .dataframe tbody tr th {\n",
       "        vertical-align: top;\n",
       "    }\n",
       "\n",
       "    .dataframe thead th {\n",
       "        text-align: right;\n",
       "    }\n",
       "</style>\n",
       "<table border=\"1\" class=\"dataframe\">\n",
       "  <thead>\n",
       "    <tr style=\"text-align: right;\">\n",
       "      <th></th>\n",
       "      <th>user_id</th>\n",
       "      <th>counts</th>\n",
       "      <th>title</th>\n",
       "    </tr>\n",
       "  </thead>\n",
       "  <tbody>\n",
       "    <tr>\n",
       "      <th>836473</th>\n",
       "      <td>5851</td>\n",
       "      <td>5</td>\n",
       "      <td>One Little Indian (1973)</td>\n",
       "    </tr>\n",
       "    <tr>\n",
       "      <th>836474</th>\n",
       "      <td>5854</td>\n",
       "      <td>4</td>\n",
       "      <td>Slaughterhouse (1987)</td>\n",
       "    </tr>\n",
       "    <tr>\n",
       "      <th>836475</th>\n",
       "      <td>5854</td>\n",
       "      <td>3</td>\n",
       "      <td>Promise, The (Versprechen, Das) (1994)</td>\n",
       "    </tr>\n",
       "    <tr>\n",
       "      <th>836476</th>\n",
       "      <td>5938</td>\n",
       "      <td>4</td>\n",
       "      <td>Five Wives, Three Secretaries and Me (1998)</td>\n",
       "    </tr>\n",
       "    <tr>\n",
       "      <th>836477</th>\n",
       "      <td>5948</td>\n",
       "      <td>5</td>\n",
       "      <td>Identification of a Woman (Identificazione di ...</td>\n",
       "    </tr>\n",
       "    <tr>\n",
       "      <th>0</th>\n",
       "      <td>chaen</td>\n",
       "      <td>5</td>\n",
       "      <td>Terminator 2: Judgment Day (1991)</td>\n",
       "    </tr>\n",
       "    <tr>\n",
       "      <th>1</th>\n",
       "      <td>chaen</td>\n",
       "      <td>5</td>\n",
       "      <td>Back to the Future (1985)</td>\n",
       "    </tr>\n",
       "    <tr>\n",
       "      <th>2</th>\n",
       "      <td>chaen</td>\n",
       "      <td>5</td>\n",
       "      <td>Ghostbusters (1984)</td>\n",
       "    </tr>\n",
       "    <tr>\n",
       "      <th>3</th>\n",
       "      <td>chaen</td>\n",
       "      <td>5</td>\n",
       "      <td>E.T. the Extra-Terrestrial (1982)</td>\n",
       "    </tr>\n",
       "    <tr>\n",
       "      <th>4</th>\n",
       "      <td>chaen</td>\n",
       "      <td>5</td>\n",
       "      <td>Sixth Sense, The (1999)</td>\n",
       "    </tr>\n",
       "  </tbody>\n",
       "</table>\n",
       "</div>"
      ],
      "text/plain": [
       "       user_id  counts                                              title\n",
       "836473    5851       5                           One Little Indian (1973)\n",
       "836474    5854       4                              Slaughterhouse (1987)\n",
       "836475    5854       3             Promise, The (Versprechen, Das) (1994)\n",
       "836476    5938       4        Five Wives, Three Secretaries and Me (1998)\n",
       "836477    5948       5  Identification of a Woman (Identificazione di ...\n",
       "0        chaen       5                  Terminator 2: Judgment Day (1991)\n",
       "1        chaen       5                          Back to the Future (1985)\n",
       "2        chaen       5                                Ghostbusters (1984)\n",
       "3        chaen       5                  E.T. the Extra-Terrestrial (1982)\n",
       "4        chaen       5                            Sixth Sense, The (1999)"
      ]
     },
     "execution_count": 12,
     "metadata": {},
     "output_type": "execute_result"
    }
   ],
   "source": [
    "my_favorite = ['Terminator 2: Judgment Day (1991)', 'Back to the Future (1985)', 'Ghostbusters (1984)',\n",
    "               'E.T. the Extra-Terrestrial (1982)', 'Sixth Sense, The (1999)']\n",
    "\n",
    "# 'chaen'이라는 user_id가 위 영화를 5회씩 보았다고 가정\n",
    "my_playlist = pd.DataFrame({'user_id': ['chaen']*5, 'title': my_favorite, 'counts':[5]*5})\n",
    "\n",
    "if not data.isin({'user_id':['chaen']})['user_id'].any():  # user_id에 'chaen'이라는 데이터가 없다면\n",
    "    data = data.append(my_playlist)                           # 위에 임의로 만든 my_favorite 데이터를 추가\n",
    "    \n",
    "data.tail(10)"
   ]
  },
  {
   "cell_type": "markdown",
   "id": "63823be1",
   "metadata": {},
   "source": [
    "### - 데이터 전처리\n",
    "\n",
    "pandas.DataFrame.unique( )은 특정 컬럼에 포함된 유니크한 데이터만 모아 준다.   \n",
    "이를 이용해 user_id와 title에 대하여 indexing 작업을 수행한다."
   ]
  },
  {
   "cell_type": "code",
   "execution_count": 13,
   "id": "bd2c7d6b",
   "metadata": {},
   "outputs": [],
   "source": [
    "# 고유한 유저, 영화를 찾아내는 코드\n",
    "user_unique = data['user_id'].unique()\n",
    "movie_unique = data['title'].unique()\n",
    "\n",
    "# 유저, 영화 indexing 하는 코드\n",
    "user_to_idx = {v:k for k,v in enumerate(user_unique)}\n",
    "movie_to_idx = {v:k for k,v in enumerate(movie_unique)}"
   ]
  },
  {
   "cell_type": "code",
   "execution_count": 14,
   "id": "2b5d7976",
   "metadata": {},
   "outputs": [
    {
     "name": "stdout",
     "output_type": "stream",
     "text": [
      "6039\n",
      "243\n"
     ]
    }
   ],
   "source": [
    "print(user_to_idx['chaen'])    # 마지막으로 추가된 유저이니 6040번째 유저이므로 6039이 나와야 한다. \n",
    "print(movie_to_idx['Ghostbusters (1984)'])"
   ]
  },
  {
   "cell_type": "code",
   "execution_count": 15,
   "id": "f327867c",
   "metadata": {},
   "outputs": [
    {
     "name": "stdout",
     "output_type": "stream",
     "text": [
      "user_id column indexing OK!!\n",
      "title column indexing OK!!\n"
     ]
    },
    {
     "data": {
      "text/html": [
       "<div>\n",
       "<style scoped>\n",
       "    .dataframe tbody tr th:only-of-type {\n",
       "        vertical-align: middle;\n",
       "    }\n",
       "\n",
       "    .dataframe tbody tr th {\n",
       "        vertical-align: top;\n",
       "    }\n",
       "\n",
       "    .dataframe thead th {\n",
       "        text-align: right;\n",
       "    }\n",
       "</style>\n",
       "<table border=\"1\" class=\"dataframe\">\n",
       "  <thead>\n",
       "    <tr style=\"text-align: right;\">\n",
       "      <th></th>\n",
       "      <th>user_id</th>\n",
       "      <th>counts</th>\n",
       "      <th>title</th>\n",
       "    </tr>\n",
       "  </thead>\n",
       "  <tbody>\n",
       "    <tr>\n",
       "      <th>0</th>\n",
       "      <td>0</td>\n",
       "      <td>5</td>\n",
       "      <td>0</td>\n",
       "    </tr>\n",
       "    <tr>\n",
       "      <th>1</th>\n",
       "      <td>1</td>\n",
       "      <td>5</td>\n",
       "      <td>0</td>\n",
       "    </tr>\n",
       "    <tr>\n",
       "      <th>2</th>\n",
       "      <td>2</td>\n",
       "      <td>4</td>\n",
       "      <td>0</td>\n",
       "    </tr>\n",
       "    <tr>\n",
       "      <th>3</th>\n",
       "      <td>3</td>\n",
       "      <td>4</td>\n",
       "      <td>0</td>\n",
       "    </tr>\n",
       "    <tr>\n",
       "      <th>4</th>\n",
       "      <td>4</td>\n",
       "      <td>5</td>\n",
       "      <td>0</td>\n",
       "    </tr>\n",
       "    <tr>\n",
       "      <th>...</th>\n",
       "      <td>...</td>\n",
       "      <td>...</td>\n",
       "      <td>...</td>\n",
       "    </tr>\n",
       "    <tr>\n",
       "      <th>0</th>\n",
       "      <td>6039</td>\n",
       "      <td>5</td>\n",
       "      <td>92</td>\n",
       "    </tr>\n",
       "    <tr>\n",
       "      <th>1</th>\n",
       "      <td>6039</td>\n",
       "      <td>5</td>\n",
       "      <td>22</td>\n",
       "    </tr>\n",
       "    <tr>\n",
       "      <th>2</th>\n",
       "      <td>6039</td>\n",
       "      <td>5</td>\n",
       "      <td>243</td>\n",
       "    </tr>\n",
       "    <tr>\n",
       "      <th>3</th>\n",
       "      <td>6039</td>\n",
       "      <td>5</td>\n",
       "      <td>26</td>\n",
       "    </tr>\n",
       "    <tr>\n",
       "      <th>4</th>\n",
       "      <td>6039</td>\n",
       "      <td>5</td>\n",
       "      <td>38</td>\n",
       "    </tr>\n",
       "  </tbody>\n",
       "</table>\n",
       "<p>836483 rows × 3 columns</p>\n",
       "</div>"
      ],
      "text/plain": [
       "    user_id  counts  title\n",
       "0         0       5      0\n",
       "1         1       5      0\n",
       "2         2       4      0\n",
       "3         3       4      0\n",
       "4         4       5      0\n",
       "..      ...     ...    ...\n",
       "0      6039       5     92\n",
       "1      6039       5     22\n",
       "2      6039       5    243\n",
       "3      6039       5     26\n",
       "4      6039       5     38\n",
       "\n",
       "[836483 rows x 3 columns]"
      ]
     },
     "execution_count": 15,
     "metadata": {},
     "output_type": "execute_result"
    }
   ],
   "source": [
    "# user_to_idx.get을 통해 user_id 컬럼의 모든 값을 인덱싱한 Series를 구해 봅시다. \n",
    "# 혹시 정상적으로 인덱싱되지 않은 row가 있다면 인덱스가 NaN이 될 테니 dropna()로 제거합니다. \n",
    "temp_user_data = data['user_id'].map(user_to_idx.get).dropna()\n",
    "if len(temp_user_data) == len(data):   # 모든 row가 정상적으로 인덱싱되었다면\n",
    "    print('user_id column indexing OK!!')\n",
    "    data['user_id'] = temp_user_data   # data['user_id']을 인덱싱된 Series로 교체해 줍니다. \n",
    "else:\n",
    "    print('user_id column indexing Fail!!')\n",
    "\n",
    "# movie_to_idx을 통해 movie 컬럼도 동일한 방식으로 인덱싱해 줍니다. \n",
    "temp_movie_data = data['title'].map(movie_to_idx.get).dropna()\n",
    "if len(temp_movie_data) == len(data):\n",
    "    print('title column indexing OK!!')\n",
    "    data['title'] = temp_movie_data\n",
    "else:\n",
    "    print('title column indexing Fail!!')\n",
    "\n",
    "data"
   ]
  },
  {
   "cell_type": "markdown",
   "id": "f15ca476",
   "metadata": {},
   "source": [
    "### - CSR Matrix 생성 \n",
    "\n",
    "메모리 사용량을 최소화하기 위해 행렬을 압축하여 표현할 수 있는 CSR Matrix를 생성한다. "
   ]
  },
  {
   "cell_type": "code",
   "execution_count": 16,
   "id": "04632bef",
   "metadata": {},
   "outputs": [
    {
     "data": {
      "text/plain": [
       "<6040x3628 sparse matrix of type '<class 'numpy.int64'>'\n",
       "\twith 836483 stored elements in Compressed Sparse Row format>"
      ]
     },
     "execution_count": 16,
     "metadata": {},
     "output_type": "execute_result"
    }
   ],
   "source": [
    "num_user = data['user_id'].nunique()\n",
    "num_movie = data['title'].nunique()\n",
    "\n",
    "csr_data = csr_matrix((data.counts, (data.user_id, data.title)), shape = (num_user, num_movie))\n",
    "csr_data"
   ]
  },
  {
   "cell_type": "markdown",
   "id": "89eed4d8",
   "metadata": {},
   "source": [
    "## 2. 모델 학습\n",
    "\n",
    "암묵적 데이터를 사용하는 다양한 모델을 빠르게 학습할 수 있는 implicit 패키지에 구현된 als 모델을 사용하여 학습을 진행한다."
   ]
  },
  {
   "cell_type": "code",
   "execution_count": 17,
   "id": "1e524ac6",
   "metadata": {},
   "outputs": [],
   "source": [
    "# implicit 라이브러리에서 권장하고 있는 부분\n",
    "os.environ['OPENBLAS_NUM_THREADS']='1'\n",
    "os.environ['KMP_DUPLICATE_LIB_OK']='True'\n",
    "os.environ['MKL_NUM_THREADS']='1'"
   ]
  },
  {
   "cell_type": "markdown",
   "id": "6ab51312",
   "metadata": {},
   "source": [
    "AlternatingLeastSquares 클래스의 \\__init__ 파라미터\n",
    "\n",
    "1. factors : 유저와 아이템의 벡터를 몇 차원으로 할 것인지\n",
    "2. regularization : 과적합을 방지하기 위해 정규화 값을 얼마나 사용할 것인지\n",
    "3. use_gpu : GPU를 사용할 것인지\n",
    "4. iterations : epochs와 같은 의미입니다. 데이터를 몇 번 반복해서 학습할 것인지"
   ]
  },
  {
   "cell_type": "code",
   "execution_count": 18,
   "id": "c6b02da6",
   "metadata": {},
   "outputs": [],
   "source": [
    "# Implicit AlternatingLeastSquares 모델의 선언\n",
    "als_model = AlternatingLeastSquares(factors=100,\n",
    "                                    regularization=0.01,\n",
    "                                    use_gpu=False,\n",
    "                                    iterations=30,\n",
    "                                    dtype=np.float32)"
   ]
  },
  {
   "cell_type": "code",
   "execution_count": 19,
   "id": "ca19bc5d",
   "metadata": {},
   "outputs": [
    {
     "data": {
      "text/plain": [
       "<3628x6040 sparse matrix of type '<class 'numpy.int64'>'\n",
       "\twith 836483 stored elements in Compressed Sparse Column format>"
      ]
     },
     "execution_count": 19,
     "metadata": {},
     "output_type": "execute_result"
    }
   ],
   "source": [
    "# als 모델은 input으로 (item X user 꼴의 matrix를 받기 때문에 Transpose하여 사용)\n",
    "csr_data_transpose = csr_data.T\n",
    "csr_data_transpose"
   ]
  },
  {
   "cell_type": "code",
   "execution_count": 20,
   "id": "1faf12c6",
   "metadata": {},
   "outputs": [
    {
     "data": {
      "application/vnd.jupyter.widget-view+json": {
       "model_id": "27b3092a8cd64085aca6396ac1df45a6",
       "version_major": 2,
       "version_minor": 0
      },
      "text/plain": [
       "  0%|          | 0/30 [00:00<?, ?it/s]"
      ]
     },
     "metadata": {},
     "output_type": "display_data"
    }
   ],
   "source": [
    "# 모델 훈련\n",
    "als_model.fit(csr_data_transpose)"
   ]
  },
  {
   "cell_type": "markdown",
   "id": "83d946dc",
   "metadata": {},
   "source": [
    "나의 선호도를 추가한 user_id:chaen 데이터에 대하여 벡터를 어떻게 만들고 있는지, 특정 영화에 대해서는 벡터를 어떻게 만들고 있는지 확인해보자.  "
   ]
  },
  {
   "cell_type": "code",
   "execution_count": 21,
   "id": "45f4ffd8",
   "metadata": {},
   "outputs": [],
   "source": [
    "chaen, ghostbusters = user_to_idx['chaen'], movie_to_idx['Ghostbusters (1984)']\n",
    "chaen_vector, ghostbusters_vector = als_model.user_factors[chaen], als_model.item_factors[ghostbusters]"
   ]
  },
  {
   "cell_type": "code",
   "execution_count": 22,
   "id": "91c6aa36",
   "metadata": {},
   "outputs": [
    {
     "data": {
      "text/plain": [
       "array([-0.10715943, -0.07665382,  0.6862064 ,  0.45160556, -0.10842567,\n",
       "        0.09913171,  0.3599588 , -0.04734577,  0.6727693 ,  0.05101774,\n",
       "       -0.15247065, -0.63073665, -0.01791093,  0.06157181, -0.02197258,\n",
       "       -0.6150168 , -0.06350518,  0.29245275, -0.32628062,  0.33736575,\n",
       "       -0.6137358 , -0.23726933,  0.5903623 , -0.5193583 ,  0.16199063,\n",
       "       -0.29614183, -0.41350955, -0.11821482, -0.47660074, -0.8108594 ,\n",
       "       -1.1413038 ,  0.68568885,  0.3982033 ,  0.01952579, -0.8365466 ,\n",
       "        0.17747998,  0.81729436,  0.4762849 ,  0.95177865,  0.60231894,\n",
       "       -0.22309636, -0.70968443,  0.2614132 , -0.21286575, -1.1211594 ,\n",
       "        0.30254018,  0.32906932,  0.03215273, -0.03333445,  0.12247662,\n",
       "        0.59684545, -0.22724687, -0.3342536 ,  0.4428008 ,  0.02151689,\n",
       "       -0.11933529, -0.8833497 , -0.42201662,  0.03873072,  0.4684013 ,\n",
       "       -0.28241637, -0.11065447, -0.57594913, -0.49711084, -0.13113892,\n",
       "        0.53644764,  0.5171762 ,  0.11302017,  0.20850894,  0.46962813,\n",
       "        0.8261152 ,  0.0045782 , -0.15173881,  0.02833073,  0.0322783 ,\n",
       "        0.37572116, -0.40617833, -0.18184796, -0.985275  , -0.18058449,\n",
       "        0.4821488 ,  0.31928155,  0.40721142, -0.32672033, -0.3683482 ,\n",
       "        0.2832679 , -0.04768766,  0.25487515,  0.8188561 ,  0.5975182 ,\n",
       "        0.41329738,  0.44958228,  0.4929427 , -0.31992263, -0.38040325,\n",
       "        0.17777413, -0.3338437 ,  0.54089415,  0.31328523, -0.6121946 ],\n",
       "      dtype=float32)"
      ]
     },
     "execution_count": 22,
     "metadata": {},
     "output_type": "execute_result"
    }
   ],
   "source": [
    "chaen_vector"
   ]
  },
  {
   "cell_type": "code",
   "execution_count": 23,
   "id": "737843a9",
   "metadata": {},
   "outputs": [
    {
     "data": {
      "text/plain": [
       "array([ 2.05266401e-02,  3.39976535e-03,  3.42092142e-02,  1.25162592e-02,\n",
       "        4.74924018e-05,  1.98606178e-02,  4.51107323e-02,  1.26385614e-02,\n",
       "       -6.34205341e-03,  3.12709361e-02, -5.98976342e-03, -3.15249935e-02,\n",
       "       -5.33249509e-03,  1.14297131e-02,  1.15609691e-02, -1.35865621e-02,\n",
       "        3.70968468e-02, -2.12686080e-02, -1.93170272e-02,  3.84958088e-02,\n",
       "       -1.78913921e-02, -2.36714352e-03,  8.55903374e-04, -4.14416380e-02,\n",
       "       -1.15506956e-02, -1.29607497e-02,  6.61822781e-03,  3.30612659e-02,\n",
       "       -1.88940614e-02, -1.29072815e-02, -4.85753156e-02, -9.82843526e-03,\n",
       "       -3.57963610e-03, -1.25875836e-02,  3.32339900e-03, -2.73671467e-04,\n",
       "        3.06391027e-02,  2.85288561e-02,  2.34022886e-02,  3.06983311e-02,\n",
       "       -5.88418916e-03, -1.70625746e-02,  8.25099945e-02,  1.14474371e-02,\n",
       "       -1.41150625e-02,  1.14790779e-02,  1.83136258e-02,  9.39228944e-03,\n",
       "        1.46051100e-03,  7.19498917e-02,  3.93852219e-02, -1.13856690e-02,\n",
       "       -6.73352089e-03,  1.84164918e-03,  1.18833818e-02, -6.03615819e-03,\n",
       "       -1.34278452e-02, -2.00821422e-02,  5.41756162e-03,  2.06105523e-02,\n",
       "       -1.01966653e-02, -3.04005463e-02, -1.88217890e-02, -1.56586673e-02,\n",
       "       -3.50240208e-02,  3.12266275e-02,  2.35877074e-02,  1.46111008e-02,\n",
       "        7.25585921e-03,  1.62562113e-02,  2.81623118e-02,  1.05993412e-02,\n",
       "       -6.36920426e-03,  1.32785896e-02,  1.22746080e-02,  8.07305705e-03,\n",
       "       -1.18060503e-02, -1.04072131e-02, -3.42603661e-02,  1.99551694e-03,\n",
       "       -4.69632680e-03,  2.58142892e-02, -1.92920619e-04,  3.24783241e-03,\n",
       "        1.76295806e-02,  1.35759497e-02,  1.31779602e-02, -2.14724313e-03,\n",
       "        1.53976139e-02,  3.97257647e-03,  6.18233206e-03,  2.86228843e-02,\n",
       "        1.60033535e-02, -1.93719584e-02, -1.58292800e-02, -3.15634930e-03,\n",
       "       -5.61224716e-03,  2.09645042e-03, -7.17463857e-03, -2.40117013e-02],\n",
       "      dtype=float32)"
      ]
     },
     "execution_count": 23,
     "metadata": {},
     "output_type": "execute_result"
    }
   ],
   "source": [
    "ghostbusters_vector"
   ]
  },
  {
   "cell_type": "markdown",
   "id": "9e670226",
   "metadata": {},
   "source": [
    "이 두 벡터를 내적하면 나의 선호도를 알 수 있다."
   ]
  },
  {
   "cell_type": "code",
   "execution_count": 24,
   "id": "7f56aa25",
   "metadata": {},
   "outputs": [
    {
     "data": {
      "text/plain": [
       "0.58505446"
      ]
     },
     "execution_count": 24,
     "metadata": {},
     "output_type": "execute_result"
    }
   ],
   "source": [
    "np.dot(chaen_vector, ghostbusters_vector)"
   ]
  },
  {
   "cell_type": "markdown",
   "id": "1f4a0ec3",
   "metadata": {},
   "source": [
    "별점을 5개 준 것 치곤 높은 선호도라고 할 수는 없는 것 같지만 그래도 이정도면 선호하는 영화라고 할 수 있을 것 같다."
   ]
  },
  {
   "cell_type": "markdown",
   "id": "34c327e4",
   "metadata": {},
   "source": [
    "## 3. 결과 확인\n",
    "\n",
    "### - 비슷한 영화 찾기\n",
    "\n",
    "AlternatingLeastSquares 클래스에 구현되어 있는 similar_items 메서드를 이용하여 학습된 모델이 입력된 영화에 대해 비슷한 영화를 찾을 수 있도록 한다."
   ]
  },
  {
   "cell_type": "code",
   "execution_count": 25,
   "id": "37d2c4ad",
   "metadata": {},
   "outputs": [],
   "source": [
    "#movie_to_idx 를 뒤집어, index로부터 영화 제목을 얻는 dict를 생성\n",
    "idx_to_movie = {v:k for k,v in movie_to_idx.items()}"
   ]
  },
  {
   "cell_type": "code",
   "execution_count": 26,
   "id": "b122eeb1",
   "metadata": {},
   "outputs": [],
   "source": [
    "# 비슷한 영화를 찾아주는 함수\n",
    "def get_similar_movie(movie_title: str):\n",
    "    movie_id = movie_to_idx[movie_title]\n",
    "    similar_movie = als_model.similar_items(movie_id)\n",
    "    similar_movie = [idx_to_movie[i[0]] for i in similar_movie]\n",
    "    return similar_movie"
   ]
  },
  {
   "cell_type": "code",
   "execution_count": 27,
   "id": "a0b0d7e8",
   "metadata": {},
   "outputs": [
    {
     "data": {
      "text/plain": [
       "['Jurassic Park (1993)',\n",
       " 'Men in Black (1997)',\n",
       " 'Terminator 2: Judgment Day (1991)',\n",
       " 'Total Recall (1990)',\n",
       " 'Matrix, The (1999)',\n",
       " 'Braveheart (1995)',\n",
       " 'Lost World: Jurassic Park, The (1997)',\n",
       " 'Schlafes Bruder (Brother of Sleep) (1995)',\n",
       " 'Independence Day (ID4) (1996)',\n",
       " 'Mission: Impossible (1996)']"
      ]
     },
     "execution_count": 27,
     "metadata": {},
     "output_type": "execute_result"
    }
   ],
   "source": [
    "get_similar_movie('Jurassic Park (1993)')"
   ]
  },
  {
   "cell_type": "markdown",
   "id": "ca545fce",
   "metadata": {},
   "source": [
    "### - 내가 좋아하는 영화 찾기\n",
    "\n",
    "AlternatingLeastSquares 클래스에 구현되어 있는 recommend 메서드를 이용하여 내가 좋아할 만한 영화를 추천받는다."
   ]
  },
  {
   "cell_type": "code",
   "execution_count": 28,
   "id": "cffff561",
   "metadata": {},
   "outputs": [
    {
     "data": {
      "text/plain": [
       "[(124, 0.4270349),\n",
       " (107, 0.41389352),\n",
       " (99, 0.31886056),\n",
       " (200, 0.31102312),\n",
       " (44, 0.3073797),\n",
       " (64, 0.29468012),\n",
       " (141, 0.29052576),\n",
       " (19, 0.28695035),\n",
       " (121, 0.2835486),\n",
       " (670, 0.27736205),\n",
       " (175, 0.26761374),\n",
       " (60, 0.26720667),\n",
       " (117, 0.25914904),\n",
       " (582, 0.24680988),\n",
       " (91, 0.24464147),\n",
       " (15, 0.2430883),\n",
       " (13, 0.23786795),\n",
       " (87, 0.23102692),\n",
       " (1144, 0.21713956),\n",
       " (126, 0.2138846)]"
      ]
     },
     "execution_count": 28,
     "metadata": {},
     "output_type": "execute_result"
    }
   ],
   "source": [
    "user = user_to_idx['chaen']\n",
    "\n",
    "movie_recommended = als_model.recommend(user, csr_data, N=20, filter_already_liked_items=True) \n",
    "                                                 # filter_already_liked_items 는 유저가 이미 평가한 아이템은 제외하는 Argument\n",
    "movie_recommended"
   ]
  },
  {
   "cell_type": "code",
   "execution_count": 29,
   "id": "ae25eba9",
   "metadata": {},
   "outputs": [
    {
     "name": "stdout",
     "output_type": "stream",
     "text": [
      "Matrix, The (1999) : 0.427\n",
      "Jurassic Park (1993) : 0.414\n",
      "American Beauty (1999) : 0.319\n",
      "Terminator, The (1984) : 0.311\n",
      "Star Wars: Episode IV - A New Hope (1977) : 0.307\n",
      "Star Wars: Episode VI - Return of the Jedi (1983) : 0.295\n",
      "Fugitive, The (1993) : 0.291\n",
      "Big (1988) : 0.287\n",
      "Silence of the Lambs, The (1991) : 0.284\n",
      "Galaxy Quest (1999) : 0.277\n",
      "Men in Black (1997) : 0.268\n",
      "Star Wars: Episode I - The Phantom Menace (1999) : 0.267\n",
      "Star Wars: Episode V - The Empire Strikes Back (1980) : 0.259\n",
      "Beetlejuice (1988) : 0.247\n",
      "Close Encounters of the Third Kind (1977) : 0.245\n",
      "Airplane! (1980) : 0.243\n",
      "Ferris Bueller's Day Off (1986) : 0.238\n",
      "Braveheart (1995) : 0.231\n",
      "Bull Durham (1988) : 0.217\n",
      "Shakespeare in Love (1998) : 0.214\n"
     ]
    }
   ],
   "source": [
    "for i in movie_recommended:\n",
    "    print(\"{} : {:04.3f}\".format(idx_to_movie[i[0]], i[1]))"
   ]
  },
  {
   "cell_type": "markdown",
   "id": "4844b603",
   "metadata": {},
   "source": [
    "추천하는 영화라기에는 예상 선호도가 낮긴하지만 15개 영화를 추천 받았다.  \n",
    "내가 평가한 어떤 영화가 이러한 추천을 하는데 기여했는지 알아보자.  \n",
    "AlternatingLeastSquares 클래스에 구현된 explain 메서드를 사용하면 내가 기록을 남긴 데이터 중 이 추천에 기여한 정도를 확인할 수 있다."
   ]
  },
  {
   "cell_type": "code",
   "execution_count": 30,
   "id": "052b31f2",
   "metadata": {},
   "outputs": [],
   "source": [
    "matrix = movie_to_idx['Matrix, The (1999)']\n",
    "explain = als_model.explain(user, csr_data, itemid = matrix)"
   ]
  },
  {
   "cell_type": "code",
   "execution_count": 31,
   "id": "70b42b85",
   "metadata": {},
   "outputs": [
    {
     "data": {
      "text/plain": [
       "[('Terminator 2: Judgment Day (1991)', 0.2777048609586838),\n",
       " ('Sixth Sense, The (1999)', 0.0944047438973886),\n",
       " ('Back to the Future (1985)', 0.04417907733217705),\n",
       " ('E.T. the Extra-Terrestrial (1982)', 0.011431467938676915),\n",
       " ('Ghostbusters (1984)', -0.004576746292281404)]"
      ]
     },
     "execution_count": 31,
     "metadata": {},
     "output_type": "execute_result"
    }
   ],
   "source": [
    "[(idx_to_movie[i[0]], i[1]) for i in explain[1]]"
   ]
  },
  {
   "cell_type": "markdown",
   "id": "75159882",
   "metadata": {},
   "source": [
    "## 4. 회고\n",
    "\n",
    "#### - 영화를 잘 몰라요..\n",
    "\n",
    "데이터셋에 포함된 영화들이 1990대 개봉된 영화가 많은 것 같은데 내가 잘 모르는 영화가 대부분이라 인기 많은 영화 중 제목을 들어본 영화를 나의 선호로 넣어주었다.  \n",
    "선호 영화가 좀 일관적이지 않았는지, 모델이 확실하게 높은 수치로 추천을 해주지 못한 것 같다.  \n",
    "또한 내가 잘 모르는 영화들이다 보니 추천해준 영화가 진짜 나의 취향에 맞는 것인지 판단을 못해 아쉽다.  \n",
    "다음에는 내가 흥미있는 주제와 관련된 데이터를 사용해보면 좋을 것 같다.  \n",
    "\n",
    "\n",
    "#### -  사람의 취향을 수학적으로 표현하기\n",
    "\n",
    "NLP 노드도 그렇고 이번 노드 같은 추천 시스템 등은 사람의 감정이나 선호 같은 무형의 것들을 벡터를 이용해 수학적으로 표현해야 한다.  \n",
    "앞으로 진짜 사람같은 인공지능을 만들기 위해서는 이 부분에 대한 이해가 필수적일 것 같은데 나에게는 아직은 조금 어렵다.  \n",
    "학문적으로 선형대수학을 공부할 때는 큰 어려움이 없었는데 현실에 존재하는 것들을 벡터로 옮기는 것은 또 다른 이야기 인 것 같다.  "
   ]
  }
 ],
 "metadata": {
  "kernelspec": {
   "display_name": "Python 3 (ipykernel)",
   "language": "python",
   "name": "python3"
  },
  "language_info": {
   "codemirror_mode": {
    "name": "ipython",
    "version": 3
   },
   "file_extension": ".py",
   "mimetype": "text/x-python",
   "name": "python",
   "nbconvert_exporter": "python",
   "pygments_lexer": "ipython3",
   "version": "3.9.7"
  }
 },
 "nbformat": 4,
 "nbformat_minor": 5
}
