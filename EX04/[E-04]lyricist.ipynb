{
 "cells": [
  {
   "cell_type": "markdown",
   "id": "ba419824",
   "metadata": {},
   "source": [
    "# Exploration04 - 작사가 인공지능 만들기\n",
    "\n",
    "텍스트를 분석하여 스스로 작문하는 인공지능을 만들어보자.\n",
    "\n",
    "---\n",
    "\n",
    "### 루브릭 평가 기준\n",
    "\n",
    "1. 모델의 정상 동작 - 텍스트 제너레이션 결과가 그럴듯한 문장으로 생성되나\n",
    "2. 데이터 전처리와 데이터셋 구성 과정의 진행 - 특수문자 제거, 토크나이저 생성, 패딩 처리 등의 과정이 빠짐 없이 진행되었나\n",
    "3. 모델의 안정적 학습 - 모델의 validation loss 가 2.2 이하로 낮아졌나\n",
    "\n",
    "---\n",
    "\n",
    "### 목차\n",
    "\n",
    "0) 필요 모듈 import\n",
    "\n",
    "\n",
    "1) 데이터\n",
    "  - 데이터 로드 및 확인\n",
    "  - 데이터 정제\n",
    "  - 토큰화 및 텐서 변환\n",
    "  - 데이터 분할\n",
    "   \n",
    "    \n",
    "2) 모델\n",
    "  - 모델 설계\n",
    "  - 학습\n",
    "\n",
    "\n",
    "3) 결과 확인\n",
    "    \n",
    "\n",
    "4) 데이터 중복 제거\n",
    "\n",
    "\n",
    "5) 회고\n"
   ]
  },
  {
   "cell_type": "markdown",
   "id": "ca62683f",
   "metadata": {},
   "source": [
    "## 0. 필요 모듈 import"
   ]
  },
  {
   "cell_type": "code",
   "execution_count": 1,
   "id": "2be09111",
   "metadata": {},
   "outputs": [],
   "source": [
    "import os\n",
    "import glob\n",
    "import re\n",
    "import tensorflow as tf\n",
    "import numpy as np\n",
    "import matplotlib.pyplot as plt\n",
    "\n",
    "from sklearn.model_selection import train_test_split"
   ]
  },
  {
   "cell_type": "markdown",
   "id": "576b6d54",
   "metadata": {},
   "source": [
    "## 1. 데이터\n",
    "\n",
    "텍스트 데이터를 분석하고 전처리한다."
   ]
  },
  {
   "cell_type": "markdown",
   "id": "c8a245fb",
   "metadata": {},
   "source": [
    "### - 데이터 로드 및 확인\n",
    "\n",
    "데이터를 로드하고 확인해보자."
   ]
  },
  {
   "cell_type": "code",
   "execution_count": 2,
   "id": "92fd6631",
   "metadata": {},
   "outputs": [
    {
     "name": "stdout",
     "output_type": "stream",
     "text": [
      "데이터 크기: 187088\n",
      "Examples:\n",
      " [\"Now I've heard there was a secret chord\", 'That David played, and it pleased the Lord', \"But you don't really care for music, do you?\"]\n"
     ]
    }
   ],
   "source": [
    "file_path = os.getcwd() + '/data/lyrics/*'\n",
    "\n",
    "txt_list = glob.glob(file_path)\n",
    "\n",
    "raw_corpus = []\n",
    "\n",
    "for txt_file in txt_list:\n",
    "    with open(txt_file, \"r\") as f:\n",
    "        raw = f.read().splitlines()\n",
    "        raw_corpus.extend(raw)\n",
    "\n",
    "print(\"데이터 크기:\", len(raw_corpus))\n",
    "print(\"Examples:\\n\", raw_corpus[:3])"
   ]
  },
  {
   "cell_type": "markdown",
   "id": "1f46d3d9",
   "metadata": {},
   "source": [
    "### - 데이터 정제\n",
    "\n",
    "정규표현식을 이용하여 불필요한 공백과 특수문자 등을 지우고 원하는 길이의 데이터만 남긴다."
   ]
  },
  {
   "cell_type": "code",
   "execution_count": 3,
   "id": "99aec461",
   "metadata": {},
   "outputs": [],
   "source": [
    "def preprocess_sentence(sentence):\n",
    "    sentence = sentence.lower().strip()\n",
    "    sentence = re.sub(r\"([?.!,¿])\", r\" \\1 \", sentence)\n",
    "    sentence = re.sub(r'[\" \"]+', \" \", sentence)\n",
    "    sentence = re.sub(r\"[^a-zA-Z?.!,¿]+\", \" \", sentence)\n",
    "    sentence = sentence.strip()\n",
    "    sentence = '<start> ' + sentence + ' <end>'\n",
    "    return sentence"
   ]
  },
  {
   "cell_type": "code",
   "execution_count": 4,
   "id": "9080a028",
   "metadata": {},
   "outputs": [
    {
     "data": {
      "text/plain": [
       "['<start> now i ve heard there was a secret chord <end>',\n",
       " '<start> that david played , and it pleased the lord <end>',\n",
       " '<start> but you don t really care for music , do you ? <end>']"
      ]
     },
     "execution_count": 4,
     "metadata": {},
     "output_type": "execute_result"
    }
   ],
   "source": [
    "corpus = []\n",
    "\n",
    "for sentence in raw_corpus:\n",
    "    # 빈 문장 삭제\n",
    "    if len(sentence) == 0:\n",
    "        continue\n",
    "    \n",
    "    preprocessed_sentence = preprocess_sentence(sentence)\n",
    "    \n",
    "    # <strat>와 <end> 토큰을 포함해 17개가 넘는 문장 삭제\n",
    "    if len(preprocessed_sentence.split(' ')) > 17:\n",
    "        continue\n",
    "        \n",
    "    corpus.append(preprocessed_sentence)\n",
    "\n",
    "\n",
    "corpus[:3]"
   ]
  },
  {
   "cell_type": "markdown",
   "id": "3b154242",
   "metadata": {},
   "source": [
    "지나치게 긴 문장들은 과도한 padding을 만든다.  \n",
    "이를 방지하기 위해 문장의 토큰의 개수가 15개를 넘어가는 문장을 제거하고자 한다.  \n",
    "\\<start\\>와 \\<end\\> 토큰을 포함해 17개가 넘는 문장을 삭제하였다.   \n",
    "\n",
    " \n",
    "정제를 거친 문장을 보면 불필요한 특수문자를 삭제하고 문장 부호와 단어 사이에 공백이 삽입되었음을 확인할 수 있다."
   ]
  },
  {
   "cell_type": "markdown",
   "id": "a0af3c01",
   "metadata": {},
   "source": [
    "### - 토큰화 및 텐서 변환\n",
    "\n",
    "문장들을 쪼개어 텐서로 변환시킨다."
   ]
  },
  {
   "cell_type": "code",
   "execution_count": 5,
   "id": "035f3dcb",
   "metadata": {},
   "outputs": [
    {
     "name": "stdout",
     "output_type": "stream",
     "text": [
      "[[   2   50    4 ...    0    0    0]\n",
      " [   2   15 2930 ...    0    0    0]\n",
      " [   2   32    7 ...    0    0    0]\n",
      " ...\n",
      " [   2  261  192 ...    0    0    0]\n",
      " [   2  132    4 ...   10 1070    3]\n",
      " [   2    7   34 ...    0    0    0]] <keras_preprocessing.text.Tokenizer object at 0x7fa2a9f99d30>\n"
     ]
    }
   ],
   "source": [
    "def tokenize(corpus):\n",
    "    # 15000 단어 사용\n",
    "    tokenizer = tf.keras.preprocessing.text.Tokenizer(\n",
    "        num_words=15000, \n",
    "        filters=' ',\n",
    "        oov_token=\"<unk>\"\n",
    "    )\n",
    "    \n",
    "    tokenizer.fit_on_texts(corpus)\n",
    "    \n",
    "    tensor = tokenizer.texts_to_sequences(corpus)   \n",
    "    \n",
    "    tensor = tf.keras.preprocessing.sequence.pad_sequences(tensor, padding='post')  \n",
    "    \n",
    "    print(tensor,tokenizer)\n",
    "    return tensor, tokenizer\n",
    "\n",
    "tensor, tokenizer = tokenize(corpus)"
   ]
  },
  {
   "cell_type": "markdown",
   "id": "946c1404",
   "metadata": {},
   "source": [
    "사전의 전체 단어는 15000개로 정하였다. 이에 속하지 않는 단어는 \\<unk\\>으로 대체한다.  \n",
    "corpus를 토큰화하고 텐서로 변환한다.  \n",
    "시퀀스의 길이를 일정하게 만들기 위해 padding을 넣어주는데, 'post' 옵션을 통해 문자열의 뒤에 패딩을 넣어준다.  \n",
    "\n",
    "\n",
    "tokenize( )함수를 통해 변환된 결과를 확인해보자."
   ]
  },
  {
   "cell_type": "code",
   "execution_count": 6,
   "id": "fa33ffa5",
   "metadata": {},
   "outputs": [
    {
     "name": "stdout",
     "output_type": "stream",
     "text": [
      "1 : <unk>\n",
      "2 : <start>\n",
      "3 : <end>\n",
      "4 : i\n",
      "5 : ,\n",
      "6 : the\n",
      "7 : you\n",
      "8 : and\n",
      "9 : a\n",
      "10 : to\n"
     ]
    }
   ],
   "source": [
    "for idx in tokenizer.index_word:\n",
    "    print(idx, \":\", tokenizer.index_word[idx])\n",
    "\n",
    "    if idx >= 10: break"
   ]
  },
  {
   "cell_type": "code",
   "execution_count": 7,
   "id": "8b933824",
   "metadata": {},
   "outputs": [
    {
     "name": "stdout",
     "output_type": "stream",
     "text": [
      "[   2   50    4   95  308   62   55    9  972 6004    3    0    0    0\n",
      "    0    0]\n",
      "[  50    4   95  308   62   55    9  972 6004    3    0    0    0    0\n",
      "    0    0]\n"
     ]
    },
    {
     "data": {
      "text/plain": [
       "(163714, 16)"
      ]
     },
     "execution_count": 7,
     "metadata": {},
     "output_type": "execute_result"
    }
   ],
   "source": [
    "src_input = tensor[:, :-1]\n",
    "tgt_input = tensor[:, 1:]\n",
    "\n",
    "print(src_input[0])\n",
    "print(tgt_input[0])\n",
    "src_input.shape"
   ]
  },
  {
   "cell_type": "markdown",
   "id": "5b577af8",
   "metadata": {},
   "source": [
    "src_input : 소스 문장 - tensor에서 마지막 토큰을 잘라내어 생성  \n",
    "tgt_input : 타켓 문장 - tensor에서 첫번째 토큰 \\<start\\>를 잘라내어 생성"
   ]
  },
  {
   "cell_type": "markdown",
   "id": "81c9b37d",
   "metadata": {},
   "source": [
    "### - 데이터 분할\n",
    "\n",
    "train data와 validation data를 나누어 학습에 사용한다."
   ]
  },
  {
   "cell_type": "code",
   "execution_count": 8,
   "id": "725c1b04",
   "metadata": {},
   "outputs": [
    {
     "name": "stdout",
     "output_type": "stream",
     "text": [
      "shape of source train set:  (130971, 16)\n",
      "shape of target train set:  (130971, 16)\n"
     ]
    }
   ],
   "source": [
    "enc_train, enc_val, dec_train, dec_val = train_test_split(src_input, tgt_input, test_size=0.2, random_state=10)\n",
    "\n",
    "print(\"shape of source train set: \", enc_train.shape)\n",
    "print(\"shape of target train set: \", dec_train.shape)"
   ]
  },
  {
   "cell_type": "code",
   "execution_count": 9,
   "id": "4d9b6001",
   "metadata": {},
   "outputs": [],
   "source": [
    "BUFFER_SIZE = len(src_input)\n",
    "BATCH_SIZE = 256\n",
    "steps_per_epoch = len(src_input) // BATCH_SIZE\n",
    "\n",
    "# tokenizer가 구축한 단어사전 15000개에 0:<pad>를 포함하여 15001개\n",
    "VOCAB_SIZE = tokenizer.num_words + 1   \n",
    "\n",
    "# training dataset\n",
    "dataset_train = tf.data.Dataset.from_tensor_slices((enc_train, dec_train))\n",
    "dataset_train = dataset_train.shuffle(BUFFER_SIZE)\n",
    "dataset_train = dataset_train.batch(BATCH_SIZE, drop_remainder=True)\n",
    "\n",
    "# validation dataset\n",
    "dataset_val = tf.data.Dataset.from_tensor_slices((enc_val, dec_val))\n",
    "dataset_val = dataset_val.shuffle(BUFFER_SIZE)\n",
    "dataset_val = dataset_val.batch(BATCH_SIZE, drop_remainder=True)"
   ]
  },
  {
   "cell_type": "markdown",
   "id": "c43ce1b9",
   "metadata": {},
   "source": [
    "## 2. 모델\n",
    "\n",
    "### - 모델 설계\n",
    "\n",
    "노드 학습 내용과 동일한 모델을 만들어 사용해보자."
   ]
  },
  {
   "cell_type": "code",
   "execution_count": 10,
   "id": "12a7ee22",
   "metadata": {},
   "outputs": [],
   "source": [
    "# model build\n",
    "\n",
    "class TextGenerator(tf.keras.Model):\n",
    "    def __init__(self, vocab_size, embedding_size, hidden_size):\n",
    "        super().__init__()\n",
    "        \n",
    "        self.embedding = tf.keras.layers.Embedding(vocab_size, embedding_size)\n",
    "        self.rnn_1 = tf.keras.layers.LSTM(hidden_size, return_sequences=True)\n",
    "        self.rnn_2 = tf.keras.layers.LSTM(hidden_size, return_sequences=True)\n",
    "        self.linear = tf.keras.layers.Dense(vocab_size)\n",
    "        \n",
    "    def call(self, x):\n",
    "        out = self.embedding(x)\n",
    "        out = self.rnn_1(out)\n",
    "        out = self.rnn_2(out)\n",
    "        out = self.linear(out)\n",
    "        \n",
    "        return out"
   ]
  },
  {
   "cell_type": "code",
   "execution_count": 11,
   "id": "d773097a",
   "metadata": {},
   "outputs": [],
   "source": [
    "# 하이퍼파라미터\n",
    "embedding_size = 512\n",
    "hidden_size = 2048\n",
    "\n",
    "model = TextGenerator(VOCAB_SIZE, embedding_size , hidden_size)"
   ]
  },
  {
   "cell_type": "markdown",
   "id": "9ffb8ed7",
   "metadata": {},
   "source": [
    "embedding_size : 워드 벡터의 차원수   \n",
    "hidden_size : hidden state의 차원수\n",
    "\n",
    "노드 학습에 사용했던 데이터에 비해 양도 많고 단어도 훨씬 다양할 것이라는 생각에 하이퍼파라미터를 각각 2배로 설정하였다."
   ]
  },
  {
   "cell_type": "code",
   "execution_count": 12,
   "id": "1ff93d93",
   "metadata": {},
   "outputs": [
    {
     "name": "stdout",
     "output_type": "stream",
     "text": [
      "Epoch 1/10\n",
      "511/511 [==============================] - 351s 646ms/step - loss: 3.0863 - val_loss: 2.6918\n",
      "Epoch 2/10\n",
      "511/511 [==============================] - 332s 650ms/step - loss: 2.5555 - val_loss: 2.4741\n",
      "Epoch 3/10\n",
      "511/511 [==============================] - 333s 652ms/step - loss: 2.2906 - val_loss: 2.3229\n",
      "Epoch 4/10\n",
      "511/511 [==============================] - 333s 651ms/step - loss: 2.0428 - val_loss: 2.2074\n",
      "Epoch 5/10\n",
      "511/511 [==============================] - 333s 652ms/step - loss: 1.8093 - val_loss: 2.1205\n",
      "Epoch 6/10\n",
      "511/511 [==============================] - 333s 651ms/step - loss: 1.5899 - val_loss: 2.0554\n",
      "Epoch 7/10\n",
      "511/511 [==============================] - 333s 652ms/step - loss: 1.3899 - val_loss: 2.0108\n",
      "Epoch 8/10\n",
      "511/511 [==============================] - 333s 653ms/step - loss: 1.2179 - val_loss: 1.9891\n",
      "Epoch 9/10\n",
      "511/511 [==============================] - 346s 677ms/step - loss: 1.0780 - val_loss: 1.9862\n",
      "Epoch 10/10\n",
      "511/511 [==============================] - 332s 650ms/step - loss: 0.9769 - val_loss: 2.0025\n"
     ]
    }
   ],
   "source": [
    "optimizer = tf.keras.optimizers.Adam()\n",
    "\n",
    "loss = tf.keras.losses.SparseCategoricalCrossentropy(\n",
    "    from_logits=True,\n",
    "    reduction='none'\n",
    ")\n",
    "\n",
    "model.compile(loss=loss, optimizer=optimizer)\n",
    "\n",
    "hist_1 = model.fit(dataset_train, epochs=10, validation_data=dataset_val)"
   ]
  },
  {
   "cell_type": "markdown",
   "id": "061c5f72",
   "metadata": {},
   "source": [
    "### * val_loss가 2.2 아래로 떨어졌으므로 루브릭 기준 달성!!   ( ๑˃̶ ꇴ ˂̶)♪⁺"
   ]
  },
  {
   "cell_type": "code",
   "execution_count": 13,
   "id": "2b1bba63",
   "metadata": {},
   "outputs": [
    {
     "data": {
      "image/png": "[encoded data removed]",
      "text/plain": [
       "<Figure size 432x288 with 1 Axes>"
      ]
     },
     "metadata": {},
     "output_type": "display_data"
    }
   ],
   "source": [
    "N = 10    # 각 epoch 마다의 결과를 보기 위해\n",
    "\n",
    "plt.style.use(\"ggplot\")\n",
    "plt.figure()\n",
    "plt.plot(np.arange(0, N), hist_1.history[\"loss\"], label=\"train_loss\")\n",
    "plt.plot(np.arange(0, N), hist_1.history[\"val_loss\"], label=\"val_loss\")\n",
    "plt.title(\"Loss\")\n",
    "plt.xlabel(\"Epoch #\")\n",
    "plt.ylabel(\"Loss\")\n",
    "plt.legend(loc=\"lower left\")\n",
    "\n",
    "plt.savefig('loss_1st.png')"
   ]
  },
  {
   "cell_type": "markdown",
   "id": "707f44ba",
   "metadata": {},
   "source": [
    "그래프로 확인 결과 val_loss가 더 줄어들지 않고 수렴했음을 알 수 있다."
   ]
  },
  {
   "cell_type": "markdown",
   "id": "b1b87ef1",
   "metadata": {},
   "source": [
    "## 3. 결과 확인\n",
    "\n",
    "학습된 모델이 작사를 잘 하는지 확인해보자."
   ]
  },
  {
   "cell_type": "code",
   "execution_count": 14,
   "id": "cb54a1fe",
   "metadata": {},
   "outputs": [],
   "source": [
    "def generate_text(model, tokenizer, init_sentence=\"<start>\", max_len=20):\n",
    "    # 테스트를 위해서 입력받은 init_sentence도 텐서로 변환\n",
    "    test_input = tokenizer.texts_to_sequences([init_sentence])\n",
    "    test_tensor = tf.convert_to_tensor(test_input, dtype=tf.int64)\n",
    "    end_token = tokenizer.word_index[\"<end>\"]\n",
    "\n",
    "    while True:\n",
    "        # 1\n",
    "        predict = model(test_tensor) \n",
    "        # 2\n",
    "        predict_word = tf.argmax(tf.nn.softmax(predict, axis=-1), axis=-1)[:, -1] \n",
    "        # 3 \n",
    "        test_tensor = tf.concat([test_tensor, tf.expand_dims(predict_word, axis=0)], axis=-1)\n",
    "        # 4\n",
    "        if predict_word.numpy()[0] == end_token: break\n",
    "        if test_tensor.shape[1] >= max_len: break\n",
    "\n",
    "    generated = \"\"\n",
    "    \n",
    "    for word_index in test_tensor[0].numpy():\n",
    "        generated += tokenizer.index_word[word_index] + \" \"\n",
    "\n",
    "    return generated"
   ]
  },
  {
   "cell_type": "markdown",
   "id": "d02ccb4b",
   "metadata": {},
   "source": [
    "- 입력 받은 init_sentence를 텐서로 변환\n",
    "- 반복문을 돌며 단어를 예측\n",
    "- 예측된 단어를 문장에 추가\n",
    "- 모델이 \\<end\\>를 예측하거나 max_len에 도달하면 종료"
   ]
  },
  {
   "cell_type": "code",
   "execution_count": 15,
   "id": "de1b264a",
   "metadata": {},
   "outputs": [
    {
     "data": {
      "text/plain": [
       "'<start> i m not living if you re not by my side <end> '"
      ]
     },
     "execution_count": 15,
     "metadata": {},
     "output_type": "execute_result"
    }
   ],
   "source": [
    "generate_text(model, tokenizer, init_sentence=\"<start> i\")"
   ]
  },
  {
   "cell_type": "code",
   "execution_count": 16,
   "id": "8de7f03d",
   "metadata": {},
   "outputs": [
    {
     "data": {
      "text/plain": [
       "'<start> i know you re wondering when <end> '"
      ]
     },
     "execution_count": 16,
     "metadata": {},
     "output_type": "execute_result"
    }
   ],
   "source": [
    "generate_text(model, tokenizer, init_sentence=\"<start> i know\")"
   ]
  },
  {
   "cell_type": "code",
   "execution_count": 17,
   "id": "0e0f0517",
   "metadata": {},
   "outputs": [
    {
     "data": {
      "text/plain": [
       "'<start> you re not easy to love , no <end> '"
      ]
     },
     "execution_count": 17,
     "metadata": {},
     "output_type": "execute_result"
    }
   ],
   "source": [
    "generate_text(model, tokenizer, init_sentence=\"<start> you\")"
   ]
  },
  {
   "cell_type": "code",
   "execution_count": 18,
   "id": "1598d00e",
   "metadata": {},
   "outputs": [
    {
     "data": {
      "text/plain": [
       "'<start> he is a loser , he s a bum , bum , bum <end> '"
      ]
     },
     "execution_count": 18,
     "metadata": {},
     "output_type": "execute_result"
    }
   ],
   "source": [
    "generate_text(model, tokenizer, init_sentence=\"<start> he is\")"
   ]
  },
  {
   "cell_type": "markdown",
   "id": "0e5f64c3",
   "metadata": {},
   "source": [
    "val_loss는 루브릭 기준을 달성하여 수치상으로는 꽤나 괜찮은 모델처럼 보인다.  \n",
    "하지만 누가봐도 기존의 노래가사와 완전히 동일한 문장을 만들어 내는 것으로 보아 표절 논란이 심각할 듯 하다.  \n",
    "수치상의 기준을 충족시키기 위해 하이퍼파라미터를 높인 결과 과적합이 된 것 같다.  \n",
    "중복 데이터를 제거하지 않았기 때문에 train data와 validation data의 유사성이 높아 발생한 문제인 것으로 판단된다. "
   ]
  },
  {
   "cell_type": "markdown",
   "id": "a1151dd6",
   "metadata": {},
   "source": [
    "## 4. 데이터 중복 제거\n",
    "\n",
    "kanye-west.txt 와 Kanye_West.txt, lil-wayne.txt와 Lil_Wayne.txt 처럼 제목과 내용이 거의 유사한 데이터나 노래의 후렴구 등 중복되는 데이터가 많이 존재한다.  \n",
    "이를 제거하고 학습을 진행한다면 어떤 결과가 나올까?  "
   ]
  },
  {
   "cell_type": "code",
   "execution_count": 19,
   "id": "bd74965e",
   "metadata": {},
   "outputs": [
    {
     "name": "stdout",
     "output_type": "stream",
     "text": [
      "118168\n"
     ]
    }
   ],
   "source": [
    "raw_corpus_set = set(raw_corpus)\n",
    "\n",
    "print(len(raw_corpus_set))"
   ]
  },
  {
   "cell_type": "code",
   "execution_count": 20,
   "id": "91b8dc29",
   "metadata": {},
   "outputs": [],
   "source": [
    "corpus = []\n",
    "\n",
    "for sentence in raw_corpus_set:\n",
    "    if len(sentence) == 0:\n",
    "        continue\n",
    "    \n",
    "    preprocessed_sentence = preprocess_sentence(sentence)\n",
    "    \n",
    "    if len(preprocessed_sentence.split(' ')) > 17:\n",
    "        continue\n",
    "        \n",
    "    corpus.append(preprocessed_sentence)"
   ]
  },
  {
   "cell_type": "code",
   "execution_count": 21,
   "id": "0ae13141",
   "metadata": {},
   "outputs": [
    {
     "name": "stdout",
     "output_type": "stream",
     "text": [
      "[[  2  28  76 ...   0   0   0]\n",
      " [  2   9 595 ...  21 192   3]\n",
      " [  2   8  44 ...   0   0   0]\n",
      " ...\n",
      " [  2 315  11 ...   0   0   0]\n",
      " [  2  43   1 ...   0   0   0]\n",
      " [  2   5  40 ...   0   0   0]] <keras_preprocessing.text.Tokenizer object at 0x7fa21deebaf0>\n"
     ]
    }
   ],
   "source": [
    "tensor, tokenizer = tokenize(corpus)"
   ]
  },
  {
   "cell_type": "code",
   "execution_count": 22,
   "id": "0cb8b358",
   "metadata": {},
   "outputs": [
    {
     "name": "stdout",
     "output_type": "stream",
     "text": [
      "[   2   28   76   19    6 1448    4    6 1335   50  300    4    3    0\n",
      "    0    0]\n",
      "[  28   76   19    6 1448    4    6 1335   50  300    4    3    0    0\n",
      "    0    0]\n"
     ]
    },
    {
     "data": {
      "text/plain": [
       "(108097, 16)"
      ]
     },
     "execution_count": 22,
     "metadata": {},
     "output_type": "execute_result"
    }
   ],
   "source": [
    "src_input = tensor[:, :-1]\n",
    "tgt_input = tensor[:, 1:]\n",
    "\n",
    "print(src_input[0])\n",
    "print(tgt_input[0])\n",
    "src_input.shape"
   ]
  },
  {
   "cell_type": "code",
   "execution_count": 23,
   "id": "28217111",
   "metadata": {},
   "outputs": [
    {
     "name": "stdout",
     "output_type": "stream",
     "text": [
      "shape of source train set:  (86477, 16)\n",
      "shape of target train set:  (86477, 16)\n"
     ]
    }
   ],
   "source": [
    "enc_train, enc_val, dec_train, dec_val = train_test_split(src_input, tgt_input, test_size=0.2, random_state=5)\n",
    "\n",
    "print(\"shape of source train set: \", enc_train.shape)\n",
    "print(\"shape of target train set: \", dec_train.shape)"
   ]
  },
  {
   "cell_type": "code",
   "execution_count": 24,
   "id": "50787313",
   "metadata": {},
   "outputs": [],
   "source": [
    "BUFFER_SIZE = len(src_input)\n",
    "BATCH_SIZE = 256\n",
    "steps_per_epoch = len(src_input) // BATCH_SIZE\n",
    "\n",
    "VOCAB_SIZE = tokenizer.num_words + 1   \n",
    "\n",
    "# training dataset\n",
    "dataset_train = tf.data.Dataset.from_tensor_slices((enc_train, dec_train))\n",
    "dataset_train = dataset_train.shuffle(BUFFER_SIZE)\n",
    "dataset_train = dataset_train.batch(BATCH_SIZE, drop_remainder=True)\n",
    "\n",
    "# validation dataset\n",
    "dataset_val = tf.data.Dataset.from_tensor_slices((enc_val, dec_val))\n",
    "dataset_val = dataset_val.shuffle(BUFFER_SIZE)\n",
    "dataset_val = dataset_val.batch(BATCH_SIZE, drop_remainder=True)"
   ]
  },
  {
   "cell_type": "code",
   "execution_count": 25,
   "id": "62b68284",
   "metadata": {},
   "outputs": [],
   "source": [
    "embedding_size = 512\n",
    "hidden_size = 2048\n",
    "\n",
    "model_2 = TextGenerator(VOCAB_SIZE, embedding_size , hidden_size)"
   ]
  },
  {
   "cell_type": "code",
   "execution_count": 26,
   "id": "41e5fe1a",
   "metadata": {},
   "outputs": [
    {
     "name": "stdout",
     "output_type": "stream",
     "text": [
      "Epoch 1/10\n",
      "337/337 [==============================] - 232s 637ms/step - loss: 3.7575 - val_loss: 3.2452\n",
      "Epoch 2/10\n",
      "337/337 [==============================] - 215s 639ms/step - loss: 3.1305 - val_loss: 3.0667\n",
      "Epoch 3/10\n",
      "337/337 [==============================] - 215s 639ms/step - loss: 2.9718 - val_loss: 2.9739\n",
      "Epoch 4/10\n",
      "337/337 [==============================] - 216s 640ms/step - loss: 2.8837 - val_loss: 2.9282\n",
      "Epoch 5/10\n",
      "337/337 [==============================] - 216s 641ms/step - loss: 2.8264 - val_loss: 2.8992\n",
      "Epoch 6/10\n",
      "337/337 [==============================] - 216s 641ms/step - loss: 2.7805 - val_loss: 2.8806\n",
      "Epoch 7/10\n",
      "337/337 [==============================] - 216s 641ms/step - loss: 2.7384 - val_loss: 2.8604\n",
      "Epoch 8/10\n",
      "337/337 [==============================] - 216s 641ms/step - loss: 2.6998 - val_loss: 2.8444\n",
      "Epoch 9/10\n",
      "337/337 [==============================] - 216s 640ms/step - loss: 2.6643 - val_loss: 2.8324\n",
      "Epoch 10/10\n",
      "337/337 [==============================] - 216s 641ms/step - loss: 2.6298 - val_loss: 2.8293\n"
     ]
    }
   ],
   "source": [
    "model_2.compile(loss=loss, optimizer=optimizer)\n",
    "\n",
    "hist_2 = model_2.fit(dataset_train, epochs=10, validation_data=dataset_val)"
   ]
  },
  {
   "cell_type": "markdown",
   "id": "2d28e046",
   "metadata": {},
   "source": [
    "### * val_loss는 루브릭 기준을 달성할 만큼 떨어지지 않았다.\n",
    "\n",
    "중복 데이터를 제거했기 때문에 train data와 validation data 사이에 유사성이 적어 이러한 결과가 나왔을 것이라 추측해본다."
   ]
  },
  {
   "cell_type": "code",
   "execution_count": 27,
   "id": "7b358dea",
   "metadata": {},
   "outputs": [
    {
     "data": {
      "image/png": "[encoded data removed]",
      "text/plain": [
       "<Figure size 432x288 with 1 Axes>"
      ]
     },
     "metadata": {},
     "output_type": "display_data"
    }
   ],
   "source": [
    "N = 10    # 각 epoch 마다의 결과를 보기 위해\n",
    "\n",
    "plt.style.use(\"ggplot\")\n",
    "plt.figure()\n",
    "plt.plot(np.arange(0, N), hist_2.history[\"loss\"], label=\"train_loss\")\n",
    "plt.plot(np.arange(0, N), hist_2.history[\"val_loss\"], label=\"val_loss\")\n",
    "plt.title(\"Loss\")\n",
    "plt.xlabel(\"Epoch #\")\n",
    "plt.ylabel(\"Loss\")\n",
    "plt.legend(loc=\"lower left\")\n",
    "\n",
    "plt.savefig('loss_2nd.png')"
   ]
  },
  {
   "cell_type": "markdown",
   "id": "c60f349a",
   "metadata": {},
   "source": [
    "그래프 상 val_loss가 어느정도 수렴한 것으로 보여 epoch을 늘린다고 결과가 크게 개선되지는 않을 것 같다.  \n",
    "\n",
    "\n",
    "두번째 모델의 작사 실력을 확인해보자."
   ]
  },
  {
   "cell_type": "code",
   "execution_count": 28,
   "id": "faae99e4",
   "metadata": {},
   "outputs": [
    {
     "data": {
      "text/plain": [
       "'<start> i m gonna be a way <end> '"
      ]
     },
     "execution_count": 28,
     "metadata": {},
     "output_type": "execute_result"
    }
   ],
   "source": [
    "generate_text(model_2, tokenizer, init_sentence=\"<start> i\")"
   ]
  },
  {
   "cell_type": "code",
   "execution_count": 29,
   "id": "8dba641f",
   "metadata": {},
   "outputs": [
    {
     "data": {
      "text/plain": [
       "'<start> i know i m gonna be <end> '"
      ]
     },
     "execution_count": 29,
     "metadata": {},
     "output_type": "execute_result"
    }
   ],
   "source": [
    "generate_text(model_2, tokenizer, init_sentence=\"<start> i know\")"
   ]
  },
  {
   "cell_type": "code",
   "execution_count": 30,
   "id": "f8881776",
   "metadata": {},
   "outputs": [
    {
     "data": {
      "text/plain": [
       "'<start> you re gonna be the same <end> '"
      ]
     },
     "execution_count": 30,
     "metadata": {},
     "output_type": "execute_result"
    }
   ],
   "source": [
    "generate_text(model_2, tokenizer, init_sentence=\"<start> you\")"
   ]
  },
  {
   "cell_type": "code",
   "execution_count": 31,
   "id": "84f55dd9",
   "metadata": {},
   "outputs": [
    {
     "data": {
      "text/plain": [
       "'<start> he is a little man <end> '"
      ]
     },
     "execution_count": 31,
     "metadata": {},
     "output_type": "execute_result"
    }
   ],
   "source": [
    "generate_text(model_2, tokenizer, init_sentence=\"<start> he is\")"
   ]
  },
  {
   "cell_type": "markdown",
   "id": "c0f8dc45",
   "metadata": {},
   "source": [
    "첫번째 모델보다는 표절 의혹이 줄어들 것 같다.  \n",
    "검색 결과 유사한 가사가 존재하긴 하지만 첫번째 모델처럼 데이터로 사용된 가사와 완전하게 동일한 문장을 내놓지는 않는다.  \n",
    "val_loss는 조금 높아 성능이 안좋은 것 처럼 보이지만 오히려 과적합이 되지 않은, 작사가라는 이름에 더 가까운 모델이 탄생한 것 같다."
   ]
  },
  {
   "cell_type": "markdown",
   "id": "5a2b36f6",
   "metadata": {},
   "source": [
    "## 회고\n",
    "\n",
    "#### - 자연어처리의 어려움 \n",
    "\n",
    "NLP 관련된 첫 노드라 그런지 많이 어려웠다. 결과 확인 후 어느 부분이 문제인지 눈에 보이지 않아 모델 개선을 위해 어느 부분을 수정해야 하는 것인지도 모르겠다.  \n",
    "val_loss가 루브릭 기준을 충족시키지 못해도 문장을 생성해보면 나름 그럴싸한 문장을 내뱉었기 때문에 중간에 너무 그만두고 싶었다.  \n",
    "분석하고자 하는 언어에 대한 지식도 필요하고 사람이 쓰는 말을 흉내내기 위해서는 많은 변수들을 고려해야 한다고 느꼈다.  \n",
    "\n",
    "#### - overfitting\n",
    "\n",
    "루브릭 기준 충족을 위해 val_loss를 낮추려고 embedding_size와 hidden_size를 키웠더니 첫번째 모델처럼 노래 가사를 그대로 출력하는 현상이 발생하였다. 2.2 이하라는 루브릭 기준을 맞추기는 했지만 창작을 하는 작사가라고는 할 수 없는 모델이다.  \n",
    "중간 과정에서 val_loss값이 기준을 충족하지 않아 버려진 모델들이 만든 문장이 더 작사에 가까웠다고 할 수 있겠다.  \n",
    "단지 수치만이 모델의 완성도를 나타내지는 않는다는 생각이 들었다.   \n",
    "\n",
    "#### - 단어를 15000 개로 잡은 이유  \n",
    "처음에 단어의 수를 12000개로 설정 후 토큰화를 하고 학습을 진행하였는데 작문된 문장에서 \\<unk\\>이 너무 많이 등장했다. 단어의 개수가 부족하여 이러한 결과가 나왔다는 생각에 토큰화할 단어의 개수를 더 늘려주었다."
   ]
  }
 ],
 "metadata": {
  "kernelspec": {
   "display_name": "Python 3 (ipykernel)",
   "language": "python",
   "name": "python3"
  },
  "language_info": {
   "codemirror_mode": {
    "name": "ipython",
    "version": 3
   },
   "file_extension": ".py",
   "mimetype": "text/x-python",
   "name": "python",
   "nbconvert_exporter": "python",
   "pygments_lexer": "ipython3",
   "version": "3.9.7"
  }
 },
 "nbformat": 4,
 "nbformat_minor": 5
}
