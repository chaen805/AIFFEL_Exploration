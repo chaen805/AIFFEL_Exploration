{
 "cells": [
  {
   "cell_type": "markdown",
   "id": "4e16b5c2",
   "metadata": {},
   "source": [
    "# Exploration08 - 뉴스 요약봇 만들기\n",
    "\n",
    "뉴스 기사에 대해서 텍스트 요약을 진행하여 헤드라인을 만들어 보자.\n",
    "\n",
    "---\n",
    "\n",
    "### 텍스트 요약이란?\n",
    "\n",
    "긴 길이의 문서 원본을 핵심 주제만으로 구성된 짧은 요약 문장들로 변환하는 것.  \n",
    "요약 문장을 만드는 방법은 크게 2가지\n",
    "\n",
    "\n",
    "#### - 추출적 요약  \n",
    "  원문에서 문장들을 추출해서 요약하는 방식, 문장 분류 문제    \n",
    "  결과로 나온 문장들 간의 호응이 자연스럽지 않을 수 있음  \n",
    "  전통적인 머신러닝 방식인 텍스트 랭크와 같은 알고리즘을 사용  \n",
    "  \n",
    "  \n",
    "#### - 추상적 요약\n",
    "  원문의 내용이 요약된 새로운 문장을 생성, 자연어 생성의 영역  \n",
    "  어텐션 메커니즘 사용으로 긴 문장도 학습할 수 있음\n",
    "\n",
    "---\n",
    "\n",
    "### 루브릭 평가 기준\n",
    "\n",
    "1. Abstractive 모델 구성을 위한 텍스트 전처리 - 분석 단계, 정제 단계, 정규화와 불용어 제거, 데이터셋 분리, 인코딩 과정이 빠짐없이 진행되었나\n",
    "2. 텍스트 요약 모델의 성공적인 학습 - 모델 학습이 안정적으로 수렴되었음을 그래프를 통해 확인하였으며, 실제 요약과 유사한 요약 문장을 얻을 수 있나\n",
    "3. Extractive 요약을 시도해보고 abstractive 요약과 비교 - 두 요약 결과를 문법완성도 측면과 핵심단어 포함 측면으로 나누어 결과를 제시하였나\n",
    "\n",
    "---\n",
    "\n",
    "### 목차\n",
    "\n",
    "0) 필요 모듈 import\n",
    "\n",
    "\n",
    "1) 데이터 로드 및 전처리\n",
    "  - 데이터 준비\n",
    "  - 데이터 전처리\n",
    "    \n",
    "\n",
    "2) 모델 설계 및 훈련\n",
    "  - 모델 설계\n",
    "  - 어텐션 메커니즘\n",
    "  - 모델 훈련\n",
    "\n",
    "\n",
    "3) 모델 테스트\n",
    "  - 인퍼런스 모델 구현\n",
    "  - 추상적 요약\n",
    "    \n",
    "\n",
    "4) 추출적 요약\n",
    "\n",
    "\n",
    "5) 회고"
   ]
  },
  {
   "cell_type": "markdown",
   "id": "f56b215b",
   "metadata": {},
   "source": [
    "## 0. 필요 모듈 import"
   ]
  },
  {
   "cell_type": "code",
   "execution_count": 1,
   "id": "338827ad",
   "metadata": {},
   "outputs": [
    {
     "name": "stderr",
     "output_type": "stream",
     "text": [
      "[nltk_data] Downloading package stopwords to /aiffel/nltk_data...\n",
      "[nltk_data]   Package stopwords is already up-to-date!\n"
     ]
    }
   ],
   "source": [
    "import nltk\n",
    "nltk.download('stopwords')\n",
    "\n",
    "import numpy as np\n",
    "import pandas as pd\n",
    "import os\n",
    "import re\n",
    "import matplotlib.pyplot as plt\n",
    "\n",
    "from nltk.corpus import stopwords\n",
    "from bs4 import BeautifulSoup \n",
    "from tensorflow.keras.preprocessing.text import Tokenizer \n",
    "from tensorflow.keras.preprocessing.sequence import pad_sequences\n",
    "import urllib.request\n",
    "\n",
    "import warnings\n",
    "warnings.filterwarnings(\"ignore\", category=UserWarning, module='bs4')\n",
    "\n",
    "# 모델 설계 필요 모듈\n",
    "from tensorflow.keras.layers import Input, LSTM, Embedding, Dense, Concatenate, TimeDistributed\n",
    "from tensorflow.keras.models import Model\n",
    "from tensorflow.keras.callbacks import EarlyStopping, ModelCheckpoint\n",
    "\n",
    "# 어텐션 함수\n",
    "from tensorflow.keras.layers import AdditiveAttention\n",
    "\n",
    "# 추출적 요약을 위한 모듈\n",
    "from summa.summarizer import summarize"
   ]
  },
  {
   "cell_type": "markdown",
   "id": "44295dc5",
   "metadata": {},
   "source": [
    "## 1. 데이터 로드 및 전처리"
   ]
  },
  {
   "cell_type": "markdown",
   "id": "0003969a",
   "metadata": {},
   "source": [
    "### - 데이터 준비\n",
    "\n",
    "뉴스 내용과 이를 요약한 헤드라인이 담긴 데이터를 [여기](https://github.com/sunnysai12345/News_Summary)에서 다운로드 받는다."
   ]
  },
  {
   "cell_type": "code",
   "execution_count": 2,
   "id": "ef4f0eab",
   "metadata": {},
   "outputs": [],
   "source": [
    "urllib.request.urlretrieve(\"https://raw.githubusercontent.com/sunnysai12345/News_Summary/master/news_summary_more.csv\", filename=\"./data/news_summary_more.csv\")\n",
    "data = pd.read_csv('./data/news_summary_more.csv', encoding='iso-8859-1')"
   ]
  },
  {
   "cell_type": "code",
   "execution_count": 3,
   "id": "aa218ab0",
   "metadata": {},
   "outputs": [
    {
     "data": {
      "text/html": [
       "<div>\n",
       "<style scoped>\n",
       "    .dataframe tbody tr th:only-of-type {\n",
       "        vertical-align: middle;\n",
       "    }\n",
       "\n",
       "    .dataframe tbody tr th {\n",
       "        vertical-align: top;\n",
       "    }\n",
       "\n",
       "    .dataframe thead th {\n",
       "        text-align: right;\n",
       "    }\n",
       "</style>\n",
       "<table border=\"1\" class=\"dataframe\">\n",
       "  <thead>\n",
       "    <tr style=\"text-align: right;\">\n",
       "      <th></th>\n",
       "      <th>headlines</th>\n",
       "      <th>text</th>\n",
       "    </tr>\n",
       "  </thead>\n",
       "  <tbody>\n",
       "    <tr>\n",
       "      <th>98099</th>\n",
       "      <td>BBC interview kid Marion eats lollipop at pres...</td>\n",
       "      <td>Professor Robert Kelly's daughter Marion, who ...</td>\n",
       "    </tr>\n",
       "    <tr>\n",
       "      <th>38560</th>\n",
       "      <td>Official poster of Akshay Kumar starrer 'Gold'...</td>\n",
       "      <td>The official poster of Akshay Kumar starrer 'G...</td>\n",
       "    </tr>\n",
       "    <tr>\n",
       "      <th>34495</th>\n",
       "      <td>Air India ceiling &amp; window panels break off am...</td>\n",
       "      <td>Three passengers were injured and the inner pa...</td>\n",
       "    </tr>\n",
       "    <tr>\n",
       "      <th>68112</th>\n",
       "      <td>900 dengue cases reported in 1 week in Delhi</td>\n",
       "      <td>Around 900 cases of dengue were reported in th...</td>\n",
       "    </tr>\n",
       "    <tr>\n",
       "      <th>85882</th>\n",
       "      <td>216-kg ice cream sculpture displayed at Crimea...</td>\n",
       "      <td>Crimea's Sevastopol city hosted the first ever...</td>\n",
       "    </tr>\n",
       "    <tr>\n",
       "      <th>65128</th>\n",
       "      <td>Environment important, but so are traditions: ...</td>\n",
       "      <td>Madhya Pradesh Chief Minister Shivraj Singh Ch...</td>\n",
       "    </tr>\n",
       "    <tr>\n",
       "      <th>7130</th>\n",
       "      <td>Ukraine Parliament votes to end Friendship Tre...</td>\n",
       "      <td>The Ukrainian Parliament on Thursday approved ...</td>\n",
       "    </tr>\n",
       "    <tr>\n",
       "      <th>89029</th>\n",
       "      <td>UP CM Yogi to remain an MP till Presidential p...</td>\n",
       "      <td>BJP Chief Ministers Yogi Adityanath and Manoha...</td>\n",
       "    </tr>\n",
       "    <tr>\n",
       "      <th>46880</th>\n",
       "      <td>India has lowest 4G LTE speed in the world at ...</td>\n",
       "      <td>India has recorded the lowest 4G LTE speed in ...</td>\n",
       "    </tr>\n",
       "    <tr>\n",
       "      <th>29620</th>\n",
       "      <td>Cong denies sanctioning of TN Sterlite project...</td>\n",
       "      <td>The Congress on Thursday denied that the expan...</td>\n",
       "    </tr>\n",
       "  </tbody>\n",
       "</table>\n",
       "</div>"
      ],
      "text/plain": [
       "                                               headlines  \\\n",
       "98099  BBC interview kid Marion eats lollipop at pres...   \n",
       "38560  Official poster of Akshay Kumar starrer 'Gold'...   \n",
       "34495  Air India ceiling & window panels break off am...   \n",
       "68112       900 dengue cases reported in 1 week in Delhi   \n",
       "85882  216-kg ice cream sculpture displayed at Crimea...   \n",
       "65128  Environment important, but so are traditions: ...   \n",
       "7130   Ukraine Parliament votes to end Friendship Tre...   \n",
       "89029  UP CM Yogi to remain an MP till Presidential p...   \n",
       "46880  India has lowest 4G LTE speed in the world at ...   \n",
       "29620  Cong denies sanctioning of TN Sterlite project...   \n",
       "\n",
       "                                                    text  \n",
       "98099  Professor Robert Kelly's daughter Marion, who ...  \n",
       "38560  The official poster of Akshay Kumar starrer 'G...  \n",
       "34495  Three passengers were injured and the inner pa...  \n",
       "68112  Around 900 cases of dengue were reported in th...  \n",
       "85882  Crimea's Sevastopol city hosted the first ever...  \n",
       "65128  Madhya Pradesh Chief Minister Shivraj Singh Ch...  \n",
       "7130   The Ukrainian Parliament on Thursday approved ...  \n",
       "89029  BJP Chief Ministers Yogi Adityanath and Manoha...  \n",
       "46880  India has recorded the lowest 4G LTE speed in ...  \n",
       "29620  The Congress on Thursday denied that the expan...  "
      ]
     },
     "execution_count": 3,
     "metadata": {},
     "output_type": "execute_result"
    }
   ],
   "source": [
    "data.sample(10)"
   ]
  },
  {
   "cell_type": "markdown",
   "id": "b0d449f2",
   "metadata": {},
   "source": [
    "### - 데이터 전처리 : 데이터 정리\n",
    "> 텍스트를 정제하고, 중복되는 샘플과 NULL 값이 존재하는 샘플은 정리를 해준다."
   ]
  },
  {
   "cell_type": "code",
   "execution_count": 4,
   "id": "f098160d",
   "metadata": {},
   "outputs": [
    {
     "name": "stdout",
     "output_type": "stream",
     "text": [
      "text 열에서 중복을 배제한 유일한 샘플의 수 : 98360\n",
      "headlines 열에서 중복을 배제한 유일한 샘플의 수 : 98280\n"
     ]
    }
   ],
   "source": [
    "print('text 열에서 중복을 배제한 유일한 샘플의 수 :', data['text'].nunique())\n",
    "print('headlines 열에서 중복을 배제한 유일한 샘플의 수 :', data['headlines'].nunique())"
   ]
  },
  {
   "cell_type": "markdown",
   "id": "85373b20",
   "metadata": {},
   "source": [
    "요약에 해당하는 headlines은 동일할 수 있어도 본문 내용인 text는 동일하면 중복 데이터이므로 제거해준다."
   ]
  },
  {
   "cell_type": "code",
   "execution_count": 5,
   "id": "b98df1bf",
   "metadata": {},
   "outputs": [
    {
     "name": "stdout",
     "output_type": "stream",
     "text": [
      "전체 샘플수 : 98360\n"
     ]
    }
   ],
   "source": [
    "# 중복샘플 데이터 제거\n",
    "data.drop_duplicates(subset = ['text'], inplace=True)\n",
    "print('전체 샘플수 :', (len(data)))"
   ]
  },
  {
   "cell_type": "markdown",
   "id": "389a0a1c",
   "metadata": {},
   "source": [
    "증복을 제거한 뒤 NULL 값이 있는지 확인하고 있다면 제거해준다."
   ]
  },
  {
   "cell_type": "code",
   "execution_count": 6,
   "id": "8507e3d4",
   "metadata": {},
   "outputs": [
    {
     "name": "stdout",
     "output_type": "stream",
     "text": [
      "headlines    0\n",
      "text         0\n",
      "dtype: int64\n"
     ]
    }
   ],
   "source": [
    "# 데이터 프레임에 NULL값 있는지 확인\n",
    "print(data.isnull().sum()) "
   ]
  },
  {
   "cell_type": "markdown",
   "id": "24e64dc1",
   "metadata": {},
   "source": [
    "I am 과 I'm 처럼 의미는 동일하지만 다르게 쓰인 축약형을 텍스트 정규화를 거쳐 하나로 통일해 준다.  \n",
    "[정규화 사전](https://stackoverflow.com/questions/19790188/expanding-english-language-contractions-in-python)은 링크를 참고했다."
   ]
  },
  {
   "cell_type": "code",
   "execution_count": 7,
   "id": "5069dee0",
   "metadata": {},
   "outputs": [
    {
     "name": "stdout",
     "output_type": "stream",
     "text": [
      "정규화 사전의 수:  120\n"
     ]
    }
   ],
   "source": [
    "contractions = {\"ain't\": \"is not\", \"aren't\": \"are not\",\"can't\": \"cannot\", \"'cause\": \"because\", \"could've\": \"could have\", \"couldn't\": \"could not\",\n",
    "                           \"didn't\": \"did not\",  \"doesn't\": \"does not\", \"don't\": \"do not\", \"hadn't\": \"had not\", \"hasn't\": \"has not\", \"haven't\": \"have not\",\n",
    "                           \"he'd\": \"he would\",\"he'll\": \"he will\", \"he's\": \"he is\", \"how'd\": \"how did\", \"how'd'y\": \"how do you\", \"how'll\": \"how will\", \"how's\": \"how is\",\n",
    "                           \"I'd\": \"I would\", \"I'd've\": \"I would have\", \"I'll\": \"I will\", \"I'll've\": \"I will have\",\"I'm\": \"I am\", \"I've\": \"I have\", \"i'd\": \"i would\",\n",
    "                           \"i'd've\": \"i would have\", \"i'll\": \"i will\",  \"i'll've\": \"i will have\",\"i'm\": \"i am\", \"i've\": \"i have\", \"isn't\": \"is not\", \"it'd\": \"it would\",\n",
    "                           \"it'd've\": \"it would have\", \"it'll\": \"it will\", \"it'll've\": \"it will have\",\"it's\": \"it is\", \"let's\": \"let us\", \"ma'am\": \"madam\",\n",
    "                           \"mayn't\": \"may not\", \"might've\": \"might have\",\"mightn't\": \"might not\",\"mightn't've\": \"might not have\", \"must've\": \"must have\",\n",
    "                           \"mustn't\": \"must not\", \"mustn't've\": \"must not have\", \"needn't\": \"need not\", \"needn't've\": \"need not have\",\"o'clock\": \"of the clock\",\n",
    "                           \"oughtn't\": \"ought not\", \"oughtn't've\": \"ought not have\", \"shan't\": \"shall not\", \"sha'n't\": \"shall not\", \"shan't've\": \"shall not have\",\n",
    "                           \"she'd\": \"she would\", \"she'd've\": \"she would have\", \"she'll\": \"she will\", \"she'll've\": \"she will have\", \"she's\": \"she is\",\n",
    "                           \"should've\": \"should have\", \"shouldn't\": \"should not\", \"shouldn't've\": \"should not have\", \"so've\": \"so have\",\"so's\": \"so as\",\n",
    "                           \"this's\": \"this is\",\"that'd\": \"that would\", \"that'd've\": \"that would have\", \"that's\": \"that is\", \"there'd\": \"there would\",\n",
    "                           \"there'd've\": \"there would have\", \"there's\": \"there is\", \"here's\": \"here is\",\"they'd\": \"they would\", \"they'd've\": \"they would have\",\n",
    "                           \"they'll\": \"they will\", \"they'll've\": \"they will have\", \"they're\": \"they are\", \"they've\": \"they have\", \"to've\": \"to have\",\n",
    "                           \"wasn't\": \"was not\", \"we'd\": \"we would\", \"we'd've\": \"we would have\", \"we'll\": \"we will\", \"we'll've\": \"we will have\", \"we're\": \"we are\",\n",
    "                           \"we've\": \"we have\", \"weren't\": \"were not\", \"what'll\": \"what will\", \"what'll've\": \"what will have\", \"what're\": \"what are\",\n",
    "                           \"what's\": \"what is\", \"what've\": \"what have\", \"when's\": \"when is\", \"when've\": \"when have\", \"where'd\": \"where did\", \"where's\": \"where is\",\n",
    "                           \"where've\": \"where have\", \"who'll\": \"who will\", \"who'll've\": \"who will have\", \"who's\": \"who is\", \"who've\": \"who have\",\n",
    "                           \"why's\": \"why is\", \"why've\": \"why have\", \"will've\": \"will have\", \"won't\": \"will not\", \"won't've\": \"will not have\",\n",
    "                           \"would've\": \"would have\", \"wouldn't\": \"would not\", \"wouldn't've\": \"would not have\", \"y'all\": \"you all\",\n",
    "                           \"y'all'd\": \"you all would\",\"y'all'd've\": \"you all would have\",\"y'all're\": \"you all are\",\"y'all've\": \"you all have\",\n",
    "                           \"you'd\": \"you would\", \"you'd've\": \"you would have\", \"you'll\": \"you will\", \"you'll've\": \"you will have\",\n",
    "                           \"you're\": \"you are\", \"you've\": \"you have\"}\n",
    "\n",
    "print(\"정규화 사전의 수: \", len(contractions))"
   ]
  },
  {
   "cell_type": "markdown",
   "id": "38431aac",
   "metadata": {},
   "source": [
    "NLTK에서 제공하는 불용어 리스트(179개)를 참고해 불용어를 제거한다.   \n",
    "\n",
    "* 불용어  \n",
    "  텍스트에는 자주 등장하지만 자연어 처리를 할 때 실질적으로 도움이 되지 않는 단어들"
   ]
  },
  {
   "cell_type": "code",
   "execution_count": 8,
   "id": "545e24a6",
   "metadata": {},
   "outputs": [
    {
     "name": "stdout",
     "output_type": "stream",
     "text": [
      "불용어 개수 : 179\n",
      "['i', 'me', 'my', 'myself', 'we', 'our', 'ours', 'ourselves', 'you', \"you're\", \"you've\", \"you'll\", \"you'd\", 'your', 'yours', 'yourself', 'yourselves', 'he', 'him', 'his', 'himself', 'she', \"she's\", 'her', 'hers', 'herself', 'it', \"it's\", 'its', 'itself', 'they', 'them', 'their', 'theirs', 'themselves', 'what', 'which', 'who', 'whom', 'this', 'that', \"that'll\", 'these', 'those', 'am', 'is', 'are', 'was', 'were', 'be', 'been', 'being', 'have', 'has', 'had', 'having', 'do', 'does', 'did', 'doing', 'a', 'an', 'the', 'and', 'but', 'if', 'or', 'because', 'as', 'until', 'while', 'of', 'at', 'by', 'for', 'with', 'about', 'against', 'between', 'into', 'through', 'during', 'before', 'after', 'above', 'below', 'to', 'from', 'up', 'down', 'in', 'out', 'on', 'off', 'over', 'under', 'again', 'further', 'then', 'once', 'here', 'there', 'when', 'where', 'why', 'how', 'all', 'any', 'both', 'each', 'few', 'more', 'most', 'other', 'some', 'such', 'no', 'nor', 'not', 'only', 'own', 'same', 'so', 'than', 'too', 'very', 's', 't', 'can', 'will', 'just', 'don', \"don't\", 'should', \"should've\", 'now', 'd', 'll', 'm', 'o', 're', 've', 'y', 'ain', 'aren', \"aren't\", 'couldn', \"couldn't\", 'didn', \"didn't\", 'doesn', \"doesn't\", 'hadn', \"hadn't\", 'hasn', \"hasn't\", 'haven', \"haven't\", 'isn', \"isn't\", 'ma', 'mightn', \"mightn't\", 'mustn', \"mustn't\", 'needn', \"needn't\", 'shan', \"shan't\", 'shouldn', \"shouldn't\", 'wasn', \"wasn't\", 'weren', \"weren't\", 'won', \"won't\", 'wouldn', \"wouldn't\"]\n"
     ]
    }
   ],
   "source": [
    "print('불용어 개수 :', len(stopwords.words('english') ))\n",
    "print(stopwords.words('english'))"
   ]
  },
  {
   "cell_type": "markdown",
   "id": "116f38a1",
   "metadata": {},
   "source": [
    "불용어 제거, 축약형 정규화 등 전처리 과정을 함수로 만들어 처리한다.  \n",
    "텍스트 분석을 위해 text열의 데이터에서는 불용어를 제거하지만, 요약 결과에 해당하는 headlines 열에는 남아있는 것이 더 자연스러워 보이므로 제거하지 않겠다."
   ]
  },
  {
   "cell_type": "code",
   "execution_count": 9,
   "id": "47514252",
   "metadata": {},
   "outputs": [],
   "source": [
    "# 데이터 전처리 함수\n",
    "def preprocess_sentence(sentence, remove_stopwords=True):\n",
    "    sentence = sentence.lower() # 텍스트 소문자화\n",
    "    sentence = BeautifulSoup(sentence, \"lxml\").text # <br />, <a href = ...> 등의 html 태그 제거\n",
    "    sentence = re.sub(r'\\([^)]*\\)', '', sentence) # 괄호로 닫힌 문자열 (...) 제거 Ex) my husband (and myself!) for => my husband for\n",
    "    sentence = re.sub('\"','', sentence) # 쌍따옴표 \" 제거\n",
    "    sentence = ' '.join([contractions[t] if t in contractions else t for t in sentence.split(\" \")]) # 약어 정규화\n",
    "    sentence = re.sub(r\"'s\\b\",\"\", sentence) # 소유격 제거. Ex) roland's -> roland\n",
    "    sentence = re.sub(\"[^a-zA-Z]\", \" \", sentence) # 영어 외 문자(숫자, 특수문자 등) 공백으로 변환\n",
    "    sentence = re.sub('[m]{2,}', 'mm', sentence) # m이 3개 이상이면 2개로 변경. Ex) ummmmmmm yeah -> umm yeah\n",
    "    \n",
    "    # 불용어 제거 (text)\n",
    "    if remove_stopwords:\n",
    "        tokens = ' '.join(word for word in sentence.split() if not word in stopwords.words('english') if len(word) > 1)\n",
    "    # 불용어 미제거 (headline)\n",
    "    else:\n",
    "        tokens = ' '.join(word for word in sentence.split() if len(word) > 1)\n",
    "    return tokens"
   ]
  },
  {
   "cell_type": "code",
   "execution_count": 10,
   "id": "07d5535a",
   "metadata": {},
   "outputs": [
    {
     "data": {
      "text/plain": [
       "['saurav kant alumnus upgrad iiit pg program machine learning artificial intelligence sr systems engineer infosys almost years work experience program upgrad degree career support helped transition data scientist tech mahindra salary hike upgrad online power learning powered lakh careers',\n",
       " 'kunal shah credit card bill payment platform cred gave users chance win free food swiggy one year pranav kaushik delhi techie bagged reward spending cred coins users get one cred coin per rupee bill paid used avail rewards brands like ixigo bookmyshow ubereats cult fit',\n",
       " 'new zealand defeated india wickets fourth odi hamilton thursday win first match five match odi series india lost international match rohit sharma captaincy consecutive victories dating back march match witnessed india getting seventh lowest total odi cricket history',\n",
       " 'aegon life iterm insurance plan customers enjoy tax benefits premiums paid save taxes plan provides life cover age years also customers options insure critical illnesses disability accidental death benefit rider life cover age years',\n",
       " 'speaking sexual harassment allegations rajkumar hirani sonam kapoor said known hirani many years true metoo movement get derailed metoo movement always believe woman case need reserve judgment added hirani accused assistant worked sanju']"
      ]
     },
     "execution_count": 10,
     "metadata": {},
     "output_type": "execute_result"
    }
   ],
   "source": [
    "clean_text = []\n",
    "\n",
    "for s in data['text']:\n",
    "    clean_text.append(preprocess_sentence(s))\n",
    "\n",
    "clean_text[:5]"
   ]
  },
  {
   "cell_type": "markdown",
   "id": "1c987dbf",
   "metadata": {},
   "source": [
    " headlines에 대해서 전처리 함수를 호출, 불용어 제거를 수행하지 않으므로 두번째 인자는 False로 한다."
   ]
  },
  {
   "cell_type": "code",
   "execution_count": 11,
   "id": "780905a8",
   "metadata": {},
   "outputs": [
    {
     "data": {
      "text/plain": [
       "['upgrad learner switches to career in ml al with salary hike',\n",
       " 'delhi techie wins free food from swiggy for one year on cred',\n",
       " 'new zealand end rohit sharma led india match winning streak',\n",
       " 'aegon life iterm insurance plan helps customers save tax',\n",
       " 'have known hirani for yrs what if metoo claims are not true sonam']"
      ]
     },
     "execution_count": 11,
     "metadata": {},
     "output_type": "execute_result"
    }
   ],
   "source": [
    "clean_headlines = []\n",
    " \n",
    "for s in data['headlines']:\n",
    "    clean_headlines.append(preprocess_sentence(s, False))\n",
    "\n",
    "clean_headlines[:5]"
   ]
  },
  {
   "cell_type": "markdown",
   "id": "a399a2b9",
   "metadata": {},
   "source": [
    "정제 과정을 거친 텍스트를 다시 데이터 프레임에 넣어준다. "
   ]
  },
  {
   "cell_type": "code",
   "execution_count": 12,
   "id": "be028d97",
   "metadata": {},
   "outputs": [],
   "source": [
    "data['text'] = clean_text\n",
    "data['headlines'] = clean_headlines\n",
    "\n",
    "# 빈 값을 Null 값으로 변환\n",
    "data.replace('', np.nan, inplace=True) # 빈 값을 가진 샘플들은 모두 Null 값으로 대체"
   ]
  },
  {
   "cell_type": "markdown",
   "id": "8253c9cc",
   "metadata": {},
   "source": [
    "전처리 후 빈 데이터가 생겼는지 다시 확인한 후 NULL 값이 존재한다면 제거해준다."
   ]
  },
  {
   "cell_type": "code",
   "execution_count": 13,
   "id": "41d696a3",
   "metadata": {},
   "outputs": [
    {
     "data": {
      "text/plain": [
       "headlines    0\n",
       "text         0\n",
       "dtype: int64"
      ]
     },
     "execution_count": 13,
     "metadata": {},
     "output_type": "execute_result"
    }
   ],
   "source": [
    "data.isnull().sum()"
   ]
  },
  {
   "cell_type": "code",
   "execution_count": 14,
   "id": "859bb31a",
   "metadata": {},
   "outputs": [
    {
     "name": "stdout",
     "output_type": "stream",
     "text": [
      "전체 샘플수 : 98360\n"
     ]
    }
   ],
   "source": [
    "data.dropna(axis=0, inplace=True)\n",
    "print('전체 샘플수 :', (len(data)))"
   ]
  },
  {
   "cell_type": "markdown",
   "id": "995f7225",
   "metadata": {},
   "source": [
    "### - 데이터 전처리 : 데이터 나누기\n",
    "\n",
    "> 데이터의 크기를 결정하고 문장의 시작과 끝을 표시한 후 훈련 데이터와 테스트 데이터를 나눈다."
   ]
  },
  {
   "cell_type": "markdown",
   "id": "92f5558d",
   "metadata": {},
   "source": [
    "훈련에 사용할 샘플의 최대 길이를 정해준다.  \n",
    "데이터의 전체적인 길이 분포를 시각화 하여 분석하고 적절한 길이를 임의로 정한다."
   ]
  },
  {
   "cell_type": "code",
   "execution_count": 15,
   "id": "932ee99b",
   "metadata": {},
   "outputs": [
    {
     "name": "stdout",
     "output_type": "stream",
     "text": [
      "텍스트의 최소 길이 : 1\n",
      "텍스트의 최대 길이 : 60\n",
      "텍스트의 평균 길이 : 35.09968483123221\n",
      "헤드라인의 최소 길이 : 1\n",
      "헤드라인의 최대 길이 : 16\n",
      "헤드라인의 평균 길이 : 9.299532330215534\n"
     ]
    },
    {
     "data": {
      "image/png": "[encoded data removed]",
      "text/plain": [
       "<Figure size 432x288 with 2 Axes>"
      ]
     },
     "metadata": {
      "needs_background": "light"
     },
     "output_type": "display_data"
    },
    {
     "data": {
      "image/png": "[encoded data removed]",
      "text/plain": [
       "<Figure size 432x288 with 1 Axes>"
      ]
     },
     "metadata": {
      "needs_background": "light"
     },
     "output_type": "display_data"
    },
    {
     "data": {
      "image/png": "[encoded data removed]",
      "text/plain": [
       "<Figure size 432x288 with 1 Axes>"
      ]
     },
     "metadata": {
      "needs_background": "light"
     },
     "output_type": "display_data"
    }
   ],
   "source": [
    "# 길이 분포 출력\n",
    "text_len = [len(s.split()) for s in data['text']]\n",
    "summary_len = [len(s.split()) for s in data['headlines']]\n",
    "\n",
    "print('텍스트의 최소 길이 : {}'.format(np.min(text_len)))\n",
    "print('텍스트의 최대 길이 : {}'.format(np.max(text_len)))\n",
    "print('텍스트의 평균 길이 : {}'.format(np.mean(text_len)))\n",
    "print('헤드라인의 최소 길이 : {}'.format(np.min(summary_len)))\n",
    "print('헤드라인의 최대 길이 : {}'.format(np.max(summary_len)))\n",
    "print('헤드라인의 평균 길이 : {}'.format(np.mean(summary_len)))\n",
    "\n",
    "plt.subplot(1,2,1)\n",
    "plt.boxplot(text_len)\n",
    "plt.title('text')\n",
    "plt.subplot(1,2,2)\n",
    "plt.boxplot(summary_len)\n",
    "plt.title('headlines')\n",
    "plt.tight_layout()\n",
    "plt.show()\n",
    "\n",
    "plt.title('text')\n",
    "plt.hist(text_len, bins = 40)\n",
    "plt.xlabel('length of samples')\n",
    "plt.ylabel('number of samples')\n",
    "plt.show()\n",
    "\n",
    "plt.title('headlines')\n",
    "plt.hist(summary_len, bins = 40)\n",
    "plt.xlabel('length of samples')\n",
    "plt.ylabel('number of samples')\n",
    "plt.show()"
   ]
  },
  {
   "cell_type": "markdown",
   "id": "9bcf0ace",
   "metadata": {},
   "source": [
    "text 데이터의 경우 길이 제한을 42로,  \n",
    "headlines 데이터는 길이 제한을 12로 하면 대부분의 데이터를 포함하면서 이상치를 제거할 수 있다고 판단하였다."
   ]
  },
  {
   "cell_type": "code",
   "execution_count": 16,
   "id": "39935230",
   "metadata": {},
   "outputs": [],
   "source": [
    "text_max_len = 43\n",
    "headlines_max_len = 12"
   ]
  },
  {
   "cell_type": "markdown",
   "id": "1f40bb27",
   "metadata": {},
   "source": [
    "전체 데이터에서 길이 최대 길이 이내인 데이터가 얼마나 되는지 확인해본다."
   ]
  },
  {
   "cell_type": "code",
   "execution_count": 17,
   "id": "1a04367b",
   "metadata": {},
   "outputs": [],
   "source": [
    "# 데이터의 몇 %에 해당하는지 계산하는 함수\n",
    "def below_threshold_len(max_len, nested_list):\n",
    "    cnt = 0\n",
    "    for s in nested_list:\n",
    "        if(len(s.split()) <= max_len):\n",
    "            cnt = cnt + 1\n",
    "    print('전체 샘플 중 길이가 %s 이하인 샘플의 비율: %s'%(max_len, (cnt / len(nested_list))))"
   ]
  },
  {
   "cell_type": "code",
   "execution_count": 18,
   "id": "a83fa280",
   "metadata": {},
   "outputs": [
    {
     "name": "stdout",
     "output_type": "stream",
     "text": [
      "전체 샘플 중 길이가 43 이하인 샘플의 비율: 0.9871797478649857\n",
      "전체 샘플 중 길이가 12 이하인 샘플의 비율: 0.9880337535583571\n"
     ]
    }
   ],
   "source": [
    "below_threshold_len(text_max_len, data['text'])\n",
    "below_threshold_len(headlines_max_len,  data['headlines'])"
   ]
  },
  {
   "cell_type": "markdown",
   "id": "1b01a8d1",
   "metadata": {},
   "source": [
    "약 98%의 데이터가 포함된다.  \n",
    "이보다 긴 데이터들은 모두 제거해준다."
   ]
  },
  {
   "cell_type": "code",
   "execution_count": 19,
   "id": "eef1d94e",
   "metadata": {},
   "outputs": [
    {
     "name": "stdout",
     "output_type": "stream",
     "text": [
      "전체 샘플수 : 95935\n"
     ]
    }
   ],
   "source": [
    "data = data[data['text'].apply(lambda x: len(x.split()) <= text_max_len)]\n",
    "data = data[data['headlines'].apply(lambda x: len(x.split()) <= headlines_max_len)]\n",
    "print('전체 샘플수 :', (len(data)))"
   ]
  },
  {
   "cell_type": "markdown",
   "id": "0cda0f78",
   "metadata": {},
   "source": [
    "디코더는 시작 토큰을 입력 받아 문장을 생성하기 시작하고 종료 토큰을 예측한 순간 문장 생성을 멈추므로,  \n",
    "seq2seq 훈련을 위해서는 디코더의 입력과 레이블(headlines)에 시작 토큰과 종료 토큰을 추가해야 한다.  \n",
    "시작 토큰을 sostoken, 종료 토큰을 eostoken으로 하여 문장의 앞뒤에 추가한다."
   ]
  },
  {
   "cell_type": "code",
   "execution_count": 20,
   "id": "0a2087c2",
   "metadata": {},
   "outputs": [
    {
     "data": {
      "text/html": [
       "<div>\n",
       "<style scoped>\n",
       "    .dataframe tbody tr th:only-of-type {\n",
       "        vertical-align: middle;\n",
       "    }\n",
       "\n",
       "    .dataframe tbody tr th {\n",
       "        vertical-align: top;\n",
       "    }\n",
       "\n",
       "    .dataframe thead th {\n",
       "        text-align: right;\n",
       "    }\n",
       "</style>\n",
       "<table border=\"1\" class=\"dataframe\">\n",
       "  <thead>\n",
       "    <tr style=\"text-align: right;\">\n",
       "      <th></th>\n",
       "      <th>headlines</th>\n",
       "      <th>text</th>\n",
       "      <th>decoder_input</th>\n",
       "      <th>decoder_target</th>\n",
       "    </tr>\n",
       "  </thead>\n",
       "  <tbody>\n",
       "    <tr>\n",
       "      <th>0</th>\n",
       "      <td>upgrad learner switches to career in ml al wit...</td>\n",
       "      <td>saurav kant alumnus upgrad iiit pg program mac...</td>\n",
       "      <td>sostoken upgrad learner switches to career in ...</td>\n",
       "      <td>upgrad learner switches to career in ml al wit...</td>\n",
       "    </tr>\n",
       "    <tr>\n",
       "      <th>2</th>\n",
       "      <td>new zealand end rohit sharma led india match w...</td>\n",
       "      <td>new zealand defeated india wickets fourth odi ...</td>\n",
       "      <td>sostoken new zealand end rohit sharma led indi...</td>\n",
       "      <td>new zealand end rohit sharma led india match w...</td>\n",
       "    </tr>\n",
       "    <tr>\n",
       "      <th>3</th>\n",
       "      <td>aegon life iterm insurance plan helps customer...</td>\n",
       "      <td>aegon life iterm insurance plan customers enjo...</td>\n",
       "      <td>sostoken aegon life iterm insurance plan helps...</td>\n",
       "      <td>aegon life iterm insurance plan helps customer...</td>\n",
       "    </tr>\n",
       "    <tr>\n",
       "      <th>5</th>\n",
       "      <td>rahat fateh ali khan denies getting notice for...</td>\n",
       "      <td>pakistani singer rahat fateh ali khan denied r...</td>\n",
       "      <td>sostoken rahat fateh ali khan denies getting n...</td>\n",
       "      <td>rahat fateh ali khan denies getting notice for...</td>\n",
       "    </tr>\n",
       "    <tr>\n",
       "      <th>6</th>\n",
       "      <td>india get all out for their lowest odi total i...</td>\n",
       "      <td>india recorded lowest odi total new zealand ge...</td>\n",
       "      <td>sostoken india get all out for their lowest od...</td>\n",
       "      <td>india get all out for their lowest odi total i...</td>\n",
       "    </tr>\n",
       "  </tbody>\n",
       "</table>\n",
       "</div>"
      ],
      "text/plain": [
       "                                           headlines  \\\n",
       "0  upgrad learner switches to career in ml al wit...   \n",
       "2  new zealand end rohit sharma led india match w...   \n",
       "3  aegon life iterm insurance plan helps customer...   \n",
       "5  rahat fateh ali khan denies getting notice for...   \n",
       "6  india get all out for their lowest odi total i...   \n",
       "\n",
       "                                                text  \\\n",
       "0  saurav kant alumnus upgrad iiit pg program mac...   \n",
       "2  new zealand defeated india wickets fourth odi ...   \n",
       "3  aegon life iterm insurance plan customers enjo...   \n",
       "5  pakistani singer rahat fateh ali khan denied r...   \n",
       "6  india recorded lowest odi total new zealand ge...   \n",
       "\n",
       "                                       decoder_input  \\\n",
       "0  sostoken upgrad learner switches to career in ...   \n",
       "2  sostoken new zealand end rohit sharma led indi...   \n",
       "3  sostoken aegon life iterm insurance plan helps...   \n",
       "5  sostoken rahat fateh ali khan denies getting n...   \n",
       "6  sostoken india get all out for their lowest od...   \n",
       "\n",
       "                                      decoder_target  \n",
       "0  upgrad learner switches to career in ml al wit...  \n",
       "2  new zealand end rohit sharma led india match w...  \n",
       "3  aegon life iterm insurance plan helps customer...  \n",
       "5  rahat fateh ali khan denies getting notice for...  \n",
       "6  india get all out for their lowest odi total i...  "
      ]
     },
     "execution_count": 20,
     "metadata": {},
     "output_type": "execute_result"
    }
   ],
   "source": [
    "# 요약 데이터에는 시작 토큰과 종료 토큰을 추가한다.\n",
    "data['decoder_input'] = data['headlines'].apply(lambda x : 'sostoken '+ x)\n",
    "data['decoder_target'] = data['headlines'].apply(lambda x : x + ' eostoken')\n",
    "data.head()"
   ]
  },
  {
   "cell_type": "code",
   "execution_count": 21,
   "id": "684b1005",
   "metadata": {},
   "outputs": [],
   "source": [
    "# 인코더의 입력, 디코더의 입력과 레이블을 넘파이 타입으로 저장\n",
    "\n",
    "encoder_input = np.array(data['text']) # 인코더의 입력\n",
    "decoder_input = np.array(data['decoder_input']) # 디코더의 입력\n",
    "decoder_target = np.array(data['decoder_target']) # 디코더의 레이블"
   ]
  },
  {
   "cell_type": "markdown",
   "id": "90f17b32",
   "metadata": {},
   "source": [
    "훈련 데이터와 테스트 데이터를 분리하기 위해 데이터의 순서를 랜덤으로 섞어준다."
   ]
  },
  {
   "cell_type": "code",
   "execution_count": 22,
   "id": "db7e3a1a",
   "metadata": {},
   "outputs": [],
   "source": [
    "indices = np.arange(encoder_input.shape[0])\n",
    "np.random.shuffle(indices)\n",
    "\n",
    "encoder_input = encoder_input[indices]\n",
    "decoder_input = decoder_input[indices]\n",
    "decoder_target = decoder_target[indices]"
   ]
  },
  {
   "cell_type": "markdown",
   "id": "f5c697e6",
   "metadata": {},
   "source": [
    "섞인 데이터를 8:2의 비율로 분리하기 위해 테스트 데이터의 크기를 정의한다."
   ]
  },
  {
   "cell_type": "code",
   "execution_count": 23,
   "id": "240738fe",
   "metadata": {},
   "outputs": [
    {
     "name": "stdout",
     "output_type": "stream",
     "text": [
      "테스트 데이터의 수 : 19187\n"
     ]
    }
   ],
   "source": [
    "n_of_val = int(len(encoder_input)*0.2)\n",
    "print('테스트 데이터의 수 :', n_of_val)"
   ]
  },
  {
   "cell_type": "markdown",
   "id": "b31a6c01",
   "metadata": {},
   "source": [
    "전체 데이터를 훈련 데이터와 테스트 데이터로 나누어준다."
   ]
  },
  {
   "cell_type": "code",
   "execution_count": 24,
   "id": "57b67fb7",
   "metadata": {},
   "outputs": [
    {
     "name": "stdout",
     "output_type": "stream",
     "text": [
      "훈련 데이터의 개수 : 76748\n",
      "훈련 레이블의 개수 : 76748\n",
      "테스트 데이터의 개수 : 19187\n",
      "테스트 레이블의 개수 : 19187\n"
     ]
    }
   ],
   "source": [
    "encoder_input_train = encoder_input[:-n_of_val]\n",
    "decoder_input_train = decoder_input[:-n_of_val]\n",
    "decoder_target_train = decoder_target[:-n_of_val]\n",
    "\n",
    "encoder_input_test = encoder_input[-n_of_val:]\n",
    "decoder_input_test = decoder_input[-n_of_val:]\n",
    "decoder_target_test = decoder_target[-n_of_val:]\n",
    "\n",
    "print('훈련 데이터의 개수 :', len(encoder_input_train))\n",
    "print('훈련 레이블의 개수 :', len(decoder_input_train))\n",
    "print('테스트 데이터의 개수 :', len(encoder_input_test))\n",
    "print('테스트 레이블의 개수 :', len(decoder_input_test))"
   ]
  },
  {
   "cell_type": "markdown",
   "id": "e291cccd",
   "metadata": {},
   "source": [
    "### - 데이터 전처리 : 정수 인코딩\n",
    "\n",
    "> 단어 사전을 정의하고 정수 인코딩을 수행한다."
   ]
  },
  {
   "cell_type": "markdown",
   "id": "d39e4462",
   "metadata": {},
   "source": [
    "Keras의 토크나이저를 이용하여 훈련 데이터로부터 단어 집합을 생성한다."
   ]
  },
  {
   "cell_type": "code",
   "execution_count": 25,
   "id": "43f90408",
   "metadata": {},
   "outputs": [],
   "source": [
    "src_tokenizer = Tokenizer() # 토크나이저 정의\n",
    "src_tokenizer.fit_on_texts(encoder_input_train) # 입력된 데이터로부터 단어 집합 생성"
   ]
  },
  {
   "cell_type": "markdown",
   "id": "4a233009",
   "metadata": {},
   "source": [
    "이 때, 빈도수가 적은 단어는 제거를 하고 훈련을 진행하고자 한다.  \n",
    "빈도수가 6회 미만인 단어들이 데이터에서 얼마나 있는지 확인해보자."
   ]
  },
  {
   "cell_type": "code",
   "execution_count": 26,
   "id": "4073ecd6",
   "metadata": {},
   "outputs": [
    {
     "name": "stdout",
     "output_type": "stream",
     "text": [
      "단어 집합(vocabulary)의 크기 : 68582\n",
      "등장 빈도가 5번 이하인 희귀 단어의 수: 44886\n",
      "단어 집합에서 희귀 단어를 제외시킬 경우의 단어 집합의 크기 23696\n",
      "단어 집합에서 희귀 단어의 비율: 65.44865999825026\n",
      "전체 등장 빈도에서 희귀 단어 등장 빈도 비율: 3.1238814081230304\n"
     ]
    }
   ],
   "source": [
    "# 빈도수가 적은 단어 제거\n",
    "threshold = 6  # 빈도수\n",
    "total_cnt = len(src_tokenizer.word_index) # 단어의 수\n",
    "rare_cnt = 0 # 등장 빈도수가 threshold보다 작은 단어의 개수를 카운트\n",
    "total_freq = 0 # 훈련 데이터의 전체 단어 빈도수 총 합\n",
    "rare_freq = 0 # 등장 빈도수가 threshold보다 작은 단어의 등장 빈도수의 총 합\n",
    "\n",
    "# 단어와 빈도수의 쌍(pair)을 key와 value로 받는다.\n",
    "for key, value in src_tokenizer.word_counts.items():\n",
    "    total_freq = total_freq + value\n",
    "\n",
    "    # 단어의 등장 빈도수가 threshold보다 작으면\n",
    "    if(value < threshold):\n",
    "        rare_cnt = rare_cnt + 1\n",
    "        rare_freq = rare_freq + value\n",
    "\n",
    "print('단어 집합(vocabulary)의 크기 :', total_cnt)\n",
    "print('등장 빈도가 %s번 이하인 희귀 단어의 수: %s'%(threshold - 1, rare_cnt))\n",
    "print('단어 집합에서 희귀 단어를 제외시킬 경우의 단어 집합의 크기 %s'%(total_cnt - rare_cnt))\n",
    "print(\"단어 집합에서 희귀 단어의 비율:\", (rare_cnt / total_cnt)*100)\n",
    "print(\"전체 등장 빈도에서 희귀 단어 등장 빈도 비율:\", (rare_freq / total_freq)*100)"
   ]
  },
  {
   "cell_type": "markdown",
   "id": "e3e329b2",
   "metadata": {},
   "source": [
    "text 데이터의 전체 단어 집합에서 약 65.5%가 희귀 단어에 해당한다.  \n",
    "하지만 등장하는 빈도로는 약 3.1% 밖에 되지 않으므로 이를 훈련시 제거하고자 한다.  \n",
    "희귀 단어를 제외시킨 단어의 개수가 23,696이므로 이와 비슷하게 단어 사전의 크기를 20,000개로 제한한다."
   ]
  },
  {
   "cell_type": "code",
   "execution_count": 27,
   "id": "86ac1354",
   "metadata": {},
   "outputs": [],
   "source": [
    "src_vocab = 20000\n",
    "src_tokenizer = Tokenizer(num_words=src_vocab) # 단어 집합의 크기를 20,000으로 제한\n",
    "src_tokenizer.fit_on_texts(encoder_input_train) # 단어 집합 재생성"
   ]
  },
  {
   "cell_type": "code",
   "execution_count": 28,
   "id": "614a684d",
   "metadata": {},
   "outputs": [
    {
     "data": {
      "text/plain": [
       "[[12,\n",
       "  1742,\n",
       "  38,\n",
       "  5,\n",
       "  1034,\n",
       "  22,\n",
       "  1045,\n",
       "  889,\n",
       "  163,\n",
       "  9150,\n",
       "  183,\n",
       "  211,\n",
       "  246,\n",
       "  2725,\n",
       "  38,\n",
       "  1,\n",
       "  1011,\n",
       "  163,\n",
       "  1,\n",
       "  1465,\n",
       "  24,\n",
       "  269,\n",
       "  186,\n",
       "  189],\n",
       " [7536,\n",
       "  38,\n",
       "  2550,\n",
       "  104,\n",
       "  147,\n",
       "  38,\n",
       "  5334,\n",
       "  9910,\n",
       "  698,\n",
       "  26,\n",
       "  58,\n",
       "  50,\n",
       "  9,\n",
       "  42,\n",
       "  784,\n",
       "  86,\n",
       "  141,\n",
       "  1438,\n",
       "  503,\n",
       "  269,\n",
       "  19183,\n",
       "  11,\n",
       "  203,\n",
       "  2954,\n",
       "  1011,\n",
       "  50,\n",
       "  30],\n",
       " [84,\n",
       "  22,\n",
       "  9151,\n",
       "  1565,\n",
       "  19184,\n",
       "  1174,\n",
       "  1193,\n",
       "  8377,\n",
       "  4696,\n",
       "  1475,\n",
       "  34,\n",
       "  231,\n",
       "  1150,\n",
       "  4210,\n",
       "  43,\n",
       "  80,\n",
       "  1174,\n",
       "  1193,\n",
       "  11369,\n",
       "  1843,\n",
       "  5661,\n",
       "  12380,\n",
       "  14039,\n",
       "  1831,\n",
       "  3300,\n",
       "  3494,\n",
       "  2114,\n",
       "  3777,\n",
       "  1843,\n",
       "  4445,\n",
       "  1524,\n",
       "  879,\n",
       "  905,\n",
       "  15775,\n",
       "  2968]]"
      ]
     },
     "execution_count": 28,
     "metadata": {},
     "output_type": "execute_result"
    }
   ],
   "source": [
    "# 텍스트 시퀀스를 정수 시퀀스로 변환\n",
    "encoder_input_train = src_tokenizer.texts_to_sequences(encoder_input_train) \n",
    "encoder_input_test = src_tokenizer.texts_to_sequences(encoder_input_test)\n",
    "\n",
    "# 샘플 확인\n",
    "encoder_input_train[:3]"
   ]
  },
  {
   "cell_type": "markdown",
   "id": "a356213f",
   "metadata": {},
   "source": [
    "headlines 데이터에 대해서도 동일한 과정을 수행한다."
   ]
  },
  {
   "cell_type": "code",
   "execution_count": 29,
   "id": "f1d7965c",
   "metadata": {},
   "outputs": [],
   "source": [
    "tar_tokenizer = Tokenizer()\n",
    "tar_tokenizer.fit_on_texts(decoder_input_train)"
   ]
  },
  {
   "cell_type": "code",
   "execution_count": 30,
   "id": "97aebde7",
   "metadata": {},
   "outputs": [
    {
     "name": "stdout",
     "output_type": "stream",
     "text": [
      "단어 집합(vocabulary)의 크기 : 29753\n",
      "등장 빈도가 4번 이하인 희귀 단어의 수: 18309\n",
      "단어 집합에서 희귀 단어를 제외시킬 경우의 단어 집합의 크기 11444\n",
      "단어 집합에서 희귀 단어의 비율: 61.53665176620845\n",
      "전체 등장 빈도에서 희귀 단어 등장 빈도 비율: 4.014693638900011\n"
     ]
    }
   ],
   "source": [
    "threshold = 5\n",
    "total_cnt = len(tar_tokenizer.word_index) # 단어의 수\n",
    "rare_cnt = 0 # 등장 빈도수가 threshold보다 작은 단어의 개수를 카운트\n",
    "total_freq = 0 # 훈련 데이터의 전체 단어 빈도수 총 합\n",
    "rare_freq = 0 # 등장 빈도수가 threshold보다 작은 단어의 등장 빈도수의 총 합\n",
    "\n",
    "# 단어와 빈도수의 쌍(pair)을 key와 value로 받는다.\n",
    "for key, value in tar_tokenizer.word_counts.items():\n",
    "    total_freq = total_freq + value\n",
    "\n",
    "    # 단어의 등장 빈도수가 threshold보다 작으면\n",
    "    if(value < threshold):\n",
    "        rare_cnt = rare_cnt + 1\n",
    "        rare_freq = rare_freq + value\n",
    "\n",
    "print('단어 집합(vocabulary)의 크기 :', total_cnt)\n",
    "print('등장 빈도가 %s번 이하인 희귀 단어의 수: %s'%(threshold - 1, rare_cnt))\n",
    "print('단어 집합에서 희귀 단어를 제외시킬 경우의 단어 집합의 크기 %s'%(total_cnt - rare_cnt))\n",
    "print(\"단어 집합에서 희귀 단어의 비율:\", (rare_cnt / total_cnt)*100)\n",
    "print(\"전체 등장 빈도에서 희귀 단어 등장 빈도 비율:\", (rare_freq / total_freq)*100)"
   ]
  },
  {
   "cell_type": "markdown",
   "id": "f2356239",
   "metadata": {},
   "source": [
    "headlines 데이터의 전체 단어 집합에서 약 61.5%가 희귀 단어에 해당한다.  \n",
    "하지만 등장하는 빈도로는 약 4% 밖에 되지 않으므로 이를 제거한다.  \n",
    "희귀 단어를 제외시킨 단어의 개수가 18,309이므로 이와 비슷하게 단어 사전의 크기를 15,000개로 제한한다."
   ]
  },
  {
   "cell_type": "code",
   "execution_count": 31,
   "id": "1a6effb1",
   "metadata": {},
   "outputs": [
    {
     "name": "stdout",
     "output_type": "stream",
     "text": [
      "input\n",
      "input  [[1, 30, 791, 20, 4, 14, 515, 5, 59, 5, 643, 115], [1, 20, 4462, 117, 11446, 755, 4213, 99, 389, 4, 27], [1, 134, 4746, 3340, 6, 1987, 1218, 4, 26, 4214], [1, 118, 265, 153, 48, 1452, 406, 7, 4463, 5343, 364], [1, 144, 7137, 6, 6750, 42, 78, 545, 4582, 655]]\n",
      "target\n",
      "decoder  [[30, 791, 20, 4, 14, 515, 5, 59, 5, 643, 115, 2], [20, 4462, 117, 11446, 755, 4213, 99, 389, 4, 27, 2], [134, 4746, 3340, 6, 1987, 1218, 4, 26, 4214, 2], [118, 265, 153, 48, 1452, 406, 7, 4463, 5343, 364, 2], [144, 7137, 6, 6750, 42, 78, 545, 4582, 655, 2]]\n"
     ]
    }
   ],
   "source": [
    "tar_vocab = 15000\n",
    "tar_tokenizer = Tokenizer(num_words=tar_vocab) \n",
    "tar_tokenizer.fit_on_texts(decoder_input_train)\n",
    "tar_tokenizer.fit_on_texts(decoder_target_train)\n",
    "\n",
    "# 텍스트 시퀀스를 정수 시퀀스로 변환\n",
    "decoder_input_train = tar_tokenizer.texts_to_sequences(decoder_input_train) \n",
    "decoder_target_train = tar_tokenizer.texts_to_sequences(decoder_target_train)\n",
    "decoder_input_test = tar_tokenizer.texts_to_sequences(decoder_input_test)\n",
    "decoder_target_test = tar_tokenizer.texts_to_sequences(decoder_target_test)\n",
    "\n",
    "# 잘 변환되었는지 확인\n",
    "print('input')\n",
    "print('input ',decoder_input_train[:5])\n",
    "print('target')\n",
    "print('decoder ',decoder_target_train[:5])"
   ]
  },
  {
   "cell_type": "markdown",
   "id": "56f179d6",
   "metadata": {},
   "source": [
    "희귀 단어 삭제 후 빈 샘플이 된 것은 없는지 확인하고 있다면 삭제해준다.   \n",
    "decoder_input에는 sostoken, decoder_target에는 eostoken만 남아있는 샘플은 요약문이 존재하지 않는다.  "
   ]
  },
  {
   "cell_type": "code",
   "execution_count": 32,
   "id": "f443d995",
   "metadata": {},
   "outputs": [
    {
     "name": "stdout",
     "output_type": "stream",
     "text": [
      "삭제할 훈련 데이터의 개수 : 0\n",
      "삭제할 테스트 데이터의 개수 : 0\n",
      "훈련 데이터의 개수 : 76748\n",
      "훈련 레이블의 개수 : 76748\n",
      "테스트 데이터의 개수 : 19187\n",
      "테스트 레이블의 개수 : 19187\n"
     ]
    }
   ],
   "source": [
    "drop_train = [index for index, sentence in enumerate(decoder_input_train) if len(sentence) == 1]\n",
    "drop_test = [index for index, sentence in enumerate(decoder_input_test) if len(sentence) == 1]\n",
    "\n",
    "print('삭제할 훈련 데이터의 개수 :', len(drop_train))\n",
    "print('삭제할 테스트 데이터의 개수 :', len(drop_test))\n",
    "\n",
    "encoder_input_train = [sentence for index, sentence in enumerate(encoder_input_train) if index not in drop_train]\n",
    "decoder_input_train = [sentence for index, sentence in enumerate(decoder_input_train) if index not in drop_train]\n",
    "decoder_target_train = [sentence for index, sentence in enumerate(decoder_target_train) if index not in drop_train]\n",
    "\n",
    "encoder_input_test = [sentence for index, sentence in enumerate(encoder_input_test) if index not in drop_test]\n",
    "decoder_input_test = [sentence for index, sentence in enumerate(decoder_input_test) if index not in drop_test]\n",
    "decoder_target_test = [sentence for index, sentence in enumerate(decoder_target_test) if index not in drop_test]\n",
    "\n",
    "print('훈련 데이터의 개수 :', len(encoder_input_train))\n",
    "print('훈련 레이블의 개수 :', len(decoder_input_train))\n",
    "print('테스트 데이터의 개수 :', len(encoder_input_test))\n",
    "print('테스트 레이블의 개수 :', len(decoder_input_test))"
   ]
  },
  {
   "cell_type": "markdown",
   "id": "79673b75",
   "metadata": {},
   "source": [
    "길이가 서로 다른 샘플들을 같은 길이로 맞춰준다.  \n",
    "앞서 정한 최대 길이보다 짧은 문장은 뒤에 0을 붙여 패딩한다."
   ]
  },
  {
   "cell_type": "code",
   "execution_count": 33,
   "id": "1e3da08c",
   "metadata": {},
   "outputs": [],
   "source": [
    "# 패딩하기\n",
    "encoder_input_train = pad_sequences(encoder_input_train, maxlen=text_max_len, padding='post')\n",
    "encoder_input_test = pad_sequences(encoder_input_test, maxlen=text_max_len, padding='post')\n",
    "decoder_input_train = pad_sequences(decoder_input_train, maxlen=headlines_max_len, padding='post')\n",
    "decoder_target_train = pad_sequences(decoder_target_train, maxlen=headlines_max_len, padding='post')\n",
    "decoder_input_test = pad_sequences(decoder_input_test, maxlen=headlines_max_len, padding='post')\n",
    "decoder_target_test = pad_sequences(decoder_target_test, maxlen=headlines_max_len, padding='post')"
   ]
  },
  {
   "cell_type": "markdown",
   "id": "6ca1cb72",
   "metadata": {},
   "source": [
    "## 2. 모델 설계 및 훈련\n",
    "\n",
    "### - 모델 설계\n",
    "> 인코더의 아웃풋이 디코더로 들어갈 수 있도록 모델을 설계한다."
   ]
  },
  {
   "cell_type": "markdown",
   "id": "c3817fa0",
   "metadata": {},
   "source": [
    "인코더의 LSTM을 총 3개 층으로 구성하여 모델의 목잡도를 높인다.  \n",
    "dropout과 recurrent dropout을 사용하여 regularization을 해주고 과적합을 방지한다.  "
   ]
  },
  {
   "cell_type": "code",
   "execution_count": 34,
   "id": "45155388",
   "metadata": {},
   "outputs": [
    {
     "name": "stdout",
     "output_type": "stream",
     "text": [
      "WARNING:tensorflow:Layer lstm will not use cuDNN kernels since it doesn't meet the criteria. It will use a generic GPU kernel as fallback when running on GPU.\n",
      "WARNING:tensorflow:Layer lstm_1 will not use cuDNN kernels since it doesn't meet the criteria. It will use a generic GPU kernel as fallback when running on GPU.\n",
      "WARNING:tensorflow:Layer lstm_2 will not use cuDNN kernels since it doesn't meet the criteria. It will use a generic GPU kernel as fallback when running on GPU.\n"
     ]
    }
   ],
   "source": [
    "# 인코더 설계 시작\n",
    "embedding_dim = 128\n",
    "hidden_size = 256 # hidden state는 LSTM에서 얼만큼의 수용력(capacity)를 가질지를 정하는 파라미터\n",
    "\n",
    "# 인코더\n",
    "encoder_inputs = Input(shape=(text_max_len,))\n",
    "\n",
    "# 인코더의 임베딩 층\n",
    "enc_emb = Embedding(src_vocab, embedding_dim)(encoder_inputs)\n",
    "\n",
    "# 인코더의 LSTM 1\n",
    "encoder_lstm1 = LSTM(hidden_size, return_sequences=True, return_state=True ,dropout = 0.4, recurrent_dropout = 0.4)\n",
    "encoder_output1, state_h1, state_c1 = encoder_lstm1(enc_emb)\n",
    "\n",
    "# 인코더의 LSTM 2\n",
    "encoder_lstm2 = LSTM(hidden_size, return_sequences=True, return_state=True, dropout=0.4, recurrent_dropout=0.4)\n",
    "encoder_output2, state_h2, state_c2 = encoder_lstm2(encoder_output1)\n",
    "\n",
    "# 인코더의 LSTM 3\n",
    "encoder_lstm3 = LSTM(hidden_size, return_state=True, return_sequences=True, dropout=0.4, recurrent_dropout=0.4)\n",
    "encoder_outputs, state_h, state_c= encoder_lstm3(encoder_output2)"
   ]
  },
  {
   "cell_type": "markdown",
   "id": "9b783fd7",
   "metadata": {},
   "source": [
    "디코더의 LSTM 입력을 정의할 때 initial_state의 인자값으로 인코더의 hidden state와 cell state의 값을 넣어야 한다."
   ]
  },
  {
   "cell_type": "code",
   "execution_count": 35,
   "id": "0ee811b5",
   "metadata": {},
   "outputs": [
    {
     "name": "stdout",
     "output_type": "stream",
     "text": [
      "WARNING:tensorflow:Layer lstm_3 will not use cuDNN kernels since it doesn't meet the criteria. It will use a generic GPU kernel as fallback when running on GPU.\n"
     ]
    }
   ],
   "source": [
    "# 디코더 설계\n",
    "decoder_inputs = Input(shape=(None,))\n",
    "\n",
    "# 디코더의 임베딩 층\n",
    "dec_emb_layer = Embedding(tar_vocab, embedding_dim)\n",
    "dec_emb = dec_emb_layer(decoder_inputs)\n",
    "\n",
    "# 디코더의 LSTM\n",
    "decoder_lstm = LSTM(hidden_size, return_sequences=True, return_state=True, dropout=0.4, recurrent_dropout=0.2)\n",
    "decoder_outputs, _, _ = decoder_lstm(dec_emb, initial_state=[state_h, state_c])"
   ]
  },
  {
   "cell_type": "markdown",
   "id": "05df5f3f",
   "metadata": {},
   "source": [
    "### - 어텐션 메커니즘\n",
    "\n",
    "> TensorFlow에 구현된 어텐션 함수를 가져와 디코더의 출력층과 결합한다."
   ]
  },
  {
   "cell_type": "markdown",
   "id": "32199e5d",
   "metadata": {},
   "source": [
    "인코더와 디코더의 hidden state들을 어텐션 함수의 입력으로 사용하고, 어텐션 함수가 리턴한 값을 예측 시에 디코더의 hidden state와 함께 활용하는 형태로 작동한다."
   ]
  },
  {
   "cell_type": "code",
   "execution_count": 36,
   "id": "a5eecd2d",
   "metadata": {},
   "outputs": [
    {
     "name": "stdout",
     "output_type": "stream",
     "text": [
      "Model: \"model\"\n",
      "__________________________________________________________________________________________________\n",
      "Layer (type)                    Output Shape         Param #     Connected to                     \n",
      "==================================================================================================\n",
      "input_1 (InputLayer)            [(None, 43)]         0                                            \n",
      "__________________________________________________________________________________________________\n",
      "embedding (Embedding)           (None, 43, 128)      2560000     input_1[0][0]                    \n",
      "__________________________________________________________________________________________________\n",
      "lstm (LSTM)                     [(None, 43, 256), (N 394240      embedding[0][0]                  \n",
      "__________________________________________________________________________________________________\n",
      "input_2 (InputLayer)            [(None, None)]       0                                            \n",
      "__________________________________________________________________________________________________\n",
      "lstm_1 (LSTM)                   [(None, 43, 256), (N 525312      lstm[0][0]                       \n",
      "__________________________________________________________________________________________________\n",
      "embedding_1 (Embedding)         (None, None, 128)    1920000     input_2[0][0]                    \n",
      "__________________________________________________________________________________________________\n",
      "lstm_2 (LSTM)                   [(None, 43, 256), (N 525312      lstm_1[0][0]                     \n",
      "__________________________________________________________________________________________________\n",
      "lstm_3 (LSTM)                   [(None, None, 256),  394240      embedding_1[0][0]                \n",
      "                                                                 lstm_2[0][1]                     \n",
      "                                                                 lstm_2[0][2]                     \n",
      "__________________________________________________________________________________________________\n",
      "attention_layer (AdditiveAttent (None, None, 256)    256         lstm_3[0][0]                     \n",
      "                                                                 lstm_2[0][0]                     \n",
      "__________________________________________________________________________________________________\n",
      "concat_layer (Concatenate)      (None, None, 512)    0           lstm_3[0][0]                     \n",
      "                                                                 attention_layer[0][0]            \n",
      "__________________________________________________________________________________________________\n",
      "dense (Dense)                   (None, None, 15000)  7695000     concat_layer[0][0]               \n",
      "==================================================================================================\n",
      "Total params: 14,014,360\n",
      "Trainable params: 14,014,360\n",
      "Non-trainable params: 0\n",
      "__________________________________________________________________________________________________\n"
     ]
    }
   ],
   "source": [
    "# 어텐션 층(어텐션 함수)\n",
    "attn_layer = AdditiveAttention(name='attention_layer')\n",
    "\n",
    "# 인코더와 디코더의 모든 time step의 hidden state를 어텐션 층에 전달하고 결과를 리턴\n",
    "attn_out = attn_layer([decoder_outputs, encoder_outputs])\n",
    "\n",
    "\n",
    "# 어텐션의 결과와 디코더의 hidden state들을 연결\n",
    "decoder_concat_input = Concatenate(axis=-1, name='concat_layer')([decoder_outputs, attn_out])\n",
    "\n",
    "# 디코더의 출력층\n",
    "decoder_softmax_layer = Dense(tar_vocab, activation='softmax')\n",
    "decoder_softmax_outputs = decoder_softmax_layer(decoder_concat_input)\n",
    "\n",
    "# 모델 정의\n",
    "model = Model([encoder_inputs, decoder_inputs], decoder_softmax_outputs)\n",
    "model.summary()"
   ]
  },
  {
   "cell_type": "markdown",
   "id": "d0b5f480",
   "metadata": {},
   "source": [
    "### - 모델 훈련\n",
    "\n",
    "EarlyStopping을 사용하여 validation loss 값이 줄어들지 않는 현상이 2회 관측되면 학습을 중단하도록 한다."
   ]
  },
  {
   "cell_type": "code",
   "execution_count": 37,
   "id": "075fbbef",
   "metadata": {},
   "outputs": [
    {
     "name": "stdout",
     "output_type": "stream",
     "text": [
      "Epoch 1/50\n",
      "150/150 [==============================] - 118s 677ms/step - loss: 6.1092 - val_loss: 5.6584\n",
      "Epoch 2/50\n",
      "150/150 [==============================] - 101s 671ms/step - loss: 5.5964 - val_loss: 5.3852\n",
      "Epoch 3/50\n",
      "150/150 [==============================] - 100s 664ms/step - loss: 5.2884 - val_loss: 5.1319\n",
      "Epoch 4/50\n",
      "150/150 [==============================] - 99s 660ms/step - loss: 5.0154 - val_loss: 4.8892\n",
      "Epoch 5/50\n",
      "150/150 [==============================] - 99s 661ms/step - loss: 4.7844 - val_loss: 4.7056\n",
      "Epoch 6/50\n",
      "150/150 [==============================] - 99s 658ms/step - loss: 4.5894 - val_loss: 4.5711\n",
      "Epoch 7/50\n",
      "150/150 [==============================] - 98s 655ms/step - loss: 4.4171 - val_loss: 4.4654\n",
      "Epoch 8/50\n",
      "150/150 [==============================] - 99s 657ms/step - loss: 4.2635 - val_loss: 4.3553\n",
      "Epoch 9/50\n",
      "150/150 [==============================] - 99s 657ms/step - loss: 4.1282 - val_loss: 4.2841\n",
      "Epoch 10/50\n",
      "150/150 [==============================] - 98s 657ms/step - loss: 4.0079 - val_loss: 4.2226\n",
      "Epoch 11/50\n",
      "150/150 [==============================] - 99s 657ms/step - loss: 3.8987 - val_loss: 4.1687\n",
      "Epoch 12/50\n",
      "150/150 [==============================] - 99s 657ms/step - loss: 3.7968 - val_loss: 4.1179\n",
      "Epoch 13/50\n",
      "150/150 [==============================] - 98s 656ms/step - loss: 3.7043 - val_loss: 4.0818\n",
      "Epoch 14/50\n",
      "150/150 [==============================] - 99s 658ms/step - loss: 3.6189 - val_loss: 4.0516\n",
      "Epoch 15/50\n",
      "150/150 [==============================] - 99s 660ms/step - loss: 3.5394 - val_loss: 4.0226\n",
      "Epoch 16/50\n",
      "150/150 [==============================] - 99s 657ms/step - loss: 3.4654 - val_loss: 3.9964\n",
      "Epoch 17/50\n",
      "150/150 [==============================] - 99s 660ms/step - loss: 3.3955 - val_loss: 3.9776\n",
      "Epoch 18/50\n",
      "150/150 [==============================] - 99s 660ms/step - loss: 3.3298 - val_loss: 3.9579\n",
      "Epoch 19/50\n",
      "150/150 [==============================] - 99s 658ms/step - loss: 3.2677 - val_loss: 3.9425\n",
      "Epoch 20/50\n",
      "150/150 [==============================] - 98s 657ms/step - loss: 3.2080 - val_loss: 3.9322\n",
      "Epoch 21/50\n",
      "150/150 [==============================] - 99s 658ms/step - loss: 3.1509 - val_loss: 3.9252\n",
      "Epoch 22/50\n",
      "150/150 [==============================] - 99s 658ms/step - loss: 3.0973 - val_loss: 3.9095\n",
      "Epoch 23/50\n",
      "150/150 [==============================] - 99s 660ms/step - loss: 3.0446 - val_loss: 3.9007\n",
      "Epoch 24/50\n",
      "150/150 [==============================] - 99s 662ms/step - loss: 2.9979 - val_loss: 3.9017\n",
      "Epoch 25/50\n",
      "150/150 [==============================] - 99s 661ms/step - loss: 2.9518 - val_loss: 3.9011\n",
      "Epoch 00025: early stopping\n"
     ]
    }
   ],
   "source": [
    "model.compile(optimizer='rmsprop', loss='sparse_categorical_crossentropy')\n",
    "\n",
    "es = EarlyStopping(monitor='val_loss', patience=2, verbose=1)\n",
    "\n",
    "history = model.fit(x=[encoder_input_train, decoder_input_train], y=decoder_target_train, \\\n",
    "          validation_data=([encoder_input_test, decoder_input_test], decoder_target_test), \\\n",
    "          batch_size=512, callbacks=[es], epochs=50)"
   ]
  },
  {
   "cell_type": "markdown",
   "id": "1b8fa431",
   "metadata": {},
   "source": [
    "train loss와 validation loss이 줄어드는 과정을 시각화 한다."
   ]
  },
  {
   "cell_type": "code",
   "execution_count": 38,
   "id": "88b0ced0",
   "metadata": {},
   "outputs": [
    {
     "data": {
      "image/png": "[encoded data removed]",
      "text/plain": [
       "<Figure size 432x288 with 1 Axes>"
      ]
     },
     "metadata": {
      "needs_background": "light"
     },
     "output_type": "display_data"
    }
   ],
   "source": [
    "plt.plot(history.history['loss'], label='train')\n",
    "plt.plot(history.history['val_loss'], label='test')\n",
    "plt.legend()\n",
    "plt.show()"
   ]
  },
  {
   "cell_type": "markdown",
   "id": "ef0dcf56",
   "metadata": {},
   "source": [
    "## 3. 모델 테스트\n",
    "\n",
    "### - 인퍼런스 모델 구현\n",
    " \n",
    "> seq2seq는 훈련과 실제 동작의 방식이 다르다.  \n",
    "인퍼런스 단계에서는 문장의 길이만큼 디코더가 반복적으로 동작해야하므로 별개의 모델을 설계한다.  \n",
    "인코더와 디코더를 분리하여 설계해야 한다."
   ]
  },
  {
   "cell_type": "markdown",
   "id": "5e89f976",
   "metadata": {},
   "source": [
    "정수 인덱스 행렬로 존재하던 데이터를 텍스트로 복원하기 위해 3개의 사전을 미리 준비한다."
   ]
  },
  {
   "cell_type": "code",
   "execution_count": 39,
   "id": "59880690",
   "metadata": {},
   "outputs": [],
   "source": [
    "src_index_to_word = src_tokenizer.index_word # 원문 단어 집합에서 정수 -> 단어를 얻음\n",
    "tar_word_to_index = tar_tokenizer.word_index # 요약 단어 집합에서 단어 -> 정수를 얻음\n",
    "tar_index_to_word = tar_tokenizer.index_word # 요약 단어 집합에서 정수 -> 단어를 얻음"
   ]
  },
  {
   "cell_type": "code",
   "execution_count": 40,
   "id": "708a357d",
   "metadata": {},
   "outputs": [],
   "source": [
    "# 인코더 설계\n",
    "encoder_model = Model(inputs=encoder_inputs, outputs=[encoder_outputs, state_h, state_c])\n",
    "\n",
    "# 이전 시점의 상태들을 저장하는 텐서\n",
    "decoder_state_input_h = Input(shape=(hidden_size,))\n",
    "decoder_state_input_c = Input(shape=(hidden_size,))\n",
    "\n",
    "dec_emb2 = dec_emb_layer(decoder_inputs)\n",
    "\n",
    "# 문장의 다음 단어를 예측하기 위해서 초기 상태(initial_state)를 이전 시점의 상태로 사용. 이는 뒤의 함수 decode_sequence()에 구현\n",
    "# 훈련 과정에서와 달리 LSTM의 리턴하는 은닉 상태와 셀 상태인 state_h와 state_c를 버리지 않음.\n",
    "decoder_outputs2, state_h2, state_c2 = decoder_lstm(dec_emb2, initial_state=[decoder_state_input_h, decoder_state_input_c])"
   ]
  },
  {
   "cell_type": "markdown",
   "id": "7a891ade",
   "metadata": {},
   "source": [
    "어텐션 메커니즘을 사용하는 출력층을 설계한다."
   ]
  },
  {
   "cell_type": "code",
   "execution_count": 41,
   "id": "1a37533d",
   "metadata": {},
   "outputs": [],
   "source": [
    "# 어텐션 함수\n",
    "decoder_hidden_state_input = Input(shape=(text_max_len, hidden_size))\n",
    "attn_out_inf = attn_layer([decoder_outputs2, decoder_hidden_state_input])\n",
    "decoder_inf_concat = Concatenate(axis=-1, name='concat')([decoder_outputs2, attn_out_inf])\n",
    "\n",
    "# 디코더의 출력층\n",
    "decoder_outputs2 = decoder_softmax_layer(decoder_inf_concat) \n",
    "\n",
    "# 최종 디코더 모델\n",
    "decoder_model = Model(\n",
    "    [decoder_inputs] + [decoder_hidden_state_input,decoder_state_input_h, decoder_state_input_c],\n",
    "    [decoder_outputs2] + [state_h2, state_c2])\n"
   ]
  },
  {
   "cell_type": "markdown",
   "id": "1ebe9ce5",
   "metadata": {},
   "source": [
    "아래의 함수는 인퍼런스 단계에서 단어 시퀀스를 완성하는 함수이다."
   ]
  },
  {
   "cell_type": "code",
   "execution_count": 42,
   "id": "832e3d93",
   "metadata": {},
   "outputs": [],
   "source": [
    "def decode_sequence(input_seq):\n",
    "    # 입력으로부터 인코더의 상태를 얻음\n",
    "    e_out, e_h, e_c = encoder_model.predict(input_seq)\n",
    "\n",
    "     # <SOS>에 해당하는 토큰 생성\n",
    "    target_seq = np.zeros((1,1))\n",
    "    target_seq[0, 0] = tar_word_to_index['sostoken']\n",
    "\n",
    "    stop_condition = False\n",
    "    decoded_sentence = ''\n",
    "    while not stop_condition: # stop_condition이 True가 될 때까지 루프 반복\n",
    "\n",
    "        output_tokens, h, c = decoder_model.predict([target_seq] + [e_out, e_h, e_c])\n",
    "        sampled_token_index = np.argmax(output_tokens[0, -1, :])\n",
    "        sampled_token = tar_index_to_word[sampled_token_index]\n",
    "\n",
    "        if (sampled_token!='eostoken'):\n",
    "            decoded_sentence += ' '+sampled_token\n",
    "\n",
    "        #  <eos>에 도달하거나 최대 길이를 넘으면 중단.\n",
    "        if (sampled_token == 'eostoken'  or len(decoded_sentence.split()) >= (headlines_max_len-1)):\n",
    "            stop_condition = True\n",
    "\n",
    "        # 길이가 1인 타겟 시퀀스를 업데이트\n",
    "        target_seq = np.zeros((1,1))\n",
    "        target_seq[0, 0] = sampled_token_index\n",
    "\n",
    "        # 상태를 업데이트 합니다.\n",
    "        e_h, e_c = h, c\n",
    "\n",
    "    return decoded_sentence"
   ]
  },
  {
   "cell_type": "markdown",
   "id": "99c709f7",
   "metadata": {},
   "source": [
    "### - 추상적 요약"
   ]
  },
  {
   "cell_type": "markdown",
   "id": "4faa9b7e",
   "metadata": {},
   "source": [
    "테스트 결과를 확인하기 위해 정수 시퀀스를 텍스트 시퀀스로 변환하는 함수를 만들어준다."
   ]
  },
  {
   "cell_type": "code",
   "execution_count": 43,
   "id": "fc0320c2",
   "metadata": {},
   "outputs": [],
   "source": [
    "# text 데이터 변환\n",
    "def seq2text(input_seq):\n",
    "    temp=''\n",
    "    for i in input_seq:\n",
    "        if (i!=0):\n",
    "            temp = temp + src_index_to_word[i]+' '\n",
    "    return temp\n",
    "\n",
    "# headlines 데이터 변환\n",
    "def seq2summary(input_seq):\n",
    "    temp=''\n",
    "    for i in input_seq:\n",
    "        if ((i!=0 and i!=tar_word_to_index['sostoken']) and i!=tar_word_to_index['eostoken']):\n",
    "            temp = temp + tar_index_to_word[i] + ' '\n",
    "    return temp"
   ]
  },
  {
   "cell_type": "code",
   "execution_count": 44,
   "id": "2dac8f89",
   "metadata": {},
   "outputs": [
    {
     "name": "stdout",
     "output_type": "stream",
     "text": [
      "원문 : nasa study found evidence heat source powerful us yellowstone supervolcano called mantle lies deep antarctica ice sheet maximum km believe formed million years ago antarctica covered ice since worked heat frozen continent \n",
      "실제 요약 : antarctic heat source found driving ice melt \n",
      "예측 요약 :  nasa finds ice on mars of earth like water study\n",
      "\n",
      "\n",
      "원문 : supreme court wednesday ruled civil services examination marks cannot revealed right information act setting aside five year old delhi high court order asking union public service commission disclose marks court added revelation marks would compromise integrity exams \n",
      "실제 요약 : civil services marks cannot be under rti sc \n",
      "예측 요약 :  sc stays order on plea to appear on december\n",
      "\n",
      "\n",
      "원문 : day supreme court ordered reopen cases sonia rahul gandhi pm narendra modi wednesday said look courage took gandhi family court door secrets told entire family added addressing rally rajasthan said victory honest \n",
      "실제 요약 : chaiwala courage took them to court pm on gandhi tax cases \n",
      "예측 요약 :  pm modi is the only of the pm modi\n",
      "\n",
      "\n",
      "원문 : india cwg asian championships gold medal winner discus throw vikas gowda announced retirement sport two months prior asian games planning retire asian games last week realised body responding training gowda said \n",
      "실제 요약 : cwg discus gold winner retires months before asian games \n",
      "예측 요약 :  india cwg champ batra to be st time in cwg\n",
      "\n",
      "\n",
      "원문 : geneva based association swiss private banks said indians deposits switzerland compared singapore hong kong indians find store wealth global hub closer swiss banks added statement comes day switzerland agreed share information indian account holders government \n",
      "실제 요약 : indians have more deposits in pore hong kong swiss banks \n",
      "예측 요약 :  india to invest crore in india next year\n",
      "\n",
      "\n",
      "원문 : researchers examining fossilised remains dating back million years found evidence bronze golden colour insect wings team used electron find microscopic insect wing scales colour important driving force evolution wings earliest ancestors said researchers \n",
      "실제 요약 : study of mn year old fossil reveals colour of butterfly \n",
      "예측 요약 :  earliest year old fossil found in earliest of human era\n",
      "\n",
      "\n",
      "원문 : delhi sikh gurdwara management committee monday released video congress leader jagdish tytler allegedly admitted killing sikhs anti sikh riots president manjit singh claimed unknown man sent envelope containing video clips allegedly recorded demanded tytler arrested \n",
      "실제 요약 : sikh body releases tytler video on riots \n",
      "예측 요약 :  bjp leader suspended for anti anti sikh riots in kashmir\n",
      "\n",
      "\n",
      "원문 : nasa mars reconnaissance orbiter captured several high resolution images mars surface includes impact colourful hills sand layered deposits among others million spacecraft launched august attained martian orbit march hosts scientific instruments like cameras radar explore planet \n",
      "실제 요약 : nasa probe captures detailed images of mars surface \n",
      "예측 요약 :  nasa spacecraft to send mars missions to mars\n",
      "\n",
      "\n",
      "원문 : speaking making debut director upcoming film manikarnika queen jhansi kangana ranaut said people everyone saying directing love actor kangana added actress also starring forthcoming film said directors heroes \n",
      "실제 요약 : people are of my directorial debut kangana \n",
      "예측 요약 :  kangana denies reports of her film on manikarnika\n",
      "\n",
      "\n",
      "원문 : visitors us utah state park dinosaur tracks throwing pieces nearby lake looking throw rocks side without realising covered dinosaur tracks officials said park putting warning signs considering sending diving team recover tracks \n",
      "실제 요약 : tourists throw dino tracks into lake thinking they are rocks \n",
      "예측 요약 :  crocodile tree found in us alps to be built in us\n",
      "\n",
      "\n"
     ]
    }
   ],
   "source": [
    "for i in range(0, 30, 3):\n",
    "    print(\"원문 :\", seq2text(encoder_input_test[i]))\n",
    "    print(\"실제 요약 :\", seq2summary(decoder_input_test[i]))\n",
    "    print(\"예측 요약 :\", decode_sequence(encoder_input_test[i].reshape(1, text_max_len)))\n",
    "    print(\"\\n\")"
   ]
  },
  {
   "cell_type": "markdown",
   "id": "96b5e623",
   "metadata": {},
   "source": [
    "- 일부 샘플에 대해서 실제 요약과 비슷해 보이는 예측을 하기도 한다. \n",
    "\n",
    "\n",
    "- 추상적 요약이므로 원문에 없는 단어를 쓴 예측 요약도 있다.\n",
    "\n",
    "\n",
    "- 일부 샘플에 대해서는 관련 없는 내용과 단어들을 예측하는 경우도 있다.\n",
    "\n",
    "\n",
    "- val_loss가 약 3.9이므로 어느 정도 예상한 결과이다."
   ]
  },
  {
   "cell_type": "markdown",
   "id": "b31f0a4d",
   "metadata": {},
   "source": [
    "## 4. 추출적 요약\n",
    "\n",
    "> Summa 패키지에서 제공하는 summarize 모듈을 이용해 추출적 요약을 진행한다."
   ]
  },
  {
   "cell_type": "markdown",
   "id": "1827f4f0",
   "metadata": {},
   "source": [
    "깔끔한 데이터프레임을 얻기 위해 동일한 데이터를 다시 불러온다."
   ]
  },
  {
   "cell_type": "code",
   "execution_count": 45,
   "id": "8d51dbfe",
   "metadata": {},
   "outputs": [
    {
     "data": {
      "text/html": [
       "<div>\n",
       "<style scoped>\n",
       "    .dataframe tbody tr th:only-of-type {\n",
       "        vertical-align: middle;\n",
       "    }\n",
       "\n",
       "    .dataframe tbody tr th {\n",
       "        vertical-align: top;\n",
       "    }\n",
       "\n",
       "    .dataframe thead th {\n",
       "        text-align: right;\n",
       "    }\n",
       "</style>\n",
       "<table border=\"1\" class=\"dataframe\">\n",
       "  <thead>\n",
       "    <tr style=\"text-align: right;\">\n",
       "      <th></th>\n",
       "      <th>headlines</th>\n",
       "      <th>text</th>\n",
       "    </tr>\n",
       "  </thead>\n",
       "  <tbody>\n",
       "    <tr>\n",
       "      <th>16601</th>\n",
       "      <td>Karnataka CM accuses BJP of offering Ã¢ÂÂ¹5 c...</td>\n",
       "      <td>Karnataka Chief Minister HD Kumaraswamy on Thu...</td>\n",
       "    </tr>\n",
       "    <tr>\n",
       "      <th>31804</th>\n",
       "      <td>As 'Boss', I need to apologise: SRK after KKR'...</td>\n",
       "      <td>Indian Premier League side Kolkata Knight Ride...</td>\n",
       "    </tr>\n",
       "    <tr>\n",
       "      <th>9494</th>\n",
       "      <td>Home rental startup NestAway in talks to raise...</td>\n",
       "      <td>Bengaluru-based home rental startup NestAway i...</td>\n",
       "    </tr>\n",
       "    <tr>\n",
       "      <th>28501</th>\n",
       "      <td>2 infants dead, 4 critical due to faulty ACs a...</td>\n",
       "      <td>At least two infants died and four were in a c...</td>\n",
       "    </tr>\n",
       "    <tr>\n",
       "      <th>16865</th>\n",
       "      <td>Facebook accused of allowing bias against wome...</td>\n",
       "      <td>A lawsuit filed against Facebook on Tuesday ha...</td>\n",
       "    </tr>\n",
       "    <tr>\n",
       "      <th>91851</th>\n",
       "      <td>UP will become Open Defecation Free state by O...</td>\n",
       "      <td>Uttar Pradesh Chief Minister Yogi Adityanath o...</td>\n",
       "    </tr>\n",
       "    <tr>\n",
       "      <th>76057</th>\n",
       "      <td>Indian-origin CEO's startup raises $1 billion ...</td>\n",
       "      <td>US-based biopharmaceutical startup Roivant Sci...</td>\n",
       "    </tr>\n",
       "    <tr>\n",
       "      <th>53452</th>\n",
       "      <td>Boxers return govt-gifted cows, say they don't...</td>\n",
       "      <td>Three of the six female boxers who received co...</td>\n",
       "    </tr>\n",
       "    <tr>\n",
       "      <th>86911</th>\n",
       "      <td>Artist installs 'Pissing Pug' statue next to '...</td>\n",
       "      <td>Artist Alex Gardega has installed a urinating ...</td>\n",
       "    </tr>\n",
       "    <tr>\n",
       "      <th>5437</th>\n",
       "      <td>15 bottles of pesticides poured in prasad that...</td>\n",
       "      <td>Karnataka Police has said 15 bottles of pestic...</td>\n",
       "    </tr>\n",
       "  </tbody>\n",
       "</table>\n",
       "</div>"
      ],
      "text/plain": [
       "                                               headlines  \\\n",
       "16601  Karnataka CM accuses BJP of offering Ã¢ÂÂ¹5 c...   \n",
       "31804  As 'Boss', I need to apologise: SRK after KKR'...   \n",
       "9494   Home rental startup NestAway in talks to raise...   \n",
       "28501  2 infants dead, 4 critical due to faulty ACs a...   \n",
       "16865  Facebook accused of allowing bias against wome...   \n",
       "91851  UP will become Open Defecation Free state by O...   \n",
       "76057  Indian-origin CEO's startup raises $1 billion ...   \n",
       "53452  Boxers return govt-gifted cows, say they don't...   \n",
       "86911  Artist installs 'Pissing Pug' statue next to '...   \n",
       "5437   15 bottles of pesticides poured in prasad that...   \n",
       "\n",
       "                                                    text  \n",
       "16601  Karnataka Chief Minister HD Kumaraswamy on Thu...  \n",
       "31804  Indian Premier League side Kolkata Knight Ride...  \n",
       "9494   Bengaluru-based home rental startup NestAway i...  \n",
       "28501  At least two infants died and four were in a c...  \n",
       "16865  A lawsuit filed against Facebook on Tuesday ha...  \n",
       "91851  Uttar Pradesh Chief Minister Yogi Adityanath o...  \n",
       "76057  US-based biopharmaceutical startup Roivant Sci...  \n",
       "53452  Three of the six female boxers who received co...  \n",
       "86911  Artist Alex Gardega has installed a urinating ...  \n",
       "5437   Karnataka Police has said 15 bottles of pestic...  "
      ]
     },
     "execution_count": 45,
     "metadata": {},
     "output_type": "execute_result"
    }
   ],
   "source": [
    "text= pd.read_csv('news_summary_more.csv', encoding='iso-8859-1')\n",
    "\n",
    "text.sample(10)"
   ]
  },
  {
   "cell_type": "markdown",
   "id": "a4841ae9",
   "metadata": {},
   "source": [
    "summarize는 문장 토큰화를 별도로 하지 않더라도 내부적으로 문장 토큰화를 수행하므로 원문을 바로 입력으로 넣을 수 있다."
   ]
  },
  {
   "cell_type": "code",
   "execution_count": 49,
   "id": "c9e4b64f",
   "metadata": {},
   "outputs": [
    {
     "name": "stdout",
     "output_type": "stream",
     "text": [
      "원문 : Saurav Kant, an alumnus of upGrad and IIIT-B's PG Program in Machine learning and Artificial Intelligence, was a Sr Systems Engineer at Infosys with almost 5 years of work experience. The program and upGrad's 360-degree career support helped him transition to a Data Scientist at Tech Mahindra with 90% salary hike. upGrad's Online Power Learning has powered 3 lakh+ careers.\n",
      "실제 요약 : upGrad learner switches to career in ML & Al with 90% salary hike\n",
      "추출 요약 : \n",
      "\n",
      "\n",
      "원문 : Kunal Shah's credit card bill payment platform, CRED, gave users a chance to win free food from Swiggy for one year. Pranav Kaushik, a Delhi techie, bagged this reward after spending 2000 CRED coins. Users get one CRED coin per rupee of bill paid, which can be used to avail rewards from brands like Ixigo, BookMyShow, UberEats, Cult.Fit and more.\n",
      "실제 요약 : Delhi techie wins free food from Swiggy for one year on CRED\n",
      "추출 요약 : \n",
      "\n",
      "\n",
      "원문 : New Zealand defeated India by 8 wickets in the fourth ODI at Hamilton on Thursday to win their first match of the five-match ODI series. India lost an international match under Rohit Sharma's captaincy after 12 consecutive victories dating back to March 2018. The match witnessed India getting all out for 92, their seventh lowest total in ODI cricket history.\n",
      "실제 요약 : New Zealand end Rohit Sharma-led India's 12-match winning streak\n",
      "추출 요약 : \n",
      "\n",
      "\n",
      "원문 : With Aegon Life iTerm Insurance plan, customers can enjoy tax benefits on your premiums paid and save up to Ã¢ÂÂ¹46,800^ on taxes. The plan provides life cover up to the age of 100 years. Also, customers have options to insure against Critical Illnesses, Disability and Accidental Death Benefit Rider with a life cover up to the age of 80 years.\n",
      "실제 요약 : Aegon life iTerm insurance plan helps customers save tax\n",
      "추출 요약 : \n",
      "\n",
      "\n",
      "원문 : Speaking about the sexual harassment allegations against Rajkumar Hirani, Sonam Kapoor said, \"I've known Hirani for many years...What if it's not true, the [#MeToo] movement will get derailed.\" \"In the #MeToo movement, I always believe a woman. But in this case, we need to reserve our judgment,\" she added. Hirani has been accused by an assistant who worked in 'Sanju'.\n",
      "실제 요약 : Have known Hirani for yrs, what if MeToo claims are not true: Sonam\n",
      "추출 요약 : \n",
      "\n",
      "\n",
      "원문 : Pakistani singer Rahat Fateh Ali Khan has denied receiving any notice from the Enforcement Directorate over allegedly smuggling foreign currency out of India. \"It would have been better if the authorities would have served the notice first if any and then publicised this,\" reads a press release issued on behalf of Rahat. The statement further called the allegation \"bizarre\".\n",
      "실제 요약 : Rahat Fateh Ali Khan denies getting notice for smuggling currency\n",
      "추출 요약 : \n",
      "\n",
      "\n",
      "원문 : India recorded their lowest ODI total in New Zealand after getting all out for 92 runs in 30.5 overs in the fourth ODI at Hamilton on Thursday. Seven of India's batsmen were dismissed for single-digit scores, while their number ten batsman Yuzvendra Chahal top-scored with 18*(37). India's previous lowest ODI total in New Zealand was 108.\n",
      "실제 요약 : India get all out for 92, their lowest ODI total in New Zealand\n",
      "추출 요약 : \n",
      "\n",
      "\n",
      "원문 : Weeks after ex-CBI Director Alok Verma told the Department of Personnel and Training to consider him retired, the Home Ministry asked him to join work on the last day of his fixed tenure as Director on Thursday. The ministry directed him to immediately join as DG, Fire Services, the post he was transferred to after his removal as CBI chief.\n",
      "실제 요약 : Govt directs Alok Verma to join work 1 day before his retirement\n",
      "추출 요약 : \n",
      "\n",
      "\n",
      "원문 : Andhra Pradesh CM N Chandrababu Naidu has said, \"When I met then US President Bill Clinton, I addressed him as Mr Clinton, not as 'sir'. (PM Narendra) Modi is my junior in politics...I addressed him as sir 10 times.\" \"I did this...to satisfy his ego in the hope that he will do justice to the state,\" he added.\n",
      "실제 요약 : Called PM Modi 'sir' 10 times to satisfy his ego: Andhra CM\n",
      "추출 요약 : \n",
      "\n",
      "\n",
      "원문 : Congress candidate Shafia Zubair won the Ramgarh Assembly seat in Rajasthan, by defeating BJP's Sukhwant Singh with a margin of 12,228 votes in the bypoll. With this victory, Congress has taken its total to 100 seats in the 200-member assembly. The election to the Ramgarh seat was delayed due to the death of sitting MLA and BSP candidate Laxman Singh.\n",
      "실제 요약 : Cong wins Ramgarh bypoll in Rajasthan, takes total to 100 seats\n",
      "추출 요약 : \n",
      "\n",
      "\n"
     ]
    }
   ],
   "source": [
    "for i in range(0, 10):\n",
    "    print(\"원문 :\", text['text'][i])\n",
    "    print(\"실제 요약 :\", text['headlines'][i])\n",
    "    print(\"추출 요약 :\", summarize(text[\"text\"][i], ratio=0.3))\n",
    "    print(\"\\n\")"
   ]
  },
  {
   "cell_type": "markdown",
   "id": "a11f6079",
   "metadata": {},
   "source": [
    "원본에서 요약문으로 선택되는 문장의 비율인 ratio를 0.3으로 했을 때는 아무것도 추출되지 않는다.  \n",
    "이를 조금 더 키워서 다시 결과를 확인해보자."
   ]
  },
  {
   "cell_type": "code",
   "execution_count": 50,
   "id": "04c0f4bd",
   "metadata": {},
   "outputs": [
    {
     "name": "stdout",
     "output_type": "stream",
     "text": [
      "원문 : Saurav Kant, an alumnus of upGrad and IIIT-B's PG Program in Machine learning and Artificial Intelligence, was a Sr Systems Engineer at Infosys with almost 5 years of work experience. The program and upGrad's 360-degree career support helped him transition to a Data Scientist at Tech Mahindra with 90% salary hike. upGrad's Online Power Learning has powered 3 lakh+ careers.\n",
      "실제 요약 : upGrad learner switches to career in ML & Al with 90% salary hike\n",
      "추출 요약 : upGrad's Online Power Learning has powered 3 lakh+ careers.\n",
      "\n",
      "\n",
      "원문 : Kunal Shah's credit card bill payment platform, CRED, gave users a chance to win free food from Swiggy for one year. Pranav Kaushik, a Delhi techie, bagged this reward after spending 2000 CRED coins. Users get one CRED coin per rupee of bill paid, which can be used to avail rewards from brands like Ixigo, BookMyShow, UberEats, Cult.Fit and more.\n",
      "실제 요약 : Delhi techie wins free food from Swiggy for one year on CRED\n",
      "추출 요약 : Users get one CRED coin per rupee of bill paid, which can be used to avail rewards from brands like Ixigo, BookMyShow, UberEats, Cult.Fit and more.\n",
      "\n",
      "\n",
      "원문 : New Zealand defeated India by 8 wickets in the fourth ODI at Hamilton on Thursday to win their first match of the five-match ODI series. India lost an international match under Rohit Sharma's captaincy after 12 consecutive victories dating back to March 2018. The match witnessed India getting all out for 92, their seventh lowest total in ODI cricket history.\n",
      "실제 요약 : New Zealand end Rohit Sharma-led India's 12-match winning streak\n",
      "추출 요약 : The match witnessed India getting all out for 92, their seventh lowest total in ODI cricket history.\n",
      "\n",
      "\n",
      "원문 : With Aegon Life iTerm Insurance plan, customers can enjoy tax benefits on your premiums paid and save up to Ã¢ÂÂ¹46,800^ on taxes. The plan provides life cover up to the age of 100 years. Also, customers have options to insure against Critical Illnesses, Disability and Accidental Death Benefit Rider with a life cover up to the age of 80 years.\n",
      "실제 요약 : Aegon life iTerm insurance plan helps customers save tax\n",
      "추출 요약 : Also, customers have options to insure against Critical Illnesses, Disability and Accidental Death Benefit Rider with a life cover up to the age of 80 years.\n",
      "\n",
      "\n",
      "원문 : Speaking about the sexual harassment allegations against Rajkumar Hirani, Sonam Kapoor said, \"I've known Hirani for many years...What if it's not true, the [#MeToo] movement will get derailed.\" \"In the #MeToo movement, I always believe a woman. But in this case, we need to reserve our judgment,\" she added. Hirani has been accused by an assistant who worked in 'Sanju'.\n",
      "실제 요약 : Have known Hirani for yrs, what if MeToo claims are not true: Sonam\n",
      "추출 요약 : Speaking about the sexual harassment allegations against Rajkumar Hirani, Sonam Kapoor said, \"I've known Hirani for many years...What if it's not true, the [#MeToo] movement will get derailed.\" \"In the #MeToo movement, I always believe a woman.\n",
      "\n",
      "\n",
      "원문 : Pakistani singer Rahat Fateh Ali Khan has denied receiving any notice from the Enforcement Directorate over allegedly smuggling foreign currency out of India. \"It would have been better if the authorities would have served the notice first if any and then publicised this,\" reads a press release issued on behalf of Rahat. The statement further called the allegation \"bizarre\".\n",
      "실제 요약 : Rahat Fateh Ali Khan denies getting notice for smuggling currency\n",
      "추출 요약 : Pakistani singer Rahat Fateh Ali Khan has denied receiving any notice from the Enforcement Directorate over allegedly smuggling foreign currency out of India.\n",
      "\n",
      "\n",
      "원문 : India recorded their lowest ODI total in New Zealand after getting all out for 92 runs in 30.5 overs in the fourth ODI at Hamilton on Thursday. Seven of India's batsmen were dismissed for single-digit scores, while their number ten batsman Yuzvendra Chahal top-scored with 18*(37). India's previous lowest ODI total in New Zealand was 108.\n",
      "실제 요약 : India get all out for 92, their lowest ODI total in New Zealand\n",
      "추출 요약 : India's previous lowest ODI total in New Zealand was 108.\n",
      "\n",
      "\n",
      "원문 : Weeks after ex-CBI Director Alok Verma told the Department of Personnel and Training to consider him retired, the Home Ministry asked him to join work on the last day of his fixed tenure as Director on Thursday. The ministry directed him to immediately join as DG, Fire Services, the post he was transferred to after his removal as CBI chief.\n",
      "실제 요약 : Govt directs Alok Verma to join work 1 day before his retirement\n",
      "추출 요약 : \n",
      "\n",
      "\n",
      "원문 : Andhra Pradesh CM N Chandrababu Naidu has said, \"When I met then US President Bill Clinton, I addressed him as Mr Clinton, not as 'sir'. (PM Narendra) Modi is my junior in politics...I addressed him as sir 10 times.\" \"I did this...to satisfy his ego in the hope that he will do justice to the state,\" he added.\n",
      "실제 요약 : Called PM Modi 'sir' 10 times to satisfy his ego: Andhra CM\n",
      "추출 요약 : \n",
      "\n",
      "\n",
      "원문 : Congress candidate Shafia Zubair won the Ramgarh Assembly seat in Rajasthan, by defeating BJP's Sukhwant Singh with a margin of 12,228 votes in the bypoll. With this victory, Congress has taken its total to 100 seats in the 200-member assembly. The election to the Ramgarh seat was delayed due to the death of sitting MLA and BSP candidate Laxman Singh.\n",
      "실제 요약 : Cong wins Ramgarh bypoll in Rajasthan, takes total to 100 seats\n",
      "추출 요약 : Congress candidate Shafia Zubair won the Ramgarh Assembly seat in Rajasthan, by defeating BJP's Sukhwant Singh with a margin of 12,228 votes in the bypoll.\n",
      "\n",
      "\n"
     ]
    }
   ],
   "source": [
    "for i in range(0, 10):\n",
    "    print(\"원문 :\", text['text'][i])\n",
    "    print(\"실제 요약 :\", text['headlines'][i])\n",
    "    print(\"추출 요약 :\", summarize(text[\"text\"][i], ratio=0.4))\n",
    "    print(\"\\n\")"
   ]
  },
  {
   "cell_type": "markdown",
   "id": "a95a8fd2",
   "metadata": {},
   "source": [
    "ratio를 0.4로 설정했더니 일부 샘플에 대해서만 요약이 진행되었다.  \n",
    "이를 조금만 더 키우면 모든 문장에 대한 요약을 확인할 수 있을 것 같다."
   ]
  },
  {
   "cell_type": "code",
   "execution_count": 51,
   "id": "1836152f",
   "metadata": {},
   "outputs": [
    {
     "name": "stdout",
     "output_type": "stream",
     "text": [
      "원문 : Saurav Kant, an alumnus of upGrad and IIIT-B's PG Program in Machine learning and Artificial Intelligence, was a Sr Systems Engineer at Infosys with almost 5 years of work experience. The program and upGrad's 360-degree career support helped him transition to a Data Scientist at Tech Mahindra with 90% salary hike. upGrad's Online Power Learning has powered 3 lakh+ careers.\n",
      "실제 요약 : upGrad learner switches to career in ML & Al with 90% salary hike\n",
      "추출 요약 : upGrad's Online Power Learning has powered 3 lakh+ careers.\n",
      "\n",
      "\n",
      "원문 : Kunal Shah's credit card bill payment platform, CRED, gave users a chance to win free food from Swiggy for one year. Pranav Kaushik, a Delhi techie, bagged this reward after spending 2000 CRED coins. Users get one CRED coin per rupee of bill paid, which can be used to avail rewards from brands like Ixigo, BookMyShow, UberEats, Cult.Fit and more.\n",
      "실제 요약 : Delhi techie wins free food from Swiggy for one year on CRED\n",
      "추출 요약 : Users get one CRED coin per rupee of bill paid, which can be used to avail rewards from brands like Ixigo, BookMyShow, UberEats, Cult.Fit and more.\n",
      "\n",
      "\n",
      "원문 : New Zealand defeated India by 8 wickets in the fourth ODI at Hamilton on Thursday to win their first match of the five-match ODI series. India lost an international match under Rohit Sharma's captaincy after 12 consecutive victories dating back to March 2018. The match witnessed India getting all out for 92, their seventh lowest total in ODI cricket history.\n",
      "실제 요약 : New Zealand end Rohit Sharma-led India's 12-match winning streak\n",
      "추출 요약 : The match witnessed India getting all out for 92, their seventh lowest total in ODI cricket history.\n",
      "\n",
      "\n",
      "원문 : With Aegon Life iTerm Insurance plan, customers can enjoy tax benefits on your premiums paid and save up to Ã¢ÂÂ¹46,800^ on taxes. The plan provides life cover up to the age of 100 years. Also, customers have options to insure against Critical Illnesses, Disability and Accidental Death Benefit Rider with a life cover up to the age of 80 years.\n",
      "실제 요약 : Aegon life iTerm insurance plan helps customers save tax\n",
      "추출 요약 : Also, customers have options to insure against Critical Illnesses, Disability and Accidental Death Benefit Rider with a life cover up to the age of 80 years.\n",
      "\n",
      "\n",
      "원문 : Speaking about the sexual harassment allegations against Rajkumar Hirani, Sonam Kapoor said, \"I've known Hirani for many years...What if it's not true, the [#MeToo] movement will get derailed.\" \"In the #MeToo movement, I always believe a woman. But in this case, we need to reserve our judgment,\" she added. Hirani has been accused by an assistant who worked in 'Sanju'.\n",
      "실제 요약 : Have known Hirani for yrs, what if MeToo claims are not true: Sonam\n",
      "추출 요약 : Speaking about the sexual harassment allegations against Rajkumar Hirani, Sonam Kapoor said, \"I've known Hirani for many years...What if it's not true, the [#MeToo] movement will get derailed.\" \"In the #MeToo movement, I always believe a woman.\n",
      "\n",
      "\n",
      "원문 : Pakistani singer Rahat Fateh Ali Khan has denied receiving any notice from the Enforcement Directorate over allegedly smuggling foreign currency out of India. \"It would have been better if the authorities would have served the notice first if any and then publicised this,\" reads a press release issued on behalf of Rahat. The statement further called the allegation \"bizarre\".\n",
      "실제 요약 : Rahat Fateh Ali Khan denies getting notice for smuggling currency\n",
      "추출 요약 : Pakistani singer Rahat Fateh Ali Khan has denied receiving any notice from the Enforcement Directorate over allegedly smuggling foreign currency out of India.\n",
      "\n",
      "\n",
      "원문 : India recorded their lowest ODI total in New Zealand after getting all out for 92 runs in 30.5 overs in the fourth ODI at Hamilton on Thursday. Seven of India's batsmen were dismissed for single-digit scores, while their number ten batsman Yuzvendra Chahal top-scored with 18*(37). India's previous lowest ODI total in New Zealand was 108.\n",
      "실제 요약 : India get all out for 92, their lowest ODI total in New Zealand\n",
      "추출 요약 : India's previous lowest ODI total in New Zealand was 108.\n",
      "\n",
      "\n",
      "원문 : Weeks after ex-CBI Director Alok Verma told the Department of Personnel and Training to consider him retired, the Home Ministry asked him to join work on the last day of his fixed tenure as Director on Thursday. The ministry directed him to immediately join as DG, Fire Services, the post he was transferred to after his removal as CBI chief.\n",
      "실제 요약 : Govt directs Alok Verma to join work 1 day before his retirement\n",
      "추출 요약 : Weeks after ex-CBI Director Alok Verma told the Department of Personnel and Training to consider him retired, the Home Ministry asked him to join work on the last day of his fixed tenure as Director on Thursday.\n",
      "\n",
      "\n",
      "원문 : Andhra Pradesh CM N Chandrababu Naidu has said, \"When I met then US President Bill Clinton, I addressed him as Mr Clinton, not as 'sir'. (PM Narendra) Modi is my junior in politics...I addressed him as sir 10 times.\" \"I did this...to satisfy his ego in the hope that he will do justice to the state,\" he added.\n",
      "실제 요약 : Called PM Modi 'sir' 10 times to satisfy his ego: Andhra CM\n",
      "추출 요약 : Andhra Pradesh CM N Chandrababu Naidu has said, \"When I met then US President Bill Clinton, I addressed him as Mr Clinton, not as 'sir'.\n",
      "\n",
      "\n",
      "원문 : Congress candidate Shafia Zubair won the Ramgarh Assembly seat in Rajasthan, by defeating BJP's Sukhwant Singh with a margin of 12,228 votes in the bypoll. With this victory, Congress has taken its total to 100 seats in the 200-member assembly. The election to the Ramgarh seat was delayed due to the death of sitting MLA and BSP candidate Laxman Singh.\n",
      "실제 요약 : Cong wins Ramgarh bypoll in Rajasthan, takes total to 100 seats\n",
      "추출 요약 : Congress candidate Shafia Zubair won the Ramgarh Assembly seat in Rajasthan, by defeating BJP's Sukhwant Singh with a margin of 12,228 votes in the bypoll.\n",
      "\n",
      "\n"
     ]
    }
   ],
   "source": [
    "for i in range(0, 10):\n",
    "    print(\"원문 :\", text['text'][i])\n",
    "    print(\"실제 요약 :\", text['headlines'][i])\n",
    "    print(\"추출 요약 :\", summarize(text[\"text\"][i], ratio=0.5))\n",
    "    print(\"\\n\")"
   ]
  },
  {
   "cell_type": "markdown",
   "id": "b05f9312",
   "metadata": {},
   "source": [
    "- 예시로 확인한 10개의 문장에 대해서 모두 요약이 되었다.\n",
    "\n",
    "\n",
    "- 실제 요약인 headlines와 일치하지는 않지만 비슷한 단어가 많이 보이고있으므로 요약을 잘 진행했다고 판단할 수 있겠다.\n",
    "\n",
    "\n",
    "- ratio를 0.5로 올렸더니 헤드라인으로 쓰기엔 조금 긴 문장이 추출되었다.\n",
    "\n",
    "\n",
    "#### 추상적 요약 vs. 추출적 요약\n",
    "<table>\n",
    "  <tr>\n",
    "    <td> </td> \n",
    "    <td><b><center>추상적 요약</center></b></td>\n",
    "    <td><b><center>추출적 요약</center></b></td>\n",
    "  </tr>\n",
    "  <tr>\n",
    "    <td><b>문법</b></td>  \n",
    "    <td colspan=\"2\"><center>두 방식 모두 문법적으로 완성된 문장을 만들지는 못하는 것 같다.</center></td>\n",
    "  </tr>\n",
    "    <td><b>핵심<br>단어</b></td> \n",
    "    <td style=\"text-align: left\">일부 문장에 대해서는 핵심 단어를 잘 파악하여 요약에 사용하였으나<br>몇몇 샘플은 전혀 다른 요약을 예측하기도 한다.</td>\n",
    "    <td style=\"text-align: left\">원문에 있는 단어를 사용하기 때문에 실제 요약과 일치하는 단어들이 많이 보인다.</td>\n",
    "    \n",
    "</table>\n",
    "\n",
    "\n"
   ]
  },
  {
   "cell_type": "markdown",
   "id": "aaf32d21",
   "metadata": {},
   "source": [
    "## 5. 회고\n",
    "\n",
    "#### - NLP 노드 아직도 어렵다  (˚ ˃̣̣̥⌓˂̣̣̥ ) ‧º\n",
    "\n",
    "벌써 3번째 NLP 노드이다. 아직도 어렵다...  \n",
    "하지만 이제는 전체적인 흐름이 조금은 눈에 들어오는 느낌이다.  \n",
    "데이터 정제, 단어 사전 정의, 토큰화 등등의 과정들이 처음에는 외계어 같이 느껴졌는데 아~주 조금 친숙해졌다.  \n",
    "\n",
    "\n",
    "#### - loss는 어떻게 줄이지?\n",
    "\n",
    "다른 분야에 비해 NLP 관련 학습을 할 때 loss 값을 낮추는 것이 훨씬 어렵다.  \n",
    "아직 이에 대한 이해도 부족해서 무엇을 어떻게 고쳐야 성능이 향상될지 감이 오지 않는다.  \n",
    "그저 제출에 의의를 두기로한다..."
   ]
  }
 ],
 "metadata": {
  "kernelspec": {
   "display_name": "Python 3 (ipykernel)",
   "language": "python",
   "name": "python3"
  },
  "language_info": {
   "codemirror_mode": {
    "name": "ipython",
    "version": 3
   },
   "file_extension": ".py",
   "mimetype": "text/x-python",
   "name": "python",
   "nbconvert_exporter": "python",
   "pygments_lexer": "ipython3",
   "version": "3.9.7"
  }
 },
 "nbformat": 4,
 "nbformat_minor": 5
}
