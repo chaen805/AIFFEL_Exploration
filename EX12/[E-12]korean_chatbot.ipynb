{
 "cells": [
  {
   "cell_type": "markdown",
   "id": "156a5d5b",
   "metadata": {},
   "source": [
    "# Exploration12 - 트랜스포머로 만드는 대화형 챗봇\n",
    "트랜스포머 모델로 한국어 챗봇을 만들어보자.\n",
    "\n",
    "---\n",
    "\n",
    "### 루브릭 평가 기준\n",
    "\n",
    "1. 한국어 전처리를 통한 학습 데이터셋 구축 - 공백과 특수문자 처리, 토크나이징, 병렬 데이터 구축의 과정이 진행되었나\n",
    "2. 트랜스포머 모델을 구현하여 한국어 챗봇 모델 학습 진행 - 구현한 트랜스포머 모델이 한국어 병렬 데이터 학습 시 안정적으로 수렴하였나\n",
    "3. 한국어 입력 문장에 대해 한국어로 답변하는 함수 구현 - 한국어 입력 문장에 그럴듯한 한국어 답변을 리턴하였나\n",
    "\n",
    "---\n",
    "\n",
    "### 목차\n",
    "\n",
    "0) 필요 모듈 import\n",
    "\n",
    "\n",
    "1) 데이터 로드 및 전처리\n",
    "  - 데이터 준비\n",
    "  - 데이터 전처리\n",
    "    \n",
    "\n",
    "2) 모델 설계 및 훈련\n",
    "\n",
    "\n",
    "3) 모델 테스트\n",
    "\n",
    "\n",
    "4) 회고"
   ]
  },
  {
   "cell_type": "markdown",
   "id": "8a7822cf",
   "metadata": {},
   "source": [
    "## 0. 필요 모듈 import"
   ]
  },
  {
   "cell_type": "code",
   "execution_count": 1,
   "id": "de92fc29",
   "metadata": {},
   "outputs": [],
   "source": [
    "import tensorflow as tf\n",
    "import tensorflow_datasets as tfds\n",
    "import os\n",
    "import re\n",
    "import pandas as pd\n",
    "import numpy as np\n",
    "import matplotlib.pyplot as plt\n",
    "\n",
    "import tensorflow_datasets as tfds"
   ]
  },
  {
   "cell_type": "markdown",
   "id": "dd5d332b",
   "metadata": {},
   "source": [
    "## 1. 데이터 로드 및 전처리\n",
    "\n",
    "### - 데이터 준비\n",
    "\n",
    "한국어로 된 질문과 답변이 담긴 [한국어 챗봇 데이터](https://github.com/songys/Chatbot_data/blob/master/ChatbotData.csv)를 다운받아 사용한다."
   ]
  },
  {
   "cell_type": "code",
   "execution_count": 2,
   "id": "c6730fda",
   "metadata": {},
   "outputs": [
    {
     "data": {
      "text/plain": [
       "(11823, 3)"
      ]
     },
     "execution_count": 2,
     "metadata": {},
     "output_type": "execute_result"
    }
   ],
   "source": [
    "data = pd.read_csv('./data/ChatbotData.csv')\n",
    "data.shape"
   ]
  },
  {
   "cell_type": "code",
   "execution_count": 3,
   "id": "63328a6f",
   "metadata": {},
   "outputs": [
    {
     "data": {
      "text/html": [
       "<div>\n",
       "<style scoped>\n",
       "    .dataframe tbody tr th:only-of-type {\n",
       "        vertical-align: middle;\n",
       "    }\n",
       "\n",
       "    .dataframe tbody tr th {\n",
       "        vertical-align: top;\n",
       "    }\n",
       "\n",
       "    .dataframe thead th {\n",
       "        text-align: right;\n",
       "    }\n",
       "</style>\n",
       "<table border=\"1\" class=\"dataframe\">\n",
       "  <thead>\n",
       "    <tr style=\"text-align: right;\">\n",
       "      <th></th>\n",
       "      <th>Q</th>\n",
       "      <th>A</th>\n",
       "      <th>label</th>\n",
       "    </tr>\n",
       "  </thead>\n",
       "  <tbody>\n",
       "    <tr>\n",
       "      <th>0</th>\n",
       "      <td>12시 땡!</td>\n",
       "      <td>하루가 또 가네요.</td>\n",
       "      <td>0</td>\n",
       "    </tr>\n",
       "    <tr>\n",
       "      <th>1</th>\n",
       "      <td>1지망 학교 떨어졌어</td>\n",
       "      <td>위로해 드립니다.</td>\n",
       "      <td>0</td>\n",
       "    </tr>\n",
       "    <tr>\n",
       "      <th>2</th>\n",
       "      <td>3박4일 놀러가고 싶다</td>\n",
       "      <td>여행은 언제나 좋죠.</td>\n",
       "      <td>0</td>\n",
       "    </tr>\n",
       "    <tr>\n",
       "      <th>3</th>\n",
       "      <td>3박4일 정도 놀러가고 싶다</td>\n",
       "      <td>여행은 언제나 좋죠.</td>\n",
       "      <td>0</td>\n",
       "    </tr>\n",
       "    <tr>\n",
       "      <th>4</th>\n",
       "      <td>PPL 심하네</td>\n",
       "      <td>눈살이 찌푸려지죠.</td>\n",
       "      <td>0</td>\n",
       "    </tr>\n",
       "  </tbody>\n",
       "</table>\n",
       "</div>"
      ],
      "text/plain": [
       "                 Q            A  label\n",
       "0           12시 땡!   하루가 또 가네요.      0\n",
       "1      1지망 학교 떨어졌어    위로해 드립니다.      0\n",
       "2     3박4일 놀러가고 싶다  여행은 언제나 좋죠.      0\n",
       "3  3박4일 정도 놀러가고 싶다  여행은 언제나 좋죠.      0\n",
       "4          PPL 심하네   눈살이 찌푸려지죠.      0"
      ]
     },
     "execution_count": 3,
     "metadata": {},
     "output_type": "execute_result"
    }
   ],
   "source": [
    "data.head()"
   ]
  },
  {
   "cell_type": "markdown",
   "id": "6176da60",
   "metadata": {},
   "source": [
    "### - 데이터 전처리 : 데이터 정리\n",
    "\n",
    "텍스트를 정제하고 질문과 답변을 나누어준다."
   ]
  },
  {
   "cell_type": "code",
   "execution_count": 4,
   "id": "a31e7885",
   "metadata": {},
   "outputs": [],
   "source": [
    "def preprocess_sentence(sentence):    \n",
    "    # 단어와 구두점(punctuation) 사이의 거리를 만듭니다.\n",
    "    sentence = re.sub(r\"([?.!,])\", r\" \\1 \", sentence)\n",
    "    sentence = re.sub(r'[\" \"]+', \" \", sentence)\n",
    "    \n",
    "    # (한글, 알파벳, 숫자, \".\", \"?\", \"!\", \",\")를 제외한 모든 문자를 공백인 ' '로 대체합니다.\n",
    "    sentence = re.sub(r\"[^가-힣a-zA-Z0-9?.!,]+\", \" \", sentence)\n",
    "    sentence = sentence.strip()\n",
    "    \n",
    "    return sentence"
   ]
  },
  {
   "cell_type": "code",
   "execution_count": 5,
   "id": "3a2fcd4e",
   "metadata": {},
   "outputs": [
    {
     "data": {
      "text/plain": [
       "'1지망 학교 떨어졌어'"
      ]
     },
     "execution_count": 5,
     "metadata": {},
     "output_type": "execute_result"
    }
   ],
   "source": [
    "preprocess_sentence(data['Q'][1])"
   ]
  },
  {
   "cell_type": "code",
   "execution_count": 6,
   "id": "83e00955",
   "metadata": {},
   "outputs": [],
   "source": [
    "# 질문과 답변의 쌍인 데이터셋을 구성하기 위한 함수\n",
    "def load_conversations():\n",
    "    inputs, outputs = [], []\n",
    "    \n",
    "    for i in range(len(data)):\n",
    "        # 전처리 함수를 질문에 해당되는 inputs와 답변에 해당되는 outputs에 적용.\n",
    "        inputs.append(preprocess_sentence(data['Q'][i]))\n",
    "        outputs.append(preprocess_sentence(data['A'][i]))\n",
    "        \n",
    "    return inputs, outputs"
   ]
  },
  {
   "cell_type": "code",
   "execution_count": 7,
   "id": "8a7fedb6",
   "metadata": {},
   "outputs": [
    {
     "name": "stdout",
     "output_type": "stream",
     "text": [
      "전체 질문 샘플 수 : 11823\n",
      "전체 답변 샘플 수 : 11823\n"
     ]
    }
   ],
   "source": [
    "# 데이터를 로드하고 전처리하여 질문을 questions, 답변을 answers에 저장합니다.\n",
    "questions, answers = load_conversations()\n",
    "\n",
    "print('전체 질문 샘플 수 :', len(questions))\n",
    "print('전체 답변 샘플 수 :', len(answers))"
   ]
  },
  {
   "cell_type": "markdown",
   "id": "fea0cd12",
   "metadata": {},
   "source": [
    "#### 전처리 결과 확인"
   ]
  },
  {
   "cell_type": "code",
   "execution_count": 8,
   "id": "b735101a",
   "metadata": {},
   "outputs": [
    {
     "name": "stdout",
     "output_type": "stream",
     "text": [
      "전처리 후의 11번째 질문 샘플: SNS보면 나만 빼고 다 행복해보여\n",
      "전처리 후의 11번째 답변 샘플: 자랑하는 자리니까요 .\n",
      "-----------------------------------------------------------------\n",
      "전처리 후의 13번째 질문 샘플: 가끔 뭐하는지 궁금해\n",
      "전처리 후의 13번째 답변 샘플: 그 사람도 그럴 거예요 .\n",
      "-----------------------------------------------------------------\n",
      "전처리 후의 15번째 질문 샘플: 가난한 자의 설움\n",
      "전처리 후의 15번째 답변 샘플: 돈은 다시 들어올 거예요 .\n",
      "-----------------------------------------------------------------\n",
      "전처리 후의 17번째 질문 샘플: 가상화폐 쫄딱 망함\n",
      "전처리 후의 17번째 답변 샘플: 어서 잊고 새출발 하세요 .\n",
      "-----------------------------------------------------------------\n",
      "전처리 후의 19번째 질문 샘플: 가스불 켜놓고 나온거 같아\n",
      "전처리 후의 19번째 답변 샘플: 빨리 집에 돌아가서 끄고 나오세요 .\n",
      "-----------------------------------------------------------------\n"
     ]
    }
   ],
   "source": [
    "for i in range(10,20,2):\n",
    "    print('전처리 후의 {}번째 질문 샘플: {}'.format(i+1, questions[i]))\n",
    "    print('전처리 후의 {}번째 답변 샘플: {}'.format(i+1, answers[i]))\n",
    "    print('-'*65)"
   ]
  },
  {
   "cell_type": "markdown",
   "id": "cfe16614",
   "metadata": {},
   "source": [
    "### - 데이터 전처리 : SubwordTextEncoder를 사용한 토큰화  \n",
    "단어장을 생성하고 정수 인코딩 및 패딩을 진행한다.\n",
    "\n",
    "#### 단어장 생성"
   ]
  },
  {
   "cell_type": "code",
   "execution_count": 9,
   "id": "5f7db8a9",
   "metadata": {},
   "outputs": [],
   "source": [
    "# 질문과 답변 데이터셋에 대해서 Vocabulary 생성.\n",
    "tokenizer = tfds.deprecated.text.SubwordTextEncoder.build_from_corpus(questions + answers,\n",
    "                                                                      target_vocab_size=2**13)"
   ]
  },
  {
   "cell_type": "code",
   "execution_count": 10,
   "id": "590839db",
   "metadata": {},
   "outputs": [
    {
     "name": "stdout",
     "output_type": "stream",
     "text": [
      "START_TOKEN의 번호 : [8162]\n",
      "END_TOKEN의 번호 : [8163]\n"
     ]
    }
   ],
   "source": [
    "# 시작 토큰과 종료 토큰에 고유한 정수를 부여합니다.\n",
    "START_TOKEN, END_TOKEN = [tokenizer.vocab_size], [tokenizer.vocab_size + 1] #기존 단어장 뒤로 붙여줌\n",
    "\n",
    "print('START_TOKEN의 번호 :' ,[tokenizer.vocab_size])\n",
    "print('END_TOKEN의 번호 :' ,[tokenizer.vocab_size + 1])"
   ]
  },
  {
   "cell_type": "code",
   "execution_count": 11,
   "id": "73c7aa82",
   "metadata": {},
   "outputs": [
    {
     "name": "stdout",
     "output_type": "stream",
     "text": [
      "8164\n"
     ]
    }
   ],
   "source": [
    "# 시작 토큰과 종료 토큰을 고려하여 +2를 하여 단어장의 크기를 산정합니다.\n",
    "VOCAB_SIZE = tokenizer.vocab_size + 2\n",
    "print(VOCAB_SIZE)"
   ]
  },
  {
   "cell_type": "markdown",
   "id": "0a505e5a",
   "metadata": {},
   "source": [
    "#### 정수 인코딩"
   ]
  },
  {
   "cell_type": "code",
   "execution_count": 12,
   "id": "fb3a4604",
   "metadata": {},
   "outputs": [
    {
     "name": "stdout",
     "output_type": "stream",
     "text": [
      "전처리 후의 9번 질문 샘플: SNS 시간낭비인데 자꾸 보게됨\n",
      "전처리 후의 9번 답변 샘플: 시간을 정하고 해보세요 .\n",
      "-----------------------------------------------------------------\n",
      "정수 인코딩 후의 9번 질문 샘플: [2159, 778, 7598, 204, 84, 184, 351, 1255]\n",
      "정수 인코딩 후의 9번 답변 샘플: [349, 3977, 16, 32, 1]\n"
     ]
    }
   ],
   "source": [
    "# 임의의 10번째 샘플에 대해서 정수 인코딩 작업을 수행.\n",
    "# 각 토큰을 고유한 정수로 변환\n",
    "print('전처리 후의 9번 질문 샘플: {}'.format(questions[9]))\n",
    "print('전처리 후의 9번 답변 샘플: {}'.format(answers[9]))\n",
    "print('-'*65)\n",
    "print('정수 인코딩 후의 9번 질문 샘플: {}'.format(tokenizer.encode(questions[9])))\n",
    "print('정수 인코딩 후의 9번 답변 샘플: {}'.format(tokenizer.encode(answers[9])))"
   ]
  },
  {
   "cell_type": "markdown",
   "id": "df92a9fc",
   "metadata": {},
   "source": [
    "#### 패딩\n",
    "패딩을 통해 데이터를 동일한 길이로 맞춘다.  \n",
    "문장의 최대 길이를 정하기 위해 데이터의 전체적인 길이 분포를 확인해보자."
   ]
  },
  {
   "cell_type": "code",
   "execution_count": 13,
   "id": "c6a08aa2",
   "metadata": {},
   "outputs": [
    {
     "name": "stdout",
     "output_type": "stream",
     "text": [
      "질문의 최소 길이 : 1\n",
      "질문의 최대 길이 : 15\n",
      "질문의 평균 길이 : 3.587414361837097\n",
      "답변의 최소 길이 : 1\n",
      "답변의 최대 길이 : 21\n",
      "답변의 평균 길이 : 3.6936479742874058\n"
     ]
    },
    {
     "data": {
      "image/png": "[encoded data removed]",
      "text/plain": [
       "<Figure size 432x288 with 2 Axes>"
      ]
     },
     "metadata": {
      "needs_background": "light"
     },
     "output_type": "display_data"
    },
    {
     "data": {
      "image/png": "[encoded data removed]",
      "text/plain": [
       "<Figure size 432x288 with 1 Axes>"
      ]
     },
     "metadata": {
      "needs_background": "light"
     },
     "output_type": "display_data"
    },
    {
     "data": {
      "image/png": "[encoded data removed]",
      "text/plain": [
       "<Figure size 432x288 with 1 Axes>"
      ]
     },
     "metadata": {
      "needs_background": "light"
     },
     "output_type": "display_data"
    }
   ],
   "source": [
    "# 길이 분포 출력\n",
    "question_len = [len(s.split()) for s in data['Q']]\n",
    "answer_len = [len(s.split()) for s in data['A']]\n",
    "\n",
    "print('질문의 최소 길이 : {}'.format(np.min(question_len)))\n",
    "print('질문의 최대 길이 : {}'.format(np.max(question_len)))\n",
    "print('질문의 평균 길이 : {}'.format(np.mean(question_len)))\n",
    "print('답변의 최소 길이 : {}'.format(np.min(answer_len)))\n",
    "print('답변의 최대 길이 : {}'.format(np.max(answer_len)))\n",
    "print('답변의 평균 길이 : {}'.format(np.mean(answer_len)))\n",
    "\n",
    "plt.subplot(1,2,1)\n",
    "plt.boxplot(question_len)\n",
    "plt.title('question')\n",
    "plt.subplot(1,2,2)\n",
    "plt.boxplot(answer_len)\n",
    "plt.title('answer')\n",
    "plt.tight_layout()\n",
    "plt.show()\n",
    "\n",
    "plt.title('question')\n",
    "plt.hist(question_len, bins = 40)\n",
    "plt.xlabel('length of samples')\n",
    "plt.ylabel('number of samples')\n",
    "plt.show()\n",
    "\n",
    "plt.title('answer')\n",
    "plt.hist(answer_len, bins = 40)\n",
    "plt.xlabel('length of samples')\n",
    "plt.ylabel('number of samples')\n",
    "plt.show()"
   ]
  },
  {
   "cell_type": "markdown",
   "id": "ef649a84",
   "metadata": {},
   "source": [
    "대부분의 질문과 답변이 포함될 수 있도록 문장의 최대 길이를 10으로 하겠다."
   ]
  },
  {
   "cell_type": "code",
   "execution_count": 14,
   "id": "a75f05b9",
   "metadata": {},
   "outputs": [],
   "source": [
    "MAX_LENGTH = 10"
   ]
  },
  {
   "cell_type": "markdown",
   "id": "79d4aec3",
   "metadata": {},
   "source": [
    "정수 인코딩 과정에서 붙는 시작 토큰과 종료 토큰을 고려해 최대 길이를 2만큼 늘려준다."
   ]
  },
  {
   "cell_type": "code",
   "execution_count": 15,
   "id": "b7eaa8bb",
   "metadata": {},
   "outputs": [],
   "source": [
    "MAX_LENGTH += 2"
   ]
  },
  {
   "cell_type": "markdown",
   "id": "f099863e",
   "metadata": {},
   "source": [
    "질문과 답변에 대해서 전부 정수 인코딩을 수행하고, 동시에 문장의 최대 길이로 패딩한다."
   ]
  },
  {
   "cell_type": "code",
   "execution_count": 16,
   "id": "6062ca63",
   "metadata": {},
   "outputs": [],
   "source": [
    "# 정수 인코딩, 최대 길이를 초과하는 샘플 제거, 패딩\n",
    "def tokenize_and_filter(inputs, outputs):\n",
    "    tokenized_inputs, tokenized_outputs = [], []\n",
    "    \n",
    "    for (sentence1, sentence2) in zip(inputs, outputs):\n",
    "        # 정수 인코딩 과정에서 시작 토큰과 종료 토큰을 추가\n",
    "        sentence1 = START_TOKEN + tokenizer.encode(sentence1) + END_TOKEN\n",
    "        sentence2 = START_TOKEN + tokenizer.encode(sentence2) + END_TOKEN\n",
    "        \n",
    "        # 최대 길이 6 이하인 경우에만 데이터셋으로 허용\n",
    "        if len(sentence1) <= MAX_LENGTH and len(sentence2) <= MAX_LENGTH:\n",
    "            tokenized_inputs.append(sentence1)\n",
    "            tokenized_outputs.append(sentence2)\n",
    "        \n",
    "    # 최대 길이로 모든 데이터셋을 패딩\n",
    "    tokenized_inputs = tf.keras.preprocessing.sequence.pad_sequences(\n",
    "      tokenized_inputs, maxlen=MAX_LENGTH, padding='post')\n",
    "    tokenized_outputs = tf.keras.preprocessing.sequence.pad_sequences(\n",
    "      tokenized_outputs, maxlen=MAX_LENGTH, padding='post')\n",
    "    \n",
    "    return tokenized_inputs, tokenized_outputs"
   ]
  },
  {
   "cell_type": "markdown",
   "id": "a1bda939",
   "metadata": {},
   "source": [
    "11823개의 데이터 중 10746개의 데이터만 남게 된다."
   ]
  },
  {
   "cell_type": "code",
   "execution_count": 17,
   "id": "6c67109a",
   "metadata": {},
   "outputs": [
    {
     "name": "stdout",
     "output_type": "stream",
     "text": [
      "단어장의 크기 : 8164\n",
      "필터링 후의 질문 샘플 개수: 10746\n",
      "필터링 후의 답변 샘플 개수: 10746\n"
     ]
    }
   ],
   "source": [
    "questions, answers = tokenize_and_filter(questions, answers)\n",
    "\n",
    "print('단어장의 크기 :',(VOCAB_SIZE))\n",
    "print('필터링 후의 질문 샘플 개수: {}'.format(len(questions)))\n",
    "print('필터링 후의 답변 샘플 개수: {}'.format(len(answers)))"
   ]
  },
  {
   "cell_type": "markdown",
   "id": "f7c5bb39",
   "metadata": {},
   "source": [
    "#### 교사 강요(Teacher Forcing) 사용\n",
    "교사 강요를 위해서 answers[:, :-1]를 디코더의 입력값, answers[:, 1:]를 디코더의 레이블로 사용한다."
   ]
  },
  {
   "cell_type": "code",
   "execution_count": 18,
   "id": "8e681504",
   "metadata": {},
   "outputs": [],
   "source": [
    "BATCH_SIZE = 64\n",
    "BUFFER_SIZE = 12000\n",
    "\n",
    "# 디코더는 이전의 target을 다음의 input으로 사용합니다.\n",
    "# 이에 따라 outputs에서는 START_TOKEN을 제거하겠습니다.\n",
    "dataset = tf.data.Dataset.from_tensor_slices((\n",
    "    {\n",
    "        'inputs': questions,\n",
    "        'dec_inputs': answers[:, :-1]\n",
    "    },\n",
    "    {\n",
    "        'outputs': answers[:, 1:]\n",
    "    },\n",
    "))\n",
    "\n",
    "dataset = dataset.cache()\n",
    "dataset = dataset.shuffle(BUFFER_SIZE)\n",
    "dataset = dataset.batch(BATCH_SIZE)\n",
    "dataset = dataset.prefetch(tf.data.experimental.AUTOTUNE)"
   ]
  },
  {
   "cell_type": "markdown",
   "id": "83bff1fb",
   "metadata": {},
   "source": [
    "## 2. 모델 설계 및 훈련"
   ]
  },
  {
   "cell_type": "markdown",
   "id": "eccc51da",
   "metadata": {},
   "source": [
    "#### 포지셔널 인코딩 레이어"
   ]
  },
  {
   "cell_type": "code",
   "execution_count": 19,
   "id": "eec87b7b",
   "metadata": {},
   "outputs": [],
   "source": [
    "class PositionalEncoding(tf.keras.layers.Layer):\n",
    "    def __init__(self, position, d_model):\n",
    "        super(PositionalEncoding, self).__init__()\n",
    "        self.pos_encoding = self.positional_encoding(position, d_model)\n",
    "        \n",
    "    def get_angles(self, position, i, d_model):\n",
    "        angles = 1 / tf.pow(10000, (2 * (i // 2)) / tf.cast(d_model, tf.float32))\n",
    "        return position * angles\n",
    "    \n",
    "    def positional_encoding(self, position, d_model):\n",
    "        # 각도 배열 생성\n",
    "        angle_rads = self.get_angles(\n",
    "        position=tf.range(position, dtype=tf.float32)[:, tf.newaxis],\n",
    "        i=tf.range(d_model, dtype=tf.float32)[tf.newaxis, :],\n",
    "        d_model=d_model)\n",
    "        \n",
    "        # 배열의 짝수 인덱스에는 sin 함수 적용\n",
    "        sines = tf.math.sin(angle_rads[:, 0::2])\n",
    "        # 배열의 홀수 인덱스에는 cosine 함수 적용\n",
    "        cosines = tf.math.cos(angle_rads[:, 1::2])\n",
    "        \n",
    "        # sin과 cosine이 교차되도록 재배열\n",
    "        pos_encoding = tf.stack([sines, cosines], axis=0)\n",
    "        pos_encoding = tf.transpose(pos_encoding,[1, 2, 0]) \n",
    "        pos_encoding = tf.reshape(pos_encoding, [position, d_model])\n",
    "        \n",
    "        pos_encoding = pos_encoding[tf.newaxis, ...]\n",
    "        return tf.cast(pos_encoding, tf.float32)\n",
    "    \n",
    "    def call(self, inputs):\n",
    "        return inputs + self.pos_encoding[:, :tf.shape(inputs)[1], :]"
   ]
  },
  {
   "cell_type": "markdown",
   "id": "471e4d37",
   "metadata": {},
   "source": [
    "#### 스케일드 닷 프로덕트 어텐션"
   ]
  },
  {
   "cell_type": "code",
   "execution_count": 20,
   "id": "f1798012",
   "metadata": {},
   "outputs": [],
   "source": [
    "# 스케일드 닷 프로덕트 어텐션 함수\n",
    "def scaled_dot_product_attention(query, key, value, mask):\n",
    "    # 어텐션 가중치는 Q와 K의 닷 프로덕트\n",
    "    matmul_qk = tf.matmul(query, key, transpose_b=True)\n",
    "    \n",
    "    # 가중치를 정규화\n",
    "    depth = tf.cast(tf.shape(key)[-1], tf.float32)\n",
    "    logits = matmul_qk / tf.math.sqrt(depth)\n",
    "    # 패딩에 마스크 추가\n",
    "    if mask is not None:\n",
    "        logits += (mask * -1e9)\n",
    "    \n",
    "    # softmax적용\n",
    "    attention_weights = tf.nn.softmax(logits, axis=-1)\n",
    "    \n",
    "    # 최종 어텐션은 가중치와 V의 닷 프로덕트\n",
    "    output = tf.matmul(attention_weights, value)\n",
    "    return output"
   ]
  },
  {
   "cell_type": "markdown",
   "id": "8d8f2c41",
   "metadata": {},
   "source": [
    "#### 멀티 헤드 어텐션"
   ]
  },
  {
   "cell_type": "code",
   "execution_count": 21,
   "id": "a37f718f",
   "metadata": {},
   "outputs": [],
   "source": [
    "class MultiHeadAttention(tf.keras.layers.Layer):\n",
    "    def __init__(self, d_model, num_heads, name=\"multi_head_attention\"):\n",
    "        super(MultiHeadAttention, self).__init__(name=name)\n",
    "        self.num_heads = num_heads\n",
    "        self.d_model = d_model\n",
    "        \n",
    "        assert d_model % self.num_heads == 0\n",
    "        \n",
    "        self.depth = d_model // self.num_heads\n",
    "        \n",
    "        self.query_dense = tf.keras.layers.Dense(units=d_model)\n",
    "        self.key_dense = tf.keras.layers.Dense(units=d_model)\n",
    "        self.value_dense = tf.keras.layers.Dense(units=d_model)\n",
    "        \n",
    "        self.dense = tf.keras.layers.Dense(units=d_model)\n",
    "    \n",
    "    def split_heads(self, inputs, batch_size):\n",
    "        inputs = tf.reshape(\n",
    "        inputs, shape=(batch_size, -1, self.num_heads, self.depth))\n",
    "        \n",
    "        return tf.transpose(inputs, perm=[0, 2, 1, 3])\n",
    "\n",
    "\n",
    "    def call(self, inputs):\n",
    "        query, key, value, mask = inputs['query'], inputs['key'], inputs['value'], inputs['mask']\n",
    "        batch_size = tf.shape(query)[0]\n",
    "        \n",
    "        # Q, K, V에 각각 Dense를 적용합니다\n",
    "        query = self.query_dense(query)\n",
    "        key = self.key_dense(key)\n",
    "        value = self.value_dense(value)\n",
    "        \n",
    "        # 병렬 연산을 위한 머리를 여러 개 만듭니다\n",
    "        query = self.split_heads(query, batch_size)\n",
    "        key = self.split_heads(key, batch_size)\n",
    "        value = self.split_heads(value, batch_size)\n",
    "        \n",
    "        # 스케일드 닷 프로덕트 어텐션 함수\n",
    "        scaled_attention = scaled_dot_product_attention(query, key, value, mask)\n",
    "        scaled_attention = tf.transpose(scaled_attention, perm=[0, 2, 1, 3])\n",
    "        \n",
    "        # 어텐션 연산 후에 각 결과를 다시 연결(concatenate)합니다\n",
    "        concat_attention = tf.reshape(scaled_attention, (batch_size, -1, self.d_model))\n",
    "        \n",
    "        # 최종 결과에도 Dense를 한 번 더 적용합니다\n",
    "        outputs = self.dense(concat_attention)\n",
    "        \n",
    "        return outputs"
   ]
  },
  {
   "cell_type": "markdown",
   "id": "91c79bad",
   "metadata": {},
   "source": [
    "####  패딩 마스킹\n",
    "0의 위치를 체크"
   ]
  },
  {
   "cell_type": "code",
   "execution_count": 22,
   "id": "ff21d6a3",
   "metadata": {},
   "outputs": [],
   "source": [
    "def create_padding_mask(x):\n",
    "    mask = tf.cast(tf.math.equal(x, 0), tf.float32)\n",
    "    # (batch_size, 1, 1, sequence length)\n",
    "    return mask[:, tf.newaxis, tf.newaxis, :]"
   ]
  },
  {
   "cell_type": "markdown",
   "id": "900348c2",
   "metadata": {},
   "source": [
    "#### 룩 어헤드 마스킹\n",
    "다음 단어를 가림"
   ]
  },
  {
   "cell_type": "code",
   "execution_count": 23,
   "id": "37b4d4a9",
   "metadata": {},
   "outputs": [],
   "source": [
    "def create_look_ahead_mask(x):\n",
    "    seq_len = tf.shape(x)[1]\n",
    "    look_ahead_mask = 1 - tf.linalg.band_part(tf.ones((seq_len, seq_len)), -1, 0)\n",
    "    padding_mask = create_padding_mask(x)\n",
    "    return tf.maximum(look_ahead_mask, padding_mask)"
   ]
  },
  {
   "cell_type": "markdown",
   "id": "abb06048",
   "metadata": {},
   "source": [
    "#### 인코더"
   ]
  },
  {
   "cell_type": "code",
   "execution_count": 24,
   "id": "1aa7fea6",
   "metadata": {},
   "outputs": [],
   "source": [
    "# 인코더 층\n",
    "def encoder_layer(units, d_model, num_heads, dropout, name=\"encoder_layer\"):\n",
    "    inputs = tf.keras.Input(shape=(None, d_model), name=\"inputs\")\n",
    "\n",
    "    # 패딩 마스크 사용\n",
    "    padding_mask = tf.keras.Input(shape=(1, 1, None), name=\"padding_mask\")\n",
    "    \n",
    "    # 첫 번째 서브 레이어 : 멀티 헤드 어텐션 수행 (셀프 어텐션)\n",
    "    attention = MultiHeadAttention(\n",
    "      d_model, num_heads, name=\"attention\")({\n",
    "          'query': inputs,\n",
    "          'key': inputs,\n",
    "          'value': inputs,\n",
    "          'mask': padding_mask\n",
    "      })\n",
    "    \n",
    "    # 어텐션의 결과는 Dropout과 Layer Normalization이라는 훈련을 돕는 테크닉을 수행\n",
    "    attention = tf.keras.layers.Dropout(rate=dropout)(attention)\n",
    "    attention = tf.keras.layers.LayerNormalization(epsilon=1e-6)(inputs + attention)\n",
    "    \n",
    "    # 두 번째 서브 레이어 : 2개의 완전연결층\n",
    "    outputs = tf.keras.layers.Dense(units=units, activation='relu')(attention)\n",
    "    outputs = tf.keras.layers.Dense(units=d_model)(outputs)\n",
    "    \n",
    "    # 완전연결층의 결과는 Dropout과 LayerNormalization이라는 훈련을 돕는 테크닉을 수행\n",
    "    outputs = tf.keras.layers.Dropout(rate=dropout)(outputs)\n",
    "    outputs = tf.keras.layers.LayerNormalization(epsilon=1e-6)(attention + outputs)\n",
    "    \n",
    "    return tf.keras.Model(inputs=[inputs, padding_mask], outputs=outputs, name=name)"
   ]
  },
  {
   "cell_type": "markdown",
   "id": "bff30bcf",
   "metadata": {},
   "source": [
    "인코더 층을 embedding layer와 positional encoding을 연결하고, 원하는 만큼 인코더 층을 쌓아 트랜스포머의 인코더를 만든다."
   ]
  },
  {
   "cell_type": "code",
   "execution_count": 25,
   "id": "86bd3f73",
   "metadata": {},
   "outputs": [],
   "source": [
    "def encoder(vocab_size,\n",
    "            num_layers,\n",
    "            units,\n",
    "            d_model,\n",
    "            num_heads,\n",
    "            dropout,\n",
    "            name=\"encoder\"):\n",
    "    inputs = tf.keras.Input(shape=(None,), name=\"inputs\")\n",
    "    \n",
    "    # 패딩 마스크 사용\n",
    "    padding_mask = tf.keras.Input(shape=(1, 1, None), name=\"padding_mask\")\n",
    "    \n",
    "    # 임베딩 레이어\n",
    "    embeddings = tf.keras.layers.Embedding(vocab_size, d_model)(inputs)\n",
    "    embeddings *= tf.math.sqrt(tf.cast(d_model, tf.float32))\n",
    "    \n",
    "    # 포지셔널 인코딩\n",
    "    embeddings = PositionalEncoding(vocab_size, d_model)(embeddings)\n",
    "    \n",
    "    outputs = tf.keras.layers.Dropout(rate=dropout)(embeddings)\n",
    "    \n",
    "    # num_layers만큼 쌓아올린 인코더의 층.\n",
    "    for i in range(num_layers):\n",
    "        outputs = encoder_layer(\n",
    "            units=units,\n",
    "            d_model=d_model,\n",
    "            num_heads=num_heads,\n",
    "            dropout=dropout,\n",
    "            name=\"encoder_layer_{}\".format(i),\n",
    "        )([outputs, padding_mask])\n",
    "        \n",
    "        return tf.keras.Model(inputs=[inputs, padding_mask], outputs=outputs, name=name)"
   ]
  },
  {
   "cell_type": "markdown",
   "id": "93817841",
   "metadata": {},
   "source": [
    "#### 디코더"
   ]
  },
  {
   "cell_type": "code",
   "execution_count": 26,
   "id": "620731fd",
   "metadata": {},
   "outputs": [],
   "source": [
    "# 디코더 하나의 레이어를 함수로 구현.\n",
    "# 이 하나의 레이어 안에는 세 개의 서브 레이어가 존재합니다.\n",
    "def decoder_layer(units, d_model, num_heads, dropout, name=\"decoder_layer\"):\n",
    "    inputs = tf.keras.Input(shape=(None, d_model), name=\"inputs\")\n",
    "    enc_outputs = tf.keras.Input(shape=(None, d_model), name=\"encoder_outputs\")\n",
    "    look_ahead_mask = tf.keras.Input(shape=(1, None, None), name=\"look_ahead_mask\")\n",
    "    padding_mask = tf.keras.Input(shape=(1, 1, None), name='padding_mask')\n",
    "    \n",
    "    # 첫 번째 서브 레이어 : 멀티 헤드 어텐션 수행 (셀프 어텐션)\n",
    "    \n",
    "    attention1 = MultiHeadAttention(\n",
    "      d_model, num_heads, name=\"attention_1\")(inputs={\n",
    "          'query': inputs,\n",
    "          'key': inputs,\n",
    "          'value': inputs,\n",
    "          'mask': look_ahead_mask\n",
    "      })\n",
    "    \n",
    "    # 멀티 헤드 어텐션의 결과는 LayerNormalization이라는 훈련을 돕는 테크닉을 수행\n",
    "    attention1 = tf.keras.layers.LayerNormalization(\n",
    "        epsilon=1e-6)(attention1 + inputs)\n",
    "    \n",
    "    # 두 번째 서브 레이어 : 마스크드 멀티 헤드 어텐션 수행 (인코더-디코더 어텐션)\n",
    "    attention2 = MultiHeadAttention(\n",
    "      d_model, num_heads, name=\"attention_2\")(inputs={\n",
    "          'query': attention1,\n",
    "          'key': enc_outputs,\n",
    "          'value': enc_outputs,\n",
    "          'mask': padding_mask\n",
    "      })\n",
    "    \n",
    "    # 마스크드 멀티 헤드 어텐션의 결과는\n",
    "    # Dropout과 LayerNormalization이라는 훈련을 돕는 테크닉을 수행\n",
    "    \n",
    "    attention2 = tf.keras.layers.Dropout(rate=dropout)(attention2)\n",
    "    attention2 = tf.keras.layers.LayerNormalization(\n",
    "        epsilon=1e-6)(attention2 + attention1)\n",
    "    \n",
    "    # 세 번째 서브 레이어 : 2개의 완전연결층\n",
    "    outputs = tf.keras.layers.Dense(units=units, activation='relu')(attention2)\n",
    "    outputs = tf.keras.layers.Dense(units=d_model)(outputs)\n",
    "    \n",
    "    # 완전연결층의 결과는 Dropout과 LayerNormalization 수행\n",
    "    \n",
    "    outputs = tf.keras.layers.Dropout(rate=dropout)(outputs)\n",
    "    \n",
    "    outputs = tf.keras.layers.LayerNormalization(\n",
    "        epsilon=1e-6)(outputs + attention2)\n",
    "    \n",
    "    return tf.keras.Model(\n",
    "        inputs=[inputs, enc_outputs, look_ahead_mask, padding_mask],\n",
    "        outputs=outputs,\n",
    "        name=name)"
   ]
  },
  {
   "cell_type": "code",
   "execution_count": 27,
   "id": "15ad8fe8",
   "metadata": {},
   "outputs": [],
   "source": [
    "def decoder(vocab_size,\n",
    "            num_layers,\n",
    "            units,\n",
    "            d_model,\n",
    "            num_heads,\n",
    "            dropout,\n",
    "            name='decoder'):\n",
    "    inputs = tf.keras.Input(shape=(None,), name='inputs')\n",
    "    enc_outputs = tf.keras.Input(shape=(None, d_model), name='encoder_outputs')\n",
    "    look_ahead_mask = tf.keras.Input(\n",
    "        shape=(1, None, None), name='look_ahead_mask')\n",
    "    \n",
    "    # 패딩 마스크\n",
    "    padding_mask = tf.keras.Input(shape=(1, 1, None), name='padding_mask')\n",
    "    \n",
    "    # 임베딩 레이어\n",
    "    embeddings = tf.keras.layers.Embedding(vocab_size, d_model)(inputs)\n",
    "    embeddings *= tf.math.sqrt(tf.cast(d_model, tf.float32))\n",
    "    \n",
    "    # 포지셔널 인코딩\n",
    "    embeddings = PositionalEncoding(vocab_size, d_model)(embeddings)\n",
    "    \n",
    "    # Dropout이라는 훈련을 돕는 테크닉을 수행\n",
    "    outputs = tf.keras.layers.Dropout(rate=dropout)(embeddings)\n",
    "    \n",
    "    for i in range(num_layers):\n",
    "        outputs = decoder_layer(\n",
    "            units=units,\n",
    "            d_model=d_model,\n",
    "            num_heads=num_heads,\n",
    "            dropout=dropout,\n",
    "            name='decoder_layer_{}'.format(i),\n",
    "        )(inputs=[outputs, enc_outputs, look_ahead_mask, padding_mask])\n",
    "        \n",
    "        return tf.keras.Model(\n",
    "            inputs=[inputs, enc_outputs, look_ahead_mask, padding_mask],\n",
    "            outputs=outputs,\n",
    "            name=name)"
   ]
  },
  {
   "cell_type": "markdown",
   "id": "5d1fff3f",
   "metadata": {},
   "source": [
    "#### 트랜스포머 함수 정의"
   ]
  },
  {
   "cell_type": "code",
   "execution_count": 28,
   "id": "3d773f9a",
   "metadata": {},
   "outputs": [],
   "source": [
    "def transformer(vocab_size,\n",
    "                num_layers,\n",
    "                units,\n",
    "                d_model,\n",
    "                num_heads,\n",
    "                dropout,\n",
    "                name=\"transformer\"):\n",
    "    inputs = tf.keras.Input(shape=(None,), name=\"inputs\")\n",
    "    dec_inputs = tf.keras.Input(shape=(None,), name=\"dec_inputs\")\n",
    "    \n",
    "    # 인코더에서 패딩을 위한 마스크\n",
    "    enc_padding_mask = tf.keras.layers.Lambda(\n",
    "        create_padding_mask, output_shape=(1, 1, None),\n",
    "        name='enc_padding_mask')(inputs)\n",
    "    \n",
    "    # 디코더에서 미래의 토큰을 마스크 하기 위해서 사용합니다.\n",
    "    # 내부적으로 패딩 마스크도 포함되어져 있습니다.\n",
    "    look_ahead_mask = tf.keras.layers.Lambda(\n",
    "        create_look_ahead_mask,\n",
    "        output_shape=(1, None, None),\n",
    "        name='look_ahead_mask')(dec_inputs)\n",
    "    \n",
    "    # 두 번째 어텐션 블록에서 인코더의 벡터들을 마스킹\n",
    "    # 디코더에서 패딩을 위한 마스크\n",
    "    \n",
    "    dec_padding_mask = tf.keras.layers.Lambda(\n",
    "        create_padding_mask, output_shape=(1, 1, None),\n",
    "        name='dec_padding_mask')(inputs)\n",
    "    \n",
    "    # 인코더\n",
    "    enc_outputs = encoder(\n",
    "        vocab_size=vocab_size,\n",
    "        num_layers=num_layers,\n",
    "        units=units,\n",
    "        d_model=d_model,\n",
    "        num_heads=num_heads,\n",
    "        dropout=dropout,\n",
    "    )(inputs=[inputs, enc_padding_mask])\n",
    "    \n",
    "    # 디코더\n",
    "    dec_outputs = decoder(\n",
    "        vocab_size=vocab_size,\n",
    "        num_layers=num_layers,\n",
    "        units=units,\n",
    "        d_model=d_model,\n",
    "        num_heads=num_heads,\n",
    "        dropout=dropout,\n",
    "    )(inputs=[dec_inputs, enc_outputs, look_ahead_mask, dec_padding_mask])\n",
    "    \n",
    "    # 완전연결층\n",
    "    outputs = tf.keras.layers.Dense(units=vocab_size, name=\"outputs\")(dec_outputs)\n",
    "    \n",
    "    return tf.keras.Model(inputs=[inputs, dec_inputs], outputs=outputs, name=name)"
   ]
  },
  {
   "cell_type": "markdown",
   "id": "76751702",
   "metadata": {},
   "source": [
    "#### 모델 생성"
   ]
  },
  {
   "cell_type": "code",
   "execution_count": 29,
   "id": "91972def",
   "metadata": {},
   "outputs": [
    {
     "name": "stdout",
     "output_type": "stream",
     "text": [
      "Model: \"transformer\"\n",
      "__________________________________________________________________________________________________\n",
      "Layer (type)                    Output Shape         Param #     Connected to                     \n",
      "==================================================================================================\n",
      "inputs (InputLayer)             [(None, None)]       0                                            \n",
      "__________________________________________________________________________________________________\n",
      "dec_inputs (InputLayer)         [(None, None)]       0                                            \n",
      "__________________________________________________________________________________________________\n",
      "enc_padding_mask (Lambda)       (None, 1, 1, None)   0           inputs[0][0]                     \n",
      "__________________________________________________________________________________________________\n",
      "encoder (Functional)            (None, None, 256)    2617088     inputs[0][0]                     \n",
      "                                                                 enc_padding_mask[0][0]           \n",
      "__________________________________________________________________________________________________\n",
      "look_ahead_mask (Lambda)        (None, 1, None, None 0           dec_inputs[0][0]                 \n",
      "__________________________________________________________________________________________________\n",
      "dec_padding_mask (Lambda)       (None, 1, 1, None)   0           inputs[0][0]                     \n",
      "__________________________________________________________________________________________________\n",
      "decoder (Functional)            (None, None, 256)    2880768     dec_inputs[0][0]                 \n",
      "                                                                 encoder[0][0]                    \n",
      "                                                                 look_ahead_mask[0][0]            \n",
      "                                                                 dec_padding_mask[0][0]           \n",
      "__________________________________________________________________________________________________\n",
      "outputs (Dense)                 (None, None, 8164)   2098148     decoder[0][0]                    \n",
      "==================================================================================================\n",
      "Total params: 7,596,004\n",
      "Trainable params: 7,596,004\n",
      "Non-trainable params: 0\n",
      "__________________________________________________________________________________________________\n"
     ]
    }
   ],
   "source": [
    "tf.keras.backend.clear_session()\n",
    "\n",
    "# 하이퍼파라미터\n",
    "NUM_LAYERS = 2 # 인코더와 디코더의 층의 개수\n",
    "D_MODEL = 256 # 인코더와 디코더 내부의 입, 출력의 고정 차원\n",
    "NUM_HEADS = 8 # 멀티 헤드 어텐션에서의 헤드 수 \n",
    "UNITS = 512 # 피드 포워드 신경망의 은닉층의 크기\n",
    "DROPOUT = 0.1 # 드롭아웃의 비율\n",
    "\n",
    "model = transformer(\n",
    "    vocab_size=VOCAB_SIZE,\n",
    "    num_layers=NUM_LAYERS,\n",
    "    units=UNITS,\n",
    "    d_model=D_MODEL,\n",
    "    num_heads=NUM_HEADS,\n",
    "    dropout=DROPOUT)\n",
    "\n",
    "model.summary()"
   ]
  },
  {
   "cell_type": "markdown",
   "id": "531ff293",
   "metadata": {},
   "source": [
    "#### 손실함수"
   ]
  },
  {
   "cell_type": "code",
   "execution_count": 30,
   "id": "8f4e537c",
   "metadata": {},
   "outputs": [],
   "source": [
    "def loss_function(y_true, y_pred):\n",
    "    y_true = tf.reshape(y_true, shape=(-1, MAX_LENGTH - 1))\n",
    "    \n",
    "    loss = tf.keras.losses.SparseCategoricalCrossentropy(\n",
    "        from_logits=True, reduction='none')(y_true, y_pred)\n",
    "    \n",
    "    mask = tf.cast(tf.not_equal(y_true, 0), tf.float32)\n",
    "    loss = tf.multiply(loss, mask)\n",
    "    \n",
    "    return tf.reduce_mean(loss)"
   ]
  },
  {
   "cell_type": "markdown",
   "id": "ad16ec6c",
   "metadata": {},
   "source": [
    "#### 커스텀 된 학습률  \n",
    "모델 학습 초기에 높였다가 서서히 낮추어 가는 고급 기법 - 커스텀 학습률 스케줄링"
   ]
  },
  {
   "cell_type": "code",
   "execution_count": 31,
   "id": "41221b08",
   "metadata": {},
   "outputs": [],
   "source": [
    "class CustomSchedule(tf.keras.optimizers.schedules.LearningRateSchedule):\n",
    "    \n",
    "    def __init__(self, d_model, warmup_steps=4000):\n",
    "        super(CustomSchedule, self).__init__()\n",
    "        \n",
    "        self.d_model = d_model\n",
    "        self.d_model = tf.cast(self.d_model, tf.float32)\n",
    "        \n",
    "        self.warmup_steps = warmup_steps\n",
    "        \n",
    "    def __call__(self, step):\n",
    "        arg1 = tf.math.rsqrt(step)\n",
    "        arg2 = step * (self.warmup_steps**-1.5)\n",
    "        \n",
    "        return tf.math.rsqrt(self.d_model) * tf.math.minimum(arg1, arg2)"
   ]
  },
  {
   "cell_type": "markdown",
   "id": "a248386d",
   "metadata": {},
   "source": [
    "#### 모델 컴파일"
   ]
  },
  {
   "cell_type": "code",
   "execution_count": 32,
   "id": "e992fa76",
   "metadata": {},
   "outputs": [],
   "source": [
    "learning_rate = CustomSchedule(D_MODEL)\n",
    "\n",
    "optimizer = tf.keras.optimizers.Adam(\n",
    "    learning_rate, beta_1=0.9, beta_2=0.98, epsilon=1e-9)\n",
    "\n",
    "def accuracy(y_true, y_pred):\n",
    "    y_true = tf.reshape(y_true, shape=(-1, MAX_LENGTH - 1))\n",
    "    return tf.keras.metrics.sparse_categorical_accuracy(y_true, y_pred)\n",
    "\n",
    "model.compile(optimizer=optimizer, loss=loss_function, metrics=[accuracy])"
   ]
  },
  {
   "cell_type": "markdown",
   "id": "14199e17",
   "metadata": {},
   "source": [
    "#### 훈련 진행"
   ]
  },
  {
   "cell_type": "code",
   "execution_count": 33,
   "id": "f974b7d3",
   "metadata": {},
   "outputs": [
    {
     "name": "stdout",
     "output_type": "stream",
     "text": [
      "Epoch 1/40\n",
      "168/168 [==============================] - 7s 21ms/step - loss: 4.8745 - accuracy: 0.0891\n",
      "Epoch 2/40\n",
      "168/168 [==============================] - 3s 20ms/step - loss: 3.9833 - accuracy: 0.1746\n",
      "Epoch 3/40\n",
      "168/168 [==============================] - 3s 20ms/step - loss: 3.3305 - accuracy: 0.1775\n",
      "Epoch 4/40\n",
      "168/168 [==============================] - 3s 20ms/step - loss: 3.0324 - accuracy: 0.1875\n",
      "Epoch 5/40\n",
      "168/168 [==============================] - 3s 20ms/step - loss: 2.8383 - accuracy: 0.1989\n",
      "Epoch 6/40\n",
      "168/168 [==============================] - 3s 20ms/step - loss: 2.6490 - accuracy: 0.2117\n",
      "Epoch 7/40\n",
      "168/168 [==============================] - 3s 21ms/step - loss: 2.4461 - accuracy: 0.2303\n",
      "Epoch 8/40\n",
      "168/168 [==============================] - 3s 20ms/step - loss: 2.2210 - accuracy: 0.2559\n",
      "Epoch 9/40\n",
      "168/168 [==============================] - 3s 20ms/step - loss: 1.9692 - accuracy: 0.2845\n",
      "Epoch 10/40\n",
      "168/168 [==============================] - 3s 20ms/step - loss: 1.6988 - accuracy: 0.3145\n",
      "Epoch 11/40\n",
      "168/168 [==============================] - 3s 20ms/step - loss: 1.4226 - accuracy: 0.3477\n",
      "Epoch 12/40\n",
      "168/168 [==============================] - 3s 20ms/step - loss: 1.1517 - accuracy: 0.3846\n",
      "Epoch 13/40\n",
      "168/168 [==============================] - 3s 20ms/step - loss: 0.9007 - accuracy: 0.4226\n",
      "Epoch 14/40\n",
      "168/168 [==============================] - 3s 20ms/step - loss: 0.6712 - accuracy: 0.4607\n",
      "Epoch 15/40\n",
      "168/168 [==============================] - 3s 20ms/step - loss: 0.4783 - accuracy: 0.4948\n",
      "Epoch 16/40\n",
      "168/168 [==============================] - 3s 20ms/step - loss: 0.3226 - accuracy: 0.5240\n",
      "Epoch 17/40\n",
      "168/168 [==============================] - 3s 20ms/step - loss: 0.2139 - accuracy: 0.5437\n",
      "Epoch 18/40\n",
      "168/168 [==============================] - 3s 20ms/step - loss: 0.1437 - accuracy: 0.5558\n",
      "Epoch 19/40\n",
      "168/168 [==============================] - 3s 20ms/step - loss: 0.1054 - accuracy: 0.5611\n",
      "Epoch 20/40\n",
      "168/168 [==============================] - 3s 20ms/step - loss: 0.0871 - accuracy: 0.5632\n",
      "Epoch 21/40\n",
      "168/168 [==============================] - 3s 20ms/step - loss: 0.0761 - accuracy: 0.5647\n",
      "Epoch 22/40\n",
      "168/168 [==============================] - 3s 20ms/step - loss: 0.0681 - accuracy: 0.5659\n",
      "Epoch 23/40\n",
      "168/168 [==============================] - 3s 20ms/step - loss: 0.0673 - accuracy: 0.5653\n",
      "Epoch 24/40\n",
      "168/168 [==============================] - 3s 20ms/step - loss: 0.0638 - accuracy: 0.5664\n",
      "Epoch 25/40\n",
      "168/168 [==============================] - 3s 20ms/step - loss: 0.0599 - accuracy: 0.5669\n",
      "Epoch 26/40\n",
      "168/168 [==============================] - 3s 20ms/step - loss: 0.0525 - accuracy: 0.5688\n",
      "Epoch 27/40\n",
      "168/168 [==============================] - 3s 20ms/step - loss: 0.0490 - accuracy: 0.5697\n",
      "Epoch 28/40\n",
      "168/168 [==============================] - 3s 20ms/step - loss: 0.0403 - accuracy: 0.5717\n",
      "Epoch 29/40\n",
      "168/168 [==============================] - 3s 20ms/step - loss: 0.0356 - accuracy: 0.5730\n",
      "Epoch 30/40\n",
      "168/168 [==============================] - 3s 20ms/step - loss: 0.0357 - accuracy: 0.5728\n",
      "Epoch 31/40\n",
      "168/168 [==============================] - 3s 20ms/step - loss: 0.0309 - accuracy: 0.5739\n",
      "Epoch 32/40\n",
      "168/168 [==============================] - 3s 20ms/step - loss: 0.0288 - accuracy: 0.5745\n",
      "Epoch 33/40\n",
      "168/168 [==============================] - 3s 20ms/step - loss: 0.0255 - accuracy: 0.5753\n",
      "Epoch 34/40\n",
      "168/168 [==============================] - 3s 20ms/step - loss: 0.0255 - accuracy: 0.5755\n",
      "Epoch 35/40\n",
      "168/168 [==============================] - 3s 20ms/step - loss: 0.0222 - accuracy: 0.5762\n",
      "Epoch 36/40\n",
      "168/168 [==============================] - 3s 20ms/step - loss: 0.0211 - accuracy: 0.5764\n",
      "Epoch 37/40\n",
      "168/168 [==============================] - 3s 20ms/step - loss: 0.0210 - accuracy: 0.5762\n",
      "Epoch 38/40\n",
      "168/168 [==============================] - 3s 20ms/step - loss: 0.0192 - accuracy: 0.5767\n",
      "Epoch 39/40\n",
      "168/168 [==============================] - 3s 20ms/step - loss: 0.0182 - accuracy: 0.5770\n",
      "Epoch 40/40\n",
      "168/168 [==============================] - 3s 20ms/step - loss: 0.0178 - accuracy: 0.5769\n"
     ]
    },
    {
     "data": {
      "text/plain": [
       "<keras.callbacks.History at 0x7f0b40af2610>"
      ]
     },
     "execution_count": 33,
     "metadata": {},
     "output_type": "execute_result"
    }
   ],
   "source": [
    "EPOCHS = 40\n",
    "model.fit(dataset, epochs=EPOCHS, verbose=1)"
   ]
  },
  {
   "cell_type": "markdown",
   "id": "373b99a6",
   "metadata": {},
   "source": [
    "## 3. 모델 테스트\n",
    "아래의 과정을 담은 함수를 만든다.\n",
    "1. 새로운 입력 문장에 대해서는 훈련 때와 동일한 전처리를 거친다.\n",
    "2. 입력 문장을 토크나이징하고, START_TOKEN과 END_TOKEN을 추가한다.\n",
    "3. 패딩 마스킹과 룩 어헤드 마스킹을 계산한다.\n",
    "4. 디코더는 입력 시퀀스로부터 다음 단어를 예측한다.\n",
    "5. 는 예측된 다음 단어를 기존의 입력 시퀀스에 추가하여 새로운 입력으로 사용한다.\n",
    "6. _TOKEN이 예측되거나 문장의 최대 길이에 도달하면 디코더는 동작을 멈춘다."
   ]
  },
  {
   "cell_type": "code",
   "execution_count": 34,
   "id": "7217bbb8",
   "metadata": {},
   "outputs": [],
   "source": [
    "def decoder_inference(sentence):\n",
    "    sentence = preprocess_sentence(sentence)\n",
    "    \n",
    "    # 입력된 문장을 정수 인코딩 후, 시작 토큰과 종료 토큰을 앞뒤로 추가.\n",
    "    # ex) Where have you been? → [[8331   86   30    5 1059    7 8332]]\n",
    "    sentence = tf.expand_dims(\n",
    "        START_TOKEN + tokenizer.encode(sentence) + END_TOKEN, axis=0)\n",
    "    \n",
    "    # 디코더의 현재까지의 예측한 출력 시퀀스가 지속적으로 저장되는 변수.\n",
    "    # 처음에는 예측한 내용이 없음으로 시작 토큰만 별도 저장. ex) 8331\n",
    "    output_sequence = tf.expand_dims(START_TOKEN, 0)\n",
    "    \n",
    "    # 디코더의 인퍼런스 단계\n",
    "    for i in range(MAX_LENGTH):\n",
    "        # 디코더는 최대 MAX_LENGTH의 길이만큼 다음 단어 예측을 반복합니다.\n",
    "        predictions = model(inputs=[sentence, output_sequence], training=False)\n",
    "        predictions = predictions[:, -1:, :]\n",
    "        \n",
    "        # 현재 예측한 단어의 정수\n",
    "        predicted_id = tf.cast(tf.argmax(predictions, axis=-1), tf.int32)\n",
    "        \n",
    "        # 만약 현재 예측한 단어가 종료 토큰이라면 for문을 종료\n",
    "        if tf.equal(predicted_id, END_TOKEN[0]):\n",
    "            break\n",
    "            \n",
    "        # 예측한 단어들은 지속적으로 output_sequence에 추가됩니다.\n",
    "        # 이 output_sequence는 다시 디코더의 입력이 됩니다.\n",
    "        output_sequence = tf.concat([output_sequence, predicted_id], axis=-1)\n",
    "    \n",
    "    return tf.squeeze(output_sequence, axis=0)"
   ]
  },
  {
   "cell_type": "markdown",
   "id": "d5f5b518",
   "metadata": {},
   "source": [
    "임의의 입력 문장에 대해서 챗봇의 대답을 얻는 함수"
   ]
  },
  {
   "cell_type": "code",
   "execution_count": 35,
   "id": "22bf21bb",
   "metadata": {},
   "outputs": [],
   "source": [
    "def sentence_generation(sentence):\n",
    "    # 입력 문장에 대해서 디코더를 동작 시켜 예측된 정수 시퀀스를 리턴받습니다.\n",
    "    prediction = decoder_inference(sentence)\n",
    "    \n",
    "    # 정수 시퀀스를 다시 텍스트 시퀀스로 변환합니다.\n",
    "    predicted_sentence = tokenizer.decode(\n",
    "        [i for i in prediction if i < tokenizer.vocab_size])\n",
    "    \n",
    "    print('입력 : {}'.format(sentence))\n",
    "    print('출력 : {}'.format(predicted_sentence))\n",
    "    \n",
    "    return predicted_sentence"
   ]
  },
  {
   "cell_type": "markdown",
   "id": "14ee4e43",
   "metadata": {},
   "source": [
    "#### 결과 확인"
   ]
  },
  {
   "cell_type": "code",
   "execution_count": 36,
   "id": "5fc0ceff",
   "metadata": {},
   "outputs": [
    {
     "name": "stdout",
     "output_type": "stream",
     "text": [
      "입력 : 저녁 뭐먹지?\n",
      "출력 : 맛있는 거 드세요 .\n"
     ]
    },
    {
     "data": {
      "text/plain": [
       "'맛있는 거 드세요 .'"
      ]
     },
     "execution_count": 36,
     "metadata": {},
     "output_type": "execute_result"
    }
   ],
   "source": [
    "sentence_generation('저녁 뭐먹지?')"
   ]
  },
  {
   "cell_type": "markdown",
   "id": "93c0b4cd",
   "metadata": {},
   "source": [
    "원래의 데이터는  \n",
    "Q : 오늘 저녁 뭐 먹을까  \n",
    "A : 맛있는 거 드세요.  \n",
    "의 구성으로 되어있다.  \n",
    "비슷한 질문에 대해서는 학습 데이터에 있던 대답을 잘 출력한다."
   ]
  },
  {
   "cell_type": "code",
   "execution_count": 37,
   "id": "ed5b29e5",
   "metadata": {},
   "outputs": [
    {
     "name": "stdout",
     "output_type": "stream",
     "text": [
      "입력 : 우리집 고양이는 귀여워\n",
      "출력 : 저도 보고 싶어요 .\n"
     ]
    },
    {
     "data": {
      "text/plain": [
       "'저도 보고 싶어요 .'"
      ]
     },
     "execution_count": 37,
     "metadata": {},
     "output_type": "execute_result"
    }
   ],
   "source": [
    "sentence_generation('우리집 고양이는 귀여워')"
   ]
  },
  {
   "cell_type": "markdown",
   "id": "dc7b731d",
   "metadata": {},
   "source": [
    "고양이와 관련된 데이터에서는 해당 답변이 없는데,  \n",
    "Q : 눈썹이 귀여워  \n",
    "A : 저도 보고 싶어요  \n",
    "이와 같이 '귀엽다'와 관련된 데이터가 있었다.  \n",
    "귀엽다를 인식하고 동일한 답변을 내놓은 듯 하다."
   ]
  },
  {
   "cell_type": "code",
   "execution_count": 38,
   "id": "97de88bc",
   "metadata": {},
   "outputs": [
    {
     "name": "stdout",
     "output_type": "stream",
     "text": [
      "입력 : 돈 벌고 싶어\n",
      "출력 : 많이 벌수록 좋아요 .\n"
     ]
    },
    {
     "data": {
      "text/plain": [
       "'많이 벌수록 좋아요 .'"
      ]
     },
     "execution_count": 38,
     "metadata": {},
     "output_type": "execute_result"
    }
   ],
   "source": [
    "sentence_generation('돈 벌고 싶어')"
   ]
  },
  {
   "cell_type": "markdown",
   "id": "5151a0eb",
   "metadata": {},
   "source": [
    "데이터셋에 포함된 질문을 변형 없이 그대로 던지니 답변 또한 그대로 돌아왔다. "
   ]
  },
  {
   "cell_type": "code",
   "execution_count": 39,
   "id": "ebb724b1",
   "metadata": {},
   "outputs": [
    {
     "name": "stdout",
     "output_type": "stream",
     "text": [
      "입력 : 친구랑 여행 갈거야\n",
      "출력 : 좋은 생각이에요 .\n"
     ]
    },
    {
     "data": {
      "text/plain": [
       "'좋은 생각이에요 .'"
      ]
     },
     "execution_count": 39,
     "metadata": {},
     "output_type": "execute_result"
    }
   ],
   "source": [
    "sentence_generation('친구랑 여행 갈거야')"
   ]
  },
  {
   "cell_type": "markdown",
   "id": "e9584a61",
   "metadata": {},
   "source": [
    "가족들이랑 여행간다는 질문에 좋은 생각이라고 답변하는 데이터가 2개 정도 있었다.    \n",
    "Q : 가족들이랑 여행 갈거야 / 가족이랑 여행 가려고    \n",
    "A : 좋은 생각이에요  \n",
    "'여행을 간다'라는 것을 인식하고 동일한 답변을 한 것 같다. "
   ]
  },
  {
   "cell_type": "code",
   "execution_count": 40,
   "id": "154bc5f0",
   "metadata": {},
   "outputs": [
    {
     "name": "stdout",
     "output_type": "stream",
     "text": [
      "입력 : 나는 벌레가 싫어\n",
      "출력 : 당신은 복받은 사람 .\n"
     ]
    },
    {
     "data": {
      "text/plain": [
       "'당신은 복받은 사람 .'"
      ]
     },
     "execution_count": 40,
     "metadata": {},
     "output_type": "execute_result"
    }
   ],
   "source": [
    "sentence_generation('나는 벌레가 싫어')"
   ]
  },
  {
   "cell_type": "markdown",
   "id": "d530143c",
   "metadata": {},
   "source": [
    "Q : 여자친구가 너무 예뻐 / 여친 진짜 예쁘다    \n",
    "A : 당신은 복받은 사람  \n",
    "학습 데이터에서 복받은 사람이라는 답변을 내놓는 질문은 이 두개뿐이다.  \n",
    "어째서 벌레와 여자친구를 동일하게 인식하게 된걸까...? "
   ]
  },
  {
   "cell_type": "code",
   "execution_count": 41,
   "id": "419064b8",
   "metadata": {},
   "outputs": [
    {
     "name": "stdout",
     "output_type": "stream",
     "text": [
      "입력 : 너는 무슨 색깔을 좋아해?\n",
      "출력 : 다른 사람들이 원하는 내가 되는 건 어려워요 .\n"
     ]
    },
    {
     "data": {
      "text/plain": [
       "'다른 사람들이 원하는 내가 되는 건 어려워요 .'"
      ]
     },
     "execution_count": 41,
     "metadata": {},
     "output_type": "execute_result"
    }
   ],
   "source": [
    "sentence_generation('너는 무슨 색깔을 좋아해?')"
   ]
  },
  {
   "cell_type": "markdown",
   "id": "ef5b866e",
   "metadata": {},
   "source": [
    "챗봇에게 '좋아하다'라는 주관적 감정을 물어보는 것은 아직 어려운 일인 것 같다."
   ]
  },
  {
   "cell_type": "code",
   "execution_count": 42,
   "id": "e974fbf3",
   "metadata": {},
   "outputs": [
    {
     "name": "stdout",
     "output_type": "stream",
     "text": [
      "입력 : 이제 곧 방학이야!\n",
      "출력 : 더 좋은 날들이 올 거예요 .\n"
     ]
    },
    {
     "data": {
      "text/plain": [
       "'더 좋은 날들이 올 거예요 .'"
      ]
     },
     "execution_count": 42,
     "metadata": {},
     "output_type": "execute_result"
    }
   ],
   "source": [
    "sentence_generation('이제 곧 방학이야!')"
   ]
  },
  {
   "cell_type": "markdown",
   "id": "9a1282f8",
   "metadata": {},
   "source": [
    "더 좋은 날들이 온다는 답변은 모두 연인과 헤어졌다는 질문에 대한 세트였는데 방학을 무엇이라 생각하는걸까?   \n",
    "방학과 관련된 데이터는 많은 편이었음에도 전혀 다른 답변을 내놓고 있다. "
   ]
  },
  {
   "cell_type": "code",
   "execution_count": 43,
   "id": "02aeba1a",
   "metadata": {},
   "outputs": [
    {
     "name": "stdout",
     "output_type": "stream",
     "text": [
      "입력 : 나는 여름이 싫어\n",
      "출력 : 저도 좀 알려주세요 .\n"
     ]
    },
    {
     "data": {
      "text/plain": [
       "'저도 좀 알려주세요 .'"
      ]
     },
     "execution_count": 43,
     "metadata": {},
     "output_type": "execute_result"
    }
   ],
   "source": [
    "sentence_generation('나는 여름이 싫어')"
   ]
  },
  {
   "cell_type": "markdown",
   "id": "0978eee1",
   "metadata": {},
   "source": [
    "로봇에게 나의 불호를 얘기하였더니 적절한 답변을 얻지 못했다.  \n",
    "학습 데이터에서 저도 좀 알려달라는 답변은 모두 돈과 관련된 질문에 대한 내용이었는데 여름과 돈에 나도 모르는 어떤 상관관계가?!"
   ]
  },
  {
   "cell_type": "markdown",
   "id": "69491526",
   "metadata": {},
   "source": [
    "## 4. 회고\n",
    "\n",
    "#### - NLP 중 노드 중 가장 재미있다!!\n",
    "모델을 설계하는 부분이 복잡하고 이해하기 어렵지만 그래도 눈에 보이는 결과가 빠르게 나와서 그런가 제일 재미있게 한 것 같다.   \n",
    "모델의 정확도가 한참 낮긴 하지만 그래도 약간의 변형만 거친 데이터에서 대해서는 그럴듯한 답변을 내놓는게 제법 귀여워보인다.  \n",
    "아직 챗봇이라고 하기에는 많이 미숙하지만 이정도면 그래도 괜찮아..!!  \n",
    "\n"
   ]
  }
 ],
 "metadata": {
  "kernelspec": {
   "display_name": "Python 3 (ipykernel)",
   "language": "python",
   "name": "python3"
  },
  "language_info": {
   "codemirror_mode": {
    "name": "ipython",
    "version": 3
   },
   "file_extension": ".py",
   "mimetype": "text/x-python",
   "name": "python",
   "nbconvert_exporter": "python",
   "pygments_lexer": "ipython3",
   "version": "3.9.7"
  }
 },
 "nbformat": 4,
 "nbformat_minor": 5
}
