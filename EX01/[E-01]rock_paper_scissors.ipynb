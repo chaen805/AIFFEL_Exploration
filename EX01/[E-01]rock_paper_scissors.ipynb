{
 "cells": [
  {
   "cell_type": "markdown",
   "id": "b7584879",
   "metadata": {},
   "source": [
    "# Exploration01 - 인공지능과 가위바위보 하기\n",
    "\n",
    "가위, 바위, 보를 인식하는 이미지 분류기를 만들어보자\n",
    "\n",
    "---\n",
    "\n",
    "### 루브릭 평가 기준\n",
    "\n",
    "1. 분류기 모델 성공 - 트레이닝이 정상적으로 수행됐나\n",
    "2. 오버피팅 극복을 위한 시도 - 데이터셋의 다양성, 정규화 등 시도가 적절했나\n",
    "3. test accuracy - 60% 이상 도달했나\n",
    "\n",
    "---\n",
    "\n",
    "### 목차\n",
    "\n",
    "0. 필요 모듈 import\n",
    "\n",
    "\n",
    "1. 데이터셋\n",
    "  - 데이터 구성\n",
    "  - 이미지 사이즈 조정\n",
    "  - 데이터 로드\n",
    "  - 클래스 리스트\n",
    "  - 이미지 확인\n",
    "    \n",
    "\n",
    "2. 모델\n",
    "  - 네트워크 설계\n",
    "  - 학습\n",
    "\n",
    "\n",
    "3. 결과 확인\n",
    "  - 모델 평가\n",
    "  - 잘못 예측한 경우\n",
    "\n",
    "\n",
    "4. 재학습\n",
    "  - 하이퍼파라미터 조정\n",
    "  - 레이어 추가\n",
    "  - 이미지 원본 사용\n",
    "\n",
    "\n",
    "5. 회고\n",
    "\n",
    "\n",
    "6. 참고 자료"
   ]
  },
  {
   "cell_type": "markdown",
   "id": "f1195c49",
   "metadata": {},
   "source": [
    "## 0. 필요 모듈 import"
   ]
  },
  {
   "cell_type": "code",
   "execution_count": 1,
   "id": "203e074c",
   "metadata": {},
   "outputs": [],
   "source": [
    "import tensorflow as tf\n",
    "from tensorflow import keras\n",
    "\n",
    "import numpy as np\n",
    "import os\n",
    "import glob\n",
    "import matplotlib.pyplot as plt\n",
    "from PIL import Image"
   ]
  },
  {
   "cell_type": "markdown",
   "id": "a6d039ab",
   "metadata": {},
   "source": [
    "## 1. 데이터셋"
   ]
  },
  {
   "cell_type": "markdown",
   "id": "a46d267d",
   "metadata": {},
   "source": [
    "### - 데이터 구성  \n",
    "\n",
    "혼자서 4000장 가까이 되는 사진을 모두 준비하는 것은 너무 힘들기 때문에 동료들의 도움으로 완성했다.  \n",
    "내가 찍은 사진은 테스트 데이터로 사용하고, 동료들이 함께 만들어준 사진은 학습에 사용했다.\n",
    "\n",
    "Train Data : 각 클래스마다 1100장, 총 3300장  \n",
    "Test Data : 각 클래스마다 200장, 총 600장"
   ]
  },
  {
   "cell_type": "markdown",
   "id": "8255709e",
   "metadata": {},
   "source": [
    "### - 이미지 사이즈 조정\n",
    "\n",
    "노드 학습 내용 중 MNIST 데이터를 분류하는 모델을 그대로 사용하려고 한다.  \n",
    "모델의 input shape에 맞추어 이미지를 resize 하자!"
   ]
  },
  {
   "cell_type": "code",
   "execution_count": 2,
   "id": "e797e7db",
   "metadata": {},
   "outputs": [],
   "source": [
    "def resize_images(img_path):\n",
    "    images=glob.glob(img_path + \"/*.jpg\") \n",
    "    target_size=(28,28)\n",
    "    \n",
    "    for img in images:\n",
    "        old_img=Image.open(img)\n",
    "        new_img=old_img.resize(target_size,Image.ANTIALIAS)\n",
    "        new_img.save(img, \"JPEG\")\n",
    "        \n",
    "    print(len(images), \" images resized.\")"
   ]
  },
  {
   "cell_type": "markdown",
   "id": "33afe984",
   "metadata": {},
   "source": [
    "1. img_path에 있는 jpg 확장자의 파일을 모두 불러와 images에 담는다.  \n",
    "2. 타겟 사이즈를 정해준다.\n",
    "3. images에서 한 장씩 꺼내서 반복한다.\n",
    "4. 원본이미지를 불러와 old_img에 담는다.\n",
    "5. old_img를 resize하여 new_img에 담는다.\n",
    "6. new_img를 저장한다.  \n",
    "\n",
    "\n",
    "* ANTIALIAS는 뭐지?  \n",
    "    높은 해상도의 신호를 낮은 해상도로 나타낼 때 생기는 깨짐을 최소화하는 방법이다."
   ]
  },
  {
   "cell_type": "code",
   "execution_count": 3,
   "id": "afbd3981",
   "metadata": {},
   "outputs": [],
   "source": [
    "dataset_dir_path = os.getcwd() + \"/dataset\"\n",
    "test_dir_path = os.getcwd() + \"/test\""
   ]
  },
  {
   "cell_type": "code",
   "execution_count": 4,
   "id": "4c2b0ba6",
   "metadata": {},
   "outputs": [
    {
     "name": "stdout",
     "output_type": "stream",
     "text": [
      "1100  images resized.\n",
      "가위 Train 이미지 resize 완료!\n",
      "200  images resized.\n",
      "가위 Test 이미지 resize 완료!\n",
      "-------------------------\n",
      "1100  images resized.\n",
      "바위 Train 이미지 resize 완료!\n",
      "200  images resized.\n",
      "바위 Test 이미지 resize 완료!\n",
      "-------------------------\n",
      "1100  images resized.\n",
      "보 Train 이미지 resize 완료!\n",
      "200  images resized.\n",
      "보 Test 이미지 resize 완료!\n"
     ]
    }
   ],
   "source": [
    "#가위 이미지 resize\n",
    "resize_images(dataset_dir_path + '/scissors')\n",
    "print(\"가위 Train 이미지 resize 완료!\")\n",
    "resize_images(test_dir_path + '/scissors')\n",
    "print(\"가위 Test 이미지 resize 완료!\")\n",
    "print(\"-\"*25)\n",
    "\n",
    "#바위 이미지 resize\n",
    "resize_images(dataset_dir_path + '/rock')\n",
    "print(\"바위 Train 이미지 resize 완료!\")\n",
    "resize_images(test_dir_path + '/rock')\n",
    "print(\"바위 Test 이미지 resize 완료!\")\n",
    "print(\"-\"*25)\n",
    "\n",
    "#보 이미지 resize\n",
    "resize_images(dataset_dir_path + '/paper')\n",
    "print(\"보 Train 이미지 resize 완료!\")\n",
    "resize_images(test_dir_path + '/paper')\n",
    "print(\"보 Test 이미지 resize 완료!\")"
   ]
  },
  {
   "cell_type": "markdown",
   "id": "a53084da",
   "metadata": {},
   "source": [
    "### - 데이터 로드\n",
    "\n",
    "학습에 사용될 수 있도록 이미지와 라벨을 행렬로 불러온다.  \n",
    "라벨은 가위는 0, 바위는 1, 보자기는 2로 넣어준다."
   ]
  },
  {
   "cell_type": "code",
   "execution_count": 5,
   "id": "930cdbbe",
   "metadata": {},
   "outputs": [],
   "source": [
    "def load_data(img_path, image_size, number_of_data):\n",
    "\n",
    "    img_size = image_size\n",
    "    color = 3\n",
    "    \n",
    "    imgs=np.zeros(number_of_data*img_size*img_size*color,dtype=np.int32).reshape(number_of_data,img_size,img_size,color)\n",
    "    labels=np.zeros(number_of_data,dtype=np.int32) \n",
    "    \n",
    "    idx = 0\n",
    "\n",
    "    for file in glob.iglob(img_path+'/scissors/*.jpg'):\n",
    "        img = np.array(Image.open(file),dtype=np.int32)\n",
    "        imgs[idx,:,:,:]=img\n",
    "        labels[idx]=0   # 가위 : 0\n",
    "        idx=idx+1\n",
    "\n",
    "    for file in glob.iglob(img_path+'/rock/*.jpg'):\n",
    "        img = np.array(Image.open(file),dtype=np.int32)\n",
    "        imgs[idx,:,:,:]=img\n",
    "        labels[idx]=1   # 바위 : 1\n",
    "        idx=idx+1  \n",
    "    \n",
    "    for file in glob.iglob(img_path+'/paper/*.jpg'):\n",
    "        img = np.array(Image.open(file),dtype=np.int32)\n",
    "        imgs[idx,:,:,:]=img\n",
    "        labels[idx]=2   # 보 : 2\n",
    "        idx=idx+1\n",
    "    \n",
    "    return imgs, labels\n"
   ]
  },
  {
   "cell_type": "markdown",
   "id": "a9caa0d5",
   "metadata": {},
   "source": [
    "1. 전체 이미지 데이터를 담을 수 있는 행렬을 생성한다. (데이터 수 * 이미지 크기 * 이미지 크기 * RGB)\n",
    "2. 전체 데이터 라벨을 담을 수 있는 행렬을 생성한다. (데이터 수)\n",
    "3. 반복문들 돌며 전체 데이터를 담은 행렬을 반환한다."
   ]
  },
  {
   "cell_type": "code",
   "execution_count": 6,
   "id": "090591e0",
   "metadata": {},
   "outputs": [
    {
     "name": "stdout",
     "output_type": "stream",
     "text": [
      "학습 데이터(x_train)의 이미지 개수는 3300 입니다.\n",
      "x_train shape: (3300, 28, 28, 3)\n",
      "테스트 데이터(x_test)의 이미지 개수는 600 입니다.\n",
      "x_test shape: (600, 28, 28, 3)\n"
     ]
    }
   ],
   "source": [
    "dataset_dir_path = os.getcwd() + \"/dataset\"\n",
    "test_dir_path = os.getcwd() + \"/test\"\n",
    "\n",
    "(x_train, y_train) = load_data(dataset_dir_path, 28, 3300)\n",
    "(x_test, y_test) = load_data(test_dir_path, 28, 600)\n",
    "\n",
    "x_train = x_train / 255.0   # 정규화\n",
    "x_test = x_test / 255.0\n",
    "\n",
    "print(\"학습 데이터(x_train)의 이미지 개수는\", len(x_train),\"입니다.\")\n",
    "print(\"x_train shape: {}\".format(x_train.shape))\n",
    "\n",
    "print(\"테스트 데이터(x_test)의 이미지 개수는\", len(x_test),\"입니다.\")\n",
    "print(\"x_test shape: {}\".format(x_test.shape))"
   ]
  },
  {
   "cell_type": "markdown",
   "id": "1f35c882",
   "metadata": {},
   "source": [
    "### - 클래스 리스트\n",
    "\n",
    "라벨을 0, 1, 2로 넣었지만 알아보기가 너무 힘들다.           \n",
    "클래스 리스트를 만들어 한글로 라벨을 보고자 한다."
   ]
  },
  {
   "cell_type": "code",
   "execution_count": 7,
   "id": "7fc8e271",
   "metadata": {},
   "outputs": [],
   "source": [
    "class_names = ['가위', '바위', '보']"
   ]
  },
  {
   "cell_type": "markdown",
   "id": "5113aa4d",
   "metadata": {},
   "source": [
    "### - 이미지 확인\n",
    "\n",
    "데이터를 제대로 불러왔는지 이미지와 라벨을 확인하자!"
   ]
  },
  {
   "cell_type": "code",
   "execution_count": 8,
   "id": "f1b633ef",
   "metadata": {},
   "outputs": [
    {
     "name": "stdout",
     "output_type": "stream",
     "text": [
      "라벨:  바위\n"
     ]
    },
    {
     "data": {
      "image/png": "[encoded data removed]",
      "text/plain": [
       "<Figure size 432x288 with 1 Axes>"
      ]
     },
     "metadata": {
      "needs_background": "light"
     },
     "output_type": "display_data"
    }
   ],
   "source": [
    "import random\n",
    "\n",
    "# 학습 데이터 확인\n",
    "n = random.randrange(0, 3299)\n",
    "\n",
    "plt.imshow(x_train[n])\n",
    "print('라벨: ', class_names[y_train[n]])"
   ]
  },
  {
   "cell_type": "code",
   "execution_count": 9,
   "id": "ffb9f07e",
   "metadata": {},
   "outputs": [
    {
     "name": "stdout",
     "output_type": "stream",
     "text": [
      "라벨:  가위\n"
     ]
    },
    {
     "data": {
      "image/png": "[encoded data removed]",
      "text/plain": [
       "<Figure size 432x288 with 1 Axes>"
      ]
     },
     "metadata": {
      "needs_background": "light"
     },
     "output_type": "display_data"
    }
   ],
   "source": [
    "# 테스트 데이터 확인\n",
    "n = random.randrange(0, 599)\n",
    "\n",
    "plt.imshow(x_test[n])\n",
    "print('라벨: ', class_names[y_test[n]])"
   ]
  },
  {
   "cell_type": "markdown",
   "id": "d2c474fd",
   "metadata": {},
   "source": [
    "## 2. 모델"
   ]
  },
  {
   "cell_type": "markdown",
   "id": "1ec14aa7",
   "metadata": {},
   "source": [
    "### - 네트워크 설계\n",
    "\n",
    "앞서 언급했듯 노드 학습 내용과 동일한 모델을 만들었다."
   ]
  },
  {
   "cell_type": "code",
   "execution_count": 10,
   "id": "11da3091",
   "metadata": {},
   "outputs": [],
   "source": [
    "# 하이퍼파라미터\n",
    "n_channel_1 = 32\n",
    "n_channel_2 = 64\n",
    "n_dense = 64\n",
    "n_train_epoch = 10"
   ]
  },
  {
   "cell_type": "code",
   "execution_count": 11,
   "id": "a9e57546",
   "metadata": {},
   "outputs": [
    {
     "name": "stdout",
     "output_type": "stream",
     "text": [
      "Model에 추가된 Layer 개수:  7\n"
     ]
    }
   ],
   "source": [
    "model=keras.models.Sequential()\n",
    "model.add(keras.layers.Conv2D(n_channel_1, (3,3), activation='relu', input_shape=(28,28,3)))\n",
    "model.add(keras.layers.MaxPool2D(2,2))\n",
    "model.add(keras.layers.Conv2D(n_channel_2, (3,3), activation='relu'))\n",
    "model.add(keras.layers.MaxPooling2D((2,2)))\n",
    "model.add(keras.layers.Flatten())\n",
    "model.add(keras.layers.Dense(n_dense, activation='relu'))\n",
    "model.add(keras.layers.Dense(3, activation='softmax'))\n",
    "\n",
    "print('Model에 추가된 Layer 개수: ', len(model.layers))"
   ]
  },
  {
   "cell_type": "code",
   "execution_count": 12,
   "id": "567a7457",
   "metadata": {},
   "outputs": [
    {
     "name": "stdout",
     "output_type": "stream",
     "text": [
      "Model: \"sequential\"\n",
      "_________________________________________________________________\n",
      "Layer (type)                 Output Shape              Param #   \n",
      "=================================================================\n",
      "conv2d (Conv2D)              (None, 26, 26, 32)        896       \n",
      "_________________________________________________________________\n",
      "max_pooling2d (MaxPooling2D) (None, 13, 13, 32)        0         \n",
      "_________________________________________________________________\n",
      "conv2d_1 (Conv2D)            (None, 11, 11, 64)        18496     \n",
      "_________________________________________________________________\n",
      "max_pooling2d_1 (MaxPooling2 (None, 5, 5, 64)          0         \n",
      "_________________________________________________________________\n",
      "flatten (Flatten)            (None, 1600)              0         \n",
      "_________________________________________________________________\n",
      "dense (Dense)                (None, 64)                102464    \n",
      "_________________________________________________________________\n",
      "dense_1 (Dense)              (None, 3)                 195       \n",
      "=================================================================\n",
      "Total params: 122,051\n",
      "Trainable params: 122,051\n",
      "Non-trainable params: 0\n",
      "_________________________________________________________________\n"
     ]
    }
   ],
   "source": [
    "model.summary()"
   ]
  },
  {
   "cell_type": "markdown",
   "id": "b48af6d0",
   "metadata": {},
   "source": [
    "### - 학습\n",
    "\n",
    "그래프를 그리기 위해 학습 내용을 h객체에 담아준다."
   ]
  },
  {
   "cell_type": "code",
   "execution_count": 13,
   "id": "c1cac7c3",
   "metadata": {},
   "outputs": [
    {
     "name": "stdout",
     "output_type": "stream",
     "text": [
      "Epoch 1/10\n",
      "104/104 [==============================] - 3s 4ms/step - loss: 1.0353 - accuracy: 0.4542\n",
      "Epoch 2/10\n",
      "104/104 [==============================] - 0s 3ms/step - loss: 0.7750 - accuracy: 0.6624\n",
      "Epoch 3/10\n",
      "104/104 [==============================] - 0s 3ms/step - loss: 0.5244 - accuracy: 0.8088\n",
      "Epoch 4/10\n",
      "104/104 [==============================] - 0s 3ms/step - loss: 0.3914 - accuracy: 0.8645\n",
      "Epoch 5/10\n",
      "104/104 [==============================] - 0s 3ms/step - loss: 0.2810 - accuracy: 0.9073\n",
      "Epoch 6/10\n",
      "104/104 [==============================] - 0s 3ms/step - loss: 0.2184 - accuracy: 0.9309\n",
      "Epoch 7/10\n",
      "104/104 [==============================] - 0s 3ms/step - loss: 0.1609 - accuracy: 0.9573\n",
      "Epoch 8/10\n",
      "104/104 [==============================] - 0s 3ms/step - loss: 0.1258 - accuracy: 0.9652\n",
      "Epoch 9/10\n",
      "104/104 [==============================] - 0s 3ms/step - loss: 0.0996 - accuracy: 0.9712\n",
      "Epoch 10/10\n",
      "104/104 [==============================] - 0s 3ms/step - loss: 0.0720 - accuracy: 0.9848\n"
     ]
    }
   ],
   "source": [
    "model.compile(optimizer='adam',\n",
    "             loss='sparse_categorical_crossentropy',\n",
    "             metrics=['accuracy'])\n",
    "\n",
    "h = model.fit(x_train, y_train, epochs=n_train_epoch)"
   ]
  },
  {
   "cell_type": "markdown",
   "id": "d12498dc",
   "metadata": {},
   "source": [
    "각 학습 단계의 정확도에 대해 그래프를 그려본다."
   ]
  },
  {
   "cell_type": "code",
   "execution_count": 14,
   "id": "d03ddec4",
   "metadata": {},
   "outputs": [
    {
     "data": {
      "image/png": "[encoded data removed]",
      "text/plain": [
       "<Figure size 432x288 with 1 Axes>"
      ]
     },
     "metadata": {},
     "output_type": "display_data"
    }
   ],
   "source": [
    "N = n_train_epoch    # 각 epoch 마다의 결과를 보기 위해\n",
    "\n",
    "plt.style.use(\"ggplot\")\n",
    "plt.figure()\n",
    "plt.plot(np.arange(0, N), h.history[\"accuracy\"], label=\"train_acc\")\n",
    "plt.title(\"Train Accuracy\")\n",
    "plt.xlabel(\"Epoch #\")\n",
    "plt.ylabel(\"Accuracy\")\n",
    "plt.legend(loc=\"lower left\")\n",
    "\n",
    "plt.savefig('train_accuracy.png')"
   ]
  },
  {
   "cell_type": "markdown",
   "id": "bd227e7b",
   "metadata": {},
   "source": [
    "## 3. 결과 확인 "
   ]
  },
  {
   "cell_type": "markdown",
   "id": "59118393",
   "metadata": {},
   "source": [
    "### - 모델 평가\n",
    "\n",
    "테스트 데이터를 이용하여 모델 성능을 평가해보자"
   ]
  },
  {
   "cell_type": "code",
   "execution_count": 15,
   "id": "a6bb37fa",
   "metadata": {},
   "outputs": [
    {
     "name": "stdout",
     "output_type": "stream",
     "text": [
      "19/19 - 0s - loss: 2.1890 - accuracy: 0.6567\n",
      "test_loss: 2.1889803409576416 \n",
      "test_accuracy: 0.6566666960716248\n"
     ]
    }
   ],
   "source": [
    "test_loss, test_accuracy = model.evaluate(x_test, y_test, verbose=2)\n",
    "\n",
    "print(\"test_loss: {} \".format(test_loss))\n",
    "print(\"test_accuracy: {}\".format(test_accuracy))"
   ]
  },
  {
   "cell_type": "markdown",
   "id": "715b4311",
   "metadata": {},
   "source": [
    "### * 정확도가 60% 넘었으므로 루브릭 평가 기준 달성 ᕕ( ՞ ᗜ ՞ )ᕗ"
   ]
  },
  {
   "cell_type": "markdown",
   "id": "902b02b4",
   "metadata": {},
   "source": [
    "### - 잘못 예측한 경우\n",
    "\n",
    "목표는 달성했지만 모델이 잘못 예측한 이미지를 눈으로 확인해보자!"
   ]
  },
  {
   "cell_type": "code",
   "execution_count": 16,
   "id": "7cef66bf",
   "metadata": {},
   "outputs": [],
   "source": [
    "predicted_result = model.predict(x_test)\n",
    "predicted_labels = np.argmax(predicted_result, axis=1)"
   ]
  },
  {
   "cell_type": "code",
   "execution_count": 17,
   "id": "3d358822",
   "metadata": {},
   "outputs": [
    {
     "name": "stdout",
     "output_type": "stream",
     "text": [
      "예측확률분포: [9.9686062e-01 3.0617875e-03 7.7648307e-05]\n",
      "정답: 바위, 예측결과: 가위\n"
     ]
    },
    {
     "data": {
      "image/png": "[encoded data removed]",
      "text/plain": [
       "<Figure size 432x288 with 1 Axes>"
      ]
     },
     "metadata": {},
     "output_type": "display_data"
    },
    {
     "name": "stdout",
     "output_type": "stream",
     "text": [
      "예측확률분포: [9.9966037e-01 2.6003204e-04 7.9548678e-05]\n",
      "정답: 바위, 예측결과: 가위\n"
     ]
    },
    {
     "data": {
      "image/png": "[encoded data removed]",
      "text/plain": [
       "<Figure size 432x288 with 1 Axes>"
      ]
     },
     "metadata": {},
     "output_type": "display_data"
    },
    {
     "name": "stdout",
     "output_type": "stream",
     "text": [
      "예측확률분포: [9.1957474e-01 8.0412507e-02 1.2803577e-05]\n",
      "정답: 바위, 예측결과: 가위\n"
     ]
    },
    {
     "data": {
      "image/png": "[encoded data removed]",
      "text/plain": [
       "<Figure size 432x288 with 1 Axes>"
      ]
     },
     "metadata": {},
     "output_type": "display_data"
    }
   ],
   "source": [
    "wrong_predict_list=[]\n",
    "\n",
    "for i, _ in enumerate(predicted_labels):\n",
    "    if predicted_labels[i] != y_test[i]:\n",
    "        wrong_predict_list.append(i)\n",
    "\n",
    "samples = random.choices(population=wrong_predict_list, k=3)\n",
    "\n",
    "for n in samples:\n",
    "    print(\"예측확률분포: \" + str(predicted_result[n]))\n",
    "    print(\"정답: \" + class_names[y_test[n]] + \", 예측결과: \" + class_names[predicted_labels[n]])\n",
    "    plt.imshow(x_test[n], cmap=plt.cm.binary)\n",
    "    plt.show()"
   ]
  },
  {
   "cell_type": "markdown",
   "id": "395d719f",
   "metadata": {},
   "source": [
    "1. 예측한 라벨과 정답이 같지 않은 경우만 wrong_predict_list에 모은다.\n",
    "2. wrong_predict_list에서 랜덤으로 3개만 뽑아 확인한다.\n",
    "3. 정답과 예측결과, 이미지를 출력한다."
   ]
  },
  {
   "cell_type": "markdown",
   "id": "1d853864",
   "metadata": {},
   "source": [
    "## 4. 재학습"
   ]
  },
  {
   "cell_type": "markdown",
   "id": "413b7df6",
   "metadata": {},
   "source": [
    "### - 하이퍼파라미터 조정\n",
    "\n",
    "정확도를 높이기 위해 하이퍼파라미터를 조정해본다."
   ]
  },
  {
   "cell_type": "code",
   "execution_count": 18,
   "id": "a52e1f26",
   "metadata": {},
   "outputs": [],
   "source": [
    "n_channel_1 = 64\n",
    "n_channel_2 = 128\n",
    "n_dense = 512\n",
    "n_train_epoch = 12"
   ]
  },
  {
   "cell_type": "code",
   "execution_count": 19,
   "id": "fee08de6",
   "metadata": {},
   "outputs": [
    {
     "name": "stdout",
     "output_type": "stream",
     "text": [
      "Model: \"sequential_1\"\n",
      "_________________________________________________________________\n",
      "Layer (type)                 Output Shape              Param #   \n",
      "=================================================================\n",
      "conv2d_2 (Conv2D)            (None, 26, 26, 64)        1792      \n",
      "_________________________________________________________________\n",
      "max_pooling2d_2 (MaxPooling2 (None, 13, 13, 64)        0         \n",
      "_________________________________________________________________\n",
      "conv2d_3 (Conv2D)            (None, 11, 11, 128)       73856     \n",
      "_________________________________________________________________\n",
      "max_pooling2d_3 (MaxPooling2 (None, 5, 5, 128)         0         \n",
      "_________________________________________________________________\n",
      "flatten_1 (Flatten)          (None, 3200)              0         \n",
      "_________________________________________________________________\n",
      "dense_2 (Dense)              (None, 512)               1638912   \n",
      "_________________________________________________________________\n",
      "dense_3 (Dense)              (None, 3)                 1539      \n",
      "=================================================================\n",
      "Total params: 1,716,099\n",
      "Trainable params: 1,716,099\n",
      "Non-trainable params: 0\n",
      "_________________________________________________________________\n"
     ]
    }
   ],
   "source": [
    "model_2=keras.models.Sequential()\n",
    "model_2.add(keras.layers.Conv2D(n_channel_1, (3,3), activation='relu', input_shape=(28,28,3)))\n",
    "model_2.add(keras.layers.MaxPool2D(2,2))\n",
    "model_2.add(keras.layers.Conv2D(n_channel_2, (3,3), activation='relu'))\n",
    "model_2.add(keras.layers.MaxPooling2D((2,2)))\n",
    "model_2.add(keras.layers.Flatten())\n",
    "model_2.add(keras.layers.Dense(n_dense, activation='relu'))\n",
    "model_2.add(keras.layers.Dense(3, activation='softmax'))\n",
    "\n",
    "model_2.summary()"
   ]
  },
  {
   "cell_type": "code",
   "execution_count": 20,
   "id": "0ec2d38c",
   "metadata": {},
   "outputs": [
    {
     "name": "stdout",
     "output_type": "stream",
     "text": [
      "Epoch 1/12\n",
      "104/104 [==============================] - 1s 4ms/step - loss: 1.0742 - accuracy: 0.4185\n",
      "Epoch 2/12\n",
      "104/104 [==============================] - 0s 3ms/step - loss: 0.7697 - accuracy: 0.6530\n",
      "Epoch 3/12\n",
      "104/104 [==============================] - 0s 3ms/step - loss: 0.4797 - accuracy: 0.8094\n",
      "Epoch 4/12\n",
      "104/104 [==============================] - 0s 3ms/step - loss: 0.3535 - accuracy: 0.8727\n",
      "Epoch 5/12\n",
      "104/104 [==============================] - 0s 3ms/step - loss: 0.2554 - accuracy: 0.9058\n",
      "Epoch 6/12\n",
      "104/104 [==============================] - 0s 3ms/step - loss: 0.1790 - accuracy: 0.9358\n",
      "Epoch 7/12\n",
      "104/104 [==============================] - 0s 3ms/step - loss: 0.1367 - accuracy: 0.9552\n",
      "Epoch 8/12\n",
      "104/104 [==============================] - 0s 3ms/step - loss: 0.1174 - accuracy: 0.9594\n",
      "Epoch 9/12\n",
      "104/104 [==============================] - 0s 3ms/step - loss: 0.0707 - accuracy: 0.9788\n",
      "Epoch 10/12\n",
      "104/104 [==============================] - 0s 3ms/step - loss: 0.0521 - accuracy: 0.9818\n",
      "Epoch 11/12\n",
      "104/104 [==============================] - 0s 3ms/step - loss: 0.0357 - accuracy: 0.9906\n",
      "Epoch 12/12\n",
      "104/104 [==============================] - 0s 3ms/step - loss: 0.0506 - accuracy: 0.9839\n"
     ]
    },
    {
     "data": {
      "text/plain": [
       "<keras.callbacks.History at 0x7f62f0b706a0>"
      ]
     },
     "execution_count": 20,
     "metadata": {},
     "output_type": "execute_result"
    }
   ],
   "source": [
    "model_2.compile(optimizer='adam',\n",
    "             loss='sparse_categorical_crossentropy',\n",
    "             metrics=['accuracy'])\n",
    "\n",
    "model_2.fit(x_train, y_train, epochs=n_train_epoch)"
   ]
  },
  {
   "cell_type": "code",
   "execution_count": 21,
   "id": "7f747ac6",
   "metadata": {},
   "outputs": [
    {
     "name": "stdout",
     "output_type": "stream",
     "text": [
      "19/19 - 0s - loss: 2.3230 - accuracy: 0.6683\n",
      "test_loss: 2.323021650314331 \n",
      "test_accuracy: 0.6683333516120911\n"
     ]
    }
   ],
   "source": [
    "test_loss, test_accuracy = model_2.evaluate(x_test, y_test, verbose=2)\n",
    "\n",
    "print(\"test_loss: {} \".format(test_loss))\n",
    "print(\"test_accuracy: {}\".format(test_accuracy))"
   ]
  },
  {
   "cell_type": "markdown",
   "id": "03e21081",
   "metadata": {},
   "source": [
    "기존의 학습보다 약간 정확도가 높아졌다. (65.6% -> 66.8%)  \n",
    "하지만 이렇게 소소한 변화로는 모델의 성능을 크게 높일 수 없는 듯 하다."
   ]
  },
  {
   "cell_type": "markdown",
   "id": "99dc9931",
   "metadata": {},
   "source": [
    "### - 레이어 추가\n",
    "\n",
    "기존 모델에 레이어를 추가해본다."
   ]
  },
  {
   "cell_type": "code",
   "execution_count": 22,
   "id": "91d0c1a5",
   "metadata": {},
   "outputs": [],
   "source": [
    "n_channel_1 = 32\n",
    "n_channel_2 = 64\n",
    "n_channel_3 = 128\n",
    "n_dense_1 = 512\n",
    "n_dense_2 = 1024\n",
    "n_train_epoch = 10"
   ]
  },
  {
   "cell_type": "code",
   "execution_count": 23,
   "id": "0cb3a10f",
   "metadata": {},
   "outputs": [
    {
     "name": "stdout",
     "output_type": "stream",
     "text": [
      "Model에 추가된 Layer 개수:  11\n"
     ]
    }
   ],
   "source": [
    "model_3=keras.models.Sequential()\n",
    "model_3.add(keras.layers.Conv2D(n_channel_1, (3,3), activation='relu', input_shape=(28,28,3)))\n",
    "model_3.add(keras.layers.MaxPool2D(2,2))\n",
    "model_3.add(keras.layers.Conv2D(n_channel_2, (3,3), activation='relu'))\n",
    "model_3.add(keras.layers.MaxPooling2D((2,2)))\n",
    "model_3.add(keras.layers.Conv2D(n_channel_3, (3,3), activation='relu'))\n",
    "model_3.add(keras.layers.MaxPooling2D((2,2)))\n",
    "model_3.add(keras.layers.Flatten())\n",
    "model_3.add(keras.layers.Dense(n_dense_1, activation='relu'))\n",
    "model_3.add(keras.layers.Dropout(0.5))        # 과적합 방지를 위해\n",
    "model_3.add(keras.layers.Dense(n_dense_2, activation='relu'))\n",
    "model_3.add(keras.layers.Dense(3, activation='softmax'))\n",
    "\n",
    "print('Model에 추가된 Layer 개수: ', len(model_3.layers))"
   ]
  },
  {
   "cell_type": "code",
   "execution_count": 24,
   "id": "fb402d96",
   "metadata": {},
   "outputs": [
    {
     "name": "stdout",
     "output_type": "stream",
     "text": [
      "Model: \"sequential_2\"\n",
      "_________________________________________________________________\n",
      "Layer (type)                 Output Shape              Param #   \n",
      "=================================================================\n",
      "conv2d_4 (Conv2D)            (None, 26, 26, 32)        896       \n",
      "_________________________________________________________________\n",
      "max_pooling2d_4 (MaxPooling2 (None, 13, 13, 32)        0         \n",
      "_________________________________________________________________\n",
      "conv2d_5 (Conv2D)            (None, 11, 11, 64)        18496     \n",
      "_________________________________________________________________\n",
      "max_pooling2d_5 (MaxPooling2 (None, 5, 5, 64)          0         \n",
      "_________________________________________________________________\n",
      "conv2d_6 (Conv2D)            (None, 3, 3, 128)         73856     \n",
      "_________________________________________________________________\n",
      "max_pooling2d_6 (MaxPooling2 (None, 1, 1, 128)         0         \n",
      "_________________________________________________________________\n",
      "flatten_2 (Flatten)          (None, 128)               0         \n",
      "_________________________________________________________________\n",
      "dense_4 (Dense)              (None, 512)               66048     \n",
      "_________________________________________________________________\n",
      "dropout (Dropout)            (None, 512)               0         \n",
      "_________________________________________________________________\n",
      "dense_5 (Dense)              (None, 1024)              525312    \n",
      "_________________________________________________________________\n",
      "dense_6 (Dense)              (None, 3)                 3075      \n",
      "=================================================================\n",
      "Total params: 687,683\n",
      "Trainable params: 687,683\n",
      "Non-trainable params: 0\n",
      "_________________________________________________________________\n"
     ]
    }
   ],
   "source": [
    "model_3.summary()"
   ]
  },
  {
   "cell_type": "code",
   "execution_count": 25,
   "id": "e164c25a",
   "metadata": {},
   "outputs": [
    {
     "name": "stdout",
     "output_type": "stream",
     "text": [
      "Epoch 1/10\n",
      "104/104 [==============================] - 1s 4ms/step - loss: 1.0845 - accuracy: 0.3761\n",
      "Epoch 2/10\n",
      "104/104 [==============================] - 0s 4ms/step - loss: 0.7974 - accuracy: 0.6297\n",
      "Epoch 3/10\n",
      "104/104 [==============================] - 0s 4ms/step - loss: 0.5449 - accuracy: 0.7836\n",
      "Epoch 4/10\n",
      "104/104 [==============================] - 0s 4ms/step - loss: 0.3361 - accuracy: 0.8764\n",
      "Epoch 5/10\n",
      "104/104 [==============================] - 0s 4ms/step - loss: 0.2653 - accuracy: 0.9024\n",
      "Epoch 6/10\n",
      "104/104 [==============================] - 0s 4ms/step - loss: 0.2214 - accuracy: 0.9139\n",
      "Epoch 7/10\n",
      "104/104 [==============================] - 0s 4ms/step - loss: 0.1277 - accuracy: 0.9524\n",
      "Epoch 8/10\n",
      "104/104 [==============================] - 0s 4ms/step - loss: 0.1163 - accuracy: 0.9555\n",
      "Epoch 9/10\n",
      "104/104 [==============================] - 0s 4ms/step - loss: 0.0794 - accuracy: 0.9733\n",
      "Epoch 10/10\n",
      "104/104 [==============================] - 0s 4ms/step - loss: 0.0856 - accuracy: 0.9673\n"
     ]
    },
    {
     "data": {
      "text/plain": [
       "<keras.callbacks.History at 0x7f62f09c2dc0>"
      ]
     },
     "execution_count": 25,
     "metadata": {},
     "output_type": "execute_result"
    }
   ],
   "source": [
    "model_3.compile(optimizer='adam',\n",
    "             loss='sparse_categorical_crossentropy',\n",
    "             metrics=['accuracy'])\n",
    "\n",
    "model_3.fit(x_train, y_train, epochs=n_train_epoch)"
   ]
  },
  {
   "cell_type": "code",
   "execution_count": 26,
   "id": "3176e19a",
   "metadata": {},
   "outputs": [
    {
     "name": "stdout",
     "output_type": "stream",
     "text": [
      "19/19 - 0s - loss: 1.9037 - accuracy: 0.6833\n",
      "test_loss: 1.9036928415298462 \n",
      "test_accuracy: 0.6833333373069763\n"
     ]
    }
   ],
   "source": [
    "test_loss, test_accuracy = model_3.evaluate(x_test, y_test, verbose=2)\n",
    "\n",
    "print(\"test_loss: {} \".format(test_loss))\n",
    "print(\"test_accuracy: {}\".format(test_accuracy))"
   ]
  },
  {
   "cell_type": "markdown",
   "id": "3b719d9a",
   "metadata": {},
   "source": [
    "레이어를 더 쌓는 것이 하이퍼파라미터만 조정하는 것 보다 효과가 크다. (65.6% -> 66.8% -> 68.3%)   \n",
    "신경망을 깊게 쌓는 잘 쌓는 것이 중요한 것 같다."
   ]
  },
  {
   "cell_type": "markdown",
   "id": "b915bf42",
   "metadata": {},
   "source": [
    "### - 이미지 원본 사용\n",
    "\n",
    "이미지를 28X28 크기가 아닌 원본인 224X224 크기를 사용하면 결과가 어떻게 바뀔까?   \n",
    "이미지만 원본을 사용하고 모델은 input 사이즈만 조정해준다."
   ]
  },
  {
   "cell_type": "code",
   "execution_count": 27,
   "id": "2af01a14",
   "metadata": {},
   "outputs": [
    {
     "name": "stdout",
     "output_type": "stream",
     "text": [
      "x_train2 shape: (3300, 224, 224, 3)\n",
      "x_test2 shape: (600, 224, 224, 3)\n"
     ]
    }
   ],
   "source": [
    "dataset_dir_path = \"./dataset224\"\n",
    "test_dir_path = \"./test_data224\"\n",
    "\n",
    "x_train2, y_train2 = load_data(dataset_dir_path, 224, 3300)\n",
    "x_test2, y_test2 = load_data(test_dir_path, 224, 600)\n",
    "\n",
    "x_train2 = x_train2 / 255.0\n",
    "x_test2 = x_test2 / 255.0\n",
    "\n",
    "print(\"x_train2 shape: {}\".format(x_train2.shape))\n",
    "print(\"x_test2 shape: {}\".format(x_test2.shape))"
   ]
  },
  {
   "cell_type": "code",
   "execution_count": 28,
   "id": "b05d14f8",
   "metadata": {},
   "outputs": [],
   "source": [
    "# 하이퍼파라미터는 첫번째 모델과 동일\n",
    "n_channel_1 = 32\n",
    "n_channel_2 = 64\n",
    "n_dense = 64\n",
    "n_train_epoch = 10"
   ]
  },
  {
   "cell_type": "code",
   "execution_count": 29,
   "id": "56f66634",
   "metadata": {},
   "outputs": [],
   "source": [
    "model_4=keras.models.Sequential()\n",
    "model_4.add(keras.layers.Conv2D(n_channel_1, (3,3), activation='relu', input_shape=(224,224,3))) # 이미지 크기에 맞춰 변경\n",
    "model_4.add(keras.layers.MaxPool2D(2,2))\n",
    "model_4.add(keras.layers.Conv2D(n_channel_2, (3,3), activation='relu'))\n",
    "model_4.add(keras.layers.MaxPooling2D((2,2)))\n",
    "model_4.add(keras.layers.Flatten())\n",
    "model_4.add(keras.layers.Dense(n_dense, activation='relu'))\n",
    "model_4.add(keras.layers.Dense(3, activation='softmax'))"
   ]
  },
  {
   "cell_type": "code",
   "execution_count": 30,
   "id": "f6c1b0fb",
   "metadata": {},
   "outputs": [
    {
     "name": "stdout",
     "output_type": "stream",
     "text": [
      "Epoch 1/10\n",
      "104/104 [==============================] - 5s 39ms/step - loss: 0.8595 - accuracy: 0.6603\n",
      "Epoch 2/10\n",
      "104/104 [==============================] - 4s 38ms/step - loss: 0.2027 - accuracy: 0.9270\n",
      "Epoch 3/10\n",
      "104/104 [==============================] - 4s 38ms/step - loss: 0.0710 - accuracy: 0.9803\n",
      "Epoch 4/10\n",
      "104/104 [==============================] - 4s 38ms/step - loss: 0.0563 - accuracy: 0.9852\n",
      "Epoch 5/10\n",
      "104/104 [==============================] - 4s 38ms/step - loss: 0.0295 - accuracy: 0.9933\n",
      "Epoch 6/10\n",
      "104/104 [==============================] - 4s 37ms/step - loss: 0.0296 - accuracy: 0.9915\n",
      "Epoch 7/10\n",
      "104/104 [==============================] - 4s 38ms/step - loss: 0.0934 - accuracy: 0.9764\n",
      "Epoch 8/10\n",
      "104/104 [==============================] - 4s 37ms/step - loss: 0.0098 - accuracy: 0.9976\n",
      "Epoch 9/10\n",
      "104/104 [==============================] - 4s 38ms/step - loss: 0.0070 - accuracy: 0.9985\n",
      "Epoch 10/10\n",
      "104/104 [==============================] - 4s 37ms/step - loss: 0.0032 - accuracy: 0.9991\n"
     ]
    },
    {
     "data": {
      "text/plain": [
       "<keras.callbacks.History at 0x7f62f03bfa30>"
      ]
     },
     "execution_count": 30,
     "metadata": {},
     "output_type": "execute_result"
    }
   ],
   "source": [
    "model_4.compile(optimizer='adam',\n",
    "             loss='sparse_categorical_crossentropy',\n",
    "             metrics=['accuracy'])\n",
    "\n",
    "model_4.fit(x_train2, y_train2, epochs=n_train_epoch)"
   ]
  },
  {
   "cell_type": "code",
   "execution_count": 31,
   "id": "a6a587c6",
   "metadata": {},
   "outputs": [
    {
     "name": "stdout",
     "output_type": "stream",
     "text": [
      "19/19 - 1s - loss: 3.7340 - accuracy: 0.6650\n",
      "test_loss: 3.734005928039551 \n",
      "test_accuracy: 0.6650000214576721\n"
     ]
    }
   ],
   "source": [
    "test_loss, test_accuracy = model_4.evaluate(x_test2, y_test2, verbose=2)\n",
    "\n",
    "print(\"test_loss: {} \".format(test_loss))\n",
    "print(\"test_accuracy: {}\".format(test_accuracy))"
   ]
  },
  {
   "cell_type": "markdown",
   "id": "dc450933",
   "metadata": {},
   "source": [
    "앞선 두 시도 보다 효과가 더 적다. (65.6% -> 66.8% -> 68.3% -> 66.5%)  \n",
    "사람의 눈은 28 크기의 이미지보다 224 크기의 이미지가 훨씬 더 구분하기 쉽지만, 신경망의 입장에서는 그렇지만은 않은 것 같다.  \n",
    "가위바위보 정도의 간단한 이미지 분류기를 만들 때는 굳이 큰 이미지를 학습에 사용하지 않아도 될 것 같다.   \n",
    "시간 대비 효율이 커보이지 않는다. "
   ]
  },
  {
   "cell_type": "markdown",
   "id": "f9432173",
   "metadata": {},
   "source": [
    "## 5. 회고\n",
    "\n",
    "#### (1) 데이터의 중요성  \n",
    "\n",
    "\n",
    "현재의 결과를 내기 전까지 많은 시도들이 있었지만 역시 깨끗한 데이터가 정확도에 미치는 영향이 가장 컸다.   \n",
    "데이터를 고르지 않고 현재와 비슷한 3000장 정도의 데이터로 학습을 진행하였을 때는 정확도가 40%를 겨우 넘었다.  \n",
    "기꺼이 데이터를 공유해주신 동료들에겐 미안하지만 배경이 너무 화려한 데이터는 제외하고 학습을 진행했더니 비로소 루브릭 기준을 충족할 수 있었다.    \n",
    "딥러닝에서 가장 중요한 것은 양질의 데이터를 얻는 것이라는 결론을 내렸다. \n",
    "\n",
    "\n",
    "#### (2) 전이 학습\n",
    "\n",
    "\n",
    "3300장의 데이터가 신경망을 처음부터 학습 시키기에는 너무 적다는 생각에 해결 방법을 찾아보았다.  \n",
    "전이 학습 : 데이터의 수가 적을 때 대량의 데이터로 이미 학습된 모델을 이용하여 특징을 추출하는 레이어의 일부를 사용하는 기법   \n",
    "전이 학습이 어떤 의미인지는 알겠지만 아직 어떤 사전 학습 모델을 이용해야 할지는 잘 모르겠다. 이 부분은 앞으로 공부를 하며 알아가도록 하겠다. \n",
    "\n",
    "\n",
    "#### (3) 아직 해결되지 않은 궁금증\n",
    "\n",
    "\n",
    "라벨은 왜 정수형으로 넣어주는가?  \n",
    "numpy 자료형 중 문자열도 있기 때문에 라벨을 문자열로 행렬에 넣으려는 시도를 해보았으나 실패하였다.  \n",
    "일단은 리스트에 라벨 순서대로 문자열을 넣어 출력을 할 때 한글로 라벨이 보이도록 했다."
   ]
  },
  {
   "cell_type": "markdown",
   "id": "a8e0a2ff",
   "metadata": {},
   "source": [
    "## 6. 참고 자료\n",
    "\n",
    "\n",
    "- ANTIALIAS : https://ko.wikipedia.org/wiki/%EC%9C%84%EC%8B%A0%ED%98%B8_%EC%A0%9C%EA%B1%B0\n",
    "\n",
    "\n",
    "- 전이 학습 : https://choice-life.tistory.com/40"
   ]
  }
 ],
 "metadata": {
  "kernelspec": {
   "display_name": "Python 3 (ipykernel)",
   "language": "python",
   "name": "python3"
  },
  "language_info": {
   "codemirror_mode": {
    "name": "ipython",
    "version": 3
   },
   "file_extension": ".py",
   "mimetype": "text/x-python",
   "name": "python",
   "nbconvert_exporter": "python",
   "pygments_lexer": "ipython3",
   "version": "3.9.7"
  }
 },
 "nbformat": 4,
 "nbformat_minor": 5
}
